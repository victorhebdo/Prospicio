{
 "cells": [
  {
   "cell_type": "code",
   "execution_count": 1,
   "id": "744c8588",
   "metadata": {},
   "outputs": [],
   "source": [
    "import pandas as pd"
   ]
  },
  {
   "cell_type": "code",
   "execution_count": 2,
   "id": "2ea3e99c",
   "metadata": {},
   "outputs": [],
   "source": [
    "path_crunch_v2 = '../raw_data/crunchbase_v2.json'"
   ]
  },
  {
   "cell_type": "code",
   "execution_count": 13,
   "id": "4fb0b550",
   "metadata": {},
   "outputs": [],
   "source": [
    "crunch_v2_2 = pd.read_json(path_crunch_v2, chunksize=1000, lines=True) #didn't work json.load"
   ]
  },
  {
   "cell_type": "code",
   "execution_count": 3,
   "id": "0a6f12ee",
   "metadata": {},
   "outputs": [],
   "source": [
    "crunch_v2 = pd.read_json(path_crunch_v2)"
   ]
  },
  {
   "cell_type": "code",
   "execution_count": 4,
   "id": "ed9c9ba6",
   "metadata": {},
   "outputs": [
    {
     "name": "stdout",
     "output_type": "stream",
     "text": [
      "<class 'pandas.core.frame.DataFrame'>\n",
      "RangeIndex: 1312274 entries, 0 to 1312273\n",
      "Data columns (total 19 columns):\n",
      " #   Column           Non-Null Count    Dtype  \n",
      "---  ------           --------------    -----  \n",
      " 0   _id              1312274 non-null  object \n",
      " 1   nb_rounds        204371 non-null   float64\n",
      " 2   scraped_funding  1312274 non-null  bool   \n",
      " 3   total            149297 non-null   float64\n",
      " 4   address          1312244 non-null  object \n",
      " 5   created_at       1034223 non-null  object \n",
      " 6   logo             1118022 non-null  object \n",
      " 7   name             1312244 non-null  object \n",
      " 8   scraped_profile  1312244 non-null  float64\n",
      " 9   status           1312244 non-null  object \n",
      " 10  tags             1224191 non-null  object \n",
      " 11  type             1312244 non-null  object \n",
      " 12  founders         314195 non-null   object \n",
      " 13  legal_name       228558 non-null   object \n",
      " 14  phone            878482 non-null   object \n",
      " 15  socials          1216944 non-null  object \n",
      " 16  description      1312222 non-null  object \n",
      " 17  rounds           204371 non-null   object \n",
      " 18  scraped_rounds   203371 non-null   float64\n",
      "dtypes: bool(1), float64(4), object(14)\n",
      "memory usage: 181.5+ MB\n"
     ]
    }
   ],
   "source": [
    "crunch_v2.info()"
   ]
  },
  {
   "cell_type": "code",
   "execution_count": 5,
   "id": "355a9f79",
   "metadata": {},
   "outputs": [
    {
     "data": {
      "text/plain": [
       "0          active\n",
       "1          closed\n",
       "2          active\n",
       "3          active\n",
       "4          active\n",
       "            ...  \n",
       "1312269    active\n",
       "1312270    active\n",
       "1312271    active\n",
       "1312272    active\n",
       "1312273    active\n",
       "Name: status, Length: 1312274, dtype: object"
      ]
     },
     "execution_count": 5,
     "metadata": {},
     "output_type": "execute_result"
    }
   ],
   "source": [
    "crunch_v2['status']"
   ]
  },
  {
   "cell_type": "code",
   "execution_count": 11,
   "id": "1ac6a305",
   "metadata": {},
   "outputs": [
    {
     "data": {
      "text/plain": [
       "[{'name': 'Convertible Note - 00K E-Commerce Tools',\n",
       "  'link': '00k-e-commerce-tools-convertible-note--f638bf3e',\n",
       "  'leads': [],\n",
       "  'investors': [{'investor': {'name': 'Mercado Libre Fund',\n",
       "     'link': 'mercado-libre-s-fund',\n",
       "     'type': 'organization'},\n",
       "    'partners': []}],\n",
       "  'created_at': {'$date': '2015-08-01T00:00:00Z'},\n",
       "  'pre_money': None,\n",
       "  'raised': None,\n",
       "  'type': 'convertible_note'}]"
      ]
     },
     "execution_count": 11,
     "metadata": {},
     "output_type": "execute_result"
    }
   ],
   "source": [
    "crunch_v2[crunch_v2['rounds'].notna()]['rounds'].iloc[0]"
   ]
  },
  {
   "cell_type": "code",
   "execution_count": 53,
   "id": "325fff4b",
   "metadata": {},
   "outputs": [
    {
     "data": {
      "text/plain": [
       "True     1312244\n",
       "False         30\n",
       "Name: scraped_profile, dtype: int64"
      ]
     },
     "execution_count": 53,
     "metadata": {},
     "output_type": "execute_result"
    }
   ],
   "source": [
    "(crunch_v2['scraped_profile']==1.0).value_counts()"
   ]
  },
  {
   "cell_type": "code",
   "execution_count": 59,
   "id": "a8bdb79e",
   "metadata": {},
   "outputs": [
    {
     "data": {
      "text/plain": [
       "Series([], Name: created_at, dtype: int64)"
      ]
     },
     "execution_count": 59,
     "metadata": {},
     "output_type": "execute_result"
    }
   ],
   "source": [
    "crunch_v2['created_at'].str.contains('2020').value_counts()"
   ]
  },
  {
   "cell_type": "code",
   "execution_count": 67,
   "id": "1c0bccb7",
   "metadata": {},
   "outputs": [
    {
     "data": {
      "text/plain": [
       "[{'name': 'Convertible Note - 00K E-Commerce Tools',\n",
       "  'link': '00k-e-commerce-tools-convertible-note--f638bf3e',\n",
       "  'leads': [],\n",
       "  'investors': [{'investor': {'name': 'Mercado Libre Fund',\n",
       "     'link': 'mercado-libre-s-fund',\n",
       "     'type': 'organization'},\n",
       "    'partners': []}],\n",
       "  'created_at': {'$date': '2015-08-01T00:00:00Z'},\n",
       "  'pre_money': None,\n",
       "  'raised': None,\n",
       "  'type': 'convertible_note'}]"
      ]
     },
     "execution_count": 67,
     "metadata": {},
     "output_type": "execute_result"
    }
   ],
   "source": [
    "crunch_v2['rounds'].head(60)[13]"
   ]
  },
  {
   "cell_type": "code",
   "execution_count": 38,
   "id": "a84e2b79",
   "metadata": {},
   "outputs": [
    {
     "name": "stdout",
     "output_type": "stream",
     "text": [
      "<pandas.io.json._json.JsonReader object at 0x126bebd30>\n"
     ]
    }
   ],
   "source": [
    "crunch_v2.drop(columns=['logo','founders', 'techs'])"
   ]
  }
 ],
 "metadata": {
  "kernelspec": {
   "display_name": "Python 3 (ipykernel)",
   "language": "python",
   "name": "python3"
  },
  "language_info": {
   "codemirror_mode": {
    "name": "ipython",
    "version": 3
   },
   "file_extension": ".py",
   "mimetype": "text/x-python",
   "name": "python",
   "nbconvert_exporter": "python",
   "pygments_lexer": "ipython3",
   "version": "3.10.6"
  },
  "toc": {
   "base_numbering": 1,
   "nav_menu": {},
   "number_sections": true,
   "sideBar": true,
   "skip_h1_title": false,
   "title_cell": "Table of Contents",
   "title_sidebar": "Contents",
   "toc_cell": false,
   "toc_position": {},
   "toc_section_display": true,
   "toc_window_display": false
  }
 },
 "nbformat": 4,
 "nbformat_minor": 5
}
