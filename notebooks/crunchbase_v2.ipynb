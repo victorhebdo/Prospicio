{
 "cells": [
  {
   "cell_type": "code",
   "execution_count": 1,
   "id": "744c8588",
   "metadata": {},
   "outputs": [],
   "source": [
    "import pandas as pd"
   ]
  },
  {
   "cell_type": "code",
   "execution_count": 2,
   "id": "2ea3e99c",
   "metadata": {},
   "outputs": [],
   "source": [
    "path_crunch_v2 = '../raw_data/crunchbase_v2.json'"
   ]
  },
  {
   "cell_type": "code",
   "execution_count": 3,
   "id": "4fb0b550",
   "metadata": {},
   "outputs": [],
   "source": [
    "#crunch_v2_2 = pd.read_json(path_crunch_v2, chunksize=1000, lines=True) #didn't work json.load"
   ]
  },
  {
   "cell_type": "code",
   "execution_count": 4,
   "id": "0a6f12ee",
   "metadata": {},
   "outputs": [],
   "source": [
    "crunch_v2 = pd.read_json(path_crunch_v2)"
   ]
  },
  {
   "cell_type": "code",
   "execution_count": 5,
   "id": "ed9c9ba6",
   "metadata": {},
   "outputs": [
    {
     "name": "stdout",
     "output_type": "stream",
     "text": [
      "<class 'pandas.core.frame.DataFrame'>\n",
      "RangeIndex: 1312274 entries, 0 to 1312273\n",
      "Data columns (total 19 columns):\n",
      " #   Column           Non-Null Count    Dtype  \n",
      "---  ------           --------------    -----  \n",
      " 0   _id              1312274 non-null  object \n",
      " 1   nb_rounds        204371 non-null   float64\n",
      " 2   scraped_funding  1312274 non-null  bool   \n",
      " 3   total            149297 non-null   float64\n",
      " 4   address          1312244 non-null  object \n",
      " 5   created_at       1034223 non-null  object \n",
      " 6   logo             1118022 non-null  object \n",
      " 7   name             1312244 non-null  object \n",
      " 8   scraped_profile  1312244 non-null  float64\n",
      " 9   status           1312244 non-null  object \n",
      " 10  tags             1224191 non-null  object \n",
      " 11  type             1312244 non-null  object \n",
      " 12  founders         314195 non-null   object \n",
      " 13  legal_name       228558 non-null   object \n",
      " 14  phone            878482 non-null   object \n",
      " 15  socials          1216944 non-null  object \n",
      " 16  description      1312222 non-null  object \n",
      " 17  rounds           204371 non-null   object \n",
      " 18  scraped_rounds   203371 non-null   float64\n",
      "dtypes: bool(1), float64(4), object(14)\n",
      "memory usage: 181.5+ MB\n"
     ]
    }
   ],
   "source": [
    "crunch_v2.info()"
   ]
  },
  {
   "cell_type": "markdown",
   "id": "9baf038e",
   "metadata": {},
   "source": [
    "### ALL STATUS ACTIVE ONLY. Closed are bankrupt or stopped activity"
   ]
  },
  {
   "cell_type": "code",
   "execution_count": 6,
   "id": "355a9f79",
   "metadata": {},
   "outputs": [],
   "source": [
    "crunch_v2 = crunch_v2[crunch_v2['status']=='active']"
   ]
  },
  {
   "cell_type": "markdown",
   "id": "99247e06",
   "metadata": {},
   "source": [
    "### NOW REMOVE ALL ORGS AND COLLEGES and remain corporation"
   ]
  },
  {
   "cell_type": "code",
   "execution_count": 7,
   "id": "c354cfa0",
   "metadata": {},
   "outputs": [
    {
     "data": {
      "text/plain": [
       "array(['corporation', 'organization', 'collegeoruniversity'], dtype=object)"
      ]
     },
     "execution_count": 7,
     "metadata": {},
     "output_type": "execute_result"
    }
   ],
   "source": [
    "crunch_v2['type'].unique()"
   ]
  },
  {
   "cell_type": "code",
   "execution_count": 8,
   "id": "401993a2",
   "metadata": {},
   "outputs": [
    {
     "data": {
      "text/plain": [
       "False    1196107\n",
       "Name: type, dtype: int64"
      ]
     },
     "execution_count": 8,
     "metadata": {},
     "output_type": "execute_result"
    }
   ],
   "source": [
    "crunch_v2[crunch_v2['type']=='corporation']['type'].isna().value_counts()"
   ]
  },
  {
   "cell_type": "code",
   "execution_count": 9,
   "id": "5437ab75",
   "metadata": {},
   "outputs": [],
   "source": [
    "crunch_v2 = crunch_v2[crunch_v2['type']=='corporation']"
   ]
  },
  {
   "cell_type": "code",
   "execution_count": 10,
   "id": "dfaf8637",
   "metadata": {},
   "outputs": [
    {
     "name": "stdout",
     "output_type": "stream",
     "text": [
      "<class 'pandas.core.frame.DataFrame'>\n",
      "Int64Index: 1196107 entries, 0 to 1312273\n",
      "Data columns (total 19 columns):\n",
      " #   Column           Non-Null Count    Dtype  \n",
      "---  ------           --------------    -----  \n",
      " 0   _id              1196107 non-null  object \n",
      " 1   nb_rounds        189688 non-null   float64\n",
      " 2   scraped_funding  1196107 non-null  bool   \n",
      " 3   total            137647 non-null   float64\n",
      " 4   address          1196107 non-null  object \n",
      " 5   created_at       954796 non-null   object \n",
      " 6   logo             1032737 non-null  object \n",
      " 7   name             1196107 non-null  object \n",
      " 8   scraped_profile  1196107 non-null  float64\n",
      " 9   status           1196107 non-null  object \n",
      " 10  tags             1154403 non-null  object \n",
      " 11  type             1196107 non-null  object \n",
      " 12  founders         286173 non-null   object \n",
      " 13  legal_name       214024 non-null   object \n",
      " 14  phone            834221 non-null   object \n",
      " 15  socials          1140840 non-null  object \n",
      " 16  description      1196091 non-null  object \n",
      " 17  rounds           189688 non-null   object \n",
      " 18  scraped_rounds   188751 non-null   float64\n",
      "dtypes: bool(1), float64(4), object(14)\n",
      "memory usage: 174.5+ MB\n"
     ]
    }
   ],
   "source": [
    "crunch_v2.info()"
   ]
  },
  {
   "cell_type": "markdown",
   "id": "bb993edb",
   "metadata": {},
   "source": [
    "### REMAIN WITH ALL DATA WHERE SCRAPED_FUNDING == True and SCRAPED_ROUNDS is not nan"
   ]
  },
  {
   "cell_type": "code",
   "execution_count": 11,
   "id": "96da4b24",
   "metadata": {},
   "outputs": [
    {
     "data": {
      "text/plain": [
       "Series([], Name: scraped_funding, dtype: int64)"
      ]
     },
     "execution_count": 11,
     "metadata": {},
     "output_type": "execute_result"
    }
   ],
   "source": [
    "crunch_v2[crunch_v2['scraped_funding']==False]['scraped_funding'].value_counts()"
   ]
  },
  {
   "cell_type": "code",
   "execution_count": 12,
   "id": "7fecdc32",
   "metadata": {},
   "outputs": [],
   "source": [
    "crunch_v2 = crunch_v2[crunch_v2['scraped_funding']==True]"
   ]
  },
  {
   "cell_type": "code",
   "execution_count": 13,
   "id": "521fba05",
   "metadata": {
    "scrolled": true
   },
   "outputs": [
    {
     "name": "stdout",
     "output_type": "stream",
     "text": [
      "<class 'pandas.core.frame.DataFrame'>\n",
      "Int64Index: 1196107 entries, 0 to 1312273\n",
      "Data columns (total 19 columns):\n",
      " #   Column           Non-Null Count    Dtype  \n",
      "---  ------           --------------    -----  \n",
      " 0   _id              1196107 non-null  object \n",
      " 1   nb_rounds        189688 non-null   float64\n",
      " 2   scraped_funding  1196107 non-null  bool   \n",
      " 3   total            137647 non-null   float64\n",
      " 4   address          1196107 non-null  object \n",
      " 5   created_at       954796 non-null   object \n",
      " 6   logo             1032737 non-null  object \n",
      " 7   name             1196107 non-null  object \n",
      " 8   scraped_profile  1196107 non-null  float64\n",
      " 9   status           1196107 non-null  object \n",
      " 10  tags             1154403 non-null  object \n",
      " 11  type             1196107 non-null  object \n",
      " 12  founders         286173 non-null   object \n",
      " 13  legal_name       214024 non-null   object \n",
      " 14  phone            834221 non-null   object \n",
      " 15  socials          1140840 non-null  object \n",
      " 16  description      1196091 non-null  object \n",
      " 17  rounds           189688 non-null   object \n",
      " 18  scraped_rounds   188751 non-null   float64\n",
      "dtypes: bool(1), float64(4), object(14)\n",
      "memory usage: 174.5+ MB\n"
     ]
    }
   ],
   "source": [
    "crunch_v2.info()"
   ]
  },
  {
   "cell_type": "code",
   "execution_count": 14,
   "id": "1c447ab1",
   "metadata": {},
   "outputs": [
    {
     "data": {
      "text/plain": [
       "array([nan,  1.])"
      ]
     },
     "execution_count": 14,
     "metadata": {},
     "output_type": "execute_result"
    }
   ],
   "source": [
    "crunch_v2['scraped_rounds'].unique()"
   ]
  },
  {
   "cell_type": "code",
   "execution_count": 15,
   "id": "d09e4925",
   "metadata": {},
   "outputs": [
    {
     "data": {
      "text/plain": [
       "True     1007356\n",
       "False     188751\n",
       "Name: scraped_rounds, dtype: int64"
      ]
     },
     "execution_count": 15,
     "metadata": {},
     "output_type": "execute_result"
    }
   ],
   "source": [
    "crunch_v2['scraped_rounds'].isna().value_counts()"
   ]
  },
  {
   "cell_type": "code",
   "execution_count": 16,
   "id": "1ff4772f",
   "metadata": {},
   "outputs": [
    {
     "data": {
      "text/plain": [
       "False    1007356\n",
       "True      188751\n",
       "Name: scraped_rounds, dtype: int64"
      ]
     },
     "execution_count": 16,
     "metadata": {},
     "output_type": "execute_result"
    }
   ],
   "source": [
    "crunch_v2['scraped_rounds'].notna().value_counts()"
   ]
  },
  {
   "cell_type": "code",
   "execution_count": 17,
   "id": "bb4d8999",
   "metadata": {},
   "outputs": [],
   "source": [
    "crunch_v2 = crunch_v2[crunch_v2['scraped_rounds'].notna()]"
   ]
  },
  {
   "cell_type": "markdown",
   "id": "b6010597",
   "metadata": {},
   "source": [
    "### REMAIN WITH ALL DATA WHERE SCRAPED_PROFILE == 1.0"
   ]
  },
  {
   "cell_type": "code",
   "execution_count": 18,
   "id": "706c5039",
   "metadata": {},
   "outputs": [
    {
     "data": {
      "text/plain": [
       "Series([], Name: scraped_profile, dtype: float64)"
      ]
     },
     "execution_count": 18,
     "metadata": {},
     "output_type": "execute_result"
    }
   ],
   "source": [
    "crunch_v2[crunch_v2['scraped_profile']!=1.0]['scraped_profile']"
   ]
  },
  {
   "cell_type": "code",
   "execution_count": 19,
   "id": "4d2f3c0a",
   "metadata": {},
   "outputs": [
    {
     "data": {
      "text/plain": [
       "False    188751\n",
       "Name: scraped_profile, dtype: int64"
      ]
     },
     "execution_count": 19,
     "metadata": {},
     "output_type": "execute_result"
    }
   ],
   "source": [
    "crunch_v2[crunch_v2['scraped_profile']==1.0]['scraped_profile'].isna().value_counts()\n"
   ]
  },
  {
   "cell_type": "code",
   "execution_count": 20,
   "id": "37fd4aa2",
   "metadata": {},
   "outputs": [],
   "source": [
    "crunch_v2 = crunch_v2[crunch_v2['scraped_profile']==1.0]"
   ]
  },
  {
   "cell_type": "code",
   "execution_count": 21,
   "id": "ce43d4fb",
   "metadata": {},
   "outputs": [
    {
     "name": "stdout",
     "output_type": "stream",
     "text": [
      "<class 'pandas.core.frame.DataFrame'>\n",
      "Int64Index: 188751 entries, 13 to 1312262\n",
      "Data columns (total 19 columns):\n",
      " #   Column           Non-Null Count   Dtype  \n",
      "---  ------           --------------   -----  \n",
      " 0   _id              188751 non-null  object \n",
      " 1   nb_rounds        188751 non-null  float64\n",
      " 2   scraped_funding  188751 non-null  bool   \n",
      " 3   total            136959 non-null  float64\n",
      " 4   address          188751 non-null  object \n",
      " 5   created_at       182124 non-null  object \n",
      " 6   logo             182489 non-null  object \n",
      " 7   name             188751 non-null  object \n",
      " 8   scraped_profile  188751 non-null  float64\n",
      " 9   status           188751 non-null  object \n",
      " 10  tags             184599 non-null  object \n",
      " 11  type             188751 non-null  object \n",
      " 12  founders         114129 non-null  object \n",
      " 13  legal_name       61511 non-null   object \n",
      " 14  phone            117665 non-null  object \n",
      " 15  socials          181070 non-null  object \n",
      " 16  description      188750 non-null  object \n",
      " 17  rounds           188751 non-null  object \n",
      " 18  scraped_rounds   188751 non-null  float64\n",
      "dtypes: bool(1), float64(4), object(14)\n",
      "memory usage: 27.5+ MB\n"
     ]
    }
   ],
   "source": [
    "crunch_v2.info()"
   ]
  },
  {
   "cell_type": "markdown",
   "id": "f8357a1a",
   "metadata": {},
   "source": [
    "### LET'S SEE WHAT WE HAVE INSIDE BECAUSE NUMBERS HAVE NOT CHANGED"
   ]
  },
  {
   "cell_type": "code",
   "execution_count": 22,
   "id": "60ea3de1",
   "metadata": {},
   "outputs": [
    {
     "name": "stdout",
     "output_type": "stream",
     "text": [
      "\n",
      "**The name of the column is = _id\n",
      "--------SOME VALUES ARE:\n",
      "\n",
      "13     00k-e-commerce-tools\n",
      "42                  z1-8982\n",
      "67                      004\n",
      "75            01-communique\n",
      "82               alphareact\n",
      "88       01games-technology\n",
      "95                 01wiring\n",
      "103               04-master\n",
      "122                 0-6-com\n",
      "124               07073-com\n",
      "Name: _id, dtype: object\n",
      "\n",
      "**The name of the column is = nb_rounds\n",
      "--------SOME VALUES ARE:\n",
      "\n",
      "13     1.0\n",
      "42     2.0\n",
      "67     1.0\n",
      "75     3.0\n",
      "82     1.0\n",
      "88     1.0\n",
      "95     1.0\n",
      "103    2.0\n",
      "122    1.0\n",
      "124    1.0\n",
      "Name: nb_rounds, dtype: float64\n",
      "\n",
      "**The name of the column is = scraped_funding\n",
      "--------SOME VALUES ARE:\n",
      "\n",
      "13     True\n",
      "42     True\n",
      "67     True\n",
      "75     True\n",
      "82     True\n",
      "88     True\n",
      "95     True\n",
      "103    True\n",
      "122    True\n",
      "124    True\n",
      "Name: scraped_funding, dtype: bool\n",
      "\n",
      "**The name of the column is = total\n",
      "--------SOME VALUES ARE:\n",
      "\n",
      "13              NaN\n",
      "42              NaN\n",
      "67              NaN\n",
      "75     5.493911e+06\n",
      "82              NaN\n",
      "88     4.125000e+04\n",
      "95     5.583161e+04\n",
      "103    6.130000e+05\n",
      "122    2.000000e+06\n",
      "124    4.748924e+05\n",
      "Name: total, dtype: float64\n",
      "\n",
      "**The name of the column is = address\n",
      "--------SOME VALUES ARE:\n",
      "\n",
      "13     {'city': 'São Paulo', 'region': 'Sao Paulo', '...\n",
      "42     {'city': 'São Paulo', 'region': 'Sao Paulo', '...\n",
      "67     {'city': 'Aschaffenburg', 'region': 'Bayern', ...\n",
      "75     {'city': 'Mississauga', 'region': 'Ontario', '...\n",
      "82       {'city': None, 'region': None, 'country': None}\n",
      "88     {'city': 'Hong Kong', 'region': 'Hong Kong Isl...\n",
      "95     {'city': 'Sasso Marconi', 'region': 'Emilia-Ro...\n",
      "103    {'city': 'Seoul', 'region': 'Seoul-t'ukpyolsi'...\n",
      "122    {'city': 'Beijing', 'region': 'Beijing', 'coun...\n",
      "124    {'city': 'Shenyang', 'region': 'Liaoning', 'co...\n",
      "Name: address, dtype: object\n",
      "\n",
      "**The name of the column is = created_at\n",
      "--------SOME VALUES ARE:\n",
      "\n",
      "13     {'$date': '2012-03-01T00:00:00Z'}\n",
      "42     {'$date': '2020-04-01T00:00:00Z'}\n",
      "67     {'$date': '2003-01-01T00:00:00Z'}\n",
      "75     {'$date': '1992-01-01T00:00:00Z'}\n",
      "82     {'$date': '2018-01-01T00:00:00Z'}\n",
      "88     {'$date': '2014-01-01T00:00:00Z'}\n",
      "95     {'$date': '2009-09-01T00:00:00Z'}\n",
      "103    {'$date': '2015-01-01T00:00:00Z'}\n",
      "122    {'$date': '2007-01-01T00:00:00Z'}\n",
      "124    {'$date': '2002-07-07T00:00:00Z'}\n",
      "Name: created_at, dtype: object\n",
      "\n",
      "**The name of the column is = logo\n",
      "--------SOME VALUES ARE:\n",
      "\n",
      "13     https://res-3.cloudinary.com/crunchbase-produc...\n",
      "42     https://res-4.cloudinary.com/crunchbase-produc...\n",
      "67     https://res-4.cloudinary.com/crunchbase-produc...\n",
      "75     https://res-3.cloudinary.com/crunchbase-produc...\n",
      "82     https://res-3.cloudinary.com/crunchbase-produc...\n",
      "88     https://res-1.cloudinary.com/crunchbase-produc...\n",
      "95     https://res-1.cloudinary.com/crunchbase-produc...\n",
      "103    https://res-2.cloudinary.com/crunchbase-produc...\n",
      "122    https://res-3.cloudinary.com/crunchbase-produc...\n",
      "124    https://res-3.cloudinary.com/crunchbase-produc...\n",
      "Name: logo, dtype: object\n",
      "\n",
      "**The name of the column is = name\n",
      "--------SOME VALUES ARE:\n",
      "\n",
      "13              00K E-Commerce Tools\n",
      "42     01 Paynents And Business - Z1\n",
      "67                               004\n",
      "75                     01 Communique\n",
      "82                                --\n",
      "88                01Games Technology\n",
      "95                          01WIRING\n",
      "103                        04 Master\n",
      "122                          0-6.com\n",
      "124                        07073.com\n",
      "Name: name, dtype: object\n",
      "\n",
      "**The name of the column is = scraped_profile\n",
      "--------SOME VALUES ARE:\n",
      "\n",
      "13     1.0\n",
      "42     1.0\n",
      "67     1.0\n",
      "75     1.0\n",
      "82     1.0\n",
      "88     1.0\n",
      "95     1.0\n",
      "103    1.0\n",
      "122    1.0\n",
      "124    1.0\n",
      "Name: scraped_profile, dtype: float64\n",
      "\n",
      "**The name of the column is = status\n",
      "--------SOME VALUES ARE:\n",
      "\n",
      "13     active\n",
      "42     active\n",
      "67     active\n",
      "75     active\n",
      "82     active\n",
      "88     active\n",
      "95     active\n",
      "103    active\n",
      "122    active\n",
      "124    active\n",
      "Name: status, dtype: object\n",
      "\n",
      "**The name of the column is = tags\n",
      "--------SOME VALUES ARE:\n",
      "\n",
      "13     [E-Commerce, Information Services, Marketing, ...\n",
      "42            [Banking, Financial Services, Mobile Apps]\n",
      "67                                [Enterprise, Software]\n",
      "75        [Customer Service, Meeting Software, Software]\n",
      "82     [Analytics, Business Intelligence, Customer Se...\n",
      "88     [Information Technology, Mobile Apps, Video Ga...\n",
      "95                     [Electronics, Hardware, Software]\n",
      "103                    [Apps, Construction, Mobile Apps]\n",
      "122                       [Baby, Communities, Education]\n",
      "124               [Gaming, Online Games, Online Portals]\n",
      "Name: tags, dtype: object\n",
      "\n",
      "**The name of the column is = type\n",
      "--------SOME VALUES ARE:\n",
      "\n",
      "13     corporation\n",
      "42     corporation\n",
      "67     corporation\n",
      "75     corporation\n",
      "82     corporation\n",
      "88     corporation\n",
      "95     corporation\n",
      "103    corporation\n",
      "122    corporation\n",
      "124    corporation\n",
      "Name: type, dtype: object\n",
      "\n",
      "**The name of the column is = founders\n",
      "--------SOME VALUES ARE:\n",
      "\n",
      "13     [{'name': 'Cyllas Elia', 'link': 'cyllas-elia'...\n",
      "42                                                   NaN\n",
      "67     [{'name': 'Patrick MacKay', 'link': 'patrick-m...\n",
      "75                                                   NaN\n",
      "82                                                   NaN\n",
      "88                                                   NaN\n",
      "95     [{'name': 'Ivano Corsini', 'link': 'ivano-cors...\n",
      "103                                                  NaN\n",
      "122                                                  NaN\n",
      "124                                                  NaN\n",
      "Name: founders, dtype: object\n",
      "\n",
      "**The name of the column is = legal_name\n",
      "--------SOME VALUES ARE:\n",
      "\n",
      "13     00K Tecnologia da Informação Limitada\n",
      "42                     01 International, LLC\n",
      "67                                  004 GmbH\n",
      "75                                       NaN\n",
      "82                                       NaN\n",
      "88                                       NaN\n",
      "95                                       NaN\n",
      "103                                      NaN\n",
      "122                                      NaN\n",
      "124                                      NaN\n",
      "Name: legal_name, dtype: object\n",
      "\n",
      "**The name of the column is = phone\n",
      "--------SOME VALUES ARE:\n",
      "\n",
      "13        +55 11 4328-0888\n",
      "42         +55 11 42000024\n",
      "67     +49 6021 453 48 - 0\n",
      "75           (905)795-2888\n",
      "82                     NaN\n",
      "88                     NaN\n",
      "95        +39 051 678 2511\n",
      "103                    NaN\n",
      "122        86 10 6440 8997\n",
      "124            24-22845391\n",
      "Name: phone, dtype: object\n",
      "\n",
      "**The name of the column is = socials\n",
      "--------SOME VALUES ARE:\n",
      "\n",
      "13     {'website': 'http://www.00k.com.br/', 'faceboo...\n",
      "42     {'website': 'https://z1.app', 'linkedin': 'htt...\n",
      "67     {'website': 'http://004gmbh.de', 'facebook': '...\n",
      "75     {'website': 'http://www.01com.com', 'facebook'...\n",
      "82                                                   NaN\n",
      "88                 {'website': 'http://www.01games.hk/'}\n",
      "95     {'website': 'http://www.01wiring.com/', 'faceb...\n",
      "103    {'website': 'https://www.04master.com/market/m...\n",
      "122                    {'website': 'http://www.0-6.com'}\n",
      "124                 {'website': 'http://www.07073.com/'}\n",
      "Name: socials, dtype: object\n",
      "\n",
      "**The name of the column is = description\n",
      "--------SOME VALUES ARE:\n",
      "\n",
      "13     00K develops e-commerce solutions for online p...\n",
      "42     Teen Banking is a digital banking app made for...\n",
      "67     004 GmbH is a privately owned small to medium ...\n",
      "75     01 Communique is here to provide you with the ...\n",
      "82                                                   NaN\n",
      "88     01Games Technology develops mini games for soc...\n",
      "95     01WIRING produces electrical and electronic sy...\n",
      "103                      04 Master is a construction app\n",
      "122    0-6.com is an online baby education community ...\n",
      "124    07073 is an online gaming and game review plat...\n",
      "Name: description, dtype: object\n",
      "\n",
      "**The name of the column is = rounds\n",
      "--------SOME VALUES ARE:\n",
      "\n",
      "13     [{'name': 'Convertible Note - 00K E-Commerce T...\n",
      "42     [{'name': 'Seed Round - 01 Paynents And Busine...\n",
      "67     [{'name': 'Venture Round - 004', 'link': '004-...\n",
      "75     [{'name': 'Post-IPO Equity - 01 Communique', '...\n",
      "82     [{'name': 'Pre Seed Round - --', 'link': 'alph...\n",
      "88     [{'name': 'Seed Round - 01Games Technology', '...\n",
      "95     [{'name': 'Grant - 01WIRING', 'link': '01wirin...\n",
      "103    [{'name': 'Series A - 04 Master', 'link': '04-...\n",
      "122    [{'name': 'Series A - 0-6.com', 'link': '0-6-c...\n",
      "124    [{'name': 'Angel Round - 07073.com', 'link': '...\n",
      "Name: rounds, dtype: object\n",
      "\n",
      "**The name of the column is = scraped_rounds\n",
      "--------SOME VALUES ARE:\n",
      "\n",
      "13     1.0\n",
      "42     1.0\n",
      "67     1.0\n",
      "75     1.0\n",
      "82     1.0\n",
      "88     1.0\n",
      "95     1.0\n",
      "103    1.0\n",
      "122    1.0\n",
      "124    1.0\n",
      "Name: scraped_rounds, dtype: float64\n"
     ]
    }
   ],
   "source": [
    "for index, colname in enumerate(crunch_v2):\n",
    "    print(f\"\\n**The name of the column is = {colname}\")\n",
    "    print(\"--------SOME VALUES ARE:\\n\")\n",
    "    print(crunch_v2[colname][:10])"
   ]
  },
  {
   "cell_type": "code",
   "execution_count": 23,
   "id": "49662df3",
   "metadata": {},
   "outputs": [
    {
     "data": {
      "text/plain": [
       "_id                                             00k-e-commerce-tools\n",
       "nb_rounds                                                        1.0\n",
       "scraped_funding                                                 True\n",
       "total                                                            NaN\n",
       "address            {'city': 'São Paulo', 'region': 'Sao Paulo', '...\n",
       "created_at                         {'$date': '2012-03-01T00:00:00Z'}\n",
       "logo               https://res-3.cloudinary.com/crunchbase-produc...\n",
       "name                                            00K E-Commerce Tools\n",
       "scraped_profile                                                  1.0\n",
       "status                                                        active\n",
       "tags               [E-Commerce, Information Services, Marketing, ...\n",
       "type                                                     corporation\n",
       "founders           [{'name': 'Cyllas Elia', 'link': 'cyllas-elia'...\n",
       "legal_name                     00K Tecnologia da Informação Limitada\n",
       "phone                                               +55 11 4328-0888\n",
       "socials            {'website': 'http://www.00k.com.br/', 'faceboo...\n",
       "description        00K develops e-commerce solutions for online p...\n",
       "rounds             [{'name': 'Convertible Note - 00K E-Commerce T...\n",
       "scraped_rounds                                                   1.0\n",
       "Name: 13, dtype: object"
      ]
     },
     "execution_count": 23,
     "metadata": {},
     "output_type": "execute_result"
    }
   ],
   "source": [
    "crunch_v2.loc[13,:]"
   ]
  },
  {
   "cell_type": "code",
   "execution_count": 24,
   "id": "d06a32b0",
   "metadata": {},
   "outputs": [
    {
     "data": {
      "text/plain": [
       "[{'name': 'Convertible Note - 00K E-Commerce Tools',\n",
       "  'link': '00k-e-commerce-tools-convertible-note--f638bf3e',\n",
       "  'leads': [],\n",
       "  'investors': [{'investor': {'name': 'Mercado Libre Fund',\n",
       "     'link': 'mercado-libre-s-fund',\n",
       "     'type': 'organization'},\n",
       "    'partners': []}],\n",
       "  'created_at': {'$date': '2015-08-01T00:00:00Z'},\n",
       "  'pre_money': None,\n",
       "  'raised': None,\n",
       "  'type': 'convertible_note'}]"
      ]
     },
     "execution_count": 24,
     "metadata": {},
     "output_type": "execute_result"
    }
   ],
   "source": [
    "crunch_v2['rounds'][13]"
   ]
  },
  {
   "cell_type": "code",
   "execution_count": 25,
   "id": "4bd61166",
   "metadata": {},
   "outputs": [
    {
     "name": "stdout",
     "output_type": "stream",
     "text": [
      "\n",
      "**The name of the column is = _id\n",
      "--------UNIQUE VALUES ARE:\n",
      "\n",
      "['00k-e-commerce-tools' 'z1-8982' '004' ... 'booshaka' 'madeforgoods'\n",
      " '%E5%81%9C%E8%BB%8A%E5%A4%A7%E8%81%B2%E5%85%AC-pklot-inc']\n",
      "\n",
      "**The name of the column is = nb_rounds\n",
      "--------UNIQUE VALUES ARE:\n",
      "\n",
      "[ 1.  2.  3.  8.  4.  5.  6.  7. 13. 12. 15. 10.  9. 11. 16. 14. 17. 20.\n",
      " 25. 41. 23. 18. 24. 22. 19. 21. 33. 34.  0. 31. 32. 27. 30. 35. 28. 29.]\n",
      "\n",
      "**The name of the column is = scraped_funding\n",
      "--------UNIQUE VALUES ARE:\n",
      "\n",
      "[ True]\n",
      "\n",
      "**The name of the column is = total\n",
      "--------UNIQUE VALUES ARE:\n",
      "\n",
      "[             nan 5493911.47947403   41250.         ...  451395.38161586\n",
      " 4921780.02627114   39422.07241835]\n"
     ]
    }
   ],
   "source": [
    "for index, colname in enumerate(crunch_v2.loc[:10,'_id':'total']):\n",
    "    print(f\"\\n**The name of the column is = {colname}\")\n",
    "    print(\"--------UNIQUE VALUES ARE:\\n\")\n",
    "    print(crunch_v2[colname].unique())\n"
   ]
  },
  {
   "cell_type": "code",
   "execution_count": 26,
   "id": "91345f82",
   "metadata": {},
   "outputs": [
    {
     "data": {
      "text/plain": [
       "{'city': 'São Paulo', 'region': 'Sao Paulo', 'country': 'Brazil'}"
      ]
     },
     "execution_count": 26,
     "metadata": {},
     "output_type": "execute_result"
    }
   ],
   "source": [
    "crunch_v2['address'][13]"
   ]
  },
  {
   "cell_type": "code",
   "execution_count": 28,
   "id": "55e5b23b",
   "metadata": {},
   "outputs": [
    {
     "data": {
      "text/plain": [
       "dict"
      ]
     },
     "execution_count": 28,
     "metadata": {},
     "output_type": "execute_result"
    }
   ],
   "source": [
    "type(crunch_v2['address'][13])"
   ]
  },
  {
   "cell_type": "markdown",
   "id": "a4e7f3f5",
   "metadata": {},
   "source": [
    "#### Let's continue with the rest"
   ]
  },
  {
   "cell_type": "code",
   "execution_count": 29,
   "id": "4230b5f4",
   "metadata": {},
   "outputs": [],
   "source": [
    "columns_to_drop = ['description',\n",
    "                   'founders','_id', 'logo','scraped_funding','scraped_profile','socials', \n",
    "                   'scraped_rounds', 'status', 'type', 'legal_name', 'name', 'phone']"
   ]
  },
  {
   "cell_type": "code",
   "execution_count": 30,
   "id": "0f2a5928",
   "metadata": {},
   "outputs": [],
   "source": [
    "crunch_v2 = crunch_v2.drop(columns=columns_to_drop)"
   ]
  },
  {
   "cell_type": "code",
   "execution_count": 31,
   "id": "df9a4c51",
   "metadata": {},
   "outputs": [
    {
     "data": {
      "text/plain": [
       "Index(['nb_rounds', 'total', 'address', 'created_at', 'tags', 'rounds'], dtype='object')"
      ]
     },
     "execution_count": 31,
     "metadata": {},
     "output_type": "execute_result"
    }
   ],
   "source": [
    "crunch_v2.columns"
   ]
  },
  {
   "cell_type": "code",
   "execution_count": 32,
   "id": "650cfabf",
   "metadata": {},
   "outputs": [
    {
     "data": {
      "text/html": [
       "<div>\n",
       "<style scoped>\n",
       "    .dataframe tbody tr th:only-of-type {\n",
       "        vertical-align: middle;\n",
       "    }\n",
       "\n",
       "    .dataframe tbody tr th {\n",
       "        vertical-align: top;\n",
       "    }\n",
       "\n",
       "    .dataframe thead th {\n",
       "        text-align: right;\n",
       "    }\n",
       "</style>\n",
       "<table border=\"1\" class=\"dataframe\">\n",
       "  <thead>\n",
       "    <tr style=\"text-align: right;\">\n",
       "      <th></th>\n",
       "      <th>nb_rounds</th>\n",
       "      <th>total</th>\n",
       "      <th>address</th>\n",
       "      <th>created_at</th>\n",
       "      <th>tags</th>\n",
       "      <th>rounds</th>\n",
       "    </tr>\n",
       "  </thead>\n",
       "  <tbody>\n",
       "    <tr>\n",
       "      <th>13</th>\n",
       "      <td>1.0</td>\n",
       "      <td>NaN</td>\n",
       "      <td>{'city': 'São Paulo', 'region': 'Sao Paulo', '...</td>\n",
       "      <td>{'$date': '2012-03-01T00:00:00Z'}</td>\n",
       "      <td>[E-Commerce, Information Services, Marketing, ...</td>\n",
       "      <td>[{'name': 'Convertible Note - 00K E-Commerce T...</td>\n",
       "    </tr>\n",
       "    <tr>\n",
       "      <th>42</th>\n",
       "      <td>2.0</td>\n",
       "      <td>NaN</td>\n",
       "      <td>{'city': 'São Paulo', 'region': 'Sao Paulo', '...</td>\n",
       "      <td>{'$date': '2020-04-01T00:00:00Z'}</td>\n",
       "      <td>[Banking, Financial Services, Mobile Apps]</td>\n",
       "      <td>[{'name': 'Seed Round - 01 Paynents And Busine...</td>\n",
       "    </tr>\n",
       "    <tr>\n",
       "      <th>67</th>\n",
       "      <td>1.0</td>\n",
       "      <td>NaN</td>\n",
       "      <td>{'city': 'Aschaffenburg', 'region': 'Bayern', ...</td>\n",
       "      <td>{'$date': '2003-01-01T00:00:00Z'}</td>\n",
       "      <td>[Enterprise, Software]</td>\n",
       "      <td>[{'name': 'Venture Round - 004', 'link': '004-...</td>\n",
       "    </tr>\n",
       "    <tr>\n",
       "      <th>75</th>\n",
       "      <td>3.0</td>\n",
       "      <td>5.493911e+06</td>\n",
       "      <td>{'city': 'Mississauga', 'region': 'Ontario', '...</td>\n",
       "      <td>{'$date': '1992-01-01T00:00:00Z'}</td>\n",
       "      <td>[Customer Service, Meeting Software, Software]</td>\n",
       "      <td>[{'name': 'Post-IPO Equity - 01 Communique', '...</td>\n",
       "    </tr>\n",
       "    <tr>\n",
       "      <th>82</th>\n",
       "      <td>1.0</td>\n",
       "      <td>NaN</td>\n",
       "      <td>{'city': None, 'region': None, 'country': None}</td>\n",
       "      <td>{'$date': '2018-01-01T00:00:00Z'}</td>\n",
       "      <td>[Analytics, Business Intelligence, Customer Se...</td>\n",
       "      <td>[{'name': 'Pre Seed Round - --', 'link': 'alph...</td>\n",
       "    </tr>\n",
       "    <tr>\n",
       "      <th>...</th>\n",
       "      <td>...</td>\n",
       "      <td>...</td>\n",
       "      <td>...</td>\n",
       "      <td>...</td>\n",
       "      <td>...</td>\n",
       "      <td>...</td>\n",
       "    </tr>\n",
       "    <tr>\n",
       "      <th>1312185</th>\n",
       "      <td>3.0</td>\n",
       "      <td>4.921780e+06</td>\n",
       "      <td>{'city': 'Nantong', 'region': 'Jiangsu', 'coun...</td>\n",
       "      <td>{'$date': '2013-12-10T00:00:00Z'}</td>\n",
       "      <td>[Enterprise, Fashion, Supply Chain Management]</td>\n",
       "      <td>[{'name': 'Series B - ZZL.AI', 'link': 'zzl-ai...</td>\n",
       "    </tr>\n",
       "    <tr>\n",
       "      <th>1312192</th>\n",
       "      <td>1.0</td>\n",
       "      <td>3.942207e+04</td>\n",
       "      <td>{'city': 'Moscow', 'region': 'Moscow City', 'c...</td>\n",
       "      <td>NaN</td>\n",
       "      <td>[Travel]</td>\n",
       "      <td>[{'name': 'Seed Round - Сhabooka', 'link': 'ch...</td>\n",
       "    </tr>\n",
       "    <tr>\n",
       "      <th>1312218</th>\n",
       "      <td>2.0</td>\n",
       "      <td>3.000000e+06</td>\n",
       "      <td>{'city': 'Redwood City', 'region': 'California...</td>\n",
       "      <td>{'$date': '1990-11-07T00:00:00Z'}</td>\n",
       "      <td>[Advertising, Marketing Automation]</td>\n",
       "      <td>[{'name': 'Convertible Note - حسن مهجر', 'link...</td>\n",
       "    </tr>\n",
       "    <tr>\n",
       "      <th>1312260</th>\n",
       "      <td>1.0</td>\n",
       "      <td>3.000000e+06</td>\n",
       "      <td>{'city': 'Shanghai', 'region': 'Shanghai', 'co...</td>\n",
       "      <td>{'$date': '2016-01-01T00:00:00Z'}</td>\n",
       "      <td>[E-Commerce, SaaS, Software]</td>\n",
       "      <td>[{'name': 'Series A - 客湖KEHU', 'link': 'madefo...</td>\n",
       "    </tr>\n",
       "    <tr>\n",
       "      <th>1312262</th>\n",
       "      <td>1.0</td>\n",
       "      <td>6.500000e+04</td>\n",
       "      <td>{'city': 'Taipei', 'region': 'T'ai-pei', 'coun...</td>\n",
       "      <td>{'$date': '2015-06-11T00:00:00Z'}</td>\n",
       "      <td>[Apps, Information Technology, Point of Sale]</td>\n",
       "      <td>[{'name': 'Angel Round - 停車大聲公 PKLOT Inc', 'li...</td>\n",
       "    </tr>\n",
       "  </tbody>\n",
       "</table>\n",
       "<p>188751 rows × 6 columns</p>\n",
       "</div>"
      ],
      "text/plain": [
       "         nb_rounds         total  \\\n",
       "13             1.0           NaN   \n",
       "42             2.0           NaN   \n",
       "67             1.0           NaN   \n",
       "75             3.0  5.493911e+06   \n",
       "82             1.0           NaN   \n",
       "...            ...           ...   \n",
       "1312185        3.0  4.921780e+06   \n",
       "1312192        1.0  3.942207e+04   \n",
       "1312218        2.0  3.000000e+06   \n",
       "1312260        1.0  3.000000e+06   \n",
       "1312262        1.0  6.500000e+04   \n",
       "\n",
       "                                                   address  \\\n",
       "13       {'city': 'São Paulo', 'region': 'Sao Paulo', '...   \n",
       "42       {'city': 'São Paulo', 'region': 'Sao Paulo', '...   \n",
       "67       {'city': 'Aschaffenburg', 'region': 'Bayern', ...   \n",
       "75       {'city': 'Mississauga', 'region': 'Ontario', '...   \n",
       "82         {'city': None, 'region': None, 'country': None}   \n",
       "...                                                    ...   \n",
       "1312185  {'city': 'Nantong', 'region': 'Jiangsu', 'coun...   \n",
       "1312192  {'city': 'Moscow', 'region': 'Moscow City', 'c...   \n",
       "1312218  {'city': 'Redwood City', 'region': 'California...   \n",
       "1312260  {'city': 'Shanghai', 'region': 'Shanghai', 'co...   \n",
       "1312262  {'city': 'Taipei', 'region': 'T'ai-pei', 'coun...   \n",
       "\n",
       "                                created_at  \\\n",
       "13       {'$date': '2012-03-01T00:00:00Z'}   \n",
       "42       {'$date': '2020-04-01T00:00:00Z'}   \n",
       "67       {'$date': '2003-01-01T00:00:00Z'}   \n",
       "75       {'$date': '1992-01-01T00:00:00Z'}   \n",
       "82       {'$date': '2018-01-01T00:00:00Z'}   \n",
       "...                                    ...   \n",
       "1312185  {'$date': '2013-12-10T00:00:00Z'}   \n",
       "1312192                                NaN   \n",
       "1312218  {'$date': '1990-11-07T00:00:00Z'}   \n",
       "1312260  {'$date': '2016-01-01T00:00:00Z'}   \n",
       "1312262  {'$date': '2015-06-11T00:00:00Z'}   \n",
       "\n",
       "                                                      tags  \\\n",
       "13       [E-Commerce, Information Services, Marketing, ...   \n",
       "42              [Banking, Financial Services, Mobile Apps]   \n",
       "67                                  [Enterprise, Software]   \n",
       "75          [Customer Service, Meeting Software, Software]   \n",
       "82       [Analytics, Business Intelligence, Customer Se...   \n",
       "...                                                    ...   \n",
       "1312185     [Enterprise, Fashion, Supply Chain Management]   \n",
       "1312192                                           [Travel]   \n",
       "1312218                [Advertising, Marketing Automation]   \n",
       "1312260                       [E-Commerce, SaaS, Software]   \n",
       "1312262      [Apps, Information Technology, Point of Sale]   \n",
       "\n",
       "                                                    rounds  \n",
       "13       [{'name': 'Convertible Note - 00K E-Commerce T...  \n",
       "42       [{'name': 'Seed Round - 01 Paynents And Busine...  \n",
       "67       [{'name': 'Venture Round - 004', 'link': '004-...  \n",
       "75       [{'name': 'Post-IPO Equity - 01 Communique', '...  \n",
       "82       [{'name': 'Pre Seed Round - --', 'link': 'alph...  \n",
       "...                                                    ...  \n",
       "1312185  [{'name': 'Series B - ZZL.AI', 'link': 'zzl-ai...  \n",
       "1312192  [{'name': 'Seed Round - Сhabooka', 'link': 'ch...  \n",
       "1312218  [{'name': 'Convertible Note - حسن مهجر', 'link...  \n",
       "1312260  [{'name': 'Series A - 客湖KEHU', 'link': 'madefo...  \n",
       "1312262  [{'name': 'Angel Round - 停車大聲公 PKLOT Inc', 'li...  \n",
       "\n",
       "[188751 rows x 6 columns]"
      ]
     },
     "execution_count": 32,
     "metadata": {},
     "output_type": "execute_result"
    }
   ],
   "source": [
    "crunch_v2"
   ]
  },
  {
   "cell_type": "code",
   "execution_count": 33,
   "id": "45a3115c",
   "metadata": {},
   "outputs": [
    {
     "data": {
      "text/plain": [
       "13         True\n",
       "42         True\n",
       "67         True\n",
       "75         True\n",
       "82         True\n",
       "           ... \n",
       "1312185    True\n",
       "1312192    True\n",
       "1312218    True\n",
       "1312260    True\n",
       "1312262    True\n",
       "Name: nb_rounds, Length: 188751, dtype: bool"
      ]
     },
     "execution_count": 33,
     "metadata": {},
     "output_type": "execute_result"
    }
   ],
   "source": [
    "crunch_v2['nb_rounds']>0"
   ]
  },
  {
   "cell_type": "markdown",
   "id": "0694bc37",
   "metadata": {},
   "source": [
    "### WE SEE IN THE INFO THAT TAGS IS THE LEAST NON-NULL, WILL FILTER TO HAVE ALL VALID "
   ]
  },
  {
   "cell_type": "code",
   "execution_count": 34,
   "id": "17333d32",
   "metadata": {},
   "outputs": [
    {
     "data": {
      "text/plain": [
       "False    184599\n",
       "True       4152\n",
       "Name: tags, dtype: int64"
      ]
     },
     "execution_count": 34,
     "metadata": {},
     "output_type": "execute_result"
    }
   ],
   "source": [
    "crunch_v2['tags'].isna().value_counts()"
   ]
  },
  {
   "cell_type": "code",
   "execution_count": 35,
   "id": "4531d4fe",
   "metadata": {},
   "outputs": [
    {
     "data": {
      "text/plain": [
       "True     184599\n",
       "False      4152\n",
       "Name: tags, dtype: int64"
      ]
     },
     "execution_count": 35,
     "metadata": {},
     "output_type": "execute_result"
    }
   ],
   "source": [
    "crunch_v2['tags'].notna().value_counts()"
   ]
  },
  {
   "cell_type": "code",
   "execution_count": 36,
   "id": "389039d6",
   "metadata": {},
   "outputs": [],
   "source": [
    "crunch_v2 = crunch_v2[crunch_v2['tags'].notna()]"
   ]
  },
  {
   "cell_type": "code",
   "execution_count": 37,
   "id": "396548f3",
   "metadata": {},
   "outputs": [
    {
     "name": "stdout",
     "output_type": "stream",
     "text": [
      "<class 'pandas.core.frame.DataFrame'>\n",
      "Int64Index: 184599 entries, 13 to 1312262\n",
      "Data columns (total 6 columns):\n",
      " #   Column      Non-Null Count   Dtype  \n",
      "---  ------      --------------   -----  \n",
      " 0   nb_rounds   184599 non-null  float64\n",
      " 1   total       134763 non-null  float64\n",
      " 2   address     184599 non-null  object \n",
      " 3   created_at  178914 non-null  object \n",
      " 4   tags        184599 non-null  object \n",
      " 5   rounds      184599 non-null  object \n",
      "dtypes: float64(2), object(4)\n",
      "memory usage: 9.9+ MB\n"
     ]
    }
   ],
   "source": [
    "crunch_v2.info()"
   ]
  },
  {
   "cell_type": "code",
   "execution_count": 38,
   "id": "dd19a037",
   "metadata": {},
   "outputs": [
    {
     "name": "stdout",
     "output_type": "stream",
     "text": [
      "<class 'dict'>\n"
     ]
    }
   ],
   "source": [
    "print(type(crunch_v2[crunch_v2['rounds'].notna()]['rounds'].iloc[13][0]))"
   ]
  },
  {
   "cell_type": "code",
   "execution_count": 39,
   "id": "57ea10b4",
   "metadata": {},
   "outputs": [
    {
     "data": {
      "text/plain": [
       "{'name': 'Angel Round - 100 Billion Plus',\n",
       " 'link': '100-billion-plus-angel--8fbb114c',\n",
       " 'leads': [{'name': 'Next Capital',\n",
       "   'link': 'next-capital-87a9',\n",
       "   'type': 'organization',\n",
       "   'description': 'Next Capital focuses on projects of new consumer retail, new finance, and internet innovation sector.'}],\n",
       " 'investors': [{'investor': {'name': 'Next Capital',\n",
       "    'link': 'next-capital-87a9',\n",
       "    'type': 'organization'},\n",
       "   'partners': []}],\n",
       " 'created_at': {'$date': '2019-06-13T00:00:00Z'},\n",
       " 'pre_money': None,\n",
       " 'raised': None,\n",
       " 'type': 'angel'}"
      ]
     },
     "execution_count": 39,
     "metadata": {},
     "output_type": "execute_result"
    }
   ],
   "source": [
    "crunch_v2[crunch_v2['rounds'].notna()]['rounds'].iloc[13][0]"
   ]
  },
  {
   "cell_type": "code",
   "execution_count": 40,
   "id": "5a0622be",
   "metadata": {},
   "outputs": [
    {
     "data": {
      "text/html": [
       "<div>\n",
       "<style scoped>\n",
       "    .dataframe tbody tr th:only-of-type {\n",
       "        vertical-align: middle;\n",
       "    }\n",
       "\n",
       "    .dataframe tbody tr th {\n",
       "        vertical-align: top;\n",
       "    }\n",
       "\n",
       "    .dataframe thead th {\n",
       "        text-align: right;\n",
       "    }\n",
       "</style>\n",
       "<table border=\"1\" class=\"dataframe\">\n",
       "  <thead>\n",
       "    <tr style=\"text-align: right;\">\n",
       "      <th></th>\n",
       "      <th>nb_rounds</th>\n",
       "      <th>total</th>\n",
       "      <th>address</th>\n",
       "      <th>created_at</th>\n",
       "      <th>tags</th>\n",
       "      <th>rounds</th>\n",
       "    </tr>\n",
       "  </thead>\n",
       "  <tbody>\n",
       "    <tr>\n",
       "      <th>13</th>\n",
       "      <td>1.0</td>\n",
       "      <td>NaN</td>\n",
       "      <td>{'city': 'São Paulo', 'region': 'Sao Paulo', '...</td>\n",
       "      <td>{'$date': '2012-03-01T00:00:00Z'}</td>\n",
       "      <td>[E-Commerce, Information Services, Marketing, ...</td>\n",
       "      <td>[{'name': 'Convertible Note - 00K E-Commerce T...</td>\n",
       "    </tr>\n",
       "    <tr>\n",
       "      <th>42</th>\n",
       "      <td>2.0</td>\n",
       "      <td>NaN</td>\n",
       "      <td>{'city': 'São Paulo', 'region': 'Sao Paulo', '...</td>\n",
       "      <td>{'$date': '2020-04-01T00:00:00Z'}</td>\n",
       "      <td>[Banking, Financial Services, Mobile Apps]</td>\n",
       "      <td>[{'name': 'Seed Round - 01 Paynents And Busine...</td>\n",
       "    </tr>\n",
       "    <tr>\n",
       "      <th>67</th>\n",
       "      <td>1.0</td>\n",
       "      <td>NaN</td>\n",
       "      <td>{'city': 'Aschaffenburg', 'region': 'Bayern', ...</td>\n",
       "      <td>{'$date': '2003-01-01T00:00:00Z'}</td>\n",
       "      <td>[Enterprise, Software]</td>\n",
       "      <td>[{'name': 'Venture Round - 004', 'link': '004-...</td>\n",
       "    </tr>\n",
       "    <tr>\n",
       "      <th>75</th>\n",
       "      <td>3.0</td>\n",
       "      <td>5.493911e+06</td>\n",
       "      <td>{'city': 'Mississauga', 'region': 'Ontario', '...</td>\n",
       "      <td>{'$date': '1992-01-01T00:00:00Z'}</td>\n",
       "      <td>[Customer Service, Meeting Software, Software]</td>\n",
       "      <td>[{'name': 'Post-IPO Equity - 01 Communique', '...</td>\n",
       "    </tr>\n",
       "    <tr>\n",
       "      <th>82</th>\n",
       "      <td>1.0</td>\n",
       "      <td>NaN</td>\n",
       "      <td>{'city': None, 'region': None, 'country': None}</td>\n",
       "      <td>{'$date': '2018-01-01T00:00:00Z'}</td>\n",
       "      <td>[Analytics, Business Intelligence, Customer Se...</td>\n",
       "      <td>[{'name': 'Pre Seed Round - --', 'link': 'alph...</td>\n",
       "    </tr>\n",
       "  </tbody>\n",
       "</table>\n",
       "</div>"
      ],
      "text/plain": [
       "    nb_rounds         total  \\\n",
       "13        1.0           NaN   \n",
       "42        2.0           NaN   \n",
       "67        1.0           NaN   \n",
       "75        3.0  5.493911e+06   \n",
       "82        1.0           NaN   \n",
       "\n",
       "                                              address  \\\n",
       "13  {'city': 'São Paulo', 'region': 'Sao Paulo', '...   \n",
       "42  {'city': 'São Paulo', 'region': 'Sao Paulo', '...   \n",
       "67  {'city': 'Aschaffenburg', 'region': 'Bayern', ...   \n",
       "75  {'city': 'Mississauga', 'region': 'Ontario', '...   \n",
       "82    {'city': None, 'region': None, 'country': None}   \n",
       "\n",
       "                           created_at  \\\n",
       "13  {'$date': '2012-03-01T00:00:00Z'}   \n",
       "42  {'$date': '2020-04-01T00:00:00Z'}   \n",
       "67  {'$date': '2003-01-01T00:00:00Z'}   \n",
       "75  {'$date': '1992-01-01T00:00:00Z'}   \n",
       "82  {'$date': '2018-01-01T00:00:00Z'}   \n",
       "\n",
       "                                                 tags  \\\n",
       "13  [E-Commerce, Information Services, Marketing, ...   \n",
       "42         [Banking, Financial Services, Mobile Apps]   \n",
       "67                             [Enterprise, Software]   \n",
       "75     [Customer Service, Meeting Software, Software]   \n",
       "82  [Analytics, Business Intelligence, Customer Se...   \n",
       "\n",
       "                                               rounds  \n",
       "13  [{'name': 'Convertible Note - 00K E-Commerce T...  \n",
       "42  [{'name': 'Seed Round - 01 Paynents And Busine...  \n",
       "67  [{'name': 'Venture Round - 004', 'link': '004-...  \n",
       "75  [{'name': 'Post-IPO Equity - 01 Communique', '...  \n",
       "82  [{'name': 'Pre Seed Round - --', 'link': 'alph...  "
      ]
     },
     "execution_count": 40,
     "metadata": {},
     "output_type": "execute_result"
    }
   ],
   "source": [
    "crunch_v2.head()"
   ]
  },
  {
   "cell_type": "code",
   "execution_count": 41,
   "id": "4615d008",
   "metadata": {},
   "outputs": [],
   "source": [
    "test = crunch_v2['rounds'][:10].apply(lambda x: x[0]['raised'])"
   ]
  },
  {
   "cell_type": "code",
   "execution_count": 42,
   "id": "874c540e",
   "metadata": {},
   "outputs": [
    {
     "data": {
      "text/plain": [
       "13              NaN\n",
       "42              NaN\n",
       "67              NaN\n",
       "75     2.000000e+06\n",
       "82              NaN\n",
       "88     4.125000e+04\n",
       "95     5.583161e+04\n",
       "103    6.130000e+05\n",
       "122    2.000000e+06\n",
       "124    4.748924e+05\n",
       "Name: rounds, dtype: float64"
      ]
     },
     "execution_count": 42,
     "metadata": {},
     "output_type": "execute_result"
    }
   ],
   "source": [
    "test"
   ]
  },
  {
   "cell_type": "code",
   "execution_count": 43,
   "id": "daebd9c8",
   "metadata": {},
   "outputs": [
    {
     "data": {
      "text/plain": [
       "{'name': 'Angel Round - 100 Billion Plus',\n",
       " 'link': '100-billion-plus-angel--8fbb114c',\n",
       " 'leads': [{'name': 'Next Capital',\n",
       "   'link': 'next-capital-87a9',\n",
       "   'type': 'organization',\n",
       "   'description': 'Next Capital focuses on projects of new consumer retail, new finance, and internet innovation sector.'}],\n",
       " 'investors': [{'investor': {'name': 'Next Capital',\n",
       "    'link': 'next-capital-87a9',\n",
       "    'type': 'organization'},\n",
       "   'partners': []}],\n",
       " 'created_at': {'$date': '2019-06-13T00:00:00Z'},\n",
       " 'pre_money': None,\n",
       " 'raised': None,\n",
       " 'type': 'angel'}"
      ]
     },
     "execution_count": 43,
     "metadata": {},
     "output_type": "execute_result"
    }
   ],
   "source": [
    "crunch_v2['rounds'].iloc[13][0]"
   ]
  },
  {
   "cell_type": "code",
   "execution_count": 44,
   "id": "6b5ef6db",
   "metadata": {},
   "outputs": [
    {
     "data": {
      "text/plain": [
       "[{'investor': {'name': 'Next Capital',\n",
       "   'link': 'next-capital-87a9',\n",
       "   'type': 'organization'},\n",
       "  'partners': []}]"
      ]
     },
     "execution_count": 44,
     "metadata": {},
     "output_type": "execute_result"
    }
   ],
   "source": [
    "crunch_v2['rounds'].iloc[13][0]['investors']"
   ]
  },
  {
   "cell_type": "code",
   "execution_count": 45,
   "id": "cb3e8e71",
   "metadata": {},
   "outputs": [
    {
     "data": {
      "text/plain": [
       "'2019-06-13T00:00:00Z'"
      ]
     },
     "execution_count": 45,
     "metadata": {},
     "output_type": "execute_result"
    }
   ],
   "source": [
    "crunch_v2['rounds'].iloc[13][0]['created_at']['$date']"
   ]
  },
  {
   "cell_type": "code",
   "execution_count": 46,
   "id": "8a99ecb5",
   "metadata": {},
   "outputs": [
    {
     "data": {
      "text/plain": [
       "str"
      ]
     },
     "execution_count": 46,
     "metadata": {},
     "output_type": "execute_result"
    }
   ],
   "source": [
    "type(crunch_v2['rounds'].iloc[13][0]['created_at']['$date'])"
   ]
  },
  {
   "cell_type": "markdown",
   "id": "d2d21dc8",
   "metadata": {},
   "source": [
    "## ALL OF THESE TESTS WHERE FOR ONE RAISED, LET'S SEE MORE THAN 1"
   ]
  },
  {
   "cell_type": "code",
   "execution_count": 47,
   "id": "43991cf1",
   "metadata": {
    "scrolled": true
   },
   "outputs": [
    {
     "data": {
      "text/plain": [
       "[{'name': 'Post-IPO Equity - 01 Communique',\n",
       "  'link': '01-communique-post-ipo-equity--fc72de43',\n",
       "  'leads': [],\n",
       "  'investors': [{'investor': {'name': 'Richardson GMP',\n",
       "     'link': 'richardson-gmp',\n",
       "     'type': 'organization'},\n",
       "    'partners': []}],\n",
       "  'created_at': {'$date': '2018-07-24T00:00:00Z'},\n",
       "  'pre_money': None,\n",
       "  'raised': 2000000,\n",
       "  'type': 'post_ipo_equity'},\n",
       " {'name': 'Post-IPO Equity - 01 Communique',\n",
       "  'link': '01-communique-post-ipo-equity--3c799183',\n",
       "  'leads': [{'name': 'Clarus Securities',\n",
       "    'link': 'clarus-securities',\n",
       "    'type': 'organization',\n",
       "    'description': 'Once an opportunity is identified, we seek to become the dominant trader in the equity by employing a uniquely focused concentration.'}],\n",
       "  'investors': [{'investor': {'name': 'Paradigm Capital',\n",
       "     'link': 'paradigm-capital',\n",
       "     'type': 'organization'},\n",
       "    'partners': []},\n",
       "   {'investor': {'name': 'NCP Northland Capital Partners',\n",
       "     'link': 'ncp-northland-capital-partners',\n",
       "     'type': 'organization'},\n",
       "    'partners': []},\n",
       "   {'investor': {'name': 'MGI Securities',\n",
       "     'link': 'mgi-securities',\n",
       "     'type': 'organization'},\n",
       "    'partners': []},\n",
       "   {'investor': {'name': 'Clarus Securities',\n",
       "     'link': 'clarus-securities',\n",
       "     'type': 'organization'},\n",
       "    'partners': []}],\n",
       "  'created_at': {'$date': '2012-08-16T00:00:00Z'},\n",
       "  'pre_money': None,\n",
       "  'raised': 3493911.4794740295,\n",
       "  'type': 'post_ipo_equity'},\n",
       " {'name': 'Venture Round - 01 Communique',\n",
       "  'link': '01-communique-series-unknown--b7e82cea',\n",
       "  'leads': [],\n",
       "  'investors': [{'investor': {'name': 'BEST Funds',\n",
       "     'link': 'best-funds',\n",
       "     'type': 'organization'},\n",
       "    'partners': []}],\n",
       "  'created_at': {'$date': '1996-01-01T00:00:00Z'},\n",
       "  'pre_money': None,\n",
       "  'raised': None,\n",
       "  'type': 'series_unknown'}]"
      ]
     },
     "execution_count": 47,
     "metadata": {},
     "output_type": "execute_result"
    }
   ],
   "source": [
    "crunch_v2['rounds'][75]"
   ]
  },
  {
   "cell_type": "code",
   "execution_count": 48,
   "id": "b4ece63f",
   "metadata": {},
   "outputs": [
    {
     "data": {
      "text/plain": [
       "3"
      ]
     },
     "execution_count": 48,
     "metadata": {},
     "output_type": "execute_result"
    }
   ],
   "source": [
    "len(crunch_v2['rounds'][75])"
   ]
  },
  {
   "cell_type": "code",
   "execution_count": 49,
   "id": "0470d7a4",
   "metadata": {},
   "outputs": [
    {
     "data": {
      "text/plain": [
       "{'name': 'Post-IPO Equity - 01 Communique',\n",
       " 'link': '01-communique-post-ipo-equity--fc72de43',\n",
       " 'leads': [],\n",
       " 'investors': [{'investor': {'name': 'Richardson GMP',\n",
       "    'link': 'richardson-gmp',\n",
       "    'type': 'organization'},\n",
       "   'partners': []}],\n",
       " 'created_at': {'$date': '2018-07-24T00:00:00Z'},\n",
       " 'pre_money': None,\n",
       " 'raised': 2000000,\n",
       " 'type': 'post_ipo_equity'}"
      ]
     },
     "execution_count": 49,
     "metadata": {},
     "output_type": "execute_result"
    }
   ],
   "source": [
    "crunch_v2['rounds'][75][0]"
   ]
  },
  {
   "cell_type": "code",
   "execution_count": 50,
   "id": "dc4e0c5d",
   "metadata": {},
   "outputs": [
    {
     "data": {
      "text/plain": [
       "{'name': 'Post-IPO Equity - 01 Communique',\n",
       " 'link': '01-communique-post-ipo-equity--3c799183',\n",
       " 'leads': [{'name': 'Clarus Securities',\n",
       "   'link': 'clarus-securities',\n",
       "   'type': 'organization',\n",
       "   'description': 'Once an opportunity is identified, we seek to become the dominant trader in the equity by employing a uniquely focused concentration.'}],\n",
       " 'investors': [{'investor': {'name': 'Paradigm Capital',\n",
       "    'link': 'paradigm-capital',\n",
       "    'type': 'organization'},\n",
       "   'partners': []},\n",
       "  {'investor': {'name': 'NCP Northland Capital Partners',\n",
       "    'link': 'ncp-northland-capital-partners',\n",
       "    'type': 'organization'},\n",
       "   'partners': []},\n",
       "  {'investor': {'name': 'MGI Securities',\n",
       "    'link': 'mgi-securities',\n",
       "    'type': 'organization'},\n",
       "   'partners': []},\n",
       "  {'investor': {'name': 'Clarus Securities',\n",
       "    'link': 'clarus-securities',\n",
       "    'type': 'organization'},\n",
       "   'partners': []}],\n",
       " 'created_at': {'$date': '2012-08-16T00:00:00Z'},\n",
       " 'pre_money': None,\n",
       " 'raised': 3493911.4794740295,\n",
       " 'type': 'post_ipo_equity'}"
      ]
     },
     "execution_count": 50,
     "metadata": {},
     "output_type": "execute_result"
    }
   ],
   "source": [
    "crunch_v2['rounds'][75][1]"
   ]
  },
  {
   "cell_type": "code",
   "execution_count": 51,
   "id": "a390453a",
   "metadata": {},
   "outputs": [
    {
     "data": {
      "text/plain": [
       "{'name': 'Venture Round - 01 Communique',\n",
       " 'link': '01-communique-series-unknown--b7e82cea',\n",
       " 'leads': [],\n",
       " 'investors': [{'investor': {'name': 'BEST Funds',\n",
       "    'link': 'best-funds',\n",
       "    'type': 'organization'},\n",
       "   'partners': []}],\n",
       " 'created_at': {'$date': '1996-01-01T00:00:00Z'},\n",
       " 'pre_money': None,\n",
       " 'raised': None,\n",
       " 'type': 'series_unknown'}"
      ]
     },
     "execution_count": 51,
     "metadata": {},
     "output_type": "execute_result"
    }
   ],
   "source": [
    "crunch_v2['rounds'][75][2]"
   ]
  },
  {
   "cell_type": "code",
   "execution_count": 52,
   "id": "b95fbe15",
   "metadata": {},
   "outputs": [],
   "source": [
    "_address = 'dict'\n",
    "_created_at = 'dict'\n",
    "_tags = 'list'\n",
    "_founders = 'list'\n",
    "_socials = 'dict'"
   ]
  },
  {
   "cell_type": "code",
   "execution_count": 53,
   "id": "23414171",
   "metadata": {},
   "outputs": [
    {
     "data": {
      "text/plain": [
       "Index(['nb_rounds', 'total', 'address', 'created_at', 'tags', 'rounds'], dtype='object')"
      ]
     },
     "execution_count": 53,
     "metadata": {},
     "output_type": "execute_result"
    }
   ],
   "source": [
    "crunch_v2.columns"
   ]
  },
  {
   "cell_type": "code",
   "execution_count": 54,
   "id": "98e9b21b",
   "metadata": {},
   "outputs": [
    {
     "data": {
      "text/plain": [
       "'Brazil'"
      ]
     },
     "execution_count": 54,
     "metadata": {},
     "output_type": "execute_result"
    }
   ],
   "source": [
    "crunch_v2['address'][13]['country']"
   ]
  },
  {
   "cell_type": "code",
   "execution_count": 55,
   "id": "0255106a",
   "metadata": {},
   "outputs": [
    {
     "name": "stderr",
     "output_type": "stream",
     "text": [
      "/var/folders/fg/0mh3ddwn6ls4kf4146hxrxb00000gn/T/ipykernel_6910/743314162.py:1: SettingWithCopyWarning: \n",
      "A value is trying to be set on a copy of a slice from a DataFrame.\n",
      "Try using .loc[row_indexer,col_indexer] = value instead\n",
      "\n",
      "See the caveats in the documentation: https://pandas.pydata.org/pandas-docs/stable/user_guide/indexing.html#returning-a-view-versus-a-copy\n",
      "  crunch_v2['country'] = crunch_v2['address'].apply(lambda x: x['country'])\n"
     ]
    }
   ],
   "source": [
    "crunch_v2['country'] = crunch_v2['address'].apply(lambda x: x['country'])"
   ]
  },
  {
   "cell_type": "code",
   "execution_count": 56,
   "id": "562db802",
   "metadata": {},
   "outputs": [
    {
     "data": {
      "text/plain": [
       "False    183039\n",
       "True       1560\n",
       "Name: country, dtype: int64"
      ]
     },
     "execution_count": 56,
     "metadata": {},
     "output_type": "execute_result"
    }
   ],
   "source": [
    "crunch_v2['country'].isna().value_counts()"
   ]
  },
  {
   "cell_type": "code",
   "execution_count": 57,
   "id": "9ae32d63",
   "metadata": {
    "scrolled": true
   },
   "outputs": [
    {
     "data": {
      "text/html": [
       "<div>\n",
       "<style scoped>\n",
       "    .dataframe tbody tr th:only-of-type {\n",
       "        vertical-align: middle;\n",
       "    }\n",
       "\n",
       "    .dataframe tbody tr th {\n",
       "        vertical-align: top;\n",
       "    }\n",
       "\n",
       "    .dataframe thead th {\n",
       "        text-align: right;\n",
       "    }\n",
       "</style>\n",
       "<table border=\"1\" class=\"dataframe\">\n",
       "  <thead>\n",
       "    <tr style=\"text-align: right;\">\n",
       "      <th></th>\n",
       "      <th>nb_rounds</th>\n",
       "      <th>total</th>\n",
       "      <th>address</th>\n",
       "      <th>created_at</th>\n",
       "      <th>tags</th>\n",
       "      <th>rounds</th>\n",
       "      <th>country</th>\n",
       "    </tr>\n",
       "  </thead>\n",
       "  <tbody>\n",
       "    <tr>\n",
       "      <th>82</th>\n",
       "      <td>1.0</td>\n",
       "      <td>NaN</td>\n",
       "      <td>{'city': None, 'region': None, 'country': None}</td>\n",
       "      <td>{'$date': '2018-01-01T00:00:00Z'}</td>\n",
       "      <td>[Analytics, Business Intelligence, Customer Se...</td>\n",
       "      <td>[{'name': 'Pre Seed Round - --', 'link': 'alph...</td>\n",
       "      <td>None</td>\n",
       "    </tr>\n",
       "    <tr>\n",
       "      <th>757</th>\n",
       "      <td>1.0</td>\n",
       "      <td>NaN</td>\n",
       "      <td>{'city': None, 'region': None, 'country': None}</td>\n",
       "      <td>NaN</td>\n",
       "      <td>[EdTech, Education]</td>\n",
       "      <td>[{'name': 'Angel Round - 115 network disks', '...</td>\n",
       "      <td>None</td>\n",
       "    </tr>\n",
       "    <tr>\n",
       "      <th>1785</th>\n",
       "      <td>1.0</td>\n",
       "      <td>NaN</td>\n",
       "      <td>{'city': None, 'region': None, 'country': None}</td>\n",
       "      <td>{'$date': '2019-01-01T00:00:00Z'}</td>\n",
       "      <td>[Artificial Intelligence]</td>\n",
       "      <td>[{'name': 'Seed Round - 1AI', 'link': '1ai-see...</td>\n",
       "      <td>None</td>\n",
       "    </tr>\n",
       "    <tr>\n",
       "      <th>2455</th>\n",
       "      <td>1.0</td>\n",
       "      <td>NaN</td>\n",
       "      <td>{'city': None, 'region': None, 'country': None}</td>\n",
       "      <td>NaN</td>\n",
       "      <td>[Accounting]</td>\n",
       "      <td>[{'name': 'Seed Round - 1st Source Consulting'...</td>\n",
       "      <td>None</td>\n",
       "    </tr>\n",
       "    <tr>\n",
       "      <th>5761</th>\n",
       "      <td>1.0</td>\n",
       "      <td>5000.0</td>\n",
       "      <td>{'city': None, 'region': None, 'country': None}</td>\n",
       "      <td>{'$date': '2013-01-01T00:00:00Z'}</td>\n",
       "      <td>[3D Printing, Jewelry, Manufacturing]</td>\n",
       "      <td>[{'name': 'Seed Round - 3DJewell', 'link': '3d...</td>\n",
       "      <td>None</td>\n",
       "    </tr>\n",
       "    <tr>\n",
       "      <th>...</th>\n",
       "      <td>...</td>\n",
       "      <td>...</td>\n",
       "      <td>...</td>\n",
       "      <td>...</td>\n",
       "      <td>...</td>\n",
       "      <td>...</td>\n",
       "      <td>...</td>\n",
       "    </tr>\n",
       "    <tr>\n",
       "      <th>1307851</th>\n",
       "      <td>1.0</td>\n",
       "      <td>NaN</td>\n",
       "      <td>{'city': None, 'region': None, 'country': None}</td>\n",
       "      <td>NaN</td>\n",
       "      <td>[Building Material, Real Estate]</td>\n",
       "      <td>[{'name': 'Seed Round - Zimcar', 'link': 'zimc...</td>\n",
       "      <td>None</td>\n",
       "    </tr>\n",
       "    <tr>\n",
       "      <th>1308678</th>\n",
       "      <td>1.0</td>\n",
       "      <td>NaN</td>\n",
       "      <td>{'city': None, 'region': None, 'country': None}</td>\n",
       "      <td>{'$date': '2019-01-01T00:00:00Z'}</td>\n",
       "      <td>[Health Care]</td>\n",
       "      <td>[{'name': 'Seed Round - ZiRO', 'link': 'ziro-s...</td>\n",
       "      <td>None</td>\n",
       "    </tr>\n",
       "    <tr>\n",
       "      <th>1310593</th>\n",
       "      <td>1.0</td>\n",
       "      <td>NaN</td>\n",
       "      <td>{'city': None, 'region': None, 'country': None}</td>\n",
       "      <td>{'$date': '2020-03-01T00:00:00Z'}</td>\n",
       "      <td>[Blockchain, Financial Services]</td>\n",
       "      <td>[{'name': 'Seed Round - Zqanlink', 'link': 'zq...</td>\n",
       "      <td>None</td>\n",
       "    </tr>\n",
       "    <tr>\n",
       "      <th>1310836</th>\n",
       "      <td>1.0</td>\n",
       "      <td>376000000.0</td>\n",
       "      <td>{'city': None, 'region': None, 'country': None}</td>\n",
       "      <td>{'$date': '2003-01-01T00:00:00Z'}</td>\n",
       "      <td>[Electronics, Telecommunications]</td>\n",
       "      <td>[{'name': 'Venture Round - ZTE Microelectronic...</td>\n",
       "      <td>None</td>\n",
       "    </tr>\n",
       "    <tr>\n",
       "      <th>1311412</th>\n",
       "      <td>1.0</td>\n",
       "      <td>NaN</td>\n",
       "      <td>{'city': None, 'region': None, 'country': None}</td>\n",
       "      <td>NaN</td>\n",
       "      <td>[Content Creators]</td>\n",
       "      <td>[{'name': 'Seed Round - Zuri Media', 'link': '...</td>\n",
       "      <td>None</td>\n",
       "    </tr>\n",
       "  </tbody>\n",
       "</table>\n",
       "<p>1560 rows × 7 columns</p>\n",
       "</div>"
      ],
      "text/plain": [
       "         nb_rounds        total  \\\n",
       "82             1.0          NaN   \n",
       "757            1.0          NaN   \n",
       "1785           1.0          NaN   \n",
       "2455           1.0          NaN   \n",
       "5761           1.0       5000.0   \n",
       "...            ...          ...   \n",
       "1307851        1.0          NaN   \n",
       "1308678        1.0          NaN   \n",
       "1310593        1.0          NaN   \n",
       "1310836        1.0  376000000.0   \n",
       "1311412        1.0          NaN   \n",
       "\n",
       "                                                 address  \\\n",
       "82       {'city': None, 'region': None, 'country': None}   \n",
       "757      {'city': None, 'region': None, 'country': None}   \n",
       "1785     {'city': None, 'region': None, 'country': None}   \n",
       "2455     {'city': None, 'region': None, 'country': None}   \n",
       "5761     {'city': None, 'region': None, 'country': None}   \n",
       "...                                                  ...   \n",
       "1307851  {'city': None, 'region': None, 'country': None}   \n",
       "1308678  {'city': None, 'region': None, 'country': None}   \n",
       "1310593  {'city': None, 'region': None, 'country': None}   \n",
       "1310836  {'city': None, 'region': None, 'country': None}   \n",
       "1311412  {'city': None, 'region': None, 'country': None}   \n",
       "\n",
       "                                created_at  \\\n",
       "82       {'$date': '2018-01-01T00:00:00Z'}   \n",
       "757                                    NaN   \n",
       "1785     {'$date': '2019-01-01T00:00:00Z'}   \n",
       "2455                                   NaN   \n",
       "5761     {'$date': '2013-01-01T00:00:00Z'}   \n",
       "...                                    ...   \n",
       "1307851                                NaN   \n",
       "1308678  {'$date': '2019-01-01T00:00:00Z'}   \n",
       "1310593  {'$date': '2020-03-01T00:00:00Z'}   \n",
       "1310836  {'$date': '2003-01-01T00:00:00Z'}   \n",
       "1311412                                NaN   \n",
       "\n",
       "                                                      tags  \\\n",
       "82       [Analytics, Business Intelligence, Customer Se...   \n",
       "757                                    [EdTech, Education]   \n",
       "1785                             [Artificial Intelligence]   \n",
       "2455                                          [Accounting]   \n",
       "5761                 [3D Printing, Jewelry, Manufacturing]   \n",
       "...                                                    ...   \n",
       "1307851                   [Building Material, Real Estate]   \n",
       "1308678                                      [Health Care]   \n",
       "1310593                   [Blockchain, Financial Services]   \n",
       "1310836                  [Electronics, Telecommunications]   \n",
       "1311412                                 [Content Creators]   \n",
       "\n",
       "                                                    rounds country  \n",
       "82       [{'name': 'Pre Seed Round - --', 'link': 'alph...    None  \n",
       "757      [{'name': 'Angel Round - 115 network disks', '...    None  \n",
       "1785     [{'name': 'Seed Round - 1AI', 'link': '1ai-see...    None  \n",
       "2455     [{'name': 'Seed Round - 1st Source Consulting'...    None  \n",
       "5761     [{'name': 'Seed Round - 3DJewell', 'link': '3d...    None  \n",
       "...                                                    ...     ...  \n",
       "1307851  [{'name': 'Seed Round - Zimcar', 'link': 'zimc...    None  \n",
       "1308678  [{'name': 'Seed Round - ZiRO', 'link': 'ziro-s...    None  \n",
       "1310593  [{'name': 'Seed Round - Zqanlink', 'link': 'zq...    None  \n",
       "1310836  [{'name': 'Venture Round - ZTE Microelectronic...    None  \n",
       "1311412  [{'name': 'Seed Round - Zuri Media', 'link': '...    None  \n",
       "\n",
       "[1560 rows x 7 columns]"
      ]
     },
     "execution_count": 57,
     "metadata": {},
     "output_type": "execute_result"
    }
   ],
   "source": [
    "crunch_v2[crunch_v2['country'].isna()]"
   ]
  },
  {
   "cell_type": "markdown",
   "id": "5fee0724",
   "metadata": {},
   "source": [
    "### 1560 COMPANIES DON'T HAVE VALUES ON COUNTRIES, SO WILL REMOVE THEM AND REMOVE THE COLUMN"
   ]
  },
  {
   "cell_type": "code",
   "execution_count": 58,
   "id": "7cb93e17",
   "metadata": {},
   "outputs": [],
   "source": [
    "crunch_v2 = crunch_v2[crunch_v2['country'].notna()]"
   ]
  },
  {
   "cell_type": "code",
   "execution_count": 59,
   "id": "8b4b8f72",
   "metadata": {},
   "outputs": [],
   "source": [
    "crunch_v2 = crunch_v2.drop(columns=['address'])"
   ]
  },
  {
   "cell_type": "code",
   "execution_count": 60,
   "id": "3deda3fe",
   "metadata": {
    "scrolled": true
   },
   "outputs": [
    {
     "data": {
      "text/html": [
       "<div>\n",
       "<style scoped>\n",
       "    .dataframe tbody tr th:only-of-type {\n",
       "        vertical-align: middle;\n",
       "    }\n",
       "\n",
       "    .dataframe tbody tr th {\n",
       "        vertical-align: top;\n",
       "    }\n",
       "\n",
       "    .dataframe thead th {\n",
       "        text-align: right;\n",
       "    }\n",
       "</style>\n",
       "<table border=\"1\" class=\"dataframe\">\n",
       "  <thead>\n",
       "    <tr style=\"text-align: right;\">\n",
       "      <th></th>\n",
       "      <th>nb_rounds</th>\n",
       "      <th>total</th>\n",
       "      <th>created_at</th>\n",
       "      <th>tags</th>\n",
       "      <th>rounds</th>\n",
       "      <th>country</th>\n",
       "    </tr>\n",
       "  </thead>\n",
       "  <tbody>\n",
       "    <tr>\n",
       "      <th>13</th>\n",
       "      <td>1.0</td>\n",
       "      <td>NaN</td>\n",
       "      <td>{'$date': '2012-03-01T00:00:00Z'}</td>\n",
       "      <td>[E-Commerce, Information Services, Marketing, ...</td>\n",
       "      <td>[{'name': 'Convertible Note - 00K E-Commerce T...</td>\n",
       "      <td>Brazil</td>\n",
       "    </tr>\n",
       "    <tr>\n",
       "      <th>42</th>\n",
       "      <td>2.0</td>\n",
       "      <td>NaN</td>\n",
       "      <td>{'$date': '2020-04-01T00:00:00Z'}</td>\n",
       "      <td>[Banking, Financial Services, Mobile Apps]</td>\n",
       "      <td>[{'name': 'Seed Round - 01 Paynents And Busine...</td>\n",
       "      <td>Brazil</td>\n",
       "    </tr>\n",
       "    <tr>\n",
       "      <th>67</th>\n",
       "      <td>1.0</td>\n",
       "      <td>NaN</td>\n",
       "      <td>{'$date': '2003-01-01T00:00:00Z'}</td>\n",
       "      <td>[Enterprise, Software]</td>\n",
       "      <td>[{'name': 'Venture Round - 004', 'link': '004-...</td>\n",
       "      <td>Germany</td>\n",
       "    </tr>\n",
       "    <tr>\n",
       "      <th>75</th>\n",
       "      <td>3.0</td>\n",
       "      <td>5.493911e+06</td>\n",
       "      <td>{'$date': '1992-01-01T00:00:00Z'}</td>\n",
       "      <td>[Customer Service, Meeting Software, Software]</td>\n",
       "      <td>[{'name': 'Post-IPO Equity - 01 Communique', '...</td>\n",
       "      <td>Canada</td>\n",
       "    </tr>\n",
       "    <tr>\n",
       "      <th>88</th>\n",
       "      <td>1.0</td>\n",
       "      <td>4.125000e+04</td>\n",
       "      <td>{'$date': '2014-01-01T00:00:00Z'}</td>\n",
       "      <td>[Information Technology, Mobile Apps, Video Ga...</td>\n",
       "      <td>[{'name': 'Seed Round - 01Games Technology', '...</td>\n",
       "      <td>Hong Kong</td>\n",
       "    </tr>\n",
       "    <tr>\n",
       "      <th>...</th>\n",
       "      <td>...</td>\n",
       "      <td>...</td>\n",
       "      <td>...</td>\n",
       "      <td>...</td>\n",
       "      <td>...</td>\n",
       "      <td>...</td>\n",
       "    </tr>\n",
       "    <tr>\n",
       "      <th>1312185</th>\n",
       "      <td>3.0</td>\n",
       "      <td>4.921780e+06</td>\n",
       "      <td>{'$date': '2013-12-10T00:00:00Z'}</td>\n",
       "      <td>[Enterprise, Fashion, Supply Chain Management]</td>\n",
       "      <td>[{'name': 'Series B - ZZL.AI', 'link': 'zzl-ai...</td>\n",
       "      <td>China</td>\n",
       "    </tr>\n",
       "    <tr>\n",
       "      <th>1312192</th>\n",
       "      <td>1.0</td>\n",
       "      <td>3.942207e+04</td>\n",
       "      <td>NaN</td>\n",
       "      <td>[Travel]</td>\n",
       "      <td>[{'name': 'Seed Round - Сhabooka', 'link': 'ch...</td>\n",
       "      <td>Russian Federation</td>\n",
       "    </tr>\n",
       "    <tr>\n",
       "      <th>1312218</th>\n",
       "      <td>2.0</td>\n",
       "      <td>3.000000e+06</td>\n",
       "      <td>{'$date': '1990-11-07T00:00:00Z'}</td>\n",
       "      <td>[Advertising, Marketing Automation]</td>\n",
       "      <td>[{'name': 'Convertible Note - حسن مهجر', 'link...</td>\n",
       "      <td>United States</td>\n",
       "    </tr>\n",
       "    <tr>\n",
       "      <th>1312260</th>\n",
       "      <td>1.0</td>\n",
       "      <td>3.000000e+06</td>\n",
       "      <td>{'$date': '2016-01-01T00:00:00Z'}</td>\n",
       "      <td>[E-Commerce, SaaS, Software]</td>\n",
       "      <td>[{'name': 'Series A - 客湖KEHU', 'link': 'madefo...</td>\n",
       "      <td>China</td>\n",
       "    </tr>\n",
       "    <tr>\n",
       "      <th>1312262</th>\n",
       "      <td>1.0</td>\n",
       "      <td>6.500000e+04</td>\n",
       "      <td>{'$date': '2015-06-11T00:00:00Z'}</td>\n",
       "      <td>[Apps, Information Technology, Point of Sale]</td>\n",
       "      <td>[{'name': 'Angel Round - 停車大聲公 PKLOT Inc', 'li...</td>\n",
       "      <td>Taiwan</td>\n",
       "    </tr>\n",
       "  </tbody>\n",
       "</table>\n",
       "<p>183039 rows × 6 columns</p>\n",
       "</div>"
      ],
      "text/plain": [
       "         nb_rounds         total                         created_at  \\\n",
       "13             1.0           NaN  {'$date': '2012-03-01T00:00:00Z'}   \n",
       "42             2.0           NaN  {'$date': '2020-04-01T00:00:00Z'}   \n",
       "67             1.0           NaN  {'$date': '2003-01-01T00:00:00Z'}   \n",
       "75             3.0  5.493911e+06  {'$date': '1992-01-01T00:00:00Z'}   \n",
       "88             1.0  4.125000e+04  {'$date': '2014-01-01T00:00:00Z'}   \n",
       "...            ...           ...                                ...   \n",
       "1312185        3.0  4.921780e+06  {'$date': '2013-12-10T00:00:00Z'}   \n",
       "1312192        1.0  3.942207e+04                                NaN   \n",
       "1312218        2.0  3.000000e+06  {'$date': '1990-11-07T00:00:00Z'}   \n",
       "1312260        1.0  3.000000e+06  {'$date': '2016-01-01T00:00:00Z'}   \n",
       "1312262        1.0  6.500000e+04  {'$date': '2015-06-11T00:00:00Z'}   \n",
       "\n",
       "                                                      tags  \\\n",
       "13       [E-Commerce, Information Services, Marketing, ...   \n",
       "42              [Banking, Financial Services, Mobile Apps]   \n",
       "67                                  [Enterprise, Software]   \n",
       "75          [Customer Service, Meeting Software, Software]   \n",
       "88       [Information Technology, Mobile Apps, Video Ga...   \n",
       "...                                                    ...   \n",
       "1312185     [Enterprise, Fashion, Supply Chain Management]   \n",
       "1312192                                           [Travel]   \n",
       "1312218                [Advertising, Marketing Automation]   \n",
       "1312260                       [E-Commerce, SaaS, Software]   \n",
       "1312262      [Apps, Information Technology, Point of Sale]   \n",
       "\n",
       "                                                    rounds             country  \n",
       "13       [{'name': 'Convertible Note - 00K E-Commerce T...              Brazil  \n",
       "42       [{'name': 'Seed Round - 01 Paynents And Busine...              Brazil  \n",
       "67       [{'name': 'Venture Round - 004', 'link': '004-...             Germany  \n",
       "75       [{'name': 'Post-IPO Equity - 01 Communique', '...              Canada  \n",
       "88       [{'name': 'Seed Round - 01Games Technology', '...           Hong Kong  \n",
       "...                                                    ...                 ...  \n",
       "1312185  [{'name': 'Series B - ZZL.AI', 'link': 'zzl-ai...               China  \n",
       "1312192  [{'name': 'Seed Round - Сhabooka', 'link': 'ch...  Russian Federation  \n",
       "1312218  [{'name': 'Convertible Note - حسن مهجر', 'link...       United States  \n",
       "1312260  [{'name': 'Series A - 客湖KEHU', 'link': 'madefo...               China  \n",
       "1312262  [{'name': 'Angel Round - 停車大聲公 PKLOT Inc', 'li...              Taiwan  \n",
       "\n",
       "[183039 rows x 6 columns]"
      ]
     },
     "execution_count": 60,
     "metadata": {},
     "output_type": "execute_result"
    }
   ],
   "source": [
    "crunch_v2"
   ]
  },
  {
   "cell_type": "code",
   "execution_count": 61,
   "id": "9097cb6a",
   "metadata": {},
   "outputs": [
    {
     "data": {
      "text/plain": [
       "'2012-03-01T00:00:00Z'"
      ]
     },
     "execution_count": 61,
     "metadata": {},
     "output_type": "execute_result"
    }
   ],
   "source": [
    "crunch_v2['created_at'][13]['$date']"
   ]
  },
  {
   "cell_type": "code",
   "execution_count": 62,
   "id": "70784527",
   "metadata": {
    "scrolled": true
   },
   "outputs": [
    {
     "data": {
      "text/html": [
       "<div>\n",
       "<style scoped>\n",
       "    .dataframe tbody tr th:only-of-type {\n",
       "        vertical-align: middle;\n",
       "    }\n",
       "\n",
       "    .dataframe tbody tr th {\n",
       "        vertical-align: top;\n",
       "    }\n",
       "\n",
       "    .dataframe thead th {\n",
       "        text-align: right;\n",
       "    }\n",
       "</style>\n",
       "<table border=\"1\" class=\"dataframe\">\n",
       "  <thead>\n",
       "    <tr style=\"text-align: right;\">\n",
       "      <th></th>\n",
       "      <th>nb_rounds</th>\n",
       "      <th>total</th>\n",
       "      <th>created_at</th>\n",
       "      <th>tags</th>\n",
       "      <th>rounds</th>\n",
       "      <th>country</th>\n",
       "    </tr>\n",
       "  </thead>\n",
       "  <tbody>\n",
       "    <tr>\n",
       "      <th>13</th>\n",
       "      <td>1.0</td>\n",
       "      <td>NaN</td>\n",
       "      <td>{'$date': '2012-03-01T00:00:00Z'}</td>\n",
       "      <td>[E-Commerce, Information Services, Marketing, ...</td>\n",
       "      <td>[{'name': 'Convertible Note - 00K E-Commerce T...</td>\n",
       "      <td>Brazil</td>\n",
       "    </tr>\n",
       "    <tr>\n",
       "      <th>42</th>\n",
       "      <td>2.0</td>\n",
       "      <td>NaN</td>\n",
       "      <td>{'$date': '2020-04-01T00:00:00Z'}</td>\n",
       "      <td>[Banking, Financial Services, Mobile Apps]</td>\n",
       "      <td>[{'name': 'Seed Round - 01 Paynents And Busine...</td>\n",
       "      <td>Brazil</td>\n",
       "    </tr>\n",
       "    <tr>\n",
       "      <th>67</th>\n",
       "      <td>1.0</td>\n",
       "      <td>NaN</td>\n",
       "      <td>{'$date': '2003-01-01T00:00:00Z'}</td>\n",
       "      <td>[Enterprise, Software]</td>\n",
       "      <td>[{'name': 'Venture Round - 004', 'link': '004-...</td>\n",
       "      <td>Germany</td>\n",
       "    </tr>\n",
       "    <tr>\n",
       "      <th>75</th>\n",
       "      <td>3.0</td>\n",
       "      <td>5.493911e+06</td>\n",
       "      <td>{'$date': '1992-01-01T00:00:00Z'}</td>\n",
       "      <td>[Customer Service, Meeting Software, Software]</td>\n",
       "      <td>[{'name': 'Post-IPO Equity - 01 Communique', '...</td>\n",
       "      <td>Canada</td>\n",
       "    </tr>\n",
       "    <tr>\n",
       "      <th>88</th>\n",
       "      <td>1.0</td>\n",
       "      <td>4.125000e+04</td>\n",
       "      <td>{'$date': '2014-01-01T00:00:00Z'}</td>\n",
       "      <td>[Information Technology, Mobile Apps, Video Ga...</td>\n",
       "      <td>[{'name': 'Seed Round - 01Games Technology', '...</td>\n",
       "      <td>Hong Kong</td>\n",
       "    </tr>\n",
       "    <tr>\n",
       "      <th>...</th>\n",
       "      <td>...</td>\n",
       "      <td>...</td>\n",
       "      <td>...</td>\n",
       "      <td>...</td>\n",
       "      <td>...</td>\n",
       "      <td>...</td>\n",
       "    </tr>\n",
       "    <tr>\n",
       "      <th>1312185</th>\n",
       "      <td>3.0</td>\n",
       "      <td>4.921780e+06</td>\n",
       "      <td>{'$date': '2013-12-10T00:00:00Z'}</td>\n",
       "      <td>[Enterprise, Fashion, Supply Chain Management]</td>\n",
       "      <td>[{'name': 'Series B - ZZL.AI', 'link': 'zzl-ai...</td>\n",
       "      <td>China</td>\n",
       "    </tr>\n",
       "    <tr>\n",
       "      <th>1312192</th>\n",
       "      <td>1.0</td>\n",
       "      <td>3.942207e+04</td>\n",
       "      <td>NaN</td>\n",
       "      <td>[Travel]</td>\n",
       "      <td>[{'name': 'Seed Round - Сhabooka', 'link': 'ch...</td>\n",
       "      <td>Russian Federation</td>\n",
       "    </tr>\n",
       "    <tr>\n",
       "      <th>1312218</th>\n",
       "      <td>2.0</td>\n",
       "      <td>3.000000e+06</td>\n",
       "      <td>{'$date': '1990-11-07T00:00:00Z'}</td>\n",
       "      <td>[Advertising, Marketing Automation]</td>\n",
       "      <td>[{'name': 'Convertible Note - حسن مهجر', 'link...</td>\n",
       "      <td>United States</td>\n",
       "    </tr>\n",
       "    <tr>\n",
       "      <th>1312260</th>\n",
       "      <td>1.0</td>\n",
       "      <td>3.000000e+06</td>\n",
       "      <td>{'$date': '2016-01-01T00:00:00Z'}</td>\n",
       "      <td>[E-Commerce, SaaS, Software]</td>\n",
       "      <td>[{'name': 'Series A - 客湖KEHU', 'link': 'madefo...</td>\n",
       "      <td>China</td>\n",
       "    </tr>\n",
       "    <tr>\n",
       "      <th>1312262</th>\n",
       "      <td>1.0</td>\n",
       "      <td>6.500000e+04</td>\n",
       "      <td>{'$date': '2015-06-11T00:00:00Z'}</td>\n",
       "      <td>[Apps, Information Technology, Point of Sale]</td>\n",
       "      <td>[{'name': 'Angel Round - 停車大聲公 PKLOT Inc', 'li...</td>\n",
       "      <td>Taiwan</td>\n",
       "    </tr>\n",
       "  </tbody>\n",
       "</table>\n",
       "<p>183039 rows × 6 columns</p>\n",
       "</div>"
      ],
      "text/plain": [
       "         nb_rounds         total                         created_at  \\\n",
       "13             1.0           NaN  {'$date': '2012-03-01T00:00:00Z'}   \n",
       "42             2.0           NaN  {'$date': '2020-04-01T00:00:00Z'}   \n",
       "67             1.0           NaN  {'$date': '2003-01-01T00:00:00Z'}   \n",
       "75             3.0  5.493911e+06  {'$date': '1992-01-01T00:00:00Z'}   \n",
       "88             1.0  4.125000e+04  {'$date': '2014-01-01T00:00:00Z'}   \n",
       "...            ...           ...                                ...   \n",
       "1312185        3.0  4.921780e+06  {'$date': '2013-12-10T00:00:00Z'}   \n",
       "1312192        1.0  3.942207e+04                                NaN   \n",
       "1312218        2.0  3.000000e+06  {'$date': '1990-11-07T00:00:00Z'}   \n",
       "1312260        1.0  3.000000e+06  {'$date': '2016-01-01T00:00:00Z'}   \n",
       "1312262        1.0  6.500000e+04  {'$date': '2015-06-11T00:00:00Z'}   \n",
       "\n",
       "                                                      tags  \\\n",
       "13       [E-Commerce, Information Services, Marketing, ...   \n",
       "42              [Banking, Financial Services, Mobile Apps]   \n",
       "67                                  [Enterprise, Software]   \n",
       "75          [Customer Service, Meeting Software, Software]   \n",
       "88       [Information Technology, Mobile Apps, Video Ga...   \n",
       "...                                                    ...   \n",
       "1312185     [Enterprise, Fashion, Supply Chain Management]   \n",
       "1312192                                           [Travel]   \n",
       "1312218                [Advertising, Marketing Automation]   \n",
       "1312260                       [E-Commerce, SaaS, Software]   \n",
       "1312262      [Apps, Information Technology, Point of Sale]   \n",
       "\n",
       "                                                    rounds             country  \n",
       "13       [{'name': 'Convertible Note - 00K E-Commerce T...              Brazil  \n",
       "42       [{'name': 'Seed Round - 01 Paynents And Busine...              Brazil  \n",
       "67       [{'name': 'Venture Round - 004', 'link': '004-...             Germany  \n",
       "75       [{'name': 'Post-IPO Equity - 01 Communique', '...              Canada  \n",
       "88       [{'name': 'Seed Round - 01Games Technology', '...           Hong Kong  \n",
       "...                                                    ...                 ...  \n",
       "1312185  [{'name': 'Series B - ZZL.AI', 'link': 'zzl-ai...               China  \n",
       "1312192  [{'name': 'Seed Round - Сhabooka', 'link': 'ch...  Russian Federation  \n",
       "1312218  [{'name': 'Convertible Note - حسن مهجر', 'link...       United States  \n",
       "1312260  [{'name': 'Series A - 客湖KEHU', 'link': 'madefo...               China  \n",
       "1312262  [{'name': 'Angel Round - 停車大聲公 PKLOT Inc', 'li...              Taiwan  \n",
       "\n",
       "[183039 rows x 6 columns]"
      ]
     },
     "execution_count": 62,
     "metadata": {},
     "output_type": "execute_result"
    }
   ],
   "source": [
    "crunch_v2"
   ]
  },
  {
   "cell_type": "code",
   "execution_count": 63,
   "id": "e1ef3df8",
   "metadata": {},
   "outputs": [
    {
     "data": {
      "text/plain": [
       "False    178063\n",
       "True       4976\n",
       "Name: created_at, dtype: int64"
      ]
     },
     "execution_count": 63,
     "metadata": {},
     "output_type": "execute_result"
    }
   ],
   "source": [
    "crunch_v2['created_at'].isna().value_counts()"
   ]
  },
  {
   "cell_type": "markdown",
   "id": "0bdc6d54",
   "metadata": {},
   "source": [
    "### WE WILL CLEAN created_at columns and remove all nan's"
   ]
  },
  {
   "cell_type": "code",
   "execution_count": 64,
   "id": "41c449fd",
   "metadata": {},
   "outputs": [],
   "source": [
    "crunch_v2 = crunch_v2[crunch_v2['created_at'].notna()]"
   ]
  },
  {
   "cell_type": "code",
   "execution_count": 65,
   "id": "233855f6",
   "metadata": {},
   "outputs": [
    {
     "name": "stderr",
     "output_type": "stream",
     "text": [
      "/var/folders/fg/0mh3ddwn6ls4kf4146hxrxb00000gn/T/ipykernel_6910/797464646.py:1: SettingWithCopyWarning: \n",
      "A value is trying to be set on a copy of a slice from a DataFrame.\n",
      "Try using .loc[row_indexer,col_indexer] = value instead\n",
      "\n",
      "See the caveats in the documentation: https://pandas.pydata.org/pandas-docs/stable/user_guide/indexing.html#returning-a-view-versus-a-copy\n",
      "  crunch_v2['Creation Date'] =crunch_v2['created_at'].apply(lambda x: x['$date'])\n"
     ]
    }
   ],
   "source": [
    "crunch_v2['Creation Date'] =crunch_v2['created_at'].apply(lambda x: x['$date'])"
   ]
  },
  {
   "cell_type": "code",
   "execution_count": 66,
   "id": "14a671ed",
   "metadata": {},
   "outputs": [],
   "source": [
    "crunch_v2 = crunch_v2.drop(columns=['created_at'])"
   ]
  },
  {
   "cell_type": "code",
   "execution_count": 67,
   "id": "2e769ad8",
   "metadata": {},
   "outputs": [
    {
     "data": {
      "text/plain": [
       "False    178063\n",
       "Name: tags, dtype: int64"
      ]
     },
     "execution_count": 67,
     "metadata": {},
     "output_type": "execute_result"
    }
   ],
   "source": [
    "crunch_v2['tags'].isna().value_counts()"
   ]
  },
  {
   "cell_type": "code",
   "execution_count": 200,
   "id": "b5eab406",
   "metadata": {},
   "outputs": [
    {
     "data": {
      "text/plain": [
       "'1996'"
      ]
     },
     "execution_count": 200,
     "metadata": {},
     "output_type": "execute_result"
    }
   ],
   "source": [
    "crunch_v2['rounds'][75][2]['created_at']['$date'][:4]"
   ]
  },
  {
   "cell_type": "markdown",
   "id": "b974b682",
   "metadata": {},
   "source": [
    "## CLEAN ROUNDS EXTRACT raised, type, and date"
   ]
  },
  {
   "cell_type": "code",
   "execution_count": 180,
   "id": "4127ef72",
   "metadata": {},
   "outputs": [],
   "source": [
    "def clean_rounds(x):\n",
    "    tmp = {'raised': [], 'type': [], 'date_round': []}\n",
    "    for ele in reversed(x):\n",
    "        tmp['raised'].append(ele['raised'])\n",
    "        tmp['type'].append(ele['type'])\n",
    "        tmp['date_round'].append(ele['created_at']['$date'])\n",
    "    \n",
    "    return tmp"
   ]
  },
  {
   "cell_type": "code",
   "execution_count": 185,
   "id": "7f78288e",
   "metadata": {},
   "outputs": [],
   "source": [
    "crunch_v2['rounds_cleaned']=crunch_v2['rounds'].apply(clean_rounds)"
   ]
  },
  {
   "cell_type": "code",
   "execution_count": 194,
   "id": "407a5587",
   "metadata": {},
   "outputs": [
    {
     "data": {
      "text/plain": [
       "{'raised': [None, 3493911.4794740295, 2000000],\n",
       " 'type': ['series_unknown', 'post_ipo_equity', 'post_ipo_equity'],\n",
       " 'date_round': ['1996-01-01T00:00:00Z',\n",
       "  '2012-08-16T00:00:00Z',\n",
       "  '2018-07-24T00:00:00Z']}"
      ]
     },
     "execution_count": 194,
     "metadata": {},
     "output_type": "execute_result"
    }
   ],
   "source": [
    "crunch_v2['rounds_cleaned'][75]"
   ]
  },
  {
   "cell_type": "code",
   "execution_count": 202,
   "id": "54613f28",
   "metadata": {},
   "outputs": [
    {
     "data": {
      "text/html": [
       "<div>\n",
       "<style scoped>\n",
       "    .dataframe tbody tr th:only-of-type {\n",
       "        vertical-align: middle;\n",
       "    }\n",
       "\n",
       "    .dataframe tbody tr th {\n",
       "        vertical-align: top;\n",
       "    }\n",
       "\n",
       "    .dataframe thead th {\n",
       "        text-align: right;\n",
       "    }\n",
       "</style>\n",
       "<table border=\"1\" class=\"dataframe\">\n",
       "  <thead>\n",
       "    <tr style=\"text-align: right;\">\n",
       "      <th></th>\n",
       "      <th>nb_rounds</th>\n",
       "      <th>total</th>\n",
       "      <th>tags</th>\n",
       "      <th>rounds</th>\n",
       "      <th>country</th>\n",
       "      <th>Creation Date</th>\n",
       "      <th>rounds_cleaned</th>\n",
       "    </tr>\n",
       "  </thead>\n",
       "  <tbody>\n",
       "    <tr>\n",
       "      <th>13</th>\n",
       "      <td>1.0</td>\n",
       "      <td>NaN</td>\n",
       "      <td>[E-Commerce, Information Services, Marketing, ...</td>\n",
       "      <td>[{'name': 'Convertible Note - 00K E-Commerce T...</td>\n",
       "      <td>Brazil</td>\n",
       "      <td>2012-03-01T00:00:00Z</td>\n",
       "      <td>{'raised': [None], 'type': ['convertible_note'...</td>\n",
       "    </tr>\n",
       "    <tr>\n",
       "      <th>42</th>\n",
       "      <td>2.0</td>\n",
       "      <td>NaN</td>\n",
       "      <td>[Banking, Financial Services, Mobile Apps]</td>\n",
       "      <td>[{'name': 'Seed Round - 01 Paynents And Busine...</td>\n",
       "      <td>Brazil</td>\n",
       "      <td>2020-04-01T00:00:00Z</td>\n",
       "      <td>{'raised': [None, None], 'type': ['pre_seed', ...</td>\n",
       "    </tr>\n",
       "    <tr>\n",
       "      <th>67</th>\n",
       "      <td>1.0</td>\n",
       "      <td>NaN</td>\n",
       "      <td>[Enterprise, Software]</td>\n",
       "      <td>[{'name': 'Venture Round - 004', 'link': '004-...</td>\n",
       "      <td>Germany</td>\n",
       "      <td>2003-01-01T00:00:00Z</td>\n",
       "      <td>{'raised': [None], 'type': ['series_unknown'],...</td>\n",
       "    </tr>\n",
       "    <tr>\n",
       "      <th>75</th>\n",
       "      <td>3.0</td>\n",
       "      <td>5.493911e+06</td>\n",
       "      <td>[Customer Service, Meeting Software, Software]</td>\n",
       "      <td>[{'name': 'Post-IPO Equity - 01 Communique', '...</td>\n",
       "      <td>Canada</td>\n",
       "      <td>1992-01-01T00:00:00Z</td>\n",
       "      <td>{'raised': [None, 3493911.4794740295, 2000000]...</td>\n",
       "    </tr>\n",
       "    <tr>\n",
       "      <th>88</th>\n",
       "      <td>1.0</td>\n",
       "      <td>4.125000e+04</td>\n",
       "      <td>[Information Technology, Mobile Apps, Video Ga...</td>\n",
       "      <td>[{'name': 'Seed Round - 01Games Technology', '...</td>\n",
       "      <td>Hong Kong</td>\n",
       "      <td>2014-01-01T00:00:00Z</td>\n",
       "      <td>{'raised': [41250], 'type': ['seed'], 'date_ro...</td>\n",
       "    </tr>\n",
       "    <tr>\n",
       "      <th>...</th>\n",
       "      <td>...</td>\n",
       "      <td>...</td>\n",
       "      <td>...</td>\n",
       "      <td>...</td>\n",
       "      <td>...</td>\n",
       "      <td>...</td>\n",
       "      <td>...</td>\n",
       "    </tr>\n",
       "    <tr>\n",
       "      <th>1312184</th>\n",
       "      <td>1.0</td>\n",
       "      <td>4.513954e+05</td>\n",
       "      <td>[3D Printing, Consumer Electronics, Manufactur...</td>\n",
       "      <td>[{'name': 'Venture Round - Zyyx 3D Printer', '...</td>\n",
       "      <td>Sweden</td>\n",
       "      <td>2013-01-01T00:00:00Z</td>\n",
       "      <td>{'raised': [451395.3816158623], 'type': ['seri...</td>\n",
       "    </tr>\n",
       "    <tr>\n",
       "      <th>1312185</th>\n",
       "      <td>3.0</td>\n",
       "      <td>4.921780e+06</td>\n",
       "      <td>[Enterprise, Fashion, Supply Chain Management]</td>\n",
       "      <td>[{'name': 'Series B - ZZL.AI', 'link': 'zzl-ai...</td>\n",
       "      <td>China</td>\n",
       "      <td>2013-12-10T00:00:00Z</td>\n",
       "      <td>{'raised': [483655.4290402519, 1527530.7633239...</td>\n",
       "    </tr>\n",
       "    <tr>\n",
       "      <th>1312218</th>\n",
       "      <td>2.0</td>\n",
       "      <td>3.000000e+06</td>\n",
       "      <td>[Advertising, Marketing Automation]</td>\n",
       "      <td>[{'name': 'Convertible Note - حسن مهجر', 'link...</td>\n",
       "      <td>United States</td>\n",
       "      <td>1990-11-07T00:00:00Z</td>\n",
       "      <td>{'raised': [1000000, 2000000], 'type': ['seed'...</td>\n",
       "    </tr>\n",
       "    <tr>\n",
       "      <th>1312260</th>\n",
       "      <td>1.0</td>\n",
       "      <td>3.000000e+06</td>\n",
       "      <td>[E-Commerce, SaaS, Software]</td>\n",
       "      <td>[{'name': 'Series A - 客湖KEHU', 'link': 'madefo...</td>\n",
       "      <td>China</td>\n",
       "      <td>2016-01-01T00:00:00Z</td>\n",
       "      <td>{'raised': [3000000], 'type': ['series_a'], 'd...</td>\n",
       "    </tr>\n",
       "    <tr>\n",
       "      <th>1312262</th>\n",
       "      <td>1.0</td>\n",
       "      <td>6.500000e+04</td>\n",
       "      <td>[Apps, Information Technology, Point of Sale]</td>\n",
       "      <td>[{'name': 'Angel Round - 停車大聲公 PKLOT Inc', 'li...</td>\n",
       "      <td>Taiwan</td>\n",
       "      <td>2015-06-11T00:00:00Z</td>\n",
       "      <td>{'raised': [65000], 'type': ['angel'], 'date_r...</td>\n",
       "    </tr>\n",
       "  </tbody>\n",
       "</table>\n",
       "<p>178063 rows × 7 columns</p>\n",
       "</div>"
      ],
      "text/plain": [
       "         nb_rounds         total  \\\n",
       "13             1.0           NaN   \n",
       "42             2.0           NaN   \n",
       "67             1.0           NaN   \n",
       "75             3.0  5.493911e+06   \n",
       "88             1.0  4.125000e+04   \n",
       "...            ...           ...   \n",
       "1312184        1.0  4.513954e+05   \n",
       "1312185        3.0  4.921780e+06   \n",
       "1312218        2.0  3.000000e+06   \n",
       "1312260        1.0  3.000000e+06   \n",
       "1312262        1.0  6.500000e+04   \n",
       "\n",
       "                                                      tags  \\\n",
       "13       [E-Commerce, Information Services, Marketing, ...   \n",
       "42              [Banking, Financial Services, Mobile Apps]   \n",
       "67                                  [Enterprise, Software]   \n",
       "75          [Customer Service, Meeting Software, Software]   \n",
       "88       [Information Technology, Mobile Apps, Video Ga...   \n",
       "...                                                    ...   \n",
       "1312184  [3D Printing, Consumer Electronics, Manufactur...   \n",
       "1312185     [Enterprise, Fashion, Supply Chain Management]   \n",
       "1312218                [Advertising, Marketing Automation]   \n",
       "1312260                       [E-Commerce, SaaS, Software]   \n",
       "1312262      [Apps, Information Technology, Point of Sale]   \n",
       "\n",
       "                                                    rounds        country  \\\n",
       "13       [{'name': 'Convertible Note - 00K E-Commerce T...         Brazil   \n",
       "42       [{'name': 'Seed Round - 01 Paynents And Busine...         Brazil   \n",
       "67       [{'name': 'Venture Round - 004', 'link': '004-...        Germany   \n",
       "75       [{'name': 'Post-IPO Equity - 01 Communique', '...         Canada   \n",
       "88       [{'name': 'Seed Round - 01Games Technology', '...      Hong Kong   \n",
       "...                                                    ...            ...   \n",
       "1312184  [{'name': 'Venture Round - Zyyx 3D Printer', '...         Sweden   \n",
       "1312185  [{'name': 'Series B - ZZL.AI', 'link': 'zzl-ai...          China   \n",
       "1312218  [{'name': 'Convertible Note - حسن مهجر', 'link...  United States   \n",
       "1312260  [{'name': 'Series A - 客湖KEHU', 'link': 'madefo...          China   \n",
       "1312262  [{'name': 'Angel Round - 停車大聲公 PKLOT Inc', 'li...         Taiwan   \n",
       "\n",
       "                Creation Date  \\\n",
       "13       2012-03-01T00:00:00Z   \n",
       "42       2020-04-01T00:00:00Z   \n",
       "67       2003-01-01T00:00:00Z   \n",
       "75       1992-01-01T00:00:00Z   \n",
       "88       2014-01-01T00:00:00Z   \n",
       "...                       ...   \n",
       "1312184  2013-01-01T00:00:00Z   \n",
       "1312185  2013-12-10T00:00:00Z   \n",
       "1312218  1990-11-07T00:00:00Z   \n",
       "1312260  2016-01-01T00:00:00Z   \n",
       "1312262  2015-06-11T00:00:00Z   \n",
       "\n",
       "                                            rounds_cleaned  \n",
       "13       {'raised': [None], 'type': ['convertible_note'...  \n",
       "42       {'raised': [None, None], 'type': ['pre_seed', ...  \n",
       "67       {'raised': [None], 'type': ['series_unknown'],...  \n",
       "75       {'raised': [None, 3493911.4794740295, 2000000]...  \n",
       "88       {'raised': [41250], 'type': ['seed'], 'date_ro...  \n",
       "...                                                    ...  \n",
       "1312184  {'raised': [451395.3816158623], 'type': ['seri...  \n",
       "1312185  {'raised': [483655.4290402519, 1527530.7633239...  \n",
       "1312218  {'raised': [1000000, 2000000], 'type': ['seed'...  \n",
       "1312260  {'raised': [3000000], 'type': ['series_a'], 'd...  \n",
       "1312262  {'raised': [65000], 'type': ['angel'], 'date_r...  \n",
       "\n",
       "[178063 rows x 7 columns]"
      ]
     },
     "execution_count": 202,
     "metadata": {},
     "output_type": "execute_result"
    }
   ],
   "source": [
    "crunch_v2"
   ]
  },
  {
   "cell_type": "markdown",
   "id": "3c1a6925",
   "metadata": {},
   "source": [
    "## NOW, CLEANING INDUSTRIES"
   ]
  },
  {
   "cell_type": "code",
   "execution_count": 203,
   "id": "40dcba63",
   "metadata": {},
   "outputs": [],
   "source": [
    "    total_sectors_n_industries = {'Education': ['Secondary Education',\n",
    "  'Children',\n",
    "  'E-Learning',\n",
    "  'Universities',\n",
    "  'Charter Schools',\n",
    "  'Corporate Training',\n",
    "  'Education',\n",
    "  'Tutoring',\n",
    "  'Higher Education',\n",
    "  'Vocational Education',\n",
    "  'Primary Education',\n",
    "  'EdTech',\n",
    "  'Continuing Education',\n",
    "  'STEM Education',\n",
    "  'Textbook',\n",
    "  'EdTech',\n",
    "  'Ediscovery',\n",
    "  'College Recruiting'],\n",
    " 'Business_Products_And_Services': ['Office Administration',\n",
    "  'Social Media Marketing',\n",
    "  'Assisted Living',\n",
    "  'Commercial',\n",
    "  'Price Comparison',\n",
    "  'Local Advertising',\n",
    "  'Social Impact',\n",
    "  'Shipping Broker',\n",
    "  'Charity',\n",
    "  'Call Center',\n",
    "  'Lead Generation',\n",
    "  'Career Planning',\n",
    "  'Enterprise',\n",
    "  'Transaction Processing',\n",
    "  'Information Services',\n",
    "  'Laundry and Dry-cleaning',\n",
    "  'Market Research',\n",
    "  'Brand Marketing',\n",
    "  'Freelance',\n",
    "  'Translation Service',\n",
    "  'Service Industry',\n",
    "  'Local',\n",
    "  'Subscription Service',\n",
    "  'Supply Chain Management',\n",
    "  'Loyalty Programs',\n",
    "  'Contact Management',\n",
    "  'Creative Agency',\n",
    "  'Association',\n",
    "  'Wholesale',\n",
    "  'Franchise',\n",
    "  'Social Media Management',\n",
    "  'Warehousing',\n",
    "  'B2C',\n",
    "  'Coworking',\n",
    "  'CRM',\n",
    "  'Business Travel',\n",
    "  'Management Consulting',\n",
    "  'Direct Sales',\n",
    "  'Small and Medium Businesses',\n",
    "  'Virtual Workforce',\n",
    "  'Facility Management',\n",
    "  'Consulting',\n",
    "  'Email Marketing',\n",
    "  'Marketing',\n",
    "  'Ticketing',\n",
    "  'Reservations',\n",
    "  'Trade Shows',\n",
    "  'Legal',\n",
    "  'Self-Storage',\n",
    "  'Public Relations',\n",
    "  'Customer Service',\n",
    "  'Local Business',\n",
    "  'B2B',\n",
    "  'Non Profit',\n",
    "  'Accounting',\n",
    "  'Outsourcing',\n",
    "  'Alumni',\n",
    "  'Interior Design',\n",
    "  'Business Development',\n",
    "  'Lead Management',\n",
    "  'Advice',\n",
    "  'Procurement',\n",
    "  'Knowledge Management',\n",
    "  'Innovation Management',\n",
    "  'Digital Marketing',\n",
    "  'Intellectual Property',\n",
    "  'Sales',\n",
    "  'Quality Assurance',\n",
    "  'Product Management',\n",
    "  'Billing',\n",
    "  'Professional Services',\n",
    "  'Social Entrepreneurship',\n",
    "  'Product Research',\n",
    "  'Facilities Support Services',\n",
    "  'Collection Agency',\n",
    "  'Risk_And_Security',\n",
    "  'Real_Estate',\n",
    "  'Incubators',\n",
    "  'Commercial Lending',\n",
    "  'Penetration Testing'],\n",
    " 'Software': ['Consumer Software',\n",
    "  'Meeting Software',\n",
    "  'IaaS',\n",
    "  'Product Design',\n",
    "  'Virtualization',\n",
    "  'Industrial Automation',\n",
    "  'Application Specific Integrated Circuit (ASIC)',\n",
    "  'Management Information Systems',\n",
    "  'Document Management',\n",
    "  'Affiliate Marketing',\n",
    "  'Enterprise Applications',\n",
    "  'Web Development',\n",
    "  'Project Management',\n",
    "  'Domain Registrar',\n",
    "  'Console Games',\n",
    "  'Graphic Design',\n",
    "  'CivicTech',\n",
    "  'Desktop Apps',\n",
    "  'PC Games',\n",
    "  'Web Design',\n",
    "  'Email',\n",
    "  'Industrial Design',\n",
    "  'Legal Tech',\n",
    "  'Foundries',\n",
    "  'Direct Marketing',\n",
    "  'Big Data',\n",
    "  '3D Technology',\n",
    "  'Developer APIs',\n",
    "  'Developer Tools',\n",
    "  'CMS',\n",
    "  'Video Editing',\n",
    "  'Information and Communications Technology (ICT)',\n",
    "  'PaaS',\n",
    "  'Web Hosting',\n",
    "  'Business Intelligence',\n",
    "  'Operating Systems',\n",
    "  'Data Center',\n",
    "  'Video Games',\n",
    "  'Embedded Software',\n",
    "  'Application Performance Management',\n",
    "  'Software Engineering',\n",
    "  'Enterprise Resource Planning (ERP)',\n",
    "  'Software',\n",
    "  'Linux',\n",
    "  'MMO Games',\n",
    "  'A/B Testing',\n",
    "  'Cloud Management',\n",
    "  'Task Management',\n",
    "  'Reading Apps',\n",
    "  'UX Design',\n",
    "  'Electronic Design Automation (EDA)',\n",
    "  'Micro Lending',\n",
    "  'Cloud Data Services',\n",
    "  'Marketing Automation',\n",
    "  'Cloud Storage',\n",
    "  'Collaboration',\n",
    "  'Data Mining',\n",
    "  'Data Storage',\n",
    "  'Information Technology',\n",
    "  'Photo Editing',\n",
    "  'Flash Storage',\n",
    "  'Online Games',\n",
    "  'File Sharing',\n",
    "  'Presentation Software',\n",
    "  'Cloud Infrastructure',\n",
    "  'Database',\n",
    "  'SaaS',\n",
    "  'Data Center Automation',\n",
    "  'Scheduling',\n",
    "  'Sales Automation',\n",
    "  'Cloud Security',\n",
    "  'Developer Platform',\n",
    "  'Industrial Engineering',\n",
    "  'Cloud Computing',\n",
    "  'Enterprise Software',\n",
    "  'Archiving Service',\n",
    "  'Business Information Systems',\n",
    "  'Data Visualization',\n",
    "  'Data Integration',\n",
    "  'E-Signature',\n",
    "  'E-Commerce Platforms',\n",
    "  'Open Source',\n",
    "  'Serious Games',\n",
    "  'Productivity Tools',\n",
    "  'Usability Testing',\n",
    "  'Vertical Search',\n",
    "  'Analytics',\n",
    "  'IT Management',\n",
    "  'Embedded Systems',\n",
    "  'App Discovery',\n",
    "  'Computer_Hardware_And_Services',\n",
    "  'DSP',\n",
    "  'Twitter',\n",
    "  'Architecture',\n",
    "  'Drone Management',\n",
    "  'Industrial',\n",
    "  '3D Printing',\n",
    "  'WebOS',\n",
    "  'DRM',\n",
    "  'GPU',\n",
    "  'Spam Filtering',\n",
    "  'Content Syndication'],\n",
    " 'Media_Traditional': ['Presentations',\n",
    "  'News',\n",
    "  'Photography',\n",
    "  'Ad Network',\n",
    "  'Radio',\n",
    "  'Internet Radio',\n",
    "  'Journalism',\n",
    "  'Podcast',\n",
    "  'Ad Server',\n",
    "  'Celebrity',\n",
    "  'EBooks',\n",
    "  'Music Education',\n",
    "  'Comics',\n",
    "  'Outdoor Advertising',\n",
    "  'Ad Exchange',\n",
    "  'Art',\n",
    "  'Ad Retargeting',\n",
    "  'Ad Targeting',\n",
    "  'Digital Entertainment',\n",
    "  'TV Production',\n",
    "  'Advertising',\n",
    "  'Animation',\n",
    "  'Independent Music',\n",
    "  'Broadcasting',\n",
    "  'Blogging Platforms',\n",
    "  'Music Venues',\n",
    "  'Advertising Platforms',\n",
    "  'TV',\n",
    "  'Music',\n",
    "  'Music Streaming',\n",
    "  'Publishing',\n",
    "  'Fantasy Sports',\n",
    "  'Politics',\n",
    "  'Film',\n",
    "  'Concerts',\n",
    "  'Film Distribution',\n",
    "  'Guides',\n",
    "  'Film Production',\n",
    "  'Media and Entertainment',\n",
    "  'Digital Media',\n",
    "  'Music Label',\n",
    "  'Performing Arts',\n",
    "  'Television',\n",
    "  'Audiobooks',\n",
    "  'Advertising',\n",
    "  'Newspapers',\n",
    "  'Television'],\n",
    " 'Agriculture': ['Fruit',\n",
    "  'Farmers Market',\n",
    "  'Agriculture',\n",
    "  'Animal Feed',\n",
    "  'Aquaculture',\n",
    "  'Timber',\n",
    "  'AgTech',\n",
    "  'Livestock',\n",
    "  'Mining Technology',\n",
    "  'Hydroponics',\n",
    "  'Forestry',\n",
    "  'Farming',\n",
    "  'Cannabis',\n",
    "  'Horticulture',\n",
    "  'Mining',\n",
    "  'Organic',\n",
    "  'farming'],\n",
    " 'Transportation': ['Car Sharing',\n",
    "  'Logistics',\n",
    "  'Sailing',\n",
    "  'Air Transportation',\n",
    "  'Shipping',\n",
    "  'Diving',\n",
    "  'Space Travel',\n",
    "  'Water Transportation',\n",
    "  'Parking',\n",
    "  'Ride Sharing',\n",
    "  'Travel',\n",
    "  'Delivery',\n",
    "  'Delivery Service',\n",
    "  'Marine Transportation',\n",
    "  'Autonomous Vehicles',\n",
    "  'Taxi Service',\n",
    "  'Fleet Management',\n",
    "  'Automotive',\n",
    "  'Same Day Delivery',\n",
    "  'Last Mile Transportation',\n",
    "  'Travel Agency',\n",
    "  'In-Flight Entertainment',\n",
    "  'Public Transportation',\n",
    "  'Adventure Travel',\n",
    "  'Tour Operator',\n",
    "  'Electric Vehicle',\n",
    "  'Transportation',\n",
    "  'Railroad',\n",
    "  'Courier Service',\n",
    "  'Freight Service',\n",
    "  'Recreational Vehicles',\n",
    "  'Ports and Harbors',\n",
    "  'Vending and Concessions',\n",
    "  'Limousine Service',\n",
    "  'Ferry Service'],\n",
    " 'Healthcare': ['Veterinary',\n",
    "  'Electronic Health Record (EHR)',\n",
    "  'Pharmaceutical',\n",
    "  'Genetics',\n",
    "  'Neuroscience',\n",
    "  'Biotechnology',\n",
    "  'Quantified Self',\n",
    "  'Elderly',\n",
    "  'Physical Therapy',\n",
    "  'Health',\n",
    "  'Health Care',\n",
    "  'Biopharma',\n",
    "  'Child Care',\n",
    "  'Social Assistance',\n",
    "  'Life Science',\n",
    "  'Medical',\n",
    "  'Clinical Trials',\n",
    "  'Bioinformatics',\n",
    "  'Hospital',\n",
    "  'Rehabilitation',\n",
    "  'Wellness',\n",
    "  'Alternative Medicine',\n",
    "  'Health Diagnostics',\n",
    "  'Elder Care',\n",
    "  'Medical Professionals',\n",
    "  'Psychology',\n",
    "  'Mental Health',\n",
    "  'Hotel',\n",
    "  'Emergency Medicine',\n",
    "  'Fitness',\n",
    "  'Home Health Care',\n",
    "  'Dental',\n",
    "  'Hospitality',\n",
    "  'Personal Health',\n",
    "  'Cosmetic Surgery',\n",
    "  'Medical Device',\n",
    "  'Therapeutics',\n",
    "  'Funerals',\n",
    "  'Assistive Technology',\n",
    "  'Nursing and Residential Care',\n",
    "  'Diabetes',\n",
    "  'First Aid',\n",
    "  'mHealth',\n",
    "  'Outpatient Care'],\n",
    " 'Mobile_And_Telecommunications': ['App Marketing',\n",
    "  'Mobile Devices',\n",
    "  'iOS',\n",
    "  'QR Codes',\n",
    "  'Location Based Services',\n",
    "  'Mobile Apps',\n",
    "  'Apps',\n",
    "  'Messaging',\n",
    "  'VoIP',\n",
    "  'Satellite Communication',\n",
    "  'Android',\n",
    "  'Telecommunications',\n",
    "  'GPS',\n",
    "  'Wireless',\n",
    "  'Communication Hardware',\n",
    "  'Communications Infrastructure',\n",
    "  'Mobile',\n",
    "  'Mobile Advertising',\n",
    "  'Augmented Reality',\n",
    "  'Video Conferencing',\n",
    "  'Unified Communications',\n",
    "  'NFC',\n",
    "  'SMS',\n",
    "  'Mobile Payments',\n",
    "  'Wired Telecommunications',\n",
    "  'Windows Phone'],\n",
    " 'Financial': ['Asset Management',\n",
    "  'Insurance',\n",
    "  'Mobile Payments',\n",
    "  'Retirement',\n",
    "  'Funding Platform',\n",
    "  'InsurTech',\n",
    "  'Credit Cards',\n",
    "  'Credit',\n",
    "  'Consumer Research',\n",
    "  'Financial Exchanges',\n",
    "  'Angel Investment',\n",
    "  'Risk Management',\n",
    "  'Impact Investing',\n",
    "  'Trading Platform',\n",
    "  'Crowdfunding',\n",
    "  'Health Insurance',\n",
    "  'Emerging Markets',\n",
    "  'Venture Capital',\n",
    "  'Investment Management',\n",
    "  'Bitcoin',\n",
    "  'Debt Collections',\n",
    "  'FinTech',\n",
    "  'Consumer Lending',\n",
    "  'Banking',\n",
    "  'Debit Cards',\n",
    "  'Life Insurance',\n",
    "  'Hedge Funds',\n",
    "  'Personal Finance',\n",
    "  'Prediction Markets',\n",
    "  'Lending',\n",
    "  'Financial Services',\n",
    "  'Leasing',\n",
    "  'Ethereum',\n",
    "  'Cryptocurrency',\n",
    "  'Commercial Insurance',\n",
    "  'Payments',\n",
    "  'Blockchain',\n",
    "  'Property Insurance',\n",
    "  'Finance',\n",
    "  'Auto Insurance',\n",
    "  'Wealth Management',\n",
    "  'Real Estate Investment',\n",
    "  'Virtual Currency',\n",
    "  'Freemium',\n",
    "  'Stock Exchanges',\n",
    "  'Credit Bureau',\n",
    "  'Multi-level Marketing'],\n",
    " 'Artificial_Intelligence': ['Text Analytics',\n",
    "  'Smart Building',\n",
    "  'Machine Learning',\n",
    "  'Motion Capture',\n",
    "  'Language Learning',\n",
    "  'Quantum Computing',\n",
    "  'Gamification',\n",
    "  'Predictive Analytics',\n",
    "  'Simulation',\n",
    "  'Artificial Intelligence',\n",
    "  'Speech Recognition',\n",
    "  'Robotics',\n",
    "  'Semantic Search',\n",
    "  'Virtual Assistant',\n",
    "  'Human Computer Interaction',\n",
    "  'Natural Language Processing',\n",
    "  'MOOC',\n",
    "  'Virtual Reality',\n",
    "  'Smart Cities',\n",
    "  'Computer Vision',\n",
    "  'Facial Recognition',\n",
    "  'Personalization',\n",
    "  'Smart Home',\n",
    "  'Semantic Web',\n",
    "  'Visual Search',\n",
    "  'Real Time',\n",
    "  'Image Recognition',\n",
    "  'Intelligent Systems',\n",
    "  'chatbots'],\n",
    " 'Retail_NonInternetMobile': ['Toys',\n",
    "  'Fast-Moving Consumer Goods',\n",
    "  'Coupons',\n",
    "  'Classifieds',\n",
    "  'Jewelry',\n",
    "  'Musical Instruments',\n",
    "  'Beauty',\n",
    "  'Social Shopping',\n",
    "  'E-Commerce',\n",
    "  'DIY',\n",
    "  'Cosmetics',\n",
    "  'Gift Card',\n",
    "  'Sporting Goods',\n",
    "  \"Men's\",\n",
    "  'Consumer Goods',\n",
    "  'Collectibles',\n",
    "  'Gift Exchange',\n",
    "  'Lingerie',\n",
    "  'Collaborative Consumption',\n",
    "  'Flowers',\n",
    "  'Eyewear',\n",
    "  'Consumer',\n",
    "  'Shoes',\n",
    "  'Auctions',\n",
    "  'Fashion',\n",
    "  'Rental',\n",
    "  'Local Shopping',\n",
    "  'Shopping',\n",
    "  \"Women's\",\n",
    "  'Gift',\n",
    "  'Retail',\n",
    "  'Gift Registry'],\n",
    " 'Electronics': ['Advanced Materials',\n",
    "  'Laser',\n",
    "  'Industrial Design',\n",
    "  'Foundries',\n",
    "  'Sensor',\n",
    "  'RFID',\n",
    "  'Industrial Engineering',\n",
    "  'Wearables',\n",
    "  'Micro Lending',\n",
    "  'Audio',\n",
    "  'Product Design',\n",
    "  'Industrial Automation',\n",
    "  'Industrial Manufacturing',\n",
    "  'Application Specific Integrated Circuit (ASIC)',\n",
    "  'Mechanical Design',\n",
    "  'Test and Measurement',\n",
    "  'Consumer Research',\n",
    "  'Electronics',\n",
    "  'Semiconductor',\n",
    "  'Mechanical Engineering',\n",
    "  'Communication Hardware',\n",
    "  'Consumer Electronics',\n",
    "  'Optical Communication',\n",
    "  'Digital Signage',\n",
    "  'Lighting',\n",
    "  'Google Glass'],\n",
    " 'Food_And_Beverages': ['Recipes',\n",
    "  'Tea',\n",
    "  'Coffee',\n",
    "  'Biofuel',\n",
    "  'Boating',\n",
    "  'Grocery',\n",
    "  'Nutrition',\n",
    "  'Baby',\n",
    "  'Dietary Supplements',\n",
    "  'Farming',\n",
    "  'Winery',\n",
    "  'Organic Food',\n",
    "  'Pet',\n",
    "  'Seafood',\n",
    "  'Snack Food',\n",
    "  'Nutraceutical',\n",
    "  'Distillery',\n",
    "  'Food Processing',\n",
    "  'Wine And Spirits',\n",
    "  'Confectionery',\n",
    "  'Craft Beer',\n",
    "  'Bakery',\n",
    "  'Catering',\n",
    "  'Restaurants',\n",
    "  'Cooking',\n",
    "  'Food and Beverage',\n",
    "  'Brewing',\n",
    "  'Food Delivery',\n",
    "  'Food Trucks'],\n",
    " 'Energy_And_Utilities': ['Wind Energy',\n",
    "  'Fuel Cell',\n",
    "  'Energy Efficiency',\n",
    "  'Fuel',\n",
    "  'Energy',\n",
    "  'Battery',\n",
    "  'Biomass Energy',\n",
    "  'Natural Resources',\n",
    "  'Fossil Fuels',\n",
    "  'Electrical Distribution',\n",
    "  'Infrastructure',\n",
    "  'Energy Storage',\n",
    "  'Solar',\n",
    "  'Utilities',\n",
    "  'Energy Management',\n",
    "  'Clean Energy',\n",
    "  'CleanTech',\n",
    "  'Oil and Gas',\n",
    "  'Renewable Energy',\n",
    "  'Water',\n",
    "  'Nuclear',\n",
    "  'Power Grid',\n",
    "  'Solar',\n",
    "  'Wind Energy'],\n",
    " 'Risk_And_Security': ['Commercial Insurance',\n",
    "  'Biometrics',\n",
    "  'Military',\n",
    "  'Law Enforcement',\n",
    "  'National Security',\n",
    "  'Identity Management',\n",
    "  'Intrusion Detection',\n",
    "  'Public Safety',\n",
    "  'Physical Security',\n",
    "  'Homeland Security',\n",
    "  'Privacy',\n",
    "  'Reputation',\n",
    "  'Compliance',\n",
    "  'Network Security',\n",
    "  'Security',\n",
    "  'Cyber Security',\n",
    "  'Fraud Detection',\n",
    "  'Underserved Children',\n",
    "  'Darknet',\n",
    "  'Humanitarian'],\n",
    " 'Computer_Hardware_And_Services': ['Office Administration',\n",
    "  'Building Material',\n",
    "  'Building Maintenance',\n",
    "  'Industrial Design',\n",
    "  'Foundries',\n",
    "  'Windows',\n",
    "  'Industrial Engineering',\n",
    "  'IT Infrastructure',\n",
    "  'Industrial Automation',\n",
    "  'Retail Technology',\n",
    "  'Application Specific Integrated Circuit (ASIC)',\n",
    "  'Computer',\n",
    "  'Computer Hardware',\n",
    "  'Technical Support',\n",
    "  'Private Cloud',\n",
    "  'Network Hardware',\n",
    "  'Hardware',\n",
    "  'Point of Sale',\n",
    "  'CAD',\n",
    "  'Test and Measurement',\n",
    "  'Field-Programmable Gate Array (FPGA)',\n",
    "  'Nanotechnology'],\n",
    " 'Real_Estate': ['Rental Property',\n",
    "  'Property Management',\n",
    "  'Housekeeping Service',\n",
    "  'Homeless Shelter',\n",
    "  'Property Development',\n",
    "  'Residential',\n",
    "  'Vacation Rental',\n",
    "  'Home and Garden',\n",
    "  'Home Services',\n",
    "  'Hotel',\n",
    "  'Home Improvement',\n",
    "  'Resorts',\n",
    "  'Timeshare',\n",
    "  'Travel Accommodations',\n",
    "  'Hospitality',\n",
    "  'Real Estate',\n",
    "  'Home Decor',\n",
    "  'Home Renovation',\n",
    "  'Commercial Real Estate',\n",
    "  'Vacation Rentals'],\n",
    " 'Internet': ['Dating',\n",
    "  'Event Management',\n",
    "  'ISP',\n",
    "  'Classifieds',\n",
    "  'Task Management',\n",
    "  'Internet of Things',\n",
    "  'E-Commerce',\n",
    "  'Social Bookmarking',\n",
    "  'Virtual World',\n",
    "  'Browser Extensions',\n",
    "  'Content Creators',\n",
    "  'Content Delivery Network',\n",
    "  'Games',\n",
    "  'Product Design',\n",
    "  'SEM',\n",
    "  'Consumer Reviews',\n",
    "  'Marketplace',\n",
    "  'Social News',\n",
    "  'Video Advertising',\n",
    "  'Video Chat',\n",
    "  'Social Media',\n",
    "  'Content Discovery',\n",
    "  'ICT',\n",
    "  'Online Forums',\n",
    "  'Consumer Applications',\n",
    "  'Affiliate Marketing',\n",
    "  'Casual Games',\n",
    "  'File Sharing',\n",
    "  'Web Apps',\n",
    "  'Drones',\n",
    "  'Mapping Services',\n",
    "  'Crowdfunding',\n",
    "  'Social',\n",
    "  'Content Marketing',\n",
    "  'Curated Web',\n",
    "  'Communities',\n",
    "  'Video',\n",
    "  'Online Portals',\n",
    "  'Blogging Platforms',\n",
    "  'Lead Management',\n",
    "  'Internet',\n",
    "  'Video on Demand',\n",
    "  'Foundries',\n",
    "  'Private Social Networking',\n",
    "  'Fantasy Sports',\n",
    "  'Product Search',\n",
    "  'Sharing Economy',\n",
    "  'Video Streaming',\n",
    "  'Gaming',\n",
    "  'Direct Marketing',\n",
    "  'Content',\n",
    "  'Crowdsourcing',\n",
    "  'Social Network',\n",
    "  'Collectibles',\n",
    "  'Search Engine',\n",
    "  'Online Auctions',\n",
    "  'Peer to Peer',\n",
    "  'CMS',\n",
    "  'Guides',\n",
    "  'Cause Marketing',\n",
    "  'Sponsorship',\n",
    "  'SEO',\n",
    "  'Consumer Internet',\n",
    "  'Video Games',\n",
    "  'Q&A',\n",
    "  'Photo Sharing',\n",
    "  'Handmade',\n",
    "  'Social Media Advertising',\n",
    "  'Web Browsers',\n",
    "  'EdTech',\n",
    "  'Navigation',\n",
    "  'Internet Marketing',\n",
    "  'Blogging Platforms',\n",
    "  'Browser Extensions',\n",
    "  'Casual Games',\n",
    "  'Cause Marketing',\n",
    "  'Classifieds',\n",
    "  'Consumer Internet',\n",
    "  'Crowdfunding',\n",
    "  'Curated Web',\n",
    "  'Dating',\n",
    "  'E-Commerce',\n",
    "  'File Sharing',\n",
    "  'Games',\n",
    "  'Internet Marketing',\n",
    "  'Affiliate Marketing',\n",
    "  'CMS',\n",
    "  'Collectibles',\n",
    "  'Direct Marketing',\n",
    "  'Drones',\n",
    "  'Event Management',\n",
    "  'Fantasy Sports',\n",
    "  'Foundries',\n",
    "  'Gaming',\n",
    "  'Guides',\n",
    "  'Handmade',\n",
    "  'Lead Management',\n",
    "  'Online Forums',\n",
    "  'Product Design',\n",
    "  'Sponsorship',\n",
    "  'Task Management',\n",
    "  'Video Games'],\n",
    " 'HR_People_Needs': ['Parenting',\n",
    "  'Professional Networking',\n",
    "  'Human Resources',\n",
    "  'Social Recruiting',\n",
    "  'Foundries',\n",
    "  'Assisted Living',\n",
    "  'Leisure',\n",
    "  'Celebrity',\n",
    "  'Skill Assessment',\n",
    "  'Family',\n",
    "  'Personal Branding',\n",
    "  'Lifestyle',\n",
    "  'Furniture',\n",
    "  'Training',\n",
    "  'Personal Development',\n",
    "  'Employment',\n",
    "  'Guides',\n",
    "  'Distillery',\n",
    "  'Staffing Agency',\n",
    "  'Recruiting',\n",
    "  'Equestrian',\n",
    "  'Handmade',\n",
    "  'Employee Benefits'],\n",
    " 'Environmental_Services_and_Equipment': ['Water Purification',\n",
    "  'Janitorial Service',\n",
    "  'Printing',\n",
    "  'Recycling',\n",
    "  'Waste Management',\n",
    "  'Green Consumer Goods',\n",
    "  'Sustainability',\n",
    "  'Pollution Control',\n",
    "  'Landscaping',\n",
    "  'Green Building',\n",
    "  'Geospatial',\n",
    "  'GreenTech',\n",
    "  'Environmental Engineering',\n",
    "  'Parks',\n",
    "  'Packaging Services',\n",
    "  'Marine Technology',\n",
    "  'Environmental Consulting',\n",
    "  'Assisted Living',\n",
    "  'Celebrity',\n",
    "  'Distillery',\n",
    "  'Equestrian',\n",
    "  'Foundries',\n",
    "  'Furniture']}\n"
   ]
  },
  {
   "cell_type": "code",
   "execution_count": 206,
   "id": "f3f012b6",
   "metadata": {},
   "outputs": [],
   "source": [
    "clean_ind = lambda x: set(k for k, v in total_sectors_n_industries.items() if set(x).intersection(set(v)))"
   ]
  },
  {
   "cell_type": "code",
   "execution_count": 210,
   "id": "a2ab85cd",
   "metadata": {},
   "outputs": [],
   "source": [
    "crunch_v2['industries_cleaned'] = crunch_v2['tags'].apply(clean_ind)"
   ]
  },
  {
   "cell_type": "code",
   "execution_count": 213,
   "id": "46bcda96",
   "metadata": {},
   "outputs": [
    {
     "data": {
      "text/plain": [
       "{'raised': [None, 3493911.4794740295, 2000000],\n",
       " 'type': ['series_unknown', 'post_ipo_equity', 'post_ipo_equity'],\n",
       " 'date_round': ['1996-01-01T00:00:00Z',\n",
       "  '2012-08-16T00:00:00Z',\n",
       "  '2018-07-24T00:00:00Z']}"
      ]
     },
     "execution_count": 213,
     "metadata": {},
     "output_type": "execute_result"
    }
   ],
   "source": [
    "crunch_v2['rounds_cleaned'][75]"
   ]
  },
  {
   "cell_type": "code",
   "execution_count": 219,
   "id": "5aac6522",
   "metadata": {},
   "outputs": [
    {
     "data": {
      "text/plain": [
       "4.0     9721\n",
       "5.0     5544\n",
       "6.0     3299\n",
       "7.0     1933\n",
       "8.0     1157\n",
       "9.0      703\n",
       "10.0     407\n",
       "11.0     271\n",
       "12.0     176\n",
       "13.0     107\n",
       "14.0      73\n",
       "15.0      47\n",
       "16.0      31\n",
       "17.0      23\n",
       "18.0      20\n",
       "19.0      13\n",
       "20.0       8\n",
       "22.0       7\n",
       "21.0       5\n",
       "25.0       4\n",
       "23.0       3\n",
       "24.0       3\n",
       "34.0       2\n",
       "27.0       1\n",
       "28.0       1\n",
       "35.0       1\n",
       "30.0       1\n",
       "41.0       1\n",
       "32.0       1\n",
       "31.0       1\n",
       "33.0       1\n",
       "29.0       1\n",
       "Name: nb_rounds, dtype: int64"
      ]
     },
     "execution_count": 219,
     "metadata": {},
     "output_type": "execute_result"
    }
   ],
   "source": [
    "crunch_v2[crunch_v2['nb_rounds']>3.0]['nb_rounds'].value_counts()"
   ]
  },
  {
   "cell_type": "code",
   "execution_count": 224,
   "id": "f9cdbdd4",
   "metadata": {},
   "outputs": [
    {
     "data": {
      "text/plain": [
       "13         {'raised': [None], 'type': ['convertible_note'...\n",
       "42         {'raised': [None, None], 'type': ['pre_seed', ...\n",
       "67         {'raised': [None], 'type': ['series_unknown'],...\n",
       "75         {'raised': [None, 3493911.4794740295, 2000000]...\n",
       "88         {'raised': [41250], 'type': ['seed'], 'date_ro...\n",
       "                                 ...                        \n",
       "1312184    {'raised': [451395.3816158623], 'type': ['seri...\n",
       "1312185    {'raised': [483655.4290402519, 1527530.7633239...\n",
       "1312218    {'raised': [1000000, 2000000], 'type': ['seed'...\n",
       "1312260    {'raised': [3000000], 'type': ['series_a'], 'd...\n",
       "1312262    {'raised': [65000], 'type': ['angel'], 'date_r...\n",
       "Name: rounds_cleaned, Length: 178063, dtype: object"
      ]
     },
     "execution_count": 224,
     "metadata": {},
     "output_type": "execute_result"
    }
   ],
   "source": [
    "crunch_v2['rounds_cleaned']"
   ]
  },
  {
   "cell_type": "code",
   "execution_count": 223,
   "id": "ffea6372",
   "metadata": {},
   "outputs": [
    {
     "data": {
      "text/plain": [
       "[None, 3493911.4794740295, 2000000]"
      ]
     },
     "execution_count": 223,
     "metadata": {},
     "output_type": "execute_result"
    }
   ],
   "source": [
    "crunch_v2['rounds_cleaned'][75]['raised']"
   ]
  },
  {
   "cell_type": "markdown",
   "id": "4ea4a74b",
   "metadata": {},
   "source": [
    "## EXTRACTED ROUND VALUES FROM DICT IN rounds_cleaned"
   ]
  },
  {
   "cell_type": "code",
   "execution_count": 229,
   "id": "d2481b19",
   "metadata": {},
   "outputs": [],
   "source": [
    "crunch_v2['rounds_values'] =crunch_v2['rounds_cleaned'].apply(lambda x: [ele for ele in x['raised']])"
   ]
  },
  {
   "cell_type": "code",
   "execution_count": 230,
   "id": "498aa1f3",
   "metadata": {
    "scrolled": true
   },
   "outputs": [
    {
     "data": {
      "text/html": [
       "<div>\n",
       "<style scoped>\n",
       "    .dataframe tbody tr th:only-of-type {\n",
       "        vertical-align: middle;\n",
       "    }\n",
       "\n",
       "    .dataframe tbody tr th {\n",
       "        vertical-align: top;\n",
       "    }\n",
       "\n",
       "    .dataframe thead th {\n",
       "        text-align: right;\n",
       "    }\n",
       "</style>\n",
       "<table border=\"1\" class=\"dataframe\">\n",
       "  <thead>\n",
       "    <tr style=\"text-align: right;\">\n",
       "      <th></th>\n",
       "      <th>nb_rounds</th>\n",
       "      <th>total</th>\n",
       "      <th>tags</th>\n",
       "      <th>rounds</th>\n",
       "      <th>country</th>\n",
       "      <th>Creation Date</th>\n",
       "      <th>rounds_cleaned</th>\n",
       "      <th>industries_cleaned</th>\n",
       "      <th>rounds_values</th>\n",
       "    </tr>\n",
       "  </thead>\n",
       "  <tbody>\n",
       "    <tr>\n",
       "      <th>13</th>\n",
       "      <td>1.0</td>\n",
       "      <td>NaN</td>\n",
       "      <td>[E-Commerce, Information Services, Marketing, ...</td>\n",
       "      <td>[{'name': 'Convertible Note - 00K E-Commerce T...</td>\n",
       "      <td>Brazil</td>\n",
       "      <td>2012-03-01T00:00:00Z</td>\n",
       "      <td>{'raised': [None], 'type': ['convertible_note'...</td>\n",
       "      <td>{Software, Internet, Business_Products_And_Ser...</td>\n",
       "      <td>[None]</td>\n",
       "    </tr>\n",
       "    <tr>\n",
       "      <th>42</th>\n",
       "      <td>2.0</td>\n",
       "      <td>NaN</td>\n",
       "      <td>[Banking, Financial Services, Mobile Apps]</td>\n",
       "      <td>[{'name': 'Seed Round - 01 Paynents And Busine...</td>\n",
       "      <td>Brazil</td>\n",
       "      <td>2020-04-01T00:00:00Z</td>\n",
       "      <td>{'raised': [None, None], 'type': ['pre_seed', ...</td>\n",
       "      <td>{Mobile_And_Telecommunications, Financial}</td>\n",
       "      <td>[None, None]</td>\n",
       "    </tr>\n",
       "    <tr>\n",
       "      <th>67</th>\n",
       "      <td>1.0</td>\n",
       "      <td>NaN</td>\n",
       "      <td>[Enterprise, Software]</td>\n",
       "      <td>[{'name': 'Venture Round - 004', 'link': '004-...</td>\n",
       "      <td>Germany</td>\n",
       "      <td>2003-01-01T00:00:00Z</td>\n",
       "      <td>{'raised': [None], 'type': ['series_unknown'],...</td>\n",
       "      <td>{Software, Business_Products_And_Services}</td>\n",
       "      <td>[None]</td>\n",
       "    </tr>\n",
       "    <tr>\n",
       "      <th>75</th>\n",
       "      <td>3.0</td>\n",
       "      <td>5.493911e+06</td>\n",
       "      <td>[Customer Service, Meeting Software, Software]</td>\n",
       "      <td>[{'name': 'Post-IPO Equity - 01 Communique', '...</td>\n",
       "      <td>Canada</td>\n",
       "      <td>1992-01-01T00:00:00Z</td>\n",
       "      <td>{'raised': [None, 3493911.4794740295, 2000000]...</td>\n",
       "      <td>{Software, Business_Products_And_Services}</td>\n",
       "      <td>[None, 3493911.4794740295, 2000000]</td>\n",
       "    </tr>\n",
       "    <tr>\n",
       "      <th>88</th>\n",
       "      <td>1.0</td>\n",
       "      <td>4.125000e+04</td>\n",
       "      <td>[Information Technology, Mobile Apps, Video Ga...</td>\n",
       "      <td>[{'name': 'Seed Round - 01Games Technology', '...</td>\n",
       "      <td>Hong Kong</td>\n",
       "      <td>2014-01-01T00:00:00Z</td>\n",
       "      <td>{'raised': [41250], 'type': ['seed'], 'date_ro...</td>\n",
       "      <td>{Software, Internet, Mobile_And_Telecommunicat...</td>\n",
       "      <td>[41250]</td>\n",
       "    </tr>\n",
       "    <tr>\n",
       "      <th>...</th>\n",
       "      <td>...</td>\n",
       "      <td>...</td>\n",
       "      <td>...</td>\n",
       "      <td>...</td>\n",
       "      <td>...</td>\n",
       "      <td>...</td>\n",
       "      <td>...</td>\n",
       "      <td>...</td>\n",
       "      <td>...</td>\n",
       "    </tr>\n",
       "    <tr>\n",
       "      <th>1312184</th>\n",
       "      <td>1.0</td>\n",
       "      <td>4.513954e+05</td>\n",
       "      <td>[3D Printing, Consumer Electronics, Manufactur...</td>\n",
       "      <td>[{'name': 'Venture Round - Zyyx 3D Printer', '...</td>\n",
       "      <td>Sweden</td>\n",
       "      <td>2013-01-01T00:00:00Z</td>\n",
       "      <td>{'raised': [451395.3816158623], 'type': ['seri...</td>\n",
       "      <td>{Software, Electronics}</td>\n",
       "      <td>[451395.3816158623]</td>\n",
       "    </tr>\n",
       "    <tr>\n",
       "      <th>1312185</th>\n",
       "      <td>3.0</td>\n",
       "      <td>4.921780e+06</td>\n",
       "      <td>[Enterprise, Fashion, Supply Chain Management]</td>\n",
       "      <td>[{'name': 'Series B - ZZL.AI', 'link': 'zzl-ai...</td>\n",
       "      <td>China</td>\n",
       "      <td>2013-12-10T00:00:00Z</td>\n",
       "      <td>{'raised': [483655.4290402519, 1527530.7633239...</td>\n",
       "      <td>{Business_Products_And_Services, Retail_NonInt...</td>\n",
       "      <td>[483655.4290402519, 1527530.7633239252, 291059...</td>\n",
       "    </tr>\n",
       "    <tr>\n",
       "      <th>1312218</th>\n",
       "      <td>2.0</td>\n",
       "      <td>3.000000e+06</td>\n",
       "      <td>[Advertising, Marketing Automation]</td>\n",
       "      <td>[{'name': 'Convertible Note - حسن مهجر', 'link...</td>\n",
       "      <td>United States</td>\n",
       "      <td>1990-11-07T00:00:00Z</td>\n",
       "      <td>{'raised': [1000000, 2000000], 'type': ['seed'...</td>\n",
       "      <td>{Software, Media_Traditional}</td>\n",
       "      <td>[1000000, 2000000]</td>\n",
       "    </tr>\n",
       "    <tr>\n",
       "      <th>1312260</th>\n",
       "      <td>1.0</td>\n",
       "      <td>3.000000e+06</td>\n",
       "      <td>[E-Commerce, SaaS, Software]</td>\n",
       "      <td>[{'name': 'Series A - 客湖KEHU', 'link': 'madefo...</td>\n",
       "      <td>China</td>\n",
       "      <td>2016-01-01T00:00:00Z</td>\n",
       "      <td>{'raised': [3000000], 'type': ['series_a'], 'd...</td>\n",
       "      <td>{Software, Internet, Retail_NonInternetMobile}</td>\n",
       "      <td>[3000000]</td>\n",
       "    </tr>\n",
       "    <tr>\n",
       "      <th>1312262</th>\n",
       "      <td>1.0</td>\n",
       "      <td>6.500000e+04</td>\n",
       "      <td>[Apps, Information Technology, Point of Sale]</td>\n",
       "      <td>[{'name': 'Angel Round - 停車大聲公 PKLOT Inc', 'li...</td>\n",
       "      <td>Taiwan</td>\n",
       "      <td>2015-06-11T00:00:00Z</td>\n",
       "      <td>{'raised': [65000], 'type': ['angel'], 'date_r...</td>\n",
       "      <td>{Software, Computer_Hardware_And_Services, Mob...</td>\n",
       "      <td>[65000]</td>\n",
       "    </tr>\n",
       "  </tbody>\n",
       "</table>\n",
       "<p>178063 rows × 9 columns</p>\n",
       "</div>"
      ],
      "text/plain": [
       "         nb_rounds         total  \\\n",
       "13             1.0           NaN   \n",
       "42             2.0           NaN   \n",
       "67             1.0           NaN   \n",
       "75             3.0  5.493911e+06   \n",
       "88             1.0  4.125000e+04   \n",
       "...            ...           ...   \n",
       "1312184        1.0  4.513954e+05   \n",
       "1312185        3.0  4.921780e+06   \n",
       "1312218        2.0  3.000000e+06   \n",
       "1312260        1.0  3.000000e+06   \n",
       "1312262        1.0  6.500000e+04   \n",
       "\n",
       "                                                      tags  \\\n",
       "13       [E-Commerce, Information Services, Marketing, ...   \n",
       "42              [Banking, Financial Services, Mobile Apps]   \n",
       "67                                  [Enterprise, Software]   \n",
       "75          [Customer Service, Meeting Software, Software]   \n",
       "88       [Information Technology, Mobile Apps, Video Ga...   \n",
       "...                                                    ...   \n",
       "1312184  [3D Printing, Consumer Electronics, Manufactur...   \n",
       "1312185     [Enterprise, Fashion, Supply Chain Management]   \n",
       "1312218                [Advertising, Marketing Automation]   \n",
       "1312260                       [E-Commerce, SaaS, Software]   \n",
       "1312262      [Apps, Information Technology, Point of Sale]   \n",
       "\n",
       "                                                    rounds        country  \\\n",
       "13       [{'name': 'Convertible Note - 00K E-Commerce T...         Brazil   \n",
       "42       [{'name': 'Seed Round - 01 Paynents And Busine...         Brazil   \n",
       "67       [{'name': 'Venture Round - 004', 'link': '004-...        Germany   \n",
       "75       [{'name': 'Post-IPO Equity - 01 Communique', '...         Canada   \n",
       "88       [{'name': 'Seed Round - 01Games Technology', '...      Hong Kong   \n",
       "...                                                    ...            ...   \n",
       "1312184  [{'name': 'Venture Round - Zyyx 3D Printer', '...         Sweden   \n",
       "1312185  [{'name': 'Series B - ZZL.AI', 'link': 'zzl-ai...          China   \n",
       "1312218  [{'name': 'Convertible Note - حسن مهجر', 'link...  United States   \n",
       "1312260  [{'name': 'Series A - 客湖KEHU', 'link': 'madefo...          China   \n",
       "1312262  [{'name': 'Angel Round - 停車大聲公 PKLOT Inc', 'li...         Taiwan   \n",
       "\n",
       "                Creation Date  \\\n",
       "13       2012-03-01T00:00:00Z   \n",
       "42       2020-04-01T00:00:00Z   \n",
       "67       2003-01-01T00:00:00Z   \n",
       "75       1992-01-01T00:00:00Z   \n",
       "88       2014-01-01T00:00:00Z   \n",
       "...                       ...   \n",
       "1312184  2013-01-01T00:00:00Z   \n",
       "1312185  2013-12-10T00:00:00Z   \n",
       "1312218  1990-11-07T00:00:00Z   \n",
       "1312260  2016-01-01T00:00:00Z   \n",
       "1312262  2015-06-11T00:00:00Z   \n",
       "\n",
       "                                            rounds_cleaned  \\\n",
       "13       {'raised': [None], 'type': ['convertible_note'...   \n",
       "42       {'raised': [None, None], 'type': ['pre_seed', ...   \n",
       "67       {'raised': [None], 'type': ['series_unknown'],...   \n",
       "75       {'raised': [None, 3493911.4794740295, 2000000]...   \n",
       "88       {'raised': [41250], 'type': ['seed'], 'date_ro...   \n",
       "...                                                    ...   \n",
       "1312184  {'raised': [451395.3816158623], 'type': ['seri...   \n",
       "1312185  {'raised': [483655.4290402519, 1527530.7633239...   \n",
       "1312218  {'raised': [1000000, 2000000], 'type': ['seed'...   \n",
       "1312260  {'raised': [3000000], 'type': ['series_a'], 'd...   \n",
       "1312262  {'raised': [65000], 'type': ['angel'], 'date_r...   \n",
       "\n",
       "                                        industries_cleaned  \\\n",
       "13       {Software, Internet, Business_Products_And_Ser...   \n",
       "42              {Mobile_And_Telecommunications, Financial}   \n",
       "67              {Software, Business_Products_And_Services}   \n",
       "75              {Software, Business_Products_And_Services}   \n",
       "88       {Software, Internet, Mobile_And_Telecommunicat...   \n",
       "...                                                    ...   \n",
       "1312184                            {Software, Electronics}   \n",
       "1312185  {Business_Products_And_Services, Retail_NonInt...   \n",
       "1312218                      {Software, Media_Traditional}   \n",
       "1312260     {Software, Internet, Retail_NonInternetMobile}   \n",
       "1312262  {Software, Computer_Hardware_And_Services, Mob...   \n",
       "\n",
       "                                             rounds_values  \n",
       "13                                                  [None]  \n",
       "42                                            [None, None]  \n",
       "67                                                  [None]  \n",
       "75                     [None, 3493911.4794740295, 2000000]  \n",
       "88                                                 [41250]  \n",
       "...                                                    ...  \n",
       "1312184                                [451395.3816158623]  \n",
       "1312185  [483655.4290402519, 1527530.7633239252, 291059...  \n",
       "1312218                                 [1000000, 2000000]  \n",
       "1312260                                          [3000000]  \n",
       "1312262                                            [65000]  \n",
       "\n",
       "[178063 rows x 9 columns]"
      ]
     },
     "execution_count": 230,
     "metadata": {},
     "output_type": "execute_result"
    }
   ],
   "source": [
    "crunch_v2"
   ]
  },
  {
   "cell_type": "markdown",
   "id": "f0eb6600",
   "metadata": {},
   "source": [
    "## NOW THE SAME THING BUT WITH type and date_round"
   ]
  },
  {
   "cell_type": "code",
   "execution_count": 232,
   "id": "a046483e",
   "metadata": {},
   "outputs": [
    {
     "data": {
      "text/plain": [
       "{'raised': [None, 3493911.4794740295, 2000000],\n",
       " 'type': ['series_unknown', 'post_ipo_equity', 'post_ipo_equity'],\n",
       " 'date_round': ['1996-01-01T00:00:00Z',\n",
       "  '2012-08-16T00:00:00Z',\n",
       "  '2018-07-24T00:00:00Z']}"
      ]
     },
     "execution_count": 232,
     "metadata": {},
     "output_type": "execute_result"
    }
   ],
   "source": [
    "crunch_v2['rounds_cleaned'][75]"
   ]
  },
  {
   "cell_type": "code",
   "execution_count": 233,
   "id": "1de736fb",
   "metadata": {},
   "outputs": [],
   "source": [
    "crunch_v2['rounds_types'] =crunch_v2['rounds_cleaned'].apply(lambda x: [ele for ele in x['type']])"
   ]
  },
  {
   "cell_type": "markdown",
   "id": "269d7158",
   "metadata": {},
   "source": [
    "## HERE I SHOULD TRY TO PUT THE INFO IN DATE FORM OR MAKE THE DIFFERENCE BETWEEN ONE DATE AND THE OTHER\n"
   ]
  },
  {
   "cell_type": "code",
   "execution_count": 235,
   "id": "604470c4",
   "metadata": {},
   "outputs": [],
   "source": [
    "crunch_v2['rounds_dates'] =crunch_v2['rounds_cleaned'].apply(lambda x: [ele for ele in x['date_round']])"
   ]
  },
  {
   "cell_type": "code",
   "execution_count": 237,
   "id": "f1eb819e",
   "metadata": {},
   "outputs": [
    {
     "data": {
      "text/html": [
       "<div>\n",
       "<style scoped>\n",
       "    .dataframe tbody tr th:only-of-type {\n",
       "        vertical-align: middle;\n",
       "    }\n",
       "\n",
       "    .dataframe tbody tr th {\n",
       "        vertical-align: top;\n",
       "    }\n",
       "\n",
       "    .dataframe thead th {\n",
       "        text-align: right;\n",
       "    }\n",
       "</style>\n",
       "<table border=\"1\" class=\"dataframe\">\n",
       "  <thead>\n",
       "    <tr style=\"text-align: right;\">\n",
       "      <th></th>\n",
       "      <th>nb_rounds</th>\n",
       "      <th>total</th>\n",
       "      <th>tags</th>\n",
       "      <th>rounds</th>\n",
       "      <th>country</th>\n",
       "      <th>Creation Date</th>\n",
       "      <th>rounds_cleaned</th>\n",
       "      <th>industries_cleaned</th>\n",
       "      <th>rounds_values</th>\n",
       "      <th>rounds_types</th>\n",
       "      <th>rounds_dates</th>\n",
       "    </tr>\n",
       "  </thead>\n",
       "  <tbody>\n",
       "    <tr>\n",
       "      <th>13</th>\n",
       "      <td>1.0</td>\n",
       "      <td>NaN</td>\n",
       "      <td>[E-Commerce, Information Services, Marketing, ...</td>\n",
       "      <td>[{'name': 'Convertible Note - 00K E-Commerce T...</td>\n",
       "      <td>Brazil</td>\n",
       "      <td>2012-03-01T00:00:00Z</td>\n",
       "      <td>{'raised': [None], 'type': ['convertible_note'...</td>\n",
       "      <td>{Software, Internet, Business_Products_And_Ser...</td>\n",
       "      <td>[None]</td>\n",
       "      <td>[convertible_note]</td>\n",
       "      <td>[2015-08-01T00:00:00Z]</td>\n",
       "    </tr>\n",
       "    <tr>\n",
       "      <th>42</th>\n",
       "      <td>2.0</td>\n",
       "      <td>NaN</td>\n",
       "      <td>[Banking, Financial Services, Mobile Apps]</td>\n",
       "      <td>[{'name': 'Seed Round - 01 Paynents And Busine...</td>\n",
       "      <td>Brazil</td>\n",
       "      <td>2020-04-01T00:00:00Z</td>\n",
       "      <td>{'raised': [None, None], 'type': ['pre_seed', ...</td>\n",
       "      <td>{Mobile_And_Telecommunications, Financial}</td>\n",
       "      <td>[None, None]</td>\n",
       "      <td>[pre_seed, seed]</td>\n",
       "      <td>[2020-04-01T00:00:00Z, 2021-03-09T00:00:00Z]</td>\n",
       "    </tr>\n",
       "    <tr>\n",
       "      <th>67</th>\n",
       "      <td>1.0</td>\n",
       "      <td>NaN</td>\n",
       "      <td>[Enterprise, Software]</td>\n",
       "      <td>[{'name': 'Venture Round - 004', 'link': '004-...</td>\n",
       "      <td>Germany</td>\n",
       "      <td>2003-01-01T00:00:00Z</td>\n",
       "      <td>{'raised': [None], 'type': ['series_unknown'],...</td>\n",
       "      <td>{Software, Business_Products_And_Services}</td>\n",
       "      <td>[None]</td>\n",
       "      <td>[series_unknown]</td>\n",
       "      <td>[2014-07-24T00:00:00Z]</td>\n",
       "    </tr>\n",
       "    <tr>\n",
       "      <th>75</th>\n",
       "      <td>3.0</td>\n",
       "      <td>5.493911e+06</td>\n",
       "      <td>[Customer Service, Meeting Software, Software]</td>\n",
       "      <td>[{'name': 'Post-IPO Equity - 01 Communique', '...</td>\n",
       "      <td>Canada</td>\n",
       "      <td>1992-01-01T00:00:00Z</td>\n",
       "      <td>{'raised': [None, 3493911.4794740295, 2000000]...</td>\n",
       "      <td>{Software, Business_Products_And_Services}</td>\n",
       "      <td>[None, 3493911.4794740295, 2000000]</td>\n",
       "      <td>[series_unknown, post_ipo_equity, post_ipo_equ...</td>\n",
       "      <td>[1996-01-01T00:00:00Z, 2012-08-16T00:00:00Z, 2...</td>\n",
       "    </tr>\n",
       "    <tr>\n",
       "      <th>88</th>\n",
       "      <td>1.0</td>\n",
       "      <td>4.125000e+04</td>\n",
       "      <td>[Information Technology, Mobile Apps, Video Ga...</td>\n",
       "      <td>[{'name': 'Seed Round - 01Games Technology', '...</td>\n",
       "      <td>Hong Kong</td>\n",
       "      <td>2014-01-01T00:00:00Z</td>\n",
       "      <td>{'raised': [41250], 'type': ['seed'], 'date_ro...</td>\n",
       "      <td>{Software, Internet, Mobile_And_Telecommunicat...</td>\n",
       "      <td>[41250]</td>\n",
       "      <td>[seed]</td>\n",
       "      <td>[2014-07-01T00:00:00Z]</td>\n",
       "    </tr>\n",
       "  </tbody>\n",
       "</table>\n",
       "</div>"
      ],
      "text/plain": [
       "    nb_rounds         total  \\\n",
       "13        1.0           NaN   \n",
       "42        2.0           NaN   \n",
       "67        1.0           NaN   \n",
       "75        3.0  5.493911e+06   \n",
       "88        1.0  4.125000e+04   \n",
       "\n",
       "                                                 tags  \\\n",
       "13  [E-Commerce, Information Services, Marketing, ...   \n",
       "42         [Banking, Financial Services, Mobile Apps]   \n",
       "67                             [Enterprise, Software]   \n",
       "75     [Customer Service, Meeting Software, Software]   \n",
       "88  [Information Technology, Mobile Apps, Video Ga...   \n",
       "\n",
       "                                               rounds    country  \\\n",
       "13  [{'name': 'Convertible Note - 00K E-Commerce T...     Brazil   \n",
       "42  [{'name': 'Seed Round - 01 Paynents And Busine...     Brazil   \n",
       "67  [{'name': 'Venture Round - 004', 'link': '004-...    Germany   \n",
       "75  [{'name': 'Post-IPO Equity - 01 Communique', '...     Canada   \n",
       "88  [{'name': 'Seed Round - 01Games Technology', '...  Hong Kong   \n",
       "\n",
       "           Creation Date                                     rounds_cleaned  \\\n",
       "13  2012-03-01T00:00:00Z  {'raised': [None], 'type': ['convertible_note'...   \n",
       "42  2020-04-01T00:00:00Z  {'raised': [None, None], 'type': ['pre_seed', ...   \n",
       "67  2003-01-01T00:00:00Z  {'raised': [None], 'type': ['series_unknown'],...   \n",
       "75  1992-01-01T00:00:00Z  {'raised': [None, 3493911.4794740295, 2000000]...   \n",
       "88  2014-01-01T00:00:00Z  {'raised': [41250], 'type': ['seed'], 'date_ro...   \n",
       "\n",
       "                                   industries_cleaned  \\\n",
       "13  {Software, Internet, Business_Products_And_Ser...   \n",
       "42         {Mobile_And_Telecommunications, Financial}   \n",
       "67         {Software, Business_Products_And_Services}   \n",
       "75         {Software, Business_Products_And_Services}   \n",
       "88  {Software, Internet, Mobile_And_Telecommunicat...   \n",
       "\n",
       "                          rounds_values  \\\n",
       "13                               [None]   \n",
       "42                         [None, None]   \n",
       "67                               [None]   \n",
       "75  [None, 3493911.4794740295, 2000000]   \n",
       "88                              [41250]   \n",
       "\n",
       "                                         rounds_types  \\\n",
       "13                                 [convertible_note]   \n",
       "42                                   [pre_seed, seed]   \n",
       "67                                   [series_unknown]   \n",
       "75  [series_unknown, post_ipo_equity, post_ipo_equ...   \n",
       "88                                             [seed]   \n",
       "\n",
       "                                         rounds_dates  \n",
       "13                             [2015-08-01T00:00:00Z]  \n",
       "42       [2020-04-01T00:00:00Z, 2021-03-09T00:00:00Z]  \n",
       "67                             [2014-07-24T00:00:00Z]  \n",
       "75  [1996-01-01T00:00:00Z, 2012-08-16T00:00:00Z, 2...  \n",
       "88                             [2014-07-01T00:00:00Z]  "
      ]
     },
     "execution_count": 237,
     "metadata": {},
     "output_type": "execute_result"
    }
   ],
   "source": [
    "crunch_v2.head()"
   ]
  },
  {
   "cell_type": "code",
   "execution_count": 238,
   "id": "f54539a2",
   "metadata": {},
   "outputs": [],
   "source": [
    "crunch_v2 = crunch_v2.drop(columns=['tags', 'rounds', 'rounds_cleaned'])"
   ]
  },
  {
   "cell_type": "code",
   "execution_count": 239,
   "id": "ca30281d",
   "metadata": {},
   "outputs": [
    {
     "data": {
      "text/html": [
       "<div>\n",
       "<style scoped>\n",
       "    .dataframe tbody tr th:only-of-type {\n",
       "        vertical-align: middle;\n",
       "    }\n",
       "\n",
       "    .dataframe tbody tr th {\n",
       "        vertical-align: top;\n",
       "    }\n",
       "\n",
       "    .dataframe thead th {\n",
       "        text-align: right;\n",
       "    }\n",
       "</style>\n",
       "<table border=\"1\" class=\"dataframe\">\n",
       "  <thead>\n",
       "    <tr style=\"text-align: right;\">\n",
       "      <th></th>\n",
       "      <th>nb_rounds</th>\n",
       "      <th>total</th>\n",
       "      <th>country</th>\n",
       "      <th>Creation Date</th>\n",
       "      <th>industries_cleaned</th>\n",
       "      <th>rounds_values</th>\n",
       "      <th>rounds_types</th>\n",
       "      <th>rounds_dates</th>\n",
       "    </tr>\n",
       "  </thead>\n",
       "  <tbody>\n",
       "    <tr>\n",
       "      <th>13</th>\n",
       "      <td>1.0</td>\n",
       "      <td>NaN</td>\n",
       "      <td>Brazil</td>\n",
       "      <td>2012-03-01T00:00:00Z</td>\n",
       "      <td>{Software, Internet, Business_Products_And_Ser...</td>\n",
       "      <td>[None]</td>\n",
       "      <td>[convertible_note]</td>\n",
       "      <td>[2015-08-01T00:00:00Z]</td>\n",
       "    </tr>\n",
       "    <tr>\n",
       "      <th>42</th>\n",
       "      <td>2.0</td>\n",
       "      <td>NaN</td>\n",
       "      <td>Brazil</td>\n",
       "      <td>2020-04-01T00:00:00Z</td>\n",
       "      <td>{Mobile_And_Telecommunications, Financial}</td>\n",
       "      <td>[None, None]</td>\n",
       "      <td>[pre_seed, seed]</td>\n",
       "      <td>[2020-04-01T00:00:00Z, 2021-03-09T00:00:00Z]</td>\n",
       "    </tr>\n",
       "    <tr>\n",
       "      <th>67</th>\n",
       "      <td>1.0</td>\n",
       "      <td>NaN</td>\n",
       "      <td>Germany</td>\n",
       "      <td>2003-01-01T00:00:00Z</td>\n",
       "      <td>{Software, Business_Products_And_Services}</td>\n",
       "      <td>[None]</td>\n",
       "      <td>[series_unknown]</td>\n",
       "      <td>[2014-07-24T00:00:00Z]</td>\n",
       "    </tr>\n",
       "    <tr>\n",
       "      <th>75</th>\n",
       "      <td>3.0</td>\n",
       "      <td>5.493911e+06</td>\n",
       "      <td>Canada</td>\n",
       "      <td>1992-01-01T00:00:00Z</td>\n",
       "      <td>{Software, Business_Products_And_Services}</td>\n",
       "      <td>[None, 3493911.4794740295, 2000000]</td>\n",
       "      <td>[series_unknown, post_ipo_equity, post_ipo_equ...</td>\n",
       "      <td>[1996-01-01T00:00:00Z, 2012-08-16T00:00:00Z, 2...</td>\n",
       "    </tr>\n",
       "    <tr>\n",
       "      <th>88</th>\n",
       "      <td>1.0</td>\n",
       "      <td>4.125000e+04</td>\n",
       "      <td>Hong Kong</td>\n",
       "      <td>2014-01-01T00:00:00Z</td>\n",
       "      <td>{Software, Internet, Mobile_And_Telecommunicat...</td>\n",
       "      <td>[41250]</td>\n",
       "      <td>[seed]</td>\n",
       "      <td>[2014-07-01T00:00:00Z]</td>\n",
       "    </tr>\n",
       "    <tr>\n",
       "      <th>...</th>\n",
       "      <td>...</td>\n",
       "      <td>...</td>\n",
       "      <td>...</td>\n",
       "      <td>...</td>\n",
       "      <td>...</td>\n",
       "      <td>...</td>\n",
       "      <td>...</td>\n",
       "      <td>...</td>\n",
       "    </tr>\n",
       "    <tr>\n",
       "      <th>1312184</th>\n",
       "      <td>1.0</td>\n",
       "      <td>4.513954e+05</td>\n",
       "      <td>Sweden</td>\n",
       "      <td>2013-01-01T00:00:00Z</td>\n",
       "      <td>{Software, Electronics}</td>\n",
       "      <td>[451395.3816158623]</td>\n",
       "      <td>[series_unknown]</td>\n",
       "      <td>[2017-04-24T00:00:00Z]</td>\n",
       "    </tr>\n",
       "    <tr>\n",
       "      <th>1312185</th>\n",
       "      <td>3.0</td>\n",
       "      <td>4.921780e+06</td>\n",
       "      <td>China</td>\n",
       "      <td>2013-12-10T00:00:00Z</td>\n",
       "      <td>{Business_Products_And_Services, Retail_NonInt...</td>\n",
       "      <td>[483655.4290402519, 1527530.7633239252, 291059...</td>\n",
       "      <td>[angel, series_a, series_b]</td>\n",
       "      <td>[2014-04-12T00:00:00Z, 2016-05-20T00:00:00Z, 2...</td>\n",
       "    </tr>\n",
       "    <tr>\n",
       "      <th>1312218</th>\n",
       "      <td>2.0</td>\n",
       "      <td>3.000000e+06</td>\n",
       "      <td>United States</td>\n",
       "      <td>1990-11-07T00:00:00Z</td>\n",
       "      <td>{Software, Media_Traditional}</td>\n",
       "      <td>[1000000, 2000000]</td>\n",
       "      <td>[seed, convertible_note]</td>\n",
       "      <td>[2012-07-25T00:00:00Z, 2014-09-01T00:00:00Z]</td>\n",
       "    </tr>\n",
       "    <tr>\n",
       "      <th>1312260</th>\n",
       "      <td>1.0</td>\n",
       "      <td>3.000000e+06</td>\n",
       "      <td>China</td>\n",
       "      <td>2016-01-01T00:00:00Z</td>\n",
       "      <td>{Software, Internet, Retail_NonInternetMobile}</td>\n",
       "      <td>[3000000]</td>\n",
       "      <td>[series_a]</td>\n",
       "      <td>[2019-02-27T00:00:00Z]</td>\n",
       "    </tr>\n",
       "    <tr>\n",
       "      <th>1312262</th>\n",
       "      <td>1.0</td>\n",
       "      <td>6.500000e+04</td>\n",
       "      <td>Taiwan</td>\n",
       "      <td>2015-06-11T00:00:00Z</td>\n",
       "      <td>{Software, Computer_Hardware_And_Services, Mob...</td>\n",
       "      <td>[65000]</td>\n",
       "      <td>[angel]</td>\n",
       "      <td>[2016-01-31T00:00:00Z]</td>\n",
       "    </tr>\n",
       "  </tbody>\n",
       "</table>\n",
       "<p>178063 rows × 8 columns</p>\n",
       "</div>"
      ],
      "text/plain": [
       "         nb_rounds         total        country         Creation Date  \\\n",
       "13             1.0           NaN         Brazil  2012-03-01T00:00:00Z   \n",
       "42             2.0           NaN         Brazil  2020-04-01T00:00:00Z   \n",
       "67             1.0           NaN        Germany  2003-01-01T00:00:00Z   \n",
       "75             3.0  5.493911e+06         Canada  1992-01-01T00:00:00Z   \n",
       "88             1.0  4.125000e+04      Hong Kong  2014-01-01T00:00:00Z   \n",
       "...            ...           ...            ...                   ...   \n",
       "1312184        1.0  4.513954e+05         Sweden  2013-01-01T00:00:00Z   \n",
       "1312185        3.0  4.921780e+06          China  2013-12-10T00:00:00Z   \n",
       "1312218        2.0  3.000000e+06  United States  1990-11-07T00:00:00Z   \n",
       "1312260        1.0  3.000000e+06          China  2016-01-01T00:00:00Z   \n",
       "1312262        1.0  6.500000e+04         Taiwan  2015-06-11T00:00:00Z   \n",
       "\n",
       "                                        industries_cleaned  \\\n",
       "13       {Software, Internet, Business_Products_And_Ser...   \n",
       "42              {Mobile_And_Telecommunications, Financial}   \n",
       "67              {Software, Business_Products_And_Services}   \n",
       "75              {Software, Business_Products_And_Services}   \n",
       "88       {Software, Internet, Mobile_And_Telecommunicat...   \n",
       "...                                                    ...   \n",
       "1312184                            {Software, Electronics}   \n",
       "1312185  {Business_Products_And_Services, Retail_NonInt...   \n",
       "1312218                      {Software, Media_Traditional}   \n",
       "1312260     {Software, Internet, Retail_NonInternetMobile}   \n",
       "1312262  {Software, Computer_Hardware_And_Services, Mob...   \n",
       "\n",
       "                                             rounds_values  \\\n",
       "13                                                  [None]   \n",
       "42                                            [None, None]   \n",
       "67                                                  [None]   \n",
       "75                     [None, 3493911.4794740295, 2000000]   \n",
       "88                                                 [41250]   \n",
       "...                                                    ...   \n",
       "1312184                                [451395.3816158623]   \n",
       "1312185  [483655.4290402519, 1527530.7633239252, 291059...   \n",
       "1312218                                 [1000000, 2000000]   \n",
       "1312260                                          [3000000]   \n",
       "1312262                                            [65000]   \n",
       "\n",
       "                                              rounds_types  \\\n",
       "13                                      [convertible_note]   \n",
       "42                                        [pre_seed, seed]   \n",
       "67                                        [series_unknown]   \n",
       "75       [series_unknown, post_ipo_equity, post_ipo_equ...   \n",
       "88                                                  [seed]   \n",
       "...                                                    ...   \n",
       "1312184                                   [series_unknown]   \n",
       "1312185                        [angel, series_a, series_b]   \n",
       "1312218                           [seed, convertible_note]   \n",
       "1312260                                         [series_a]   \n",
       "1312262                                            [angel]   \n",
       "\n",
       "                                              rounds_dates  \n",
       "13                                  [2015-08-01T00:00:00Z]  \n",
       "42            [2020-04-01T00:00:00Z, 2021-03-09T00:00:00Z]  \n",
       "67                                  [2014-07-24T00:00:00Z]  \n",
       "75       [1996-01-01T00:00:00Z, 2012-08-16T00:00:00Z, 2...  \n",
       "88                                  [2014-07-01T00:00:00Z]  \n",
       "...                                                    ...  \n",
       "1312184                             [2017-04-24T00:00:00Z]  \n",
       "1312185  [2014-04-12T00:00:00Z, 2016-05-20T00:00:00Z, 2...  \n",
       "1312218       [2012-07-25T00:00:00Z, 2014-09-01T00:00:00Z]  \n",
       "1312260                             [2019-02-27T00:00:00Z]  \n",
       "1312262                             [2016-01-31T00:00:00Z]  \n",
       "\n",
       "[178063 rows x 8 columns]"
      ]
     },
     "execution_count": 239,
     "metadata": {},
     "output_type": "execute_result"
    }
   ],
   "source": [
    "crunch_v2"
   ]
  },
  {
   "cell_type": "code",
   "execution_count": 246,
   "id": "1f833dc8",
   "metadata": {},
   "outputs": [],
   "source": [
    "test_final = crunch_v2.head(10)"
   ]
  },
  {
   "cell_type": "code",
   "execution_count": 247,
   "id": "166bc7a4",
   "metadata": {},
   "outputs": [
    {
     "data": {
      "text/html": [
       "<div>\n",
       "<style scoped>\n",
       "    .dataframe tbody tr th:only-of-type {\n",
       "        vertical-align: middle;\n",
       "    }\n",
       "\n",
       "    .dataframe tbody tr th {\n",
       "        vertical-align: top;\n",
       "    }\n",
       "\n",
       "    .dataframe thead th {\n",
       "        text-align: right;\n",
       "    }\n",
       "</style>\n",
       "<table border=\"1\" class=\"dataframe\">\n",
       "  <thead>\n",
       "    <tr style=\"text-align: right;\">\n",
       "      <th></th>\n",
       "      <th>nb_rounds</th>\n",
       "      <th>total</th>\n",
       "      <th>country</th>\n",
       "      <th>Creation Date</th>\n",
       "      <th>industries_cleaned</th>\n",
       "      <th>rounds_values</th>\n",
       "      <th>rounds_types</th>\n",
       "      <th>rounds_dates</th>\n",
       "    </tr>\n",
       "  </thead>\n",
       "  <tbody>\n",
       "    <tr>\n",
       "      <th>13</th>\n",
       "      <td>1.0</td>\n",
       "      <td>NaN</td>\n",
       "      <td>Brazil</td>\n",
       "      <td>2012-03-01T00:00:00Z</td>\n",
       "      <td>{Software, Internet, Business_Products_And_Ser...</td>\n",
       "      <td>[None]</td>\n",
       "      <td>[convertible_note]</td>\n",
       "      <td>[2015-08-01T00:00:00Z]</td>\n",
       "    </tr>\n",
       "    <tr>\n",
       "      <th>42</th>\n",
       "      <td>2.0</td>\n",
       "      <td>NaN</td>\n",
       "      <td>Brazil</td>\n",
       "      <td>2020-04-01T00:00:00Z</td>\n",
       "      <td>{Mobile_And_Telecommunications, Financial}</td>\n",
       "      <td>[None, None]</td>\n",
       "      <td>[pre_seed, seed]</td>\n",
       "      <td>[2020-04-01T00:00:00Z, 2021-03-09T00:00:00Z]</td>\n",
       "    </tr>\n",
       "    <tr>\n",
       "      <th>67</th>\n",
       "      <td>1.0</td>\n",
       "      <td>NaN</td>\n",
       "      <td>Germany</td>\n",
       "      <td>2003-01-01T00:00:00Z</td>\n",
       "      <td>{Software, Business_Products_And_Services}</td>\n",
       "      <td>[None]</td>\n",
       "      <td>[series_unknown]</td>\n",
       "      <td>[2014-07-24T00:00:00Z]</td>\n",
       "    </tr>\n",
       "    <tr>\n",
       "      <th>75</th>\n",
       "      <td>3.0</td>\n",
       "      <td>5.493911e+06</td>\n",
       "      <td>Canada</td>\n",
       "      <td>1992-01-01T00:00:00Z</td>\n",
       "      <td>{Software, Business_Products_And_Services}</td>\n",
       "      <td>[None, 3493911.4794740295, 2000000]</td>\n",
       "      <td>[series_unknown, post_ipo_equity, post_ipo_equ...</td>\n",
       "      <td>[1996-01-01T00:00:00Z, 2012-08-16T00:00:00Z, 2...</td>\n",
       "    </tr>\n",
       "    <tr>\n",
       "      <th>88</th>\n",
       "      <td>1.0</td>\n",
       "      <td>4.125000e+04</td>\n",
       "      <td>Hong Kong</td>\n",
       "      <td>2014-01-01T00:00:00Z</td>\n",
       "      <td>{Software, Internet, Mobile_And_Telecommunicat...</td>\n",
       "      <td>[41250]</td>\n",
       "      <td>[seed]</td>\n",
       "      <td>[2014-07-01T00:00:00Z]</td>\n",
       "    </tr>\n",
       "    <tr>\n",
       "      <th>95</th>\n",
       "      <td>1.0</td>\n",
       "      <td>5.583161e+04</td>\n",
       "      <td>Italy</td>\n",
       "      <td>2009-09-01T00:00:00Z</td>\n",
       "      <td>{Software, Electronics, Computer_Hardware_And_...</td>\n",
       "      <td>[55831.61185863436]</td>\n",
       "      <td>[grant]</td>\n",
       "      <td>[2016-08-01T00:00:00Z]</td>\n",
       "    </tr>\n",
       "    <tr>\n",
       "      <th>103</th>\n",
       "      <td>2.0</td>\n",
       "      <td>6.130000e+05</td>\n",
       "      <td>South Korea</td>\n",
       "      <td>2015-01-01T00:00:00Z</td>\n",
       "      <td>{Mobile_And_Telecommunications}</td>\n",
       "      <td>[None, 613000]</td>\n",
       "      <td>[seed, series_a]</td>\n",
       "      <td>[2015-06-26T00:00:00Z, 2016-07-01T00:00:00Z]</td>\n",
       "    </tr>\n",
       "    <tr>\n",
       "      <th>122</th>\n",
       "      <td>1.0</td>\n",
       "      <td>2.000000e+06</td>\n",
       "      <td>China</td>\n",
       "      <td>2007-01-01T00:00:00Z</td>\n",
       "      <td>{Internet, Food_And_Beverages, Education}</td>\n",
       "      <td>[2000000]</td>\n",
       "      <td>[series_a]</td>\n",
       "      <td>[2008-03-19T00:00:00Z]</td>\n",
       "    </tr>\n",
       "    <tr>\n",
       "      <th>124</th>\n",
       "      <td>1.0</td>\n",
       "      <td>4.748924e+05</td>\n",
       "      <td>China</td>\n",
       "      <td>2002-07-07T00:00:00Z</td>\n",
       "      <td>{Software, Internet}</td>\n",
       "      <td>[474892.3616887869]</td>\n",
       "      <td>[angel]</td>\n",
       "      <td>[2012-01-12T00:00:00Z]</td>\n",
       "    </tr>\n",
       "    <tr>\n",
       "      <th>147</th>\n",
       "      <td>8.0</td>\n",
       "      <td>6.795451e+06</td>\n",
       "      <td>United States</td>\n",
       "      <td>2008-01-01T00:00:00Z</td>\n",
       "      <td>{Media_Traditional, Food_And_Beverages, Agricu...</td>\n",
       "      <td>[265940, 642000, 647879, 2906832, 1500000, 500...</td>\n",
       "      <td>[seed, series_unknown, debt_financing, series_...</td>\n",
       "      <td>[2009-10-14T00:00:00Z, 2011-04-05T00:00:00Z, 2...</td>\n",
       "    </tr>\n",
       "  </tbody>\n",
       "</table>\n",
       "</div>"
      ],
      "text/plain": [
       "     nb_rounds         total        country         Creation Date  \\\n",
       "13         1.0           NaN         Brazil  2012-03-01T00:00:00Z   \n",
       "42         2.0           NaN         Brazil  2020-04-01T00:00:00Z   \n",
       "67         1.0           NaN        Germany  2003-01-01T00:00:00Z   \n",
       "75         3.0  5.493911e+06         Canada  1992-01-01T00:00:00Z   \n",
       "88         1.0  4.125000e+04      Hong Kong  2014-01-01T00:00:00Z   \n",
       "95         1.0  5.583161e+04          Italy  2009-09-01T00:00:00Z   \n",
       "103        2.0  6.130000e+05    South Korea  2015-01-01T00:00:00Z   \n",
       "122        1.0  2.000000e+06          China  2007-01-01T00:00:00Z   \n",
       "124        1.0  4.748924e+05          China  2002-07-07T00:00:00Z   \n",
       "147        8.0  6.795451e+06  United States  2008-01-01T00:00:00Z   \n",
       "\n",
       "                                    industries_cleaned  \\\n",
       "13   {Software, Internet, Business_Products_And_Ser...   \n",
       "42          {Mobile_And_Telecommunications, Financial}   \n",
       "67          {Software, Business_Products_And_Services}   \n",
       "75          {Software, Business_Products_And_Services}   \n",
       "88   {Software, Internet, Mobile_And_Telecommunicat...   \n",
       "95   {Software, Electronics, Computer_Hardware_And_...   \n",
       "103                    {Mobile_And_Telecommunications}   \n",
       "122          {Internet, Food_And_Beverages, Education}   \n",
       "124                               {Software, Internet}   \n",
       "147  {Media_Traditional, Food_And_Beverages, Agricu...   \n",
       "\n",
       "                                         rounds_values  \\\n",
       "13                                              [None]   \n",
       "42                                        [None, None]   \n",
       "67                                              [None]   \n",
       "75                 [None, 3493911.4794740295, 2000000]   \n",
       "88                                             [41250]   \n",
       "95                                 [55831.61185863436]   \n",
       "103                                     [None, 613000]   \n",
       "122                                          [2000000]   \n",
       "124                                [474892.3616887869]   \n",
       "147  [265940, 642000, 647879, 2906832, 1500000, 500...   \n",
       "\n",
       "                                          rounds_types  \\\n",
       "13                                  [convertible_note]   \n",
       "42                                    [pre_seed, seed]   \n",
       "67                                    [series_unknown]   \n",
       "75   [series_unknown, post_ipo_equity, post_ipo_equ...   \n",
       "88                                              [seed]   \n",
       "95                                             [grant]   \n",
       "103                                   [seed, series_a]   \n",
       "122                                         [series_a]   \n",
       "124                                            [angel]   \n",
       "147  [seed, series_unknown, debt_financing, series_...   \n",
       "\n",
       "                                          rounds_dates  \n",
       "13                              [2015-08-01T00:00:00Z]  \n",
       "42        [2020-04-01T00:00:00Z, 2021-03-09T00:00:00Z]  \n",
       "67                              [2014-07-24T00:00:00Z]  \n",
       "75   [1996-01-01T00:00:00Z, 2012-08-16T00:00:00Z, 2...  \n",
       "88                              [2014-07-01T00:00:00Z]  \n",
       "95                              [2016-08-01T00:00:00Z]  \n",
       "103       [2015-06-26T00:00:00Z, 2016-07-01T00:00:00Z]  \n",
       "122                             [2008-03-19T00:00:00Z]  \n",
       "124                             [2012-01-12T00:00:00Z]  \n",
       "147  [2009-10-14T00:00:00Z, 2011-04-05T00:00:00Z, 2...  "
      ]
     },
     "execution_count": 247,
     "metadata": {},
     "output_type": "execute_result"
    }
   ],
   "source": [
    "test_final"
   ]
  },
  {
   "cell_type": "code",
   "execution_count": 252,
   "id": "72bc7b3b",
   "metadata": {},
   "outputs": [],
   "source": [
    "import pandas as pd"
   ]
  },
  {
   "cell_type": "code",
   "execution_count": 248,
   "id": "631c1e60",
   "metadata": {},
   "outputs": [],
   "source": [
    "def my_cleaning(df):\n",
    "    nouveau_df = pd.Dataframe()\n",
    "    for lines in df:\n",
    "        for values in df.rounds_values:\n",
    "            nouveau_df['total'] = lines['total']"
   ]
  },
  {
   "cell_type": "code",
   "execution_count": 250,
   "id": "e4adaf15",
   "metadata": {},
   "outputs": [
    {
     "ename": "AttributeError",
     "evalue": "module 'pandas' has no attribute 'Dataframe'",
     "output_type": "error",
     "traceback": [
      "\u001b[0;31m---------------------------------------------------------------------------\u001b[0m",
      "\u001b[0;31mAttributeError\u001b[0m                            Traceback (most recent call last)",
      "Cell \u001b[0;32mIn[250], line 1\u001b[0m\n\u001b[0;32m----> 1\u001b[0m \u001b[43mtest_final\u001b[49m\u001b[38;5;241;43m.\u001b[39;49m\u001b[43mapply\u001b[49m\u001b[43m(\u001b[49m\u001b[43mmy_cleaning\u001b[49m\u001b[43m)\u001b[49m\n",
      "File \u001b[0;32m~/.pyenv/versions/3.10.6/envs/Prospicio/lib/python3.10/site-packages/pandas/core/frame.py:9568\u001b[0m, in \u001b[0;36mDataFrame.apply\u001b[0;34m(self, func, axis, raw, result_type, args, **kwargs)\u001b[0m\n\u001b[1;32m   9557\u001b[0m \u001b[38;5;28;01mfrom\u001b[39;00m \u001b[38;5;21;01mpandas\u001b[39;00m\u001b[38;5;21;01m.\u001b[39;00m\u001b[38;5;21;01mcore\u001b[39;00m\u001b[38;5;21;01m.\u001b[39;00m\u001b[38;5;21;01mapply\u001b[39;00m \u001b[38;5;28;01mimport\u001b[39;00m frame_apply\n\u001b[1;32m   9559\u001b[0m op \u001b[38;5;241m=\u001b[39m frame_apply(\n\u001b[1;32m   9560\u001b[0m     \u001b[38;5;28mself\u001b[39m,\n\u001b[1;32m   9561\u001b[0m     func\u001b[38;5;241m=\u001b[39mfunc,\n\u001b[0;32m   (...)\u001b[0m\n\u001b[1;32m   9566\u001b[0m     kwargs\u001b[38;5;241m=\u001b[39mkwargs,\n\u001b[1;32m   9567\u001b[0m )\n\u001b[0;32m-> 9568\u001b[0m \u001b[38;5;28;01mreturn\u001b[39;00m \u001b[43mop\u001b[49m\u001b[38;5;241;43m.\u001b[39;49m\u001b[43mapply\u001b[49m\u001b[43m(\u001b[49m\u001b[43m)\u001b[49m\u001b[38;5;241m.\u001b[39m__finalize__(\u001b[38;5;28mself\u001b[39m, method\u001b[38;5;241m=\u001b[39m\u001b[38;5;124m\"\u001b[39m\u001b[38;5;124mapply\u001b[39m\u001b[38;5;124m\"\u001b[39m)\n",
      "File \u001b[0;32m~/.pyenv/versions/3.10.6/envs/Prospicio/lib/python3.10/site-packages/pandas/core/apply.py:764\u001b[0m, in \u001b[0;36mFrameApply.apply\u001b[0;34m(self)\u001b[0m\n\u001b[1;32m    761\u001b[0m \u001b[38;5;28;01melif\u001b[39;00m \u001b[38;5;28mself\u001b[39m\u001b[38;5;241m.\u001b[39mraw:\n\u001b[1;32m    762\u001b[0m     \u001b[38;5;28;01mreturn\u001b[39;00m \u001b[38;5;28mself\u001b[39m\u001b[38;5;241m.\u001b[39mapply_raw()\n\u001b[0;32m--> 764\u001b[0m \u001b[38;5;28;01mreturn\u001b[39;00m \u001b[38;5;28;43mself\u001b[39;49m\u001b[38;5;241;43m.\u001b[39;49m\u001b[43mapply_standard\u001b[49m\u001b[43m(\u001b[49m\u001b[43m)\u001b[49m\n",
      "File \u001b[0;32m~/.pyenv/versions/3.10.6/envs/Prospicio/lib/python3.10/site-packages/pandas/core/apply.py:891\u001b[0m, in \u001b[0;36mFrameApply.apply_standard\u001b[0;34m(self)\u001b[0m\n\u001b[1;32m    890\u001b[0m \u001b[38;5;28;01mdef\u001b[39;00m \u001b[38;5;21mapply_standard\u001b[39m(\u001b[38;5;28mself\u001b[39m):\n\u001b[0;32m--> 891\u001b[0m     results, res_index \u001b[38;5;241m=\u001b[39m \u001b[38;5;28;43mself\u001b[39;49m\u001b[38;5;241;43m.\u001b[39;49m\u001b[43mapply_series_generator\u001b[49m\u001b[43m(\u001b[49m\u001b[43m)\u001b[49m\n\u001b[1;32m    893\u001b[0m     \u001b[38;5;66;03m# wrap results\u001b[39;00m\n\u001b[1;32m    894\u001b[0m     \u001b[38;5;28;01mreturn\u001b[39;00m \u001b[38;5;28mself\u001b[39m\u001b[38;5;241m.\u001b[39mwrap_results(results, res_index)\n",
      "File \u001b[0;32m~/.pyenv/versions/3.10.6/envs/Prospicio/lib/python3.10/site-packages/pandas/core/apply.py:907\u001b[0m, in \u001b[0;36mFrameApply.apply_series_generator\u001b[0;34m(self)\u001b[0m\n\u001b[1;32m    904\u001b[0m \u001b[38;5;28;01mwith\u001b[39;00m option_context(\u001b[38;5;124m\"\u001b[39m\u001b[38;5;124mmode.chained_assignment\u001b[39m\u001b[38;5;124m\"\u001b[39m, \u001b[38;5;28;01mNone\u001b[39;00m):\n\u001b[1;32m    905\u001b[0m     \u001b[38;5;28;01mfor\u001b[39;00m i, v \u001b[38;5;129;01min\u001b[39;00m \u001b[38;5;28menumerate\u001b[39m(series_gen):\n\u001b[1;32m    906\u001b[0m         \u001b[38;5;66;03m# ignore SettingWithCopy here in case the user mutates\u001b[39;00m\n\u001b[0;32m--> 907\u001b[0m         results[i] \u001b[38;5;241m=\u001b[39m \u001b[38;5;28;43mself\u001b[39;49m\u001b[38;5;241;43m.\u001b[39;49m\u001b[43mf\u001b[49m\u001b[43m(\u001b[49m\u001b[43mv\u001b[49m\u001b[43m)\u001b[49m\n\u001b[1;32m    908\u001b[0m         \u001b[38;5;28;01mif\u001b[39;00m \u001b[38;5;28misinstance\u001b[39m(results[i], ABCSeries):\n\u001b[1;32m    909\u001b[0m             \u001b[38;5;66;03m# If we have a view on v, we need to make a copy because\u001b[39;00m\n\u001b[1;32m    910\u001b[0m             \u001b[38;5;66;03m#  series_generator will swap out the underlying data\u001b[39;00m\n\u001b[1;32m    911\u001b[0m             results[i] \u001b[38;5;241m=\u001b[39m results[i]\u001b[38;5;241m.\u001b[39mcopy(deep\u001b[38;5;241m=\u001b[39m\u001b[38;5;28;01mFalse\u001b[39;00m)\n",
      "Cell \u001b[0;32mIn[248], line 2\u001b[0m, in \u001b[0;36mmy_cleaning\u001b[0;34m(df)\u001b[0m\n\u001b[1;32m      1\u001b[0m \u001b[38;5;28;01mdef\u001b[39;00m \u001b[38;5;21mmy_cleaning\u001b[39m(df):\n\u001b[0;32m----> 2\u001b[0m     nouveau_df \u001b[38;5;241m=\u001b[39m \u001b[43mpd\u001b[49m\u001b[38;5;241;43m.\u001b[39;49m\u001b[43mDataframe\u001b[49m()\n\u001b[1;32m      3\u001b[0m     \u001b[38;5;28;01mfor\u001b[39;00m lines \u001b[38;5;129;01min\u001b[39;00m df:\n\u001b[1;32m      4\u001b[0m         \u001b[38;5;28;01mfor\u001b[39;00m values \u001b[38;5;129;01min\u001b[39;00m df\u001b[38;5;241m.\u001b[39mrounds_values:\n",
      "File \u001b[0;32m~/.pyenv/versions/3.10.6/envs/Prospicio/lib/python3.10/site-packages/pandas/__init__.py:264\u001b[0m, in \u001b[0;36m__getattr__\u001b[0;34m(name)\u001b[0m\n\u001b[1;32m    260\u001b[0m     \u001b[38;5;28;01mfrom\u001b[39;00m \u001b[38;5;21;01mpandas\u001b[39;00m\u001b[38;5;21;01m.\u001b[39;00m\u001b[38;5;21;01mcore\u001b[39;00m\u001b[38;5;21;01m.\u001b[39;00m\u001b[38;5;21;01marrays\u001b[39;00m\u001b[38;5;21;01m.\u001b[39;00m\u001b[38;5;21;01msparse\u001b[39;00m \u001b[38;5;28;01mimport\u001b[39;00m SparseArray \u001b[38;5;28;01mas\u001b[39;00m _SparseArray\n\u001b[1;32m    262\u001b[0m     \u001b[38;5;28;01mreturn\u001b[39;00m _SparseArray\n\u001b[0;32m--> 264\u001b[0m \u001b[38;5;28;01mraise\u001b[39;00m \u001b[38;5;167;01mAttributeError\u001b[39;00m(\u001b[38;5;124mf\u001b[39m\u001b[38;5;124m\"\u001b[39m\u001b[38;5;124mmodule \u001b[39m\u001b[38;5;124m'\u001b[39m\u001b[38;5;124mpandas\u001b[39m\u001b[38;5;124m'\u001b[39m\u001b[38;5;124m has no attribute \u001b[39m\u001b[38;5;124m'\u001b[39m\u001b[38;5;132;01m{\u001b[39;00mname\u001b[38;5;132;01m}\u001b[39;00m\u001b[38;5;124m'\u001b[39m\u001b[38;5;124m\"\u001b[39m)\n",
      "\u001b[0;31mAttributeError\u001b[0m: module 'pandas' has no attribute 'Dataframe'"
     ]
    }
   ],
   "source": [
    "test_final.apply(my_cleaning)"
   ]
  },
  {
   "cell_type": "code",
   "execution_count": 244,
   "id": "9bc8f7b2",
   "metadata": {},
   "outputs": [
    {
     "data": {
      "text/plain": [
       "NoneType"
      ]
     },
     "execution_count": 244,
     "metadata": {},
     "output_type": "execute_result"
    }
   ],
   "source": [
    "type(crunch_v2['rounds_values'][13][0])"
   ]
  },
  {
   "cell_type": "code",
   "execution_count": 240,
   "id": "8d6fd0f9",
   "metadata": {},
   "outputs": [
    {
     "ename": "IndexError",
     "evalue": "list index out of range",
     "output_type": "error",
     "traceback": [
      "\u001b[0;31m---------------------------------------------------------------------------\u001b[0m",
      "\u001b[0;31mIndexError\u001b[0m                                Traceback (most recent call last)",
      "Cell \u001b[0;32mIn[240], line 1\u001b[0m\n\u001b[0;32m----> 1\u001b[0m testuman \u001b[38;5;241m=\u001b[39m \u001b[43mcrunch_v2\u001b[49m\u001b[43m[\u001b[49m\u001b[38;5;124;43m'\u001b[39;49m\u001b[38;5;124;43mrounds_values\u001b[39;49m\u001b[38;5;124;43m'\u001b[39;49m\u001b[43m]\u001b[49m\u001b[38;5;241;43m.\u001b[39;49m\u001b[43mapply\u001b[49m\u001b[43m(\u001b[49m\u001b[38;5;28;43;01mlambda\u001b[39;49;00m\u001b[43m \u001b[49m\u001b[43mx\u001b[49m\u001b[43m:\u001b[49m\u001b[43m \u001b[49m\u001b[43mx\u001b[49m\u001b[43m[\u001b[49m\u001b[38;5;241;43m0\u001b[39;49m\u001b[43m]\u001b[49m\u001b[43m)\u001b[49m\n",
      "File \u001b[0;32m~/.pyenv/versions/3.10.6/envs/Prospicio/lib/python3.10/site-packages/pandas/core/series.py:4771\u001b[0m, in \u001b[0;36mSeries.apply\u001b[0;34m(self, func, convert_dtype, args, **kwargs)\u001b[0m\n\u001b[1;32m   4661\u001b[0m \u001b[38;5;28;01mdef\u001b[39;00m \u001b[38;5;21mapply\u001b[39m(\n\u001b[1;32m   4662\u001b[0m     \u001b[38;5;28mself\u001b[39m,\n\u001b[1;32m   4663\u001b[0m     func: AggFuncType,\n\u001b[0;32m   (...)\u001b[0m\n\u001b[1;32m   4666\u001b[0m     \u001b[38;5;241m*\u001b[39m\u001b[38;5;241m*\u001b[39mkwargs,\n\u001b[1;32m   4667\u001b[0m ) \u001b[38;5;241m-\u001b[39m\u001b[38;5;241m>\u001b[39m DataFrame \u001b[38;5;241m|\u001b[39m Series:\n\u001b[1;32m   4668\u001b[0m \u001b[38;5;250m    \u001b[39m\u001b[38;5;124;03m\"\"\"\u001b[39;00m\n\u001b[1;32m   4669\u001b[0m \u001b[38;5;124;03m    Invoke function on values of Series.\u001b[39;00m\n\u001b[1;32m   4670\u001b[0m \n\u001b[0;32m   (...)\u001b[0m\n\u001b[1;32m   4769\u001b[0m \u001b[38;5;124;03m    dtype: float64\u001b[39;00m\n\u001b[1;32m   4770\u001b[0m \u001b[38;5;124;03m    \"\"\"\u001b[39;00m\n\u001b[0;32m-> 4771\u001b[0m     \u001b[38;5;28;01mreturn\u001b[39;00m \u001b[43mSeriesApply\u001b[49m\u001b[43m(\u001b[49m\u001b[38;5;28;43mself\u001b[39;49m\u001b[43m,\u001b[49m\u001b[43m \u001b[49m\u001b[43mfunc\u001b[49m\u001b[43m,\u001b[49m\u001b[43m \u001b[49m\u001b[43mconvert_dtype\u001b[49m\u001b[43m,\u001b[49m\u001b[43m \u001b[49m\u001b[43margs\u001b[49m\u001b[43m,\u001b[49m\u001b[43m \u001b[49m\u001b[43mkwargs\u001b[49m\u001b[43m)\u001b[49m\u001b[38;5;241;43m.\u001b[39;49m\u001b[43mapply\u001b[49m\u001b[43m(\u001b[49m\u001b[43m)\u001b[49m\n",
      "File \u001b[0;32m~/.pyenv/versions/3.10.6/envs/Prospicio/lib/python3.10/site-packages/pandas/core/apply.py:1123\u001b[0m, in \u001b[0;36mSeriesApply.apply\u001b[0;34m(self)\u001b[0m\n\u001b[1;32m   1120\u001b[0m     \u001b[38;5;28;01mreturn\u001b[39;00m \u001b[38;5;28mself\u001b[39m\u001b[38;5;241m.\u001b[39mapply_str()\n\u001b[1;32m   1122\u001b[0m \u001b[38;5;66;03m# self.f is Callable\u001b[39;00m\n\u001b[0;32m-> 1123\u001b[0m \u001b[38;5;28;01mreturn\u001b[39;00m \u001b[38;5;28;43mself\u001b[39;49m\u001b[38;5;241;43m.\u001b[39;49m\u001b[43mapply_standard\u001b[49m\u001b[43m(\u001b[49m\u001b[43m)\u001b[49m\n",
      "File \u001b[0;32m~/.pyenv/versions/3.10.6/envs/Prospicio/lib/python3.10/site-packages/pandas/core/apply.py:1174\u001b[0m, in \u001b[0;36mSeriesApply.apply_standard\u001b[0;34m(self)\u001b[0m\n\u001b[1;32m   1172\u001b[0m     \u001b[38;5;28;01melse\u001b[39;00m:\n\u001b[1;32m   1173\u001b[0m         values \u001b[38;5;241m=\u001b[39m obj\u001b[38;5;241m.\u001b[39mastype(\u001b[38;5;28mobject\u001b[39m)\u001b[38;5;241m.\u001b[39m_values\n\u001b[0;32m-> 1174\u001b[0m         mapped \u001b[38;5;241m=\u001b[39m \u001b[43mlib\u001b[49m\u001b[38;5;241;43m.\u001b[39;49m\u001b[43mmap_infer\u001b[49m\u001b[43m(\u001b[49m\n\u001b[1;32m   1175\u001b[0m \u001b[43m            \u001b[49m\u001b[43mvalues\u001b[49m\u001b[43m,\u001b[49m\n\u001b[1;32m   1176\u001b[0m \u001b[43m            \u001b[49m\u001b[43mf\u001b[49m\u001b[43m,\u001b[49m\n\u001b[1;32m   1177\u001b[0m \u001b[43m            \u001b[49m\u001b[43mconvert\u001b[49m\u001b[38;5;241;43m=\u001b[39;49m\u001b[38;5;28;43mself\u001b[39;49m\u001b[38;5;241;43m.\u001b[39;49m\u001b[43mconvert_dtype\u001b[49m\u001b[43m,\u001b[49m\n\u001b[1;32m   1178\u001b[0m \u001b[43m        \u001b[49m\u001b[43m)\u001b[49m\n\u001b[1;32m   1180\u001b[0m \u001b[38;5;28;01mif\u001b[39;00m \u001b[38;5;28mlen\u001b[39m(mapped) \u001b[38;5;129;01mand\u001b[39;00m \u001b[38;5;28misinstance\u001b[39m(mapped[\u001b[38;5;241m0\u001b[39m], ABCSeries):\n\u001b[1;32m   1181\u001b[0m     \u001b[38;5;66;03m# GH#43986 Need to do list(mapped) in order to get treated as nested\u001b[39;00m\n\u001b[1;32m   1182\u001b[0m     \u001b[38;5;66;03m#  See also GH#25959 regarding EA support\u001b[39;00m\n\u001b[1;32m   1183\u001b[0m     \u001b[38;5;28;01mreturn\u001b[39;00m obj\u001b[38;5;241m.\u001b[39m_constructor_expanddim(\u001b[38;5;28mlist\u001b[39m(mapped), index\u001b[38;5;241m=\u001b[39mobj\u001b[38;5;241m.\u001b[39mindex)\n",
      "File \u001b[0;32m~/.pyenv/versions/3.10.6/envs/Prospicio/lib/python3.10/site-packages/pandas/_libs/lib.pyx:2924\u001b[0m, in \u001b[0;36mpandas._libs.lib.map_infer\u001b[0;34m()\u001b[0m\n",
      "Cell \u001b[0;32mIn[240], line 1\u001b[0m, in \u001b[0;36m<lambda>\u001b[0;34m(x)\u001b[0m\n\u001b[0;32m----> 1\u001b[0m testuman \u001b[38;5;241m=\u001b[39m crunch_v2[\u001b[38;5;124m'\u001b[39m\u001b[38;5;124mrounds_values\u001b[39m\u001b[38;5;124m'\u001b[39m]\u001b[38;5;241m.\u001b[39mapply(\u001b[38;5;28;01mlambda\u001b[39;00m x: \u001b[43mx\u001b[49m\u001b[43m[\u001b[49m\u001b[38;5;241;43m0\u001b[39;49m\u001b[43m]\u001b[49m)\n",
      "\u001b[0;31mIndexError\u001b[0m: list index out of range"
     ]
    }
   ],
   "source": [
    "testuman = crunch_v2['rounds_values'].apply(lambda x: )"
   ]
  },
  {
   "cell_type": "code",
   "execution_count": null,
   "id": "50d5143a",
   "metadata": {},
   "outputs": [],
   "source": []
  },
  {
   "cell_type": "code",
   "execution_count": null,
   "id": "c7f1ce7a",
   "metadata": {},
   "outputs": [],
   "source": []
  },
  {
   "cell_type": "code",
   "execution_count": null,
   "id": "260b0b95",
   "metadata": {},
   "outputs": [],
   "source": []
  },
  {
   "cell_type": "code",
   "execution_count": 81,
   "id": "0db58889",
   "metadata": {},
   "outputs": [],
   "source": [
    "something = {'students' : []}"
   ]
  },
  {
   "cell_type": "code",
   "execution_count": 82,
   "id": "78e055d8",
   "metadata": {},
   "outputs": [],
   "source": [
    "something['students'].append(tmp_value)"
   ]
  },
  {
   "cell_type": "code",
   "execution_count": 83,
   "id": "f5545393",
   "metadata": {},
   "outputs": [
    {
     "data": {
      "text/plain": [
       "{'students': [['Harsh', 'Andrew', 'Danny']]}"
      ]
     },
     "execution_count": 83,
     "metadata": {},
     "output_type": "execute_result"
    }
   ],
   "source": [
    "something"
   ]
  },
  {
   "cell_type": "code",
   "execution_count": 77,
   "id": "063c19b2",
   "metadata": {},
   "outputs": [
    {
     "data": {
      "text/plain": [
       "['Harsh', 'Andrew', 'Danny']"
      ]
     },
     "execution_count": 77,
     "metadata": {},
     "output_type": "execute_result"
    }
   ],
   "source": [
    "tmp_value"
   ]
  },
  {
   "cell_type": "code",
   "execution_count": 79,
   "id": "d290c073",
   "metadata": {},
   "outputs": [
    {
     "name": "stdout",
     "output_type": "stream",
     "text": [
      "None\n"
     ]
    }
   ],
   "source": [
    "print(tmp_value.reverse())"
   ]
  },
  {
   "cell_type": "code",
   "execution_count": 80,
   "id": "d4991ad1",
   "metadata": {},
   "outputs": [
    {
     "name": "stdout",
     "output_type": "stream",
     "text": [
      "['Danny', 'Andrew', 'Harsh']\n"
     ]
    }
   ],
   "source": [
    "Students = ['Harsh', 'Andrew', 'Danny']\n",
    "Students.reverse()\n",
    "print(Students)"
   ]
  },
  {
   "cell_type": "code",
   "execution_count": 72,
   "id": "b602cf4d",
   "metadata": {},
   "outputs": [],
   "source": [
    "other = something['students'].reverse()"
   ]
  },
  {
   "cell_type": "code",
   "execution_count": 91,
   "id": "973e48d4",
   "metadata": {},
   "outputs": [],
   "source": [
    "my_dict = {}"
   ]
  },
  {
   "cell_type": "code",
   "execution_count": 92,
   "id": "a928b58c",
   "metadata": {},
   "outputs": [],
   "source": [
    "my_dict['yo'] = 'hey'"
   ]
  },
  {
   "cell_type": "code",
   "execution_count": 93,
   "id": "84a7ab8b",
   "metadata": {},
   "outputs": [
    {
     "data": {
      "text/plain": [
       "{'yo': 'hey'}"
      ]
     },
     "execution_count": 93,
     "metadata": {},
     "output_type": "execute_result"
    }
   ],
   "source": [
    "my_dict"
   ]
  },
  {
   "cell_type": "code",
   "execution_count": 74,
   "id": "6f2e0b13",
   "metadata": {},
   "outputs": [
    {
     "name": "stdout",
     "output_type": "stream",
     "text": [
      "None\n"
     ]
    }
   ],
   "source": [
    "print(other)"
   ]
  },
  {
   "cell_type": "code",
   "execution_count": null,
   "id": "3d36e1d2",
   "metadata": {},
   "outputs": [],
   "source": [
    "tmp_dict = {}\n",
    "tmp_raised = []\n",
    "tmp_type = []"
   ]
  },
  {
   "cell_type": "code",
   "execution_count": 195,
   "id": "e24f65fe",
   "metadata": {},
   "outputs": [],
   "source": [
    "def clean_round(x):\n",
    "    tmp_dict = {}\n",
    "    tmp_raised = []\n",
    "    tmp_type = []\n",
    "    tmp_date_round = []\n",
    "    for ele in x:\n",
    "        tmp_raised.append(ele['raised'])\n",
    "        tmp_type.append(ele['type'])\n",
    "        tmp_date_round.append(ele['created_at']['$date'])\n",
    "    tmp_dict['raised'] = tmp_raised.reverse()\n",
    "    tmp_dict['type'] = tmp_type.reverse() \n",
    "    tmp_dict['date_round'] = tmp_date_round.reverse()\n",
    "    return tmp_dict"
   ]
  },
  {
   "cell_type": "code",
   "execution_count": 175,
   "id": "9e8993d7",
   "metadata": {},
   "outputs": [],
   "source": [
    "def clean_rounds_test(x):\n",
    "    tmp = {'raised': [], 'type': [], 'date_round': []}\n",
    "    for ele in x:\n",
    "        tmp['raised'].append(ele['raised'])\n",
    "        tmp['type'].append(ele['type'])\n",
    "        tmp['date_round'].append(ele['created_at']['$date'])\n",
    "    for k, v in tmp.items():\n",
    "        tmp[k]['$date'] = v.reverse()\n",
    "    #for ele in sorted(tmp, key=lambda ele: ele['created_at']['$date']):\n",
    "    \n",
    "    return tmp"
   ]
  },
  {
   "cell_type": "code",
   "execution_count": 181,
   "id": "544c394d",
   "metadata": {
    "scrolled": true
   },
   "outputs": [],
   "source": [
    "my_super_test_test = crunch_v2['rounds'][:10].apply(clean_rounds)"
   ]
  },
  {
   "cell_type": "code",
   "execution_count": 182,
   "id": "c0b17b48",
   "metadata": {},
   "outputs": [
    {
     "data": {
      "text/plain": [
       "{'raised': [None, 3493911.4794740295, 2000000],\n",
       " 'type': ['series_unknown', 'post_ipo_equity', 'post_ipo_equity'],\n",
       " 'date_round': ['1996-01-01T00:00:00Z',\n",
       "  '2012-08-16T00:00:00Z',\n",
       "  '2018-07-24T00:00:00Z']}"
      ]
     },
     "execution_count": 182,
     "metadata": {},
     "output_type": "execute_result"
    }
   ],
   "source": [
    "my_super_test_test[75]"
   ]
  },
  {
   "cell_type": "code",
   "execution_count": 155,
   "id": "68001c1c",
   "metadata": {},
   "outputs": [
    {
     "data": {
      "text/plain": [
       "list"
      ]
     },
     "execution_count": 155,
     "metadata": {},
     "output_type": "execute_result"
    }
   ],
   "source": [
    "type(crunch_v2['rounds'][:10][75])"
   ]
  },
  {
   "cell_type": "code",
   "execution_count": 153,
   "id": "f87c6c1d",
   "metadata": {},
   "outputs": [],
   "source": [
    "x = [1],[2],[3]"
   ]
  },
  {
   "cell_type": "code",
   "execution_count": 156,
   "id": "876e9c28",
   "metadata": {},
   "outputs": [
    {
     "data": {
      "text/plain": [
       "tuple"
      ]
     },
     "execution_count": 156,
     "metadata": {},
     "output_type": "execute_result"
    }
   ],
   "source": [
    "type(x)"
   ]
  },
  {
   "cell_type": "code",
   "execution_count": 169,
   "id": "0c95bfdd",
   "metadata": {},
   "outputs": [
    {
     "data": {
      "text/plain": [
       "{'raised': [2000000, 3493911.4794740295, None],\n",
       " 'type': ['post_ipo_equity', 'post_ipo_equity', 'series_unknown'],\n",
       " 'date_round': ['2018-07-24T00:00:00Z',\n",
       "  '2012-08-16T00:00:00Z',\n",
       "  '1996-01-01T00:00:00Z']}"
      ]
     },
     "execution_count": 169,
     "metadata": {},
     "output_type": "execute_result"
    }
   ],
   "source": [
    "my_super_test[75]"
   ]
  },
  {
   "cell_type": "code",
   "execution_count": 158,
   "id": "228487a7",
   "metadata": {},
   "outputs": [
    {
     "data": {
      "text/plain": [
       "{'raised': None, 'type': None, 'date_round': None}"
      ]
     },
     "execution_count": 158,
     "metadata": {},
     "output_type": "execute_result"
    }
   ],
   "source": [
    "my_super_test[75]"
   ]
  },
  {
   "cell_type": "code",
   "execution_count": 125,
   "id": "d54e8085",
   "metadata": {},
   "outputs": [],
   "source": [
    "x = [[{'raised': 12, 'type': 'b', 'created_at': 2023}],\n",
    "    [{'raised': 13, 'type': 'b', 'created_at': 2020 }],\n",
    "    [{'raised': 15, 'type': 'a', 'created_at': 2021}]]"
   ]
  },
  {
   "cell_type": "code",
   "execution_count": 134,
   "id": "2736cc50",
   "metadata": {},
   "outputs": [
    {
     "name": "stdout",
     "output_type": "stream",
     "text": [
      "{'raised': 13, 'type': 'b', 'created_at': 2020}\n",
      "{'raised': 15, 'type': 'a', 'created_at': 2021}\n",
      "{'raised': 12, 'type': 'b', 'created_at': 2023}\n"
     ]
    }
   ],
   "source": [
    "x = [ele[0] for ele in x]\n",
    "for ele in sorted(x, key=lambda ele: ele['created_at']):\n",
    "   print(ele)"
   ]
  },
  {
   "cell_type": "code",
   "execution_count": 123,
   "id": "f9f107c5",
   "metadata": {},
   "outputs": [
    {
     "ename": "TypeError",
     "evalue": "'<' not supported between instances of 'dict' and 'dict'",
     "output_type": "error",
     "traceback": [
      "\u001b[0;31m---------------------------------------------------------------------------\u001b[0m",
      "\u001b[0;31mTypeError\u001b[0m                                 Traceback (most recent call last)",
      "Cell \u001b[0;32mIn[123], line 1\u001b[0m\n\u001b[0;32m----> 1\u001b[0m \u001b[38;5;28;43msorted\u001b[39;49m\u001b[43m(\u001b[49m\u001b[43mx\u001b[49m\u001b[43m)\u001b[49m\n",
      "\u001b[0;31mTypeError\u001b[0m: '<' not supported between instances of 'dict' and 'dict'"
     ]
    }
   ],
   "source": [
    "sorted(x)"
   ]
  },
  {
   "cell_type": "code",
   "execution_count": 126,
   "id": "2ff646ce",
   "metadata": {},
   "outputs": [],
   "source": [
    "def clean_rounds_v2(x):\n",
    "   \n",
    "   for ele in sorted(x, key=lambda ele: ele['created_at']):\n",
    "       print(ele)"
   ]
  },
  {
   "cell_type": "code",
   "execution_count": 135,
   "id": "aa3b7fe6",
   "metadata": {},
   "outputs": [],
   "source": [
    "def clean_rounds_final(x):\n",
    "    x = [ele for ele in x]\n",
    "    for ele in sorted(x, key=lambda ele: ele['created_at']):\n",
    "       print(ele)"
   ]
  },
  {
   "cell_type": "code",
   "execution_count": 136,
   "id": "6aae7396",
   "metadata": {},
   "outputs": [
    {
     "name": "stdout",
     "output_type": "stream",
     "text": [
      "{'name': 'Convertible Note - 00K E-Commerce Tools', 'link': '00k-e-commerce-tools-convertible-note--f638bf3e', 'leads': [], 'investors': [{'investor': {'name': 'Mercado Libre Fund', 'link': 'mercado-libre-s-fund', 'type': 'organization'}, 'partners': []}], 'created_at': {'$date': '2015-08-01T00:00:00Z'}, 'pre_money': None, 'raised': None, 'type': 'convertible_note'}\n"
     ]
    },
    {
     "ename": "TypeError",
     "evalue": "'<' not supported between instances of 'dict' and 'dict'",
     "output_type": "error",
     "traceback": [
      "\u001b[0;31m---------------------------------------------------------------------------\u001b[0m",
      "\u001b[0;31mTypeError\u001b[0m                                 Traceback (most recent call last)",
      "Cell \u001b[0;32mIn[136], line 1\u001b[0m\n\u001b[0;32m----> 1\u001b[0m testamundo \u001b[38;5;241m=\u001b[39m \u001b[43mcrunch_v2\u001b[49m\u001b[43m[\u001b[49m\u001b[38;5;124;43m'\u001b[39;49m\u001b[38;5;124;43mrounds\u001b[39;49m\u001b[38;5;124;43m'\u001b[39;49m\u001b[43m]\u001b[49m\u001b[43m[\u001b[49m\u001b[43m:\u001b[49m\u001b[38;5;241;43m10\u001b[39;49m\u001b[43m]\u001b[49m\u001b[38;5;241;43m.\u001b[39;49m\u001b[43mapply\u001b[49m\u001b[43m(\u001b[49m\u001b[43mclean_rounds_final\u001b[49m\u001b[43m)\u001b[49m\n",
      "File \u001b[0;32m~/.pyenv/versions/3.10.6/envs/Prospicio/lib/python3.10/site-packages/pandas/core/series.py:4771\u001b[0m, in \u001b[0;36mSeries.apply\u001b[0;34m(self, func, convert_dtype, args, **kwargs)\u001b[0m\n\u001b[1;32m   4661\u001b[0m \u001b[38;5;28;01mdef\u001b[39;00m \u001b[38;5;21mapply\u001b[39m(\n\u001b[1;32m   4662\u001b[0m     \u001b[38;5;28mself\u001b[39m,\n\u001b[1;32m   4663\u001b[0m     func: AggFuncType,\n\u001b[0;32m   (...)\u001b[0m\n\u001b[1;32m   4666\u001b[0m     \u001b[38;5;241m*\u001b[39m\u001b[38;5;241m*\u001b[39mkwargs,\n\u001b[1;32m   4667\u001b[0m ) \u001b[38;5;241m-\u001b[39m\u001b[38;5;241m>\u001b[39m DataFrame \u001b[38;5;241m|\u001b[39m Series:\n\u001b[1;32m   4668\u001b[0m \u001b[38;5;250m    \u001b[39m\u001b[38;5;124;03m\"\"\"\u001b[39;00m\n\u001b[1;32m   4669\u001b[0m \u001b[38;5;124;03m    Invoke function on values of Series.\u001b[39;00m\n\u001b[1;32m   4670\u001b[0m \n\u001b[0;32m   (...)\u001b[0m\n\u001b[1;32m   4769\u001b[0m \u001b[38;5;124;03m    dtype: float64\u001b[39;00m\n\u001b[1;32m   4770\u001b[0m \u001b[38;5;124;03m    \"\"\"\u001b[39;00m\n\u001b[0;32m-> 4771\u001b[0m     \u001b[38;5;28;01mreturn\u001b[39;00m \u001b[43mSeriesApply\u001b[49m\u001b[43m(\u001b[49m\u001b[38;5;28;43mself\u001b[39;49m\u001b[43m,\u001b[49m\u001b[43m \u001b[49m\u001b[43mfunc\u001b[49m\u001b[43m,\u001b[49m\u001b[43m \u001b[49m\u001b[43mconvert_dtype\u001b[49m\u001b[43m,\u001b[49m\u001b[43m \u001b[49m\u001b[43margs\u001b[49m\u001b[43m,\u001b[49m\u001b[43m \u001b[49m\u001b[43mkwargs\u001b[49m\u001b[43m)\u001b[49m\u001b[38;5;241;43m.\u001b[39;49m\u001b[43mapply\u001b[49m\u001b[43m(\u001b[49m\u001b[43m)\u001b[49m\n",
      "File \u001b[0;32m~/.pyenv/versions/3.10.6/envs/Prospicio/lib/python3.10/site-packages/pandas/core/apply.py:1123\u001b[0m, in \u001b[0;36mSeriesApply.apply\u001b[0;34m(self)\u001b[0m\n\u001b[1;32m   1120\u001b[0m     \u001b[38;5;28;01mreturn\u001b[39;00m \u001b[38;5;28mself\u001b[39m\u001b[38;5;241m.\u001b[39mapply_str()\n\u001b[1;32m   1122\u001b[0m \u001b[38;5;66;03m# self.f is Callable\u001b[39;00m\n\u001b[0;32m-> 1123\u001b[0m \u001b[38;5;28;01mreturn\u001b[39;00m \u001b[38;5;28;43mself\u001b[39;49m\u001b[38;5;241;43m.\u001b[39;49m\u001b[43mapply_standard\u001b[49m\u001b[43m(\u001b[49m\u001b[43m)\u001b[49m\n",
      "File \u001b[0;32m~/.pyenv/versions/3.10.6/envs/Prospicio/lib/python3.10/site-packages/pandas/core/apply.py:1174\u001b[0m, in \u001b[0;36mSeriesApply.apply_standard\u001b[0;34m(self)\u001b[0m\n\u001b[1;32m   1172\u001b[0m     \u001b[38;5;28;01melse\u001b[39;00m:\n\u001b[1;32m   1173\u001b[0m         values \u001b[38;5;241m=\u001b[39m obj\u001b[38;5;241m.\u001b[39mastype(\u001b[38;5;28mobject\u001b[39m)\u001b[38;5;241m.\u001b[39m_values\n\u001b[0;32m-> 1174\u001b[0m         mapped \u001b[38;5;241m=\u001b[39m \u001b[43mlib\u001b[49m\u001b[38;5;241;43m.\u001b[39;49m\u001b[43mmap_infer\u001b[49m\u001b[43m(\u001b[49m\n\u001b[1;32m   1175\u001b[0m \u001b[43m            \u001b[49m\u001b[43mvalues\u001b[49m\u001b[43m,\u001b[49m\n\u001b[1;32m   1176\u001b[0m \u001b[43m            \u001b[49m\u001b[43mf\u001b[49m\u001b[43m,\u001b[49m\n\u001b[1;32m   1177\u001b[0m \u001b[43m            \u001b[49m\u001b[43mconvert\u001b[49m\u001b[38;5;241;43m=\u001b[39;49m\u001b[38;5;28;43mself\u001b[39;49m\u001b[38;5;241;43m.\u001b[39;49m\u001b[43mconvert_dtype\u001b[49m\u001b[43m,\u001b[49m\n\u001b[1;32m   1178\u001b[0m \u001b[43m        \u001b[49m\u001b[43m)\u001b[49m\n\u001b[1;32m   1180\u001b[0m \u001b[38;5;28;01mif\u001b[39;00m \u001b[38;5;28mlen\u001b[39m(mapped) \u001b[38;5;129;01mand\u001b[39;00m \u001b[38;5;28misinstance\u001b[39m(mapped[\u001b[38;5;241m0\u001b[39m], ABCSeries):\n\u001b[1;32m   1181\u001b[0m     \u001b[38;5;66;03m# GH#43986 Need to do list(mapped) in order to get treated as nested\u001b[39;00m\n\u001b[1;32m   1182\u001b[0m     \u001b[38;5;66;03m#  See also GH#25959 regarding EA support\u001b[39;00m\n\u001b[1;32m   1183\u001b[0m     \u001b[38;5;28;01mreturn\u001b[39;00m obj\u001b[38;5;241m.\u001b[39m_constructor_expanddim(\u001b[38;5;28mlist\u001b[39m(mapped), index\u001b[38;5;241m=\u001b[39mobj\u001b[38;5;241m.\u001b[39mindex)\n",
      "File \u001b[0;32m~/.pyenv/versions/3.10.6/envs/Prospicio/lib/python3.10/site-packages/pandas/_libs/lib.pyx:2924\u001b[0m, in \u001b[0;36mpandas._libs.lib.map_infer\u001b[0;34m()\u001b[0m\n",
      "Cell \u001b[0;32mIn[135], line 3\u001b[0m, in \u001b[0;36mclean_rounds_final\u001b[0;34m(x)\u001b[0m\n\u001b[1;32m      1\u001b[0m \u001b[38;5;28;01mdef\u001b[39;00m \u001b[38;5;21mclean_rounds_final\u001b[39m(x):\n\u001b[1;32m      2\u001b[0m     x \u001b[38;5;241m=\u001b[39m [ele \u001b[38;5;28;01mfor\u001b[39;00m ele \u001b[38;5;129;01min\u001b[39;00m x]\n\u001b[0;32m----> 3\u001b[0m     \u001b[38;5;28;01mfor\u001b[39;00m ele \u001b[38;5;129;01min\u001b[39;00m \u001b[38;5;28;43msorted\u001b[39;49m\u001b[43m(\u001b[49m\u001b[43mx\u001b[49m\u001b[43m,\u001b[49m\u001b[43m \u001b[49m\u001b[43mkey\u001b[49m\u001b[38;5;241;43m=\u001b[39;49m\u001b[38;5;28;43;01mlambda\u001b[39;49;00m\u001b[43m \u001b[49m\u001b[43mele\u001b[49m\u001b[43m:\u001b[49m\u001b[43m \u001b[49m\u001b[43mele\u001b[49m\u001b[43m[\u001b[49m\u001b[38;5;124;43m'\u001b[39;49m\u001b[38;5;124;43mcreated_at\u001b[39;49m\u001b[38;5;124;43m'\u001b[39;49m\u001b[43m]\u001b[49m\u001b[43m)\u001b[49m:\n\u001b[1;32m      4\u001b[0m        \u001b[38;5;28mprint\u001b[39m(ele)\n",
      "\u001b[0;31mTypeError\u001b[0m: '<' not supported between instances of 'dict' and 'dict'"
     ]
    }
   ],
   "source": [
    "testamundo = crunch_v2['rounds'][:10].apply(clean_rounds_final)"
   ]
  },
  {
   "cell_type": "code",
   "execution_count": 127,
   "id": "3d4eadca",
   "metadata": {},
   "outputs": [
    {
     "ename": "TypeError",
     "evalue": "list indices must be integers or slices, not str",
     "output_type": "error",
     "traceback": [
      "\u001b[0;31m---------------------------------------------------------------------------\u001b[0m",
      "\u001b[0;31mTypeError\u001b[0m                                 Traceback (most recent call last)",
      "Cell \u001b[0;32mIn[127], line 1\u001b[0m\n\u001b[0;32m----> 1\u001b[0m blob \u001b[38;5;241m=\u001b[39m \u001b[43mclean_rounds_v2\u001b[49m\u001b[43m(\u001b[49m\u001b[43mx\u001b[49m\u001b[43m)\u001b[49m\n",
      "Cell \u001b[0;32mIn[126], line 3\u001b[0m, in \u001b[0;36mclean_rounds_v2\u001b[0;34m(x)\u001b[0m\n\u001b[1;32m      1\u001b[0m \u001b[38;5;28;01mdef\u001b[39;00m \u001b[38;5;21mclean_rounds_v2\u001b[39m(x):\n\u001b[0;32m----> 3\u001b[0m    \u001b[38;5;28;01mfor\u001b[39;00m ele \u001b[38;5;129;01min\u001b[39;00m \u001b[38;5;28;43msorted\u001b[39;49m\u001b[43m(\u001b[49m\u001b[43mx\u001b[49m\u001b[43m,\u001b[49m\u001b[43m \u001b[49m\u001b[43mkey\u001b[49m\u001b[38;5;241;43m=\u001b[39;49m\u001b[38;5;28;43;01mlambda\u001b[39;49;00m\u001b[43m \u001b[49m\u001b[43mele\u001b[49m\u001b[43m:\u001b[49m\u001b[43m \u001b[49m\u001b[43mele\u001b[49m\u001b[43m[\u001b[49m\u001b[38;5;124;43m'\u001b[39;49m\u001b[38;5;124;43mcreated_at\u001b[39;49m\u001b[38;5;124;43m'\u001b[39;49m\u001b[43m]\u001b[49m\u001b[43m)\u001b[49m:\n\u001b[1;32m      4\u001b[0m        \u001b[38;5;28mprint\u001b[39m(ele)\n",
      "Cell \u001b[0;32mIn[126], line 3\u001b[0m, in \u001b[0;36mclean_rounds_v2.<locals>.<lambda>\u001b[0;34m(ele)\u001b[0m\n\u001b[1;32m      1\u001b[0m \u001b[38;5;28;01mdef\u001b[39;00m \u001b[38;5;21mclean_rounds_v2\u001b[39m(x):\n\u001b[0;32m----> 3\u001b[0m    \u001b[38;5;28;01mfor\u001b[39;00m ele \u001b[38;5;129;01min\u001b[39;00m \u001b[38;5;28msorted\u001b[39m(x, key\u001b[38;5;241m=\u001b[39m\u001b[38;5;28;01mlambda\u001b[39;00m ele: \u001b[43mele\u001b[49m\u001b[43m[\u001b[49m\u001b[38;5;124;43m'\u001b[39;49m\u001b[38;5;124;43mcreated_at\u001b[39;49m\u001b[38;5;124;43m'\u001b[39;49m\u001b[43m]\u001b[49m):\n\u001b[1;32m      4\u001b[0m        \u001b[38;5;28mprint\u001b[39m(ele)\n",
      "\u001b[0;31mTypeError\u001b[0m: list indices must be integers or slices, not str"
     ]
    }
   ],
   "source": [
    "blob = clean_rounds_v2(x)"
   ]
  },
  {
   "cell_type": "code",
   "execution_count": 121,
   "id": "7b77b2ca",
   "metadata": {},
   "outputs": [
    {
     "data": {
      "text/plain": [
       "NoneType"
      ]
     },
     "execution_count": 121,
     "metadata": {},
     "output_type": "execute_result"
    }
   ],
   "source": [
    "type(blob)"
   ]
  },
  {
   "cell_type": "code",
   "execution_count": null,
   "id": "70f3b5ed",
   "metadata": {},
   "outputs": [],
   "source": [
    "x = [ele[0] for ele in x]\n",
    "for ele in sorted(x, key=lambda ele: ele['created_at']):\n",
    "   print(ele)"
   ]
  },
  {
   "cell_type": "code",
   "execution_count": 131,
   "id": "9a54d540",
   "metadata": {},
   "outputs": [
    {
     "data": {
      "text/plain": [
       "[{'name': 'Post-IPO Equity - 01 Communique',\n",
       "  'link': '01-communique-post-ipo-equity--fc72de43',\n",
       "  'leads': [],\n",
       "  'investors': [{'investor': {'name': 'Richardson GMP',\n",
       "     'link': 'richardson-gmp',\n",
       "     'type': 'organization'},\n",
       "    'partners': []}],\n",
       "  'created_at': {'$date': '2018-07-24T00:00:00Z'},\n",
       "  'pre_money': None,\n",
       "  'raised': 2000000,\n",
       "  'type': 'post_ipo_equity'},\n",
       " {'name': 'Post-IPO Equity - 01 Communique',\n",
       "  'link': '01-communique-post-ipo-equity--3c799183',\n",
       "  'leads': [{'name': 'Clarus Securities',\n",
       "    'link': 'clarus-securities',\n",
       "    'type': 'organization',\n",
       "    'description': 'Once an opportunity is identified, we seek to become the dominant trader in the equity by employing a uniquely focused concentration.'}],\n",
       "  'investors': [{'investor': {'name': 'Paradigm Capital',\n",
       "     'link': 'paradigm-capital',\n",
       "     'type': 'organization'},\n",
       "    'partners': []},\n",
       "   {'investor': {'name': 'NCP Northland Capital Partners',\n",
       "     'link': 'ncp-northland-capital-partners',\n",
       "     'type': 'organization'},\n",
       "    'partners': []},\n",
       "   {'investor': {'name': 'MGI Securities',\n",
       "     'link': 'mgi-securities',\n",
       "     'type': 'organization'},\n",
       "    'partners': []},\n",
       "   {'investor': {'name': 'Clarus Securities',\n",
       "     'link': 'clarus-securities',\n",
       "     'type': 'organization'},\n",
       "    'partners': []}],\n",
       "  'created_at': {'$date': '2012-08-16T00:00:00Z'},\n",
       "  'pre_money': None,\n",
       "  'raised': 3493911.4794740295,\n",
       "  'type': 'post_ipo_equity'},\n",
       " {'name': 'Venture Round - 01 Communique',\n",
       "  'link': '01-communique-series-unknown--b7e82cea',\n",
       "  'leads': [],\n",
       "  'investors': [{'investor': {'name': 'BEST Funds',\n",
       "     'link': 'best-funds',\n",
       "     'type': 'organization'},\n",
       "    'partners': []}],\n",
       "  'created_at': {'$date': '1996-01-01T00:00:00Z'},\n",
       "  'pre_money': None,\n",
       "  'raised': None,\n",
       "  'type': 'series_unknown'}]"
      ]
     },
     "execution_count": 131,
     "metadata": {},
     "output_type": "execute_result"
    }
   ],
   "source": [
    "crunch_v2['rounds'].apply()"
   ]
  },
  {
   "cell_type": "code",
   "execution_count": 88,
   "id": "b4f899ba",
   "metadata": {},
   "outputs": [
    {
     "data": {
      "text/plain": [
       "13     {'raised': None, 'type': None, 'date_round': N...\n",
       "42     {'raised': None, 'type': None, 'date_round': N...\n",
       "67     {'raised': None, 'type': None, 'date_round': N...\n",
       "75     {'raised': None, 'type': None, 'date_round': N...\n",
       "88     {'raised': None, 'type': None, 'date_round': N...\n",
       "95     {'raised': None, 'type': None, 'date_round': N...\n",
       "103    {'raised': None, 'type': None, 'date_round': N...\n",
       "122    {'raised': None, 'type': None, 'date_round': N...\n",
       "124    {'raised': None, 'type': None, 'date_round': N...\n",
       "147    {'raised': None, 'type': None, 'date_round': N...\n",
       "Name: rounds, dtype: object"
      ]
     },
     "execution_count": 88,
     "metadata": {},
     "output_type": "execute_result"
    }
   ],
   "source": [
    "my_super_test"
   ]
  },
  {
   "cell_type": "code",
   "execution_count": null,
   "id": "4333af11",
   "metadata": {},
   "outputs": [],
   "source": [
    "crunch_v2['rounds_cleaned']= crunch_v2['rounds'].apply(clean_rounds)"
   ]
  },
  {
   "cell_type": "code",
   "execution_count": null,
   "id": "1eb769b9",
   "metadata": {},
   "outputs": [],
   "source": [
    "crunch_v2"
   ]
  },
  {
   "cell_type": "markdown",
   "id": "36cb7393",
   "metadata": {},
   "source": [
    "### Drop column "
   ]
  },
  {
   "cell_type": "code",
   "execution_count": null,
   "id": "ff21e524",
   "metadata": {},
   "outputs": [],
   "source": [
    "crunch_v2 = crunch_v2.drop(columns=['rounds'])"
   ]
  },
  {
   "cell_type": "code",
   "execution_count": null,
   "id": "6c0aaf67",
   "metadata": {},
   "outputs": [],
   "source": [
    "crunch_v2['rounds_cleaned'][1312185]"
   ]
  },
  {
   "cell_type": "code",
   "execution_count": null,
   "id": "e02b77c3",
   "metadata": {},
   "outputs": [],
   "source": []
  },
  {
   "cell_type": "code",
   "execution_count": null,
   "id": "6dab453d",
   "metadata": {},
   "outputs": [],
   "source": [
    "for i in range(10):\n",
    "    print(f\"this is round {i}\")\n",
    "    print(crunch_v2[crunch_v2['nb_rounds'].notna()]['nb_rounds'].iloc[i])\n",
    "    print()"
   ]
  },
  {
   "cell_type": "code",
   "execution_count": null,
   "id": "1ac6a305",
   "metadata": {},
   "outputs": [],
   "source": [
    "for i in range(10):\n",
    "    print(f\"this is round {i}\")\n",
    "    print(crunch_v2[crunch_v2['rounds'].notna()]['rounds'].iloc[i])\n",
    "    print()"
   ]
  },
  {
   "cell_type": "code",
   "execution_count": null,
   "id": "325fff4b",
   "metadata": {},
   "outputs": [],
   "source": [
    "(crunch_v2['scraped_profile']==1.0).value_counts()"
   ]
  },
  {
   "cell_type": "code",
   "execution_count": null,
   "id": "a8bdb79e",
   "metadata": {},
   "outputs": [],
   "source": [
    "crunch_v2['created_at'].str.contains('2020').value_counts()"
   ]
  },
  {
   "cell_type": "code",
   "execution_count": null,
   "id": "1c0bccb7",
   "metadata": {},
   "outputs": [],
   "source": [
    "crunch_v2['rounds'].head(60)[13]"
   ]
  }
 ],
 "metadata": {
  "kernelspec": {
   "display_name": "Python 3 (ipykernel)",
   "language": "python",
   "name": "python3"
  },
  "language_info": {
   "codemirror_mode": {
    "name": "ipython",
    "version": 3
   },
   "file_extension": ".py",
   "mimetype": "text/x-python",
   "name": "python",
   "nbconvert_exporter": "python",
   "pygments_lexer": "ipython3",
   "version": "3.10.6"
  },
  "toc": {
   "base_numbering": 1,
   "nav_menu": {},
   "number_sections": true,
   "sideBar": true,
   "skip_h1_title": false,
   "title_cell": "Table of Contents",
   "title_sidebar": "Contents",
   "toc_cell": false,
   "toc_position": {},
   "toc_section_display": true,
   "toc_window_display": false
  }
 },
 "nbformat": 4,
 "nbformat_minor": 5
}
