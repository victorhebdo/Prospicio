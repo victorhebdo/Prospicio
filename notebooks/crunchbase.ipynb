{
 "cells": [
  {
   "cell_type": "markdown",
   "id": "f4d77304",
   "metadata": {},
   "source": [
    "# Review of content"
   ]
  },
  {
   "cell_type": "markdown",
   "id": "7f07a045",
   "metadata": {},
   "source": [
    "## Boolean Mask and Boxplot for outliers"
   ]
  },
  {
   "cell_type": "code",
   "execution_count": 7,
   "id": "e0192112",
   "metadata": {},
   "outputs": [
    {
     "ename": "NameError",
     "evalue": "name 'data' is not defined",
     "output_type": "error",
     "traceback": [
      "\u001b[0;31m---------------------------------------------------------------------------\u001b[0m",
      "\u001b[0;31mNameError\u001b[0m                                 Traceback (most recent call last)",
      "Cell \u001b[0;32mIn[7], line 6\u001b[0m\n\u001b[1;32m      1\u001b[0m \u001b[38;5;66;03m#sns.histplot(data['GrLivArea'], bins=200,kde = True); #for distribution\u001b[39;00m\n\u001b[1;32m      2\u001b[0m \u001b[38;5;66;03m#sns.boxplot(data=data, x='GrLivArea') #for outliers\u001b[39;00m\n\u001b[1;32m      3\u001b[0m \u001b[38;5;66;03m# Saving the indexes corresponding to rows \u001b[39;00m\n\u001b[1;32m      4\u001b[0m \u001b[38;5;66;03m# without the absurd -1 value\u001b[39;00m\n\u001b[1;32m      5\u001b[0m \u001b[38;5;66;03m# and without the mansion\u001b[39;00m\n\u001b[0;32m----> 6\u001b[0m boolean_mask \u001b[38;5;241m=\u001b[39m (\u001b[43mdata\u001b[49m[\u001b[38;5;124m'\u001b[39m\u001b[38;5;124mGrLivArea\u001b[39m\u001b[38;5;124m'\u001b[39m]\u001b[38;5;241m>\u001b[39m\u001b[38;5;241m0\u001b[39m) \u001b[38;5;241m&\u001b[39m (data[\u001b[38;5;124m'\u001b[39m\u001b[38;5;124mGrLivArea\u001b[39m\u001b[38;5;124m'\u001b[39m]\u001b[38;5;241m<\u001b[39m\u001b[38;5;241m5000\u001b[39m)\n\u001b[1;32m      8\u001b[0m \u001b[38;5;66;03m# Applying the boolean filteraing\u001b[39;00m\n\u001b[1;32m      9\u001b[0m data \u001b[38;5;241m=\u001b[39m data[boolean_mask]\u001b[38;5;241m.\u001b[39mreset_index(drop\u001b[38;5;241m=\u001b[39m\u001b[38;5;28;01mTrue\u001b[39;00m)\n",
      "\u001b[0;31mNameError\u001b[0m: name 'data' is not defined"
     ]
    }
   ],
   "source": [
    "#sns.histplot(data['GrLivArea'], bins=200,kde = True); #for distribution\n",
    "#sns.boxplot(data=data, x='GrLivArea') #for outliers\n",
    "# Saving the indexes corresponding to rows \n",
    "# without the absurd -1 value\n",
    "# and without the mansion\n",
    "boolean_mask = (data['GrLivArea']>0) & (data['GrLivArea']<5000)\n",
    "\n",
    "# Applying the boolean filteraing\n",
    "data = data[boolean_mask].reset_index(drop=True)\n",
    "\n",
    "# Visualize boxplot again\n",
    "data[['GrLivArea']].boxplot(); "
   ]
  },
  {
   "cell_type": "markdown",
   "id": "fc1148e6",
   "metadata": {},
   "source": [
    "## Scaler"
   ]
  },
  {
   "cell_type": "code",
   "execution_count": 25,
   "id": "6b5a98ad",
   "metadata": {},
   "outputs": [
    {
     "ename": "NameError",
     "evalue": "name 'RobustScaler' is not defined",
     "output_type": "error",
     "traceback": [
      "\u001b[0;31m---------------------------------------------------------------------------\u001b[0m",
      "\u001b[0;31mNameError\u001b[0m                                 Traceback (most recent call last)",
      "Cell \u001b[0;32mIn[25], line 1\u001b[0m\n\u001b[0;32m----> 1\u001b[0m rb_scaler \u001b[38;5;241m=\u001b[39m \u001b[43mRobustScaler\u001b[49m() \n\u001b[1;32m      3\u001b[0m \u001b[38;5;66;03m# Step 1- Fit the scaler to the `GrLiveArea`\u001b[39;00m\n\u001b[1;32m      4\u001b[0m \u001b[38;5;66;03m# to \"learn\" the median value and the IQR\u001b[39;00m\n\u001b[1;32m      6\u001b[0m rb_scaler\u001b[38;5;241m.\u001b[39mfit(data[[\u001b[38;5;124m'\u001b[39m\u001b[38;5;124mGrLivArea\u001b[39m\u001b[38;5;124m'\u001b[39m]]) \n",
      "\u001b[0;31mNameError\u001b[0m: name 'RobustScaler' is not defined"
     ]
    }
   ],
   "source": [
    "\n",
    "\n",
    "rb_scaler = RobustScaler() \n",
    "\n",
    "# Step 1- Fit the scaler to the `GrLiveArea`\n",
    "# to \"learn\" the median value and the IQR\n",
    "\n",
    "rb_scaler.fit(data[['GrLivArea']]) \n",
    "\n",
    "# 2-Scale/Transform\n",
    "# <-> apply the transformation (value - median) / IQR for every house\n",
    "\n",
    "data['GrLivArea'] = rb_scaler.transform(data[['GrLivArea']]) \n",
    "\n",
    "data.head()"
   ]
  },
  {
   "cell_type": "markdown",
   "id": "e5fcb1d9",
   "metadata": {},
   "source": [
    "## One Hot Encoder"
   ]
  },
  {
   "cell_type": "code",
   "execution_count": 26,
   "id": "6c3359d4",
   "metadata": {},
   "outputs": [
    {
     "ename": "NameError",
     "evalue": "name 'data' is not defined",
     "output_type": "error",
     "traceback": [
      "\u001b[0;31m---------------------------------------------------------------------------\u001b[0m",
      "\u001b[0;31mNameError\u001b[0m                                 Traceback (most recent call last)",
      "Cell \u001b[0;32mIn[26], line 2\u001b[0m\n\u001b[1;32m      1\u001b[0m \u001b[38;5;66;03m# Check unique values for streets (3)\u001b[39;00m\n\u001b[0;32m----> 2\u001b[0m \u001b[38;5;28mprint\u001b[39m(\u001b[38;5;124mf\u001b[39m\u001b[38;5;124m\"\u001b[39m\u001b[38;5;124mThe unique values for \u001b[39m\u001b[38;5;124m'\u001b[39m\u001b[38;5;124mStreet\u001b[39m\u001b[38;5;124m'\u001b[39m\u001b[38;5;124m are \u001b[39m\u001b[38;5;132;01m{\u001b[39;00m\u001b[43mdata\u001b[49m\u001b[38;5;241m.\u001b[39mAlley\u001b[38;5;241m.\u001b[39munique()\u001b[38;5;132;01m}\u001b[39;00m\u001b[38;5;124m\"\u001b[39m)\n\u001b[1;32m      4\u001b[0m \u001b[38;5;66;03m# Instantiate the OneHotEncoder\u001b[39;00m\n\u001b[1;32m      5\u001b[0m ohe \u001b[38;5;241m=\u001b[39m OneHotEncoder(sparse \u001b[38;5;241m=\u001b[39m \u001b[38;5;28;01mFalse\u001b[39;00m) \n",
      "\u001b[0;31mNameError\u001b[0m: name 'data' is not defined"
     ]
    }
   ],
   "source": [
    "# Check unique values for streets (3)\n",
    "print(f\"The unique values for 'Street' are {data.Alley.unique()}\")\n",
    "\n",
    "# Instantiate the OneHotEncoder\n",
    "ohe = OneHotEncoder(sparse = False) \n",
    "\n",
    "# Fit encoder\n",
    "ohe.fit(data[['Alley']]) \n",
    "\n",
    "# Display the detected categories\n",
    "print(f\"The categories detected by the OneHotEncoder are {ohe.categories_}\")\n",
    "\n",
    "# Display the generated names\n",
    "print(f\"The column names for the encoded values are {ohe.get_feature_names_out()}\")\n",
    "\n",
    "# Transform the current \"Street\" column\n",
    "data[ohe.get_feature_names_out()] = ohe.transform(data[['Alley']])\n",
    "\n",
    "# Drop the column \"Street\" which has been encoded\n",
    "data.drop(columns = [\"Alley\"], inplace = True)\n",
    "\n",
    "# Show the dataset\n",
    "data.head(3)"
   ]
  },
  {
   "cell_type": "markdown",
   "id": "4728238b",
   "metadata": {},
   "source": [
    "## Correlation heatmap"
   ]
  },
  {
   "cell_type": "code",
   "execution_count": 27,
   "id": "aac9fec4",
   "metadata": {},
   "outputs": [
    {
     "ename": "NameError",
     "evalue": "name 'data' is not defined",
     "output_type": "error",
     "traceback": [
      "\u001b[0;31m---------------------------------------------------------------------------\u001b[0m",
      "\u001b[0;31mNameError\u001b[0m                                 Traceback (most recent call last)",
      "Cell \u001b[0;32mIn[27], line 2\u001b[0m\n\u001b[1;32m      1\u001b[0m \u001b[38;5;66;03m# Heatmap of pairwise correlations\u001b[39;00m\n\u001b[0;32m----> 2\u001b[0m correlation_matrix \u001b[38;5;241m=\u001b[39m \u001b[43mdata\u001b[49m\u001b[38;5;241m.\u001b[39mcorr()\n\u001b[1;32m      3\u001b[0m column_names \u001b[38;5;241m=\u001b[39m correlation_matrix\u001b[38;5;241m.\u001b[39mcolumns\n\u001b[1;32m      4\u001b[0m sns\u001b[38;5;241m.\u001b[39mheatmap(correlation_matrix, xticklabels\u001b[38;5;241m=\u001b[39mcolumn_names, yticklabels\u001b[38;5;241m=\u001b[39mcolumn_names,cmap\u001b[38;5;241m=\u001b[39m \u001b[38;5;124m\"\u001b[39m\u001b[38;5;124mbwr\u001b[39m\u001b[38;5;124m\"\u001b[39m);\n",
      "\u001b[0;31mNameError\u001b[0m: name 'data' is not defined"
     ]
    }
   ],
   "source": [
    "# Heatmap of pairwise correlations\n",
    "correlation_matrix = data.corr()\n",
    "column_names = correlation_matrix.columns\n",
    "sns.heatmap(correlation_matrix, xticklabels=column_names, yticklabels=column_names,cmap= \"bwr\");"
   ]
  },
  {
   "cell_type": "markdown",
   "id": "e9e7c21c",
   "metadata": {},
   "source": [
    "# Questions to ask"
   ]
  },
  {
   "cell_type": "markdown",
   "id": "ce0df705",
   "metadata": {},
   "source": [
    "Probably we should undersample the min_revenues column, and as well, find out, if there are so many companies with revenues, why didn't they raise?? how could we answer this question? the 99% remaining raised money"
   ]
  },
  {
   "cell_type": "markdown",
   "id": "ef5f1e44",
   "metadata": {},
   "source": [
    "Should a model be created for companies that raised on a that want to raise on b, and for those that raised on a and b, that want to raise on c?"
   ]
  },
  {
   "cell_type": "markdown",
   "id": "eb10b0bf",
   "metadata": {},
   "source": [
    "Is less employees bad, average, good, so that we applie an ordinal encoder?"
   ]
  },
  {
   "cell_type": "markdown",
   "id": "7ae609c5",
   "metadata": {},
   "source": [
    "Should remove names and id's?"
   ]
  },
  {
   "cell_type": "markdown",
   "id": "ef8465fe",
   "metadata": {},
   "source": [
    "# Beginning"
   ]
  },
  {
   "cell_type": "code",
   "execution_count": 28,
   "id": "4bad497e",
   "metadata": {},
   "outputs": [],
   "source": [
    "import pandas as pd\n",
    "import numpy as np\n",
    "\n",
    "import matplotlib.pyplot as plt\n",
    "import seaborn as sns\n",
    "\n",
    "from sklearn.preprocessing import OneHotEncoder\n",
    "from sklearn.preprocessing import StandardScaler\n"
   ]
  },
  {
   "cell_type": "code",
   "execution_count": 29,
   "id": "98eef8b0",
   "metadata": {},
   "outputs": [],
   "source": [
    "path_crunch = '../raw_data/crunchbase.csv'"
   ]
  },
  {
   "cell_type": "code",
   "execution_count": 30,
   "id": "5709bffb",
   "metadata": {},
   "outputs": [
    {
     "name": "stderr",
     "output_type": "stream",
     "text": [
      "/var/folders/fg/0mh3ddwn6ls4kf4146hxrxb00000gn/T/ipykernel_4760/3822556600.py:1: DtypeWarning: Columns (4,11,16,17,18,30,31,32,33,36,39,40,41,42) have mixed types. Specify dtype option on import or set low_memory=False.\n",
      "  crunch = pd.read_csv(path_crunch)\n"
     ]
    }
   ],
   "source": [
    "crunch = pd.read_csv(path_crunch)"
   ]
  },
  {
   "cell_type": "code",
   "execution_count": 31,
   "id": "81610c18",
   "metadata": {},
   "outputs": [
    {
     "data": {
      "text/html": [
       "<div>\n",
       "<style scoped>\n",
       "    .dataframe tbody tr th:only-of-type {\n",
       "        vertical-align: middle;\n",
       "    }\n",
       "\n",
       "    .dataframe tbody tr th {\n",
       "        vertical-align: top;\n",
       "    }\n",
       "\n",
       "    .dataframe thead th {\n",
       "        text-align: right;\n",
       "    }\n",
       "</style>\n",
       "<table border=\"1\" class=\"dataframe\">\n",
       "  <thead>\n",
       "    <tr style=\"text-align: right;\">\n",
       "      <th></th>\n",
       "      <th>_id</th>\n",
       "      <th>acquisitions</th>\n",
       "      <th>category</th>\n",
       "      <th>country_code</th>\n",
       "      <th>crunchbase_rank</th>\n",
       "      <th>descriptions.long</th>\n",
       "      <th>descriptions.short</th>\n",
       "      <th>email</th>\n",
       "      <th>employee_range</th>\n",
       "      <th>employees</th>\n",
       "      <th>...</th>\n",
       "      <th>series.series_unknown</th>\n",
       "      <th>series.total</th>\n",
       "      <th>series.undisclosed</th>\n",
       "      <th>socials.facebook</th>\n",
       "      <th>socials.linkedin</th>\n",
       "      <th>socials.twitter</th>\n",
       "      <th>techs</th>\n",
       "      <th>traffic.global_rank</th>\n",
       "      <th>traffic.monthly</th>\n",
       "      <th>website</th>\n",
       "    </tr>\n",
       "  </thead>\n",
       "  <tbody>\n",
       "    <tr>\n",
       "      <th>0</th>\n",
       "      <td>ca17699b-2f49-91f4-5863-7216fc07a64e</td>\n",
       "      <td>[{\"_id\":\"a07f601f-d80e-4f67-8996-7f80726b25b4\"...</td>\n",
       "      <td>company</td>\n",
       "      <td>gb</td>\n",
       "      <td>309.0</td>\n",
       "      <td>eToro is a social trading investment network t...</td>\n",
       "      <td>eToro is a social trading and investment marke...</td>\n",
       "      <td>support@etoro.com</td>\n",
       "      <td>[501,1000]</td>\n",
       "      <td>[{\"_id\":\"f916d557-2c47-27eb-ced9-2a49fd8bb982\"...</td>\n",
       "      <td>...</td>\n",
       "      <td>35300000.0</td>\n",
       "      <td>2.227000e+08</td>\n",
       "      <td>NaN</td>\n",
       "      <td>http://www.facebook.com/etoro</td>\n",
       "      <td>https://www.linkedin.com/company/etoro/</td>\n",
       "      <td>http://twitter.com/eToro</td>\n",
       "      <td>[{\"name\":\"Viewport Meta\",\"category\":\"mobile\"},...</td>\n",
       "      <td>2549.0</td>\n",
       "      <td>20525524.0</td>\n",
       "      <td>https://www.etoro.com/</td>\n",
       "    </tr>\n",
       "    <tr>\n",
       "      <th>1</th>\n",
       "      <td>792dcc41-3650-4496-68ba-481f52ccd99e</td>\n",
       "      <td>[]</td>\n",
       "      <td>company</td>\n",
       "      <td>gb</td>\n",
       "      <td>3539.0</td>\n",
       "      <td>GeoSpock is a spatial big data platform compan...</td>\n",
       "      <td>GeoSpock is a spatial big data platform compan...</td>\n",
       "      <td>info@geospock.com</td>\n",
       "      <td>[11,50]</td>\n",
       "      <td>[{\"_id\":\"23f56976-1141-4d25-9a0c-7f40e60acebd\"...</td>\n",
       "      <td>...</td>\n",
       "      <td>8041980.0</td>\n",
       "      <td>3.824077e+07</td>\n",
       "      <td>NaN</td>\n",
       "      <td>NaN</td>\n",
       "      <td>https://www.linkedin.com/company/geospock-ltd-/</td>\n",
       "      <td>https://twitter.com/geospock</td>\n",
       "      <td>[{\"name\":\"Viewport Meta\",\"category\":\"mobile\"},...</td>\n",
       "      <td>6857390.0</td>\n",
       "      <td>709.0</td>\n",
       "      <td>https://www.geospock.com/en/</td>\n",
       "    </tr>\n",
       "    <tr>\n",
       "      <th>2</th>\n",
       "      <td>35d239af-cf06-4f04-9387-64a079b641cd</td>\n",
       "      <td>[]</td>\n",
       "      <td>company</td>\n",
       "      <td>gb</td>\n",
       "      <td>835.0</td>\n",
       "      <td>Gymshark is an online retailer and technology ...</td>\n",
       "      <td>Gymshark is an online retailer and technology ...</td>\n",
       "      <td>corporate@gymshark.com</td>\n",
       "      <td>[501,1000]</td>\n",
       "      <td>[{\"_id\":\"def64484-afd8-482b-82a4-258fe62f7639\"...</td>\n",
       "      <td>...</td>\n",
       "      <td>NaN</td>\n",
       "      <td>2.617301e+08</td>\n",
       "      <td>NaN</td>\n",
       "      <td>https://www.facebook.com/Gymshark/</td>\n",
       "      <td>https://www.linkedin.com/company/gymshark/</td>\n",
       "      <td>https://twitter.com/Gymshark</td>\n",
       "      <td>[{\"name\":\"IPv6\",\"category\":\"server\"},{\"name\":\"...</td>\n",
       "      <td>6911.0</td>\n",
       "      <td>7464935.0</td>\n",
       "      <td>https://www.gymshark.com/</td>\n",
       "    </tr>\n",
       "    <tr>\n",
       "      <th>3</th>\n",
       "      <td>bb06c586-aac4-4657-39d1-1e428f3f08da</td>\n",
       "      <td>[]</td>\n",
       "      <td>company</td>\n",
       "      <td>gb</td>\n",
       "      <td>1450.0</td>\n",
       "      <td>Moneybox now offers a range of saving and inve...</td>\n",
       "      <td>Moneybox is a mobile savings and investment ap...</td>\n",
       "      <td>support@moneyboxapp.com</td>\n",
       "      <td>[101,250]</td>\n",
       "      <td>[{\"_id\":\"e9e9034d-eee5-eb7b-836e-db9636a53cce\"...</td>\n",
       "      <td>...</td>\n",
       "      <td>NaN</td>\n",
       "      <td>6.986406e+07</td>\n",
       "      <td>NaN</td>\n",
       "      <td>https://www.facebook.com/moneyboxteam/</td>\n",
       "      <td>https://www.linkedin.com/company/digital-moneybox</td>\n",
       "      <td>https://twitter.com/moneyboxteam</td>\n",
       "      <td>[{\"name\":\"Viewport Meta\",\"category\":\"mobile\"},...</td>\n",
       "      <td>148195.0</td>\n",
       "      <td>210454.0</td>\n",
       "      <td>https://www.moneyboxapp.com</td>\n",
       "    </tr>\n",
       "    <tr>\n",
       "      <th>4</th>\n",
       "      <td>99c2b07b-bbf5-dcac-f768-7b905e940c0e</td>\n",
       "      <td>[]</td>\n",
       "      <td>company</td>\n",
       "      <td>gb</td>\n",
       "      <td>1274.0</td>\n",
       "      <td>Oxford Nanopore Technologies aims to disrupt t...</td>\n",
       "      <td>Oxford Nanopore Technologies develops nanopore...</td>\n",
       "      <td>info@nanoporetech.com</td>\n",
       "      <td>[251,500]</td>\n",
       "      <td>[{\"_id\":\"f5e4ea8d-70c9-ac60-c80c-f2d871d30a77\"...</td>\n",
       "      <td>...</td>\n",
       "      <td>845040507.0</td>\n",
       "      <td>1.142175e+09</td>\n",
       "      <td>NaN</td>\n",
       "      <td>https://www.facebook.com/pages/Oxford-Nanopore...</td>\n",
       "      <td>https://www.linkedin.com/company/oxford-nanopo...</td>\n",
       "      <td>http://twitter.com/nanopore</td>\n",
       "      <td>[{\"name\":\"Viewport Meta\",\"category\":\"mobile\"},...</td>\n",
       "      <td>264163.0</td>\n",
       "      <td>95169.0</td>\n",
       "      <td>http://www.nanoporetech.com</td>\n",
       "    </tr>\n",
       "  </tbody>\n",
       "</table>\n",
       "<p>5 rows × 52 columns</p>\n",
       "</div>"
      ],
      "text/plain": [
       "                                    _id  \\\n",
       "0  ca17699b-2f49-91f4-5863-7216fc07a64e   \n",
       "1  792dcc41-3650-4496-68ba-481f52ccd99e   \n",
       "2  35d239af-cf06-4f04-9387-64a079b641cd   \n",
       "3  bb06c586-aac4-4657-39d1-1e428f3f08da   \n",
       "4  99c2b07b-bbf5-dcac-f768-7b905e940c0e   \n",
       "\n",
       "                                        acquisitions category country_code  \\\n",
       "0  [{\"_id\":\"a07f601f-d80e-4f67-8996-7f80726b25b4\"...  company           gb   \n",
       "1                                                 []  company           gb   \n",
       "2                                                 []  company           gb   \n",
       "3                                                 []  company           gb   \n",
       "4                                                 []  company           gb   \n",
       "\n",
       "  crunchbase_rank                                  descriptions.long  \\\n",
       "0           309.0  eToro is a social trading investment network t...   \n",
       "1          3539.0  GeoSpock is a spatial big data platform compan...   \n",
       "2           835.0  Gymshark is an online retailer and technology ...   \n",
       "3          1450.0  Moneybox now offers a range of saving and inve...   \n",
       "4          1274.0  Oxford Nanopore Technologies aims to disrupt t...   \n",
       "\n",
       "                                  descriptions.short                    email  \\\n",
       "0  eToro is a social trading and investment marke...        support@etoro.com   \n",
       "1  GeoSpock is a spatial big data platform compan...        info@geospock.com   \n",
       "2  Gymshark is an online retailer and technology ...   corporate@gymshark.com   \n",
       "3  Moneybox is a mobile savings and investment ap...  support@moneyboxapp.com   \n",
       "4  Oxford Nanopore Technologies develops nanopore...    info@nanoporetech.com   \n",
       "\n",
       "  employee_range                                          employees  ...  \\\n",
       "0     [501,1000]  [{\"_id\":\"f916d557-2c47-27eb-ced9-2a49fd8bb982\"...  ...   \n",
       "1        [11,50]  [{\"_id\":\"23f56976-1141-4d25-9a0c-7f40e60acebd\"...  ...   \n",
       "2     [501,1000]  [{\"_id\":\"def64484-afd8-482b-82a4-258fe62f7639\"...  ...   \n",
       "3      [101,250]  [{\"_id\":\"e9e9034d-eee5-eb7b-836e-db9636a53cce\"...  ...   \n",
       "4      [251,500]  [{\"_id\":\"f5e4ea8d-70c9-ac60-c80c-f2d871d30a77\"...  ...   \n",
       "\n",
       "  series.series_unknown  series.total series.undisclosed  \\\n",
       "0            35300000.0  2.227000e+08                NaN   \n",
       "1             8041980.0  3.824077e+07                NaN   \n",
       "2                   NaN  2.617301e+08                NaN   \n",
       "3                   NaN  6.986406e+07                NaN   \n",
       "4           845040507.0  1.142175e+09                NaN   \n",
       "\n",
       "                                    socials.facebook  \\\n",
       "0                      http://www.facebook.com/etoro   \n",
       "1                                                NaN   \n",
       "2                 https://www.facebook.com/Gymshark/   \n",
       "3             https://www.facebook.com/moneyboxteam/   \n",
       "4  https://www.facebook.com/pages/Oxford-Nanopore...   \n",
       "\n",
       "                                    socials.linkedin  \\\n",
       "0            https://www.linkedin.com/company/etoro/   \n",
       "1    https://www.linkedin.com/company/geospock-ltd-/   \n",
       "2         https://www.linkedin.com/company/gymshark/   \n",
       "3  https://www.linkedin.com/company/digital-moneybox   \n",
       "4  https://www.linkedin.com/company/oxford-nanopo...   \n",
       "\n",
       "                    socials.twitter  \\\n",
       "0          http://twitter.com/eToro   \n",
       "1      https://twitter.com/geospock   \n",
       "2      https://twitter.com/Gymshark   \n",
       "3  https://twitter.com/moneyboxteam   \n",
       "4       http://twitter.com/nanopore   \n",
       "\n",
       "                                               techs traffic.global_rank  \\\n",
       "0  [{\"name\":\"Viewport Meta\",\"category\":\"mobile\"},...              2549.0   \n",
       "1  [{\"name\":\"Viewport Meta\",\"category\":\"mobile\"},...           6857390.0   \n",
       "2  [{\"name\":\"IPv6\",\"category\":\"server\"},{\"name\":\"...              6911.0   \n",
       "3  [{\"name\":\"Viewport Meta\",\"category\":\"mobile\"},...            148195.0   \n",
       "4  [{\"name\":\"Viewport Meta\",\"category\":\"mobile\"},...            264163.0   \n",
       "\n",
       "  traffic.monthly                       website  \n",
       "0      20525524.0        https://www.etoro.com/  \n",
       "1           709.0  https://www.geospock.com/en/  \n",
       "2       7464935.0     https://www.gymshark.com/  \n",
       "3        210454.0   https://www.moneyboxapp.com  \n",
       "4         95169.0   http://www.nanoporetech.com  \n",
       "\n",
       "[5 rows x 52 columns]"
      ]
     },
     "execution_count": 31,
     "metadata": {},
     "output_type": "execute_result"
    }
   ],
   "source": [
    "crunch.head()"
   ]
  },
  {
   "cell_type": "markdown",
   "id": "a0d93081",
   "metadata": {},
   "source": [
    "### the Column Category has company, investor and school as unique values\n",
    "HOWEVER, it has values from employee_range column as well. I have to see later if in the values\n",
    "after having changed the df, if we need these values"
   ]
  },
  {
   "cell_type": "code",
   "execution_count": 32,
   "id": "1ef3d575",
   "metadata": {},
   "outputs": [
    {
     "data": {
      "text/plain": [
       "array(['company', 'investor', 'school', nan, '[1,10]', 'true', '[11,50]',\n",
       "       '[51,100]'], dtype=object)"
      ]
     },
     "execution_count": 32,
     "metadata": {},
     "output_type": "execute_result"
    }
   ],
   "source": [
    "crunch.category.unique()"
   ]
  },
  {
   "cell_type": "code",
   "execution_count": 33,
   "id": "d2874d87",
   "metadata": {},
   "outputs": [
    {
     "name": "stdout",
     "output_type": "stream",
     "text": [
      "<class 'pandas.core.frame.DataFrame'>\n",
      "RangeIndex: 311414 entries, 0 to 311413\n",
      "Data columns (total 52 columns):\n",
      " #   Column                        Non-Null Count   Dtype  \n",
      "---  ------                        --------------   -----  \n",
      " 0   _id                           311394 non-null  object \n",
      " 1   acquisitions                  311348 non-null  object \n",
      " 2   category                      311369 non-null  object \n",
      " 3   country_code                  311413 non-null  object \n",
      " 4   crunchbase_rank               311349 non-null  object \n",
      " 5   descriptions.long             64060 non-null   object \n",
      " 6   descriptions.short            311332 non-null  object \n",
      " 7   email                         112326 non-null  object \n",
      " 8   employee_range                136292 non-null  object \n",
      " 9   employees                     136302 non-null  object \n",
      " 10  industries                    134808 non-null  object \n",
      " 11  investors                     3433 non-null    object \n",
      " 12  legal_name                    16023 non-null   object \n",
      " 13  min_revenues                  79960 non-null   float64\n",
      " 14  name                          136331 non-null  object \n",
      " 15  phone                         108940 non-null  object \n",
      " 16  salesforce_id                 14119 non-null   object \n",
      " 17  scraped                       136311 non-null  object \n",
      " 18  scraped_light                 54333 non-null   object \n",
      " 19  series                        0 non-null       float64\n",
      " 20  series.angel                  350 non-null     float64\n",
      " 21  series.convertible_note       134 non-null     float64\n",
      " 22  series.corporate_round        66 non-null      float64\n",
      " 23  series.debt_financing         269 non-null     float64\n",
      " 24  series.equity_crowdfunding    395 non-null     float64\n",
      " 25  series.grant                  468 non-null     float64\n",
      " 26  series.initial_coin_offering  33 non-null      float64\n",
      " 27  series.non_equity_assistance  270 non-null     float64\n",
      " 28  series.post_ipo_debt          21 non-null      float64\n",
      " 29  series.post_ipo_equity        88 non-null      float64\n",
      " 30  series.pre_seed               409 non-null     object \n",
      " 31  series.private_equity         220 non-null     object \n",
      " 32  series.secondary_market       20 non-null      object \n",
      " 33  series.seed                   2134 non-null    object \n",
      " 34  series.series_a               1058 non-null    float64\n",
      " 35  series.series_b               437 non-null     float64\n",
      " 36  series.series_c               181 non-null     object \n",
      " 37  series.series_d               52 non-null      float64\n",
      " 38  series.series_e               23 non-null      float64\n",
      " 39  series.series_f               12 non-null      object \n",
      " 40  series.series_g               14 non-null      object \n",
      " 41  series.series_h               15 non-null      object \n",
      " 42  series.series_unknown         1240 non-null    object \n",
      " 43  series.total                  3861 non-null    float64\n",
      " 44  series.undisclosed            163 non-null     float64\n",
      " 45  socials.facebook              78219 non-null   object \n",
      " 46  socials.linkedin              83099 non-null   object \n",
      " 47  socials.twitter               75520 non-null   object \n",
      " 48  techs                         136266 non-null  object \n",
      " 49  traffic.global_rank           51253 non-null   float64\n",
      " 50  traffic.monthly               51253 non-null   float64\n",
      " 51  website                       135257 non-null  object \n",
      "dtypes: float64(20), object(32)\n",
      "memory usage: 123.5+ MB\n"
     ]
    }
   ],
   "source": [
    "crunch.info()"
   ]
  },
  {
   "cell_type": "code",
   "execution_count": 34,
   "id": "afb52513",
   "metadata": {},
   "outputs": [
    {
     "data": {
      "text/plain": [
       "array(['[{\"name\":\"Viewport Meta\",\"category\":\"mobile\"},{\"name\":\"IPhone / Mobile Compatible\",\"category\":\"mobile\"},{\"name\":\"ASP.NET\",\"category\":\"framework\"},{\"name\":\"IIS\",\"category\":\"web_server\"},{\"name\":\"GoDaddy\",\"category\":\"hosting\"},{\"name\":\"ASP.NET 4.0\",\"category\":\"framework\"},{\"name\":\"IIS 7\",\"category\":\"web_server\"}]',\n",
       "       '[{\"name\":\"Viewport Meta\",\"category\":\"mobile\"},{\"name\":\"IPhone / Mobile Compatible\",\"category\":\"mobile\"},{\"name\":\"SPF\",\"category\":\"mx\"},{\"name\":\"SSL by Default\",\"category\":\"ssl\"},{\"name\":\"Google Analytics\",\"category\":\"analytics\"},{\"name\":\"Apple Mobile Web Clips Icon\",\"category\":\"mobile\"},{\"name\":\"Apache\",\"category\":\"web_server\"},{\"name\":\"Content Delivery Network\",\"category\":\"cdn\"},{\"name\":\"Google Tag Manager\",\"category\":\"widgets\"},{\"name\":\"Font Awesome\",\"category\":\"widgets\"}]',\n",
       "       '[{\"name\":\"IPv6\",\"category\":\"server\"},{\"name\":\"YouTube\",\"category\":\"media\"},{\"name\":\"Google\",\"category\":\"hosting\"},{\"name\":\"ASP.NET\",\"category\":\"framework\"},{\"name\":\"Google Cloud\",\"category\":\"hosting\"},{\"name\":\"IIS\",\"category\":\"web_server\"},{\"name\":\"Apache 2.4\",\"category\":\"web_server\"},{\"name\":\"Apple Mobile Web App Capable\",\"category\":\"mobile\"},{\"name\":\"jQuery CDN\",\"category\":\"cdn\"},{\"name\":\"Amazon Route 53\",\"category\":\"ns\"}]',\n",
       "       ...,\n",
       "       '[{\"name\":\"ASP.NET\",\"category\":\"framework\"},{\"name\":\"IIS\",\"category\":\"web_server\"},{\"name\":\"IIS 8\",\"category\":\"web_server\"},{\"name\":\"Microsoft Frontpage\",\"category\":\"framework\"}]',\n",
       "       '[{\"name\":\"Viewport Meta\",\"category\":\"mobile\"},{\"name\":\"IPhone / Mobile Compatible\",\"category\":\"mobile\"},{\"name\":\"SPF\",\"category\":\"mx\"},{\"name\":\"LetsEncrypt\",\"category\":\"ssl\"},{\"name\":\"Apple Mobile Web Clips Icon\",\"category\":\"mobile\"},{\"name\":\"Content Delivery Network\",\"category\":\"cdn\"},{\"name\":\"PHP\",\"category\":\"framework\"},{\"name\":\"Font Awesome\",\"category\":\"widgets\"},{\"name\":\"nginx\",\"category\":\"web_server\"},{\"name\":\"AJAX Libraries API\",\"category\":\"cdn\"}]',\n",
       "       '[{\"name\":\"SPF\",\"category\":\"mx\"},{\"name\":\"LetsEncrypt\",\"category\":\"ssl\"},{\"name\":\"Apache\",\"category\":\"web_server\"},{\"name\":\"Font Awesome\",\"category\":\"widgets\"},{\"name\":\"Serverplan\",\"category\":\"hosting\"}]'],\n",
       "      dtype=object)"
      ]
     },
     "execution_count": 34,
     "metadata": {},
     "output_type": "execute_result"
    }
   ],
   "source": [
    "crunch.techs.unique()"
   ]
  },
  {
   "cell_type": "markdown",
   "id": "06b641b9",
   "metadata": {},
   "source": [
    "# FILTERED ALL DF TO KEEP VALUES THAT WERE SCRAPED"
   ]
  },
  {
   "cell_type": "code",
   "execution_count": 35,
   "id": "394bead5",
   "metadata": {},
   "outputs": [
    {
     "data": {
      "text/plain": [
       "array([True, nan], dtype=object)"
      ]
     },
     "execution_count": 35,
     "metadata": {},
     "output_type": "execute_result"
    }
   ],
   "source": [
    "crunch['scraped'].unique()"
   ]
  },
  {
   "cell_type": "code",
   "execution_count": 36,
   "id": "94667584",
   "metadata": {
    "scrolled": true
   },
   "outputs": [
    {
     "data": {
      "text/html": [
       "<div>\n",
       "<style scoped>\n",
       "    .dataframe tbody tr th:only-of-type {\n",
       "        vertical-align: middle;\n",
       "    }\n",
       "\n",
       "    .dataframe tbody tr th {\n",
       "        vertical-align: top;\n",
       "    }\n",
       "\n",
       "    .dataframe thead th {\n",
       "        text-align: right;\n",
       "    }\n",
       "</style>\n",
       "<table border=\"1\" class=\"dataframe\">\n",
       "  <thead>\n",
       "    <tr style=\"text-align: right;\">\n",
       "      <th></th>\n",
       "      <th>_id</th>\n",
       "      <th>acquisitions</th>\n",
       "      <th>category</th>\n",
       "      <th>country_code</th>\n",
       "      <th>crunchbase_rank</th>\n",
       "      <th>descriptions.long</th>\n",
       "      <th>descriptions.short</th>\n",
       "      <th>email</th>\n",
       "      <th>employee_range</th>\n",
       "      <th>employees</th>\n",
       "      <th>...</th>\n",
       "      <th>series.series_unknown</th>\n",
       "      <th>series.total</th>\n",
       "      <th>series.undisclosed</th>\n",
       "      <th>socials.facebook</th>\n",
       "      <th>socials.linkedin</th>\n",
       "      <th>socials.twitter</th>\n",
       "      <th>techs</th>\n",
       "      <th>traffic.global_rank</th>\n",
       "      <th>traffic.monthly</th>\n",
       "      <th>website</th>\n",
       "    </tr>\n",
       "  </thead>\n",
       "  <tbody>\n",
       "    <tr>\n",
       "      <th>0</th>\n",
       "      <td>ca17699b-2f49-91f4-5863-7216fc07a64e</td>\n",
       "      <td>[{\"_id\":\"a07f601f-d80e-4f67-8996-7f80726b25b4\"...</td>\n",
       "      <td>company</td>\n",
       "      <td>gb</td>\n",
       "      <td>309.0</td>\n",
       "      <td>eToro is a social trading investment network t...</td>\n",
       "      <td>eToro is a social trading and investment marke...</td>\n",
       "      <td>support@etoro.com</td>\n",
       "      <td>[501,1000]</td>\n",
       "      <td>[{\"_id\":\"f916d557-2c47-27eb-ced9-2a49fd8bb982\"...</td>\n",
       "      <td>...</td>\n",
       "      <td>35300000.0</td>\n",
       "      <td>2.227000e+08</td>\n",
       "      <td>NaN</td>\n",
       "      <td>http://www.facebook.com/etoro</td>\n",
       "      <td>https://www.linkedin.com/company/etoro/</td>\n",
       "      <td>http://twitter.com/eToro</td>\n",
       "      <td>[{\"name\":\"Viewport Meta\",\"category\":\"mobile\"},...</td>\n",
       "      <td>2549.0</td>\n",
       "      <td>20525524.0</td>\n",
       "      <td>https://www.etoro.com/</td>\n",
       "    </tr>\n",
       "    <tr>\n",
       "      <th>1</th>\n",
       "      <td>792dcc41-3650-4496-68ba-481f52ccd99e</td>\n",
       "      <td>[]</td>\n",
       "      <td>company</td>\n",
       "      <td>gb</td>\n",
       "      <td>3539.0</td>\n",
       "      <td>GeoSpock is a spatial big data platform compan...</td>\n",
       "      <td>GeoSpock is a spatial big data platform compan...</td>\n",
       "      <td>info@geospock.com</td>\n",
       "      <td>[11,50]</td>\n",
       "      <td>[{\"_id\":\"23f56976-1141-4d25-9a0c-7f40e60acebd\"...</td>\n",
       "      <td>...</td>\n",
       "      <td>8041980.0</td>\n",
       "      <td>3.824077e+07</td>\n",
       "      <td>NaN</td>\n",
       "      <td>NaN</td>\n",
       "      <td>https://www.linkedin.com/company/geospock-ltd-/</td>\n",
       "      <td>https://twitter.com/geospock</td>\n",
       "      <td>[{\"name\":\"Viewport Meta\",\"category\":\"mobile\"},...</td>\n",
       "      <td>6857390.0</td>\n",
       "      <td>709.0</td>\n",
       "      <td>https://www.geospock.com/en/</td>\n",
       "    </tr>\n",
       "    <tr>\n",
       "      <th>2</th>\n",
       "      <td>35d239af-cf06-4f04-9387-64a079b641cd</td>\n",
       "      <td>[]</td>\n",
       "      <td>company</td>\n",
       "      <td>gb</td>\n",
       "      <td>835.0</td>\n",
       "      <td>Gymshark is an online retailer and technology ...</td>\n",
       "      <td>Gymshark is an online retailer and technology ...</td>\n",
       "      <td>corporate@gymshark.com</td>\n",
       "      <td>[501,1000]</td>\n",
       "      <td>[{\"_id\":\"def64484-afd8-482b-82a4-258fe62f7639\"...</td>\n",
       "      <td>...</td>\n",
       "      <td>NaN</td>\n",
       "      <td>2.617301e+08</td>\n",
       "      <td>NaN</td>\n",
       "      <td>https://www.facebook.com/Gymshark/</td>\n",
       "      <td>https://www.linkedin.com/company/gymshark/</td>\n",
       "      <td>https://twitter.com/Gymshark</td>\n",
       "      <td>[{\"name\":\"IPv6\",\"category\":\"server\"},{\"name\":\"...</td>\n",
       "      <td>6911.0</td>\n",
       "      <td>7464935.0</td>\n",
       "      <td>https://www.gymshark.com/</td>\n",
       "    </tr>\n",
       "    <tr>\n",
       "      <th>3</th>\n",
       "      <td>bb06c586-aac4-4657-39d1-1e428f3f08da</td>\n",
       "      <td>[]</td>\n",
       "      <td>company</td>\n",
       "      <td>gb</td>\n",
       "      <td>1450.0</td>\n",
       "      <td>Moneybox now offers a range of saving and inve...</td>\n",
       "      <td>Moneybox is a mobile savings and investment ap...</td>\n",
       "      <td>support@moneyboxapp.com</td>\n",
       "      <td>[101,250]</td>\n",
       "      <td>[{\"_id\":\"e9e9034d-eee5-eb7b-836e-db9636a53cce\"...</td>\n",
       "      <td>...</td>\n",
       "      <td>NaN</td>\n",
       "      <td>6.986406e+07</td>\n",
       "      <td>NaN</td>\n",
       "      <td>https://www.facebook.com/moneyboxteam/</td>\n",
       "      <td>https://www.linkedin.com/company/digital-moneybox</td>\n",
       "      <td>https://twitter.com/moneyboxteam</td>\n",
       "      <td>[{\"name\":\"Viewport Meta\",\"category\":\"mobile\"},...</td>\n",
       "      <td>148195.0</td>\n",
       "      <td>210454.0</td>\n",
       "      <td>https://www.moneyboxapp.com</td>\n",
       "    </tr>\n",
       "    <tr>\n",
       "      <th>4</th>\n",
       "      <td>99c2b07b-bbf5-dcac-f768-7b905e940c0e</td>\n",
       "      <td>[]</td>\n",
       "      <td>company</td>\n",
       "      <td>gb</td>\n",
       "      <td>1274.0</td>\n",
       "      <td>Oxford Nanopore Technologies aims to disrupt t...</td>\n",
       "      <td>Oxford Nanopore Technologies develops nanopore...</td>\n",
       "      <td>info@nanoporetech.com</td>\n",
       "      <td>[251,500]</td>\n",
       "      <td>[{\"_id\":\"f5e4ea8d-70c9-ac60-c80c-f2d871d30a77\"...</td>\n",
       "      <td>...</td>\n",
       "      <td>845040507.0</td>\n",
       "      <td>1.142175e+09</td>\n",
       "      <td>NaN</td>\n",
       "      <td>https://www.facebook.com/pages/Oxford-Nanopore...</td>\n",
       "      <td>https://www.linkedin.com/company/oxford-nanopo...</td>\n",
       "      <td>http://twitter.com/nanopore</td>\n",
       "      <td>[{\"name\":\"Viewport Meta\",\"category\":\"mobile\"},...</td>\n",
       "      <td>264163.0</td>\n",
       "      <td>95169.0</td>\n",
       "      <td>http://www.nanoporetech.com</td>\n",
       "    </tr>\n",
       "    <tr>\n",
       "      <th>...</th>\n",
       "      <td>...</td>\n",
       "      <td>...</td>\n",
       "      <td>...</td>\n",
       "      <td>...</td>\n",
       "      <td>...</td>\n",
       "      <td>...</td>\n",
       "      <td>...</td>\n",
       "      <td>...</td>\n",
       "      <td>...</td>\n",
       "      <td>...</td>\n",
       "      <td>...</td>\n",
       "      <td>...</td>\n",
       "      <td>...</td>\n",
       "      <td>...</td>\n",
       "      <td>...</td>\n",
       "      <td>...</td>\n",
       "      <td>...</td>\n",
       "      <td>...</td>\n",
       "      <td>...</td>\n",
       "      <td>...</td>\n",
       "      <td>...</td>\n",
       "    </tr>\n",
       "    <tr>\n",
       "      <th>311409</th>\n",
       "      <td>a70808ad-93c0-4ad2-b859-699a25c79ed8</td>\n",
       "      <td>[]</td>\n",
       "      <td>company</td>\n",
       "      <td>it</td>\n",
       "      <td>987325</td>\n",
       "      <td>NaN</td>\n",
       "      <td>Studio Lania is a service center that offers a...</td>\n",
       "      <td>info@studiolania.it</td>\n",
       "      <td>[1,10]</td>\n",
       "      <td>[]</td>\n",
       "      <td>...</td>\n",
       "      <td>NaN</td>\n",
       "      <td>NaN</td>\n",
       "      <td>NaN</td>\n",
       "      <td>NaN</td>\n",
       "      <td>NaN</td>\n",
       "      <td>NaN</td>\n",
       "      <td>[{\"name\":\"Viewport Meta\",\"category\":\"mobile\"},...</td>\n",
       "      <td>NaN</td>\n",
       "      <td>NaN</td>\n",
       "      <td>http://studiolania.it</td>\n",
       "    </tr>\n",
       "    <tr>\n",
       "      <th>311410</th>\n",
       "      <td>c3bc2993-9072-419e-99a3-08d51802dfc5</td>\n",
       "      <td>[]</td>\n",
       "      <td>company</td>\n",
       "      <td>it</td>\n",
       "      <td>905145</td>\n",
       "      <td>NaN</td>\n",
       "      <td>Puntoweb provides services in the realm of web...</td>\n",
       "      <td>info@puntoweb-arezzo.it</td>\n",
       "      <td>[1,10]</td>\n",
       "      <td>[]</td>\n",
       "      <td>...</td>\n",
       "      <td>NaN</td>\n",
       "      <td>NaN</td>\n",
       "      <td>NaN</td>\n",
       "      <td>https://www.facebook.com/PuntowebSitiInternetA...</td>\n",
       "      <td>https://www.linkedin.com/in/puntoweb-arezzo-80...</td>\n",
       "      <td>https://twitter.com/puntowebarezzo</td>\n",
       "      <td>[]</td>\n",
       "      <td>NaN</td>\n",
       "      <td>NaN</td>\n",
       "      <td>http://www.puntoweb-arezzo.it</td>\n",
       "    </tr>\n",
       "    <tr>\n",
       "      <th>311411</th>\n",
       "      <td>8c003064-a0f0-4d79-9ddc-46854a957894</td>\n",
       "      <td>[]</td>\n",
       "      <td>company</td>\n",
       "      <td>it</td>\n",
       "      <td>1140965</td>\n",
       "      <td>NaN</td>\n",
       "      <td>Cerme is a distributor of hydraulic, thermal a...</td>\n",
       "      <td>jobs@cerme.it</td>\n",
       "      <td>[11,50]</td>\n",
       "      <td>[]</td>\n",
       "      <td>...</td>\n",
       "      <td>NaN</td>\n",
       "      <td>NaN</td>\n",
       "      <td>NaN</td>\n",
       "      <td>NaN</td>\n",
       "      <td>NaN</td>\n",
       "      <td>NaN</td>\n",
       "      <td>[{\"name\":\"SPF\",\"category\":\"mx\"},{\"name\":\"LetsE...</td>\n",
       "      <td>NaN</td>\n",
       "      <td>NaN</td>\n",
       "      <td>http://www.cerme.it</td>\n",
       "    </tr>\n",
       "    <tr>\n",
       "      <th>311412</th>\n",
       "      <td>1bab4fea-ea50-4bc1-a28a-91d6de49f921</td>\n",
       "      <td>[]</td>\n",
       "      <td>company</td>\n",
       "      <td>it</td>\n",
       "      <td>1150184</td>\n",
       "      <td>NaN</td>\n",
       "      <td>Studio Anna Fileppo is an art firm that offers...</td>\n",
       "      <td>info@studioannafileppo.it</td>\n",
       "      <td>[1,10]</td>\n",
       "      <td>[]</td>\n",
       "      <td>...</td>\n",
       "      <td>NaN</td>\n",
       "      <td>NaN</td>\n",
       "      <td>NaN</td>\n",
       "      <td>NaN</td>\n",
       "      <td>NaN</td>\n",
       "      <td>NaN</td>\n",
       "      <td>[]</td>\n",
       "      <td>NaN</td>\n",
       "      <td>NaN</td>\n",
       "      <td>http://www.studioannafileppo.it</td>\n",
       "    </tr>\n",
       "    <tr>\n",
       "      <th>311413</th>\n",
       "      <td>137bcfdd-ff15-4bfa-8da9-92b8d3a8d9cd</td>\n",
       "      <td>[]</td>\n",
       "      <td>company</td>\n",
       "      <td>it</td>\n",
       "      <td>1088540</td>\n",
       "      <td>NaN</td>\n",
       "      <td>Idea Web is a web and digital agency that spec...</td>\n",
       "      <td>info@idea-web.org</td>\n",
       "      <td>[1,10]</td>\n",
       "      <td>[]</td>\n",
       "      <td>...</td>\n",
       "      <td>NaN</td>\n",
       "      <td>NaN</td>\n",
       "      <td>NaN</td>\n",
       "      <td>NaN</td>\n",
       "      <td>NaN</td>\n",
       "      <td>NaN</td>\n",
       "      <td>[]</td>\n",
       "      <td>NaN</td>\n",
       "      <td>NaN</td>\n",
       "      <td>http://www.idea-web.org</td>\n",
       "    </tr>\n",
       "  </tbody>\n",
       "</table>\n",
       "<p>136311 rows × 52 columns</p>\n",
       "</div>"
      ],
      "text/plain": [
       "                                         _id  \\\n",
       "0       ca17699b-2f49-91f4-5863-7216fc07a64e   \n",
       "1       792dcc41-3650-4496-68ba-481f52ccd99e   \n",
       "2       35d239af-cf06-4f04-9387-64a079b641cd   \n",
       "3       bb06c586-aac4-4657-39d1-1e428f3f08da   \n",
       "4       99c2b07b-bbf5-dcac-f768-7b905e940c0e   \n",
       "...                                      ...   \n",
       "311409  a70808ad-93c0-4ad2-b859-699a25c79ed8   \n",
       "311410  c3bc2993-9072-419e-99a3-08d51802dfc5   \n",
       "311411  8c003064-a0f0-4d79-9ddc-46854a957894   \n",
       "311412  1bab4fea-ea50-4bc1-a28a-91d6de49f921   \n",
       "311413  137bcfdd-ff15-4bfa-8da9-92b8d3a8d9cd   \n",
       "\n",
       "                                             acquisitions category  \\\n",
       "0       [{\"_id\":\"a07f601f-d80e-4f67-8996-7f80726b25b4\"...  company   \n",
       "1                                                      []  company   \n",
       "2                                                      []  company   \n",
       "3                                                      []  company   \n",
       "4                                                      []  company   \n",
       "...                                                   ...      ...   \n",
       "311409                                                 []  company   \n",
       "311410                                                 []  company   \n",
       "311411                                                 []  company   \n",
       "311412                                                 []  company   \n",
       "311413                                                 []  company   \n",
       "\n",
       "       country_code crunchbase_rank  \\\n",
       "0                gb           309.0   \n",
       "1                gb          3539.0   \n",
       "2                gb           835.0   \n",
       "3                gb          1450.0   \n",
       "4                gb          1274.0   \n",
       "...             ...             ...   \n",
       "311409           it          987325   \n",
       "311410           it          905145   \n",
       "311411           it         1140965   \n",
       "311412           it         1150184   \n",
       "311413           it         1088540   \n",
       "\n",
       "                                        descriptions.long  \\\n",
       "0       eToro is a social trading investment network t...   \n",
       "1       GeoSpock is a spatial big data platform compan...   \n",
       "2       Gymshark is an online retailer and technology ...   \n",
       "3       Moneybox now offers a range of saving and inve...   \n",
       "4       Oxford Nanopore Technologies aims to disrupt t...   \n",
       "...                                                   ...   \n",
       "311409                                                NaN   \n",
       "311410                                                NaN   \n",
       "311411                                                NaN   \n",
       "311412                                                NaN   \n",
       "311413                                                NaN   \n",
       "\n",
       "                                       descriptions.short  \\\n",
       "0       eToro is a social trading and investment marke...   \n",
       "1       GeoSpock is a spatial big data platform compan...   \n",
       "2       Gymshark is an online retailer and technology ...   \n",
       "3       Moneybox is a mobile savings and investment ap...   \n",
       "4       Oxford Nanopore Technologies develops nanopore...   \n",
       "...                                                   ...   \n",
       "311409  Studio Lania is a service center that offers a...   \n",
       "311410  Puntoweb provides services in the realm of web...   \n",
       "311411  Cerme is a distributor of hydraulic, thermal a...   \n",
       "311412  Studio Anna Fileppo is an art firm that offers...   \n",
       "311413  Idea Web is a web and digital agency that spec...   \n",
       "\n",
       "                            email employee_range  \\\n",
       "0               support@etoro.com     [501,1000]   \n",
       "1               info@geospock.com        [11,50]   \n",
       "2          corporate@gymshark.com     [501,1000]   \n",
       "3         support@moneyboxapp.com      [101,250]   \n",
       "4           info@nanoporetech.com      [251,500]   \n",
       "...                           ...            ...   \n",
       "311409        info@studiolania.it         [1,10]   \n",
       "311410    info@puntoweb-arezzo.it         [1,10]   \n",
       "311411              jobs@cerme.it        [11,50]   \n",
       "311412  info@studioannafileppo.it         [1,10]   \n",
       "311413          info@idea-web.org         [1,10]   \n",
       "\n",
       "                                                employees  ...  \\\n",
       "0       [{\"_id\":\"f916d557-2c47-27eb-ced9-2a49fd8bb982\"...  ...   \n",
       "1       [{\"_id\":\"23f56976-1141-4d25-9a0c-7f40e60acebd\"...  ...   \n",
       "2       [{\"_id\":\"def64484-afd8-482b-82a4-258fe62f7639\"...  ...   \n",
       "3       [{\"_id\":\"e9e9034d-eee5-eb7b-836e-db9636a53cce\"...  ...   \n",
       "4       [{\"_id\":\"f5e4ea8d-70c9-ac60-c80c-f2d871d30a77\"...  ...   \n",
       "...                                                   ...  ...   \n",
       "311409                                                 []  ...   \n",
       "311410                                                 []  ...   \n",
       "311411                                                 []  ...   \n",
       "311412                                                 []  ...   \n",
       "311413                                                 []  ...   \n",
       "\n",
       "       series.series_unknown  series.total series.undisclosed  \\\n",
       "0                 35300000.0  2.227000e+08                NaN   \n",
       "1                  8041980.0  3.824077e+07                NaN   \n",
       "2                        NaN  2.617301e+08                NaN   \n",
       "3                        NaN  6.986406e+07                NaN   \n",
       "4                845040507.0  1.142175e+09                NaN   \n",
       "...                      ...           ...                ...   \n",
       "311409                   NaN           NaN                NaN   \n",
       "311410                   NaN           NaN                NaN   \n",
       "311411                   NaN           NaN                NaN   \n",
       "311412                   NaN           NaN                NaN   \n",
       "311413                   NaN           NaN                NaN   \n",
       "\n",
       "                                         socials.facebook  \\\n",
       "0                           http://www.facebook.com/etoro   \n",
       "1                                                     NaN   \n",
       "2                      https://www.facebook.com/Gymshark/   \n",
       "3                  https://www.facebook.com/moneyboxteam/   \n",
       "4       https://www.facebook.com/pages/Oxford-Nanopore...   \n",
       "...                                                   ...   \n",
       "311409                                                NaN   \n",
       "311410  https://www.facebook.com/PuntowebSitiInternetA...   \n",
       "311411                                                NaN   \n",
       "311412                                                NaN   \n",
       "311413                                                NaN   \n",
       "\n",
       "                                         socials.linkedin  \\\n",
       "0                 https://www.linkedin.com/company/etoro/   \n",
       "1         https://www.linkedin.com/company/geospock-ltd-/   \n",
       "2              https://www.linkedin.com/company/gymshark/   \n",
       "3       https://www.linkedin.com/company/digital-moneybox   \n",
       "4       https://www.linkedin.com/company/oxford-nanopo...   \n",
       "...                                                   ...   \n",
       "311409                                                NaN   \n",
       "311410  https://www.linkedin.com/in/puntoweb-arezzo-80...   \n",
       "311411                                                NaN   \n",
       "311412                                                NaN   \n",
       "311413                                                NaN   \n",
       "\n",
       "                           socials.twitter  \\\n",
       "0                 http://twitter.com/eToro   \n",
       "1             https://twitter.com/geospock   \n",
       "2             https://twitter.com/Gymshark   \n",
       "3         https://twitter.com/moneyboxteam   \n",
       "4              http://twitter.com/nanopore   \n",
       "...                                    ...   \n",
       "311409                                 NaN   \n",
       "311410  https://twitter.com/puntowebarezzo   \n",
       "311411                                 NaN   \n",
       "311412                                 NaN   \n",
       "311413                                 NaN   \n",
       "\n",
       "                                                    techs traffic.global_rank  \\\n",
       "0       [{\"name\":\"Viewport Meta\",\"category\":\"mobile\"},...              2549.0   \n",
       "1       [{\"name\":\"Viewport Meta\",\"category\":\"mobile\"},...           6857390.0   \n",
       "2       [{\"name\":\"IPv6\",\"category\":\"server\"},{\"name\":\"...              6911.0   \n",
       "3       [{\"name\":\"Viewport Meta\",\"category\":\"mobile\"},...            148195.0   \n",
       "4       [{\"name\":\"Viewport Meta\",\"category\":\"mobile\"},...            264163.0   \n",
       "...                                                   ...                 ...   \n",
       "311409  [{\"name\":\"Viewport Meta\",\"category\":\"mobile\"},...                 NaN   \n",
       "311410                                                 []                 NaN   \n",
       "311411  [{\"name\":\"SPF\",\"category\":\"mx\"},{\"name\":\"LetsE...                 NaN   \n",
       "311412                                                 []                 NaN   \n",
       "311413                                                 []                 NaN   \n",
       "\n",
       "       traffic.monthly                          website  \n",
       "0           20525524.0           https://www.etoro.com/  \n",
       "1                709.0     https://www.geospock.com/en/  \n",
       "2            7464935.0        https://www.gymshark.com/  \n",
       "3             210454.0      https://www.moneyboxapp.com  \n",
       "4              95169.0      http://www.nanoporetech.com  \n",
       "...                ...                              ...  \n",
       "311409             NaN            http://studiolania.it  \n",
       "311410             NaN    http://www.puntoweb-arezzo.it  \n",
       "311411             NaN              http://www.cerme.it  \n",
       "311412             NaN  http://www.studioannafileppo.it  \n",
       "311413             NaN          http://www.idea-web.org  \n",
       "\n",
       "[136311 rows x 52 columns]"
      ]
     },
     "execution_count": 36,
     "metadata": {},
     "output_type": "execute_result"
    }
   ],
   "source": [
    "crunch[crunch['scraped']==True]"
   ]
  },
  {
   "cell_type": "markdown",
   "id": "e2ea5e10",
   "metadata": {},
   "source": [
    "There are 136311 values that are == True. Two cells below we see that there are 175103 nan values"
   ]
  },
  {
   "cell_type": "code",
   "execution_count": 37,
   "id": "186a2973",
   "metadata": {},
   "outputs": [
    {
     "data": {
      "text/plain": [
       "True    136311\n",
       "Name: scraped, dtype: int64"
      ]
     },
     "execution_count": 37,
     "metadata": {},
     "output_type": "execute_result"
    }
   ],
   "source": [
    "crunch[crunch['scraped']== True]['scraped'].value_counts()"
   ]
  },
  {
   "cell_type": "code",
   "execution_count": 38,
   "id": "c81ab46a",
   "metadata": {},
   "outputs": [
    {
     "data": {
      "text/plain": [
       "True    136311\n",
       "Name: scraped, dtype: int64"
      ]
     },
     "execution_count": 38,
     "metadata": {},
     "output_type": "execute_result"
    }
   ],
   "source": [
    "crunch['scraped'].value_counts()"
   ]
  },
  {
   "cell_type": "markdown",
   "id": "31c4b246",
   "metadata": {},
   "source": [
    "There are 136311 false nan, which means that there are 136311 True! so indeed we can change it"
   ]
  },
  {
   "cell_type": "code",
   "execution_count": 39,
   "id": "c4818ca6",
   "metadata": {},
   "outputs": [
    {
     "data": {
      "text/plain": [
       "True     175103\n",
       "False    136311\n",
       "Name: scraped, dtype: int64"
      ]
     },
     "execution_count": 39,
     "metadata": {},
     "output_type": "execute_result"
    }
   ],
   "source": [
    "crunch['scraped'].isna().value_counts()"
   ]
  },
  {
   "cell_type": "code",
   "execution_count": 40,
   "id": "8771771b",
   "metadata": {},
   "outputs": [],
   "source": [
    "crunch = crunch[crunch['scraped']==True]"
   ]
  },
  {
   "cell_type": "markdown",
   "id": "49973179",
   "metadata": {},
   "source": [
    "# DROPPED COLUMNS I DON'T NEED"
   ]
  },
  {
   "cell_type": "code",
   "execution_count": 41,
   "id": "ac1daa2d",
   "metadata": {},
   "outputs": [],
   "source": [
    "crunch = crunch.drop(columns=['acquisitions','employees', 'techs','salesforce_id', 'crunchbase_rank', 'scraped'])"
   ]
  },
  {
   "cell_type": "code",
   "execution_count": 42,
   "id": "a13a1f7a",
   "metadata": {},
   "outputs": [
    {
     "name": "stdout",
     "output_type": "stream",
     "text": [
      "<class 'pandas.core.frame.DataFrame'>\n",
      "Int64Index: 136311 entries, 0 to 311413\n",
      "Data columns (total 46 columns):\n",
      " #   Column                        Non-Null Count   Dtype  \n",
      "---  ------                        --------------   -----  \n",
      " 0   _id                           136311 non-null  object \n",
      " 1   category                      136266 non-null  object \n",
      " 2   country_code                  136311 non-null  object \n",
      " 3   descriptions.long             64053 non-null   object \n",
      " 4   descriptions.short            136265 non-null  object \n",
      " 5   email                         112297 non-null  object \n",
      " 6   employee_range                136256 non-null  object \n",
      " 7   industries                    134787 non-null  object \n",
      " 8   investors                     3417 non-null    object \n",
      " 9   legal_name                    16004 non-null   object \n",
      " 10  min_revenues                  79957 non-null   float64\n",
      " 11  name                          136311 non-null  object \n",
      " 12  phone                         108920 non-null  object \n",
      " 13  scraped_light                 54333 non-null   object \n",
      " 14  series                        0 non-null       float64\n",
      " 15  series.angel                  350 non-null     float64\n",
      " 16  series.convertible_note       134 non-null     float64\n",
      " 17  series.corporate_round        66 non-null      float64\n",
      " 18  series.debt_financing         269 non-null     float64\n",
      " 19  series.equity_crowdfunding    395 non-null     float64\n",
      " 20  series.grant                  468 non-null     float64\n",
      " 21  series.initial_coin_offering  33 non-null      float64\n",
      " 22  series.non_equity_assistance  270 non-null     float64\n",
      " 23  series.post_ipo_debt          21 non-null      float64\n",
      " 24  series.post_ipo_equity        88 non-null      float64\n",
      " 25  series.pre_seed               399 non-null     object \n",
      " 26  series.private_equity         208 non-null     object \n",
      " 27  series.secondary_market       10 non-null      object \n",
      " 28  series.seed                   2114 non-null    object \n",
      " 29  series.series_a               1051 non-null    float64\n",
      " 30  series.series_b               430 non-null     float64\n",
      " 31  series.series_c               161 non-null     object \n",
      " 32  series.series_d               52 non-null      float64\n",
      " 33  series.series_e               23 non-null      float64\n",
      " 34  series.series_f               6 non-null       object \n",
      " 35  series.series_g               3 non-null       object \n",
      " 36  series.series_h               3 non-null       object \n",
      " 37  series.series_unknown         1224 non-null    object \n",
      " 38  series.total                  3851 non-null    float64\n",
      " 39  series.undisclosed            153 non-null     float64\n",
      " 40  socials.facebook              78203 non-null   object \n",
      " 41  socials.linkedin              83099 non-null   object \n",
      " 42  socials.twitter               75520 non-null   object \n",
      " 43  traffic.global_rank           51253 non-null   float64\n",
      " 44  traffic.monthly               51253 non-null   float64\n",
      " 45  website                       135257 non-null  object \n",
      "dtypes: float64(20), object(26)\n",
      "memory usage: 48.9+ MB\n"
     ]
    }
   ],
   "source": [
    "crunch.info()"
   ]
  },
  {
   "cell_type": "markdown",
   "id": "4d8e5634",
   "metadata": {},
   "source": [
    "# CLEANED INDUSTRIES & TRANSFORMED IT IN A LIST\n",
    "But i will see how i will put the transformed industries in a set"
   ]
  },
  {
   "cell_type": "code",
   "execution_count": 43,
   "id": "ab26c2da",
   "metadata": {},
   "outputs": [
    {
     "data": {
      "text/plain": [
       "0         [{\"_id\":\"ae5718dc-8602-c733-e62b-28e6167091ad\"...\n",
       "1         [{\"_id\":\"99c5404c-0ff5-8ee5-d334-4b944ddb8cd9\"...\n",
       "2         [{\"_id\":\"275ddcbc-27de-ff4f-4e50-6dc26ebf9570\"...\n",
       "3         [{\"_id\":\"68250c3a-6cf5-86fb-281e-9072ae2d4fe8\"...\n",
       "4         [{\"_id\":\"16ad1d6c-c7ee-b6b5-701d-32c79a19dfae\"...\n",
       "                                ...                        \n",
       "311409    [{\"_id\":\"ad091ee0-0259-f129-7777-10f65213584d\"...\n",
       "311410    [{\"_id\":\"e362ac36-2e59-c58d-08fe-e5c45f13bc64\"...\n",
       "311411    [{\"_id\":\"9b7bff94-c36c-b8d4-8789-69670454fe84\"...\n",
       "311412    [{\"_id\":\"d29852ab-4bbf-95f5-6087-563ff127de71\"...\n",
       "311413    [{\"_id\":\"9bff86a3-0dc8-1420-9a63-3b86f51d2f36\"...\n",
       "Name: industries, Length: 136311, dtype: object"
      ]
     },
     "execution_count": 43,
     "metadata": {},
     "output_type": "execute_result"
    }
   ],
   "source": [
    "crunch.industries"
   ]
  },
  {
   "cell_type": "markdown",
   "id": "09275f7b",
   "metadata": {},
   "source": [
    "### In the following i replace all nan values for '[]' , since i can't extract nan's and it will give me an error\n",
    "However, since i am already extracting values within a '[]' i can replace the nan's by that"
   ]
  },
  {
   "cell_type": "code",
   "execution_count": 44,
   "id": "a9fc0345",
   "metadata": {},
   "outputs": [
    {
     "data": {
      "text/plain": [
       "False    134787\n",
       "True       1524\n",
       "Name: industries, dtype: int64"
      ]
     },
     "execution_count": 44,
     "metadata": {},
     "output_type": "execute_result"
    }
   ],
   "source": [
    "crunch['industries'].isna().value_counts()"
   ]
  },
  {
   "cell_type": "code",
   "execution_count": 52,
   "id": "d5c2f567",
   "metadata": {},
   "outputs": [
    {
     "name": "stdout",
     "output_type": "stream",
     "text": [
      "\n",
      "this column is _id\n",
      "ca17699b-2f49-91f4-5863-7216fc07a64e    1\n",
      "637d51c7-944a-439d-bbc4-1abb570167eb    1\n",
      "c1b4d6d0-e15d-4f73-960d-8c316182901c    1\n",
      "631caaca-edaa-4d7b-b29a-7d6f50a8d4a7    1\n",
      "34acb787-8476-493f-acec-941d736f96ef    1\n",
      "                                       ..\n",
      "b6b210bc-58b9-2abb-d8de-7d7efbfe8235    1\n",
      "6fd9ca2f-345e-4307-9948-618a211d6e6b    1\n",
      "5c61f428-600b-4f3c-bf88-cf376ad4a703    1\n",
      "a56c14af-237c-4f01-9128-496065274e68    1\n",
      "137bcfdd-ff15-4bfa-8da9-92b8d3a8d9cd    1\n",
      "Name: _id, Length: 134787, dtype: int64\n",
      "\n",
      "and this is the same column _id but counting how many nan's\n",
      "False    134787\n",
      "Name: _id, dtype: int64\n",
      "\n",
      "this column is category\n",
      "company     134385\n",
      "investor       393\n",
      "school           9\n",
      "Name: category, dtype: int64\n",
      "\n",
      "and this is the same column category but counting how many nan's\n",
      "False    134787\n",
      "Name: category, dtype: int64\n",
      "\n",
      "this column is country_code\n",
      "gb    53570\n",
      "de    33190\n",
      "fr    20681\n",
      "es    18533\n",
      "it     8813\n",
      "Name: country_code, dtype: int64\n",
      "\n",
      "and this is the same column country_code but counting how many nan's\n",
      "False    134787\n",
      "Name: country_code, dtype: int64\n",
      "\n",
      "this column is descriptions.long\n",
      "IMGeospatial’s AIMEE, our Automated Intelligent Multi-feature Extraction Engine, uses machine learning, AI and multi-scopic, remote-sensed imagery to create incredibly valuable Automated Business Intelligence.\\n\\nRather than producing enormous amounts of raw data which users must interpret to gain insight, IMGeospatial’s AIMEE ‘Digests, Distils and Disseminates’ remote-sensed data to produce intelligence specifically created for a particular sector. By producing Automated Business Intelligence in this way, we change the way you see your world, supplying critical answers to a user’s questions and allowing them to work smarter and do better things, more efficiently.                                                                                                             3\n",
      "Synergy combines your desktop devices together in to one cohesive experience. It&s;s software for sharing your mouse and keyboard between multiple computers on your desk. It works on Windows, Mac OS X and Linux.                                                                                                                                                                                                                                                                                                                                                                                                                                                                                                                                                                                          2\n",
      "Bathroom Wall Panels Manufactured from PVC and with a range of stylish decors, the shower boards &a; shower wall panels are non-porous, hygienic and easy to clean, ideal for both wet and dry areas.  All our Bathroom wall panels are tongue and groove, making the bathroom panels so easy to install.                                                                                                                                                                                                                                                                                                                                                                                                                                                                                                    2\n",
      "Browse leaflets online for free                                                                                                                                                                                                                                                                                                                                                                                                                                                                                                                                                                                                                                                                                                                                                                              2\n",
      "ProcessFlows provider of solutions and services designed toimprove business processes and communications. Since 1987, ProcessFlows has helped thousands of businesses, local councils and government departments to increase efficiency, improve customer service and implement controls for regulatory compliance. ProcessFlows combines business process expertise with market leading technology to provide flexible applications and workflows that augment existing systems and can be deployed quickly to provide a fast return on investment. Our nearshore outsource centre in Sofia provides expert support and managed services 24×7. ProcessFlows offers expert advice at every stage - understanding requirements and providing implementation, training, support and on-going customer care.    2\n",
      "                                                                                                                                                                                                                                                                                                                                                                                                                                                                                                                                                                                                                                                                                                                                                                                                            ..\n",
      "DISCOVER\\nSearch the latest home entertainment and domestic appliance products on the market\\n\\nAPPLY ONLINE\\nApply to rent in minutes, and get your product with free delivery and installation in as little as 48 hours\\n\\nPAY AS YOU GO\\nPay in affordable, bitesize chunks — paying on time, every time earns you exclusive rewards                                                                                                                                                                                                                                                                                                                                                                                                                                                                      1\n",
      "Founded in 2001, SRi is the leading firm dedicated to the constant and growing demand for executive and management talent in sports, media and entertainment. Operating from offices in Australia, Canada, China, Germany, Singapore, Switzerland and the UK, our expert advisers work as a global team providing search and consulting services through combining deep sector knowledge with world-class and cutting edge talent acquisition and management practice.                                                                                                                                                                                                                                                                                                                                       1\n",
      "Opals Group is an established UK-based Network Infrastructure Services company, we work with major network operators, technology vendors and engineering companies to design, build, manage and maintain the next generation of communication networks.                                                                                                                                                                                                                                                                                                                                                                                                                                                                                                                                                      1\n",
      "EWS Digital is cloud based e-commerce platform is strong, proven and intuitive. For ten years we&s;ve been helping our merchants sell online - and watch many grow up from start-up to online leaders in their sector. We&s;re easy to use, and boast unrivalled support. \\r\\n\\r\\nWe boast an advanced feature set to help keep each and every one of our merchants above the competition, and we give each of our merchants an e-commerce manager to ensure they are happy, and to ensure every merchant is getting the most out of our service. \\r\\n\\r\\nThere are hundreds of happy merchants on our platform, and that number is expanding each and every day, due to our eclectic mix of excellent customer service, and groundbreaking yet simple to use technology.                                    1\n",
      "Custom is a provides professional printing,scanning and data intelligence solutions for the automation of services to the public and digitalization processes in vertical and specialized markets.                                                                                                                                                                                                                                                                                                                                                                                                                                                                                                                                                                                                           1\n",
      "Name: descriptions.long, Length: 63245, dtype: int64\n",
      "\n",
      "and this is the same column descriptions.long but counting how many nan's\n",
      "True     71536\n",
      "False    63251\n",
      "Name: descriptions.long, dtype: int64\n",
      "\n",
      "this column is descriptions.short\n",
      "SaaS                                                                                                                                           31\n",
      "Mobile App                                                                                                                                     27\n",
      "Digital Marketing Agency                                                                                                                       16\n",
      "International                                                                                                                                   6\n",
      "Marketplace                                                                                                                                     5\n",
      "                                                                                                                                               ..\n",
      "Lasting Impressions Signs Stirling is a signs and graphics design company.                                                                      1\n",
      "WebsellMasters is a company that sells website services and provides affordable web design solutions in Yorkshire.                              1\n",
      "KubeCode is an IT Service Company passionate about every product and they work hard to excel in IT.                                             1\n",
      "HoldBreaker provides rock climbing gear, online advice, shop &a; community for your mountaineering needs.                                       1\n",
      "Idea Web is a web and digital agency that specializes in web development, digital marketing and design and development of e-commerce sites.     1\n",
      "Name: descriptions.short, Length: 134607, dtype: int64\n",
      "\n",
      "and this is the same column descriptions.short but counting how many nan's\n"
     ]
    },
    {
     "name": "stdout",
     "output_type": "stream",
     "text": [
      "False    134786\n",
      "True          1\n",
      "Name: descriptions.short, dtype: int64\n",
      "\n",
      "this column is email\n",
      "suport@tradeinn.com               13\n",
      "general@barcelonatechcity.com      7\n",
      "Louise.burry@incisivemedia.com     4\n",
      "rubber@ronfell.com                 4\n",
      "info@mysite.com                    4\n",
      "                                  ..\n",
      "pete@beckleymarketing.co.uk        1\n",
      "info@regenerus.org.uk              1\n",
      "info@elftranslations.co.uk         1\n",
      "sales@harveycomms.co.uk            1\n",
      "info@idea-web.org                  1\n",
      "Name: email, Length: 110809, dtype: int64\n",
      "\n",
      "and this is the same column email but counting how many nan's\n",
      "False    111191\n",
      "True      23596\n",
      "Name: email, dtype: int64\n",
      "\n",
      "this column is employee_range\n",
      "[1,10]          66152\n",
      "[11,50]         47338\n",
      "[51,100]         7950\n",
      "[101,250]        7184\n",
      "[251,500]        3615\n",
      "[501,1000]       2536\n",
      "[1001,5000]         2\n",
      "[5001,10000]        1\n",
      "Name: employee_range, dtype: int64\n",
      "\n",
      "and this is the same column employee_range but counting how many nan's\n",
      "False    134778\n",
      "True          9\n",
      "Name: employee_range, dtype: int64\n",
      "\n",
      "this column is industries\n",
      "[{\"_id\":\"6cb68537-2de1-b041-2ee5-451ff81bccab\",\"name\":\"Advertising\"},{\"_id\":\"2795f8fd-4718-3f8f-7513-5391ab707c90\",\"name\":\"Marketing\"}]                                                                                                                                                                                                                                                                                                                                              1471\n",
      "[{\"_id\":\"dbca89fa-f083-5438-b4ad-d3fdeceb78e7\",\"name\":\"Information Technology\"},{\"_id\":\"c08b5441-a05b-9777-b7a6-012728caddd9\",\"name\":\"Software\"}]                                                                                                                                                                                                                                                                                                                                    1139\n",
      "[{\"_id\":\"c08b5441-a05b-9777-b7a6-012728caddd9\",\"name\":\"Software\"}]                                                                                                                                                                                                                                                                                                                                                                                                                   1100\n",
      "[{\"_id\":\"dbca89fa-f083-5438-b4ad-d3fdeceb78e7\",\"name\":\"Information Technology\"}]                                                                                                                                                                                                                                                                                                                                                                                                     1097\n",
      "[{\"_id\":\"f579213a-60af-8bb3-309b-1d80607ad2a9\",\"name\":\"Information Services\"},{\"_id\":\"dbca89fa-f083-5438-b4ad-d3fdeceb78e7\",\"name\":\"Information Technology\"}]                                                                                                                                                                                                                                                                                                                         688\n",
      "                                                                                                                                                                                                                                                                                                                                                                                                                                                                                     ... \n",
      "[{\"_id\":\"b9bd65b9-20bf-45cc-207d-b70ac35d5bf4\",\"name\":\"Consulting\"},{\"_id\":\"dbca89fa-f083-5438-b4ad-d3fdeceb78e7\",\"name\":\"Information Technology\"},{\"_id\":\"7a6d8aad-7b87-534a-7f5d-c1766c2cd33f\",\"name\":\"Management Consulting\"},{\"_id\":\"0caf426c-828c-53ef-473c-b9b5795d9040\",\"name\":\"Management Information Systems\"},{\"_id\":\"421943ef-50ae-c811-470e-c66a0323cf0d\",\"name\":\"Robotics\"},{\"_id\":\"c08b5441-a05b-9777-b7a6-012728caddd9\",\"name\":\"Software\"}]                              1\n",
      "[{\"_id\":\"631d91d6-9da7-6e50-4eb0-d27e28ed2a7f\",\"name\":\"Art\"},{\"_id\":\"ca121753-d26b-a8d7-854f-6b972fd1a391\",\"name\":\"Local Shopping\"},{\"_id\":\"772da8fe-26d7-ea09-00ff-0fc7c8368b50\",\"name\":\"Marketplace\"},{\"_id\":\"a1ec698c-164f-d8da-096f-bdbb751c21a8\",\"name\":\"Music Venues\"},{\"_id\":\"51385655-f802-346b-045d-f44f461989fc\",\"name\":\"Restaurants\"},{\"_id\":\"b65acba5-b299-3990-6390-8be3e3833a07\",\"name\":\"Retail\"},{\"_id\":\"655df1bf-587c-59e3-4665-136fb2920827\",\"name\":\"Shopping\"}]       1\n",
      "[{\"_id\":\"9017245c-8985-9a74-e855-0219d5ce56a3\",\"name\":\"Business Information Systems\"},{\"_id\":\"2e3b8104-b12e-468a-65b8-0989208f0b16\",\"name\":\"Business Intelligence\"},{\"_id\":\"b9bd65b9-20bf-45cc-207d-b70ac35d5bf4\",\"name\":\"Consulting\"}]                                                                                                                                                                                                                                                 1\n",
      "[{\"_id\":\"e811671c-168d-1fd2-36e5-df4e08a09f7c\",\"name\":\"Manufacturing\"},{\"_id\":\"58284e68-4cf7-e34f-ae3b-dd68f25e9b99\",\"name\":\"Printing\"},{\"_id\":\"bcf1a24a-96df-d95b-099c-ddd418385579\",\"name\":\"Wholesale\"}]                                                                                                                                                                                                                                                                              1\n",
      "[{\"_id\":\"ad091ee0-0259-f129-7777-10f65213584d\",\"name\":\"Accounting\"},{\"_id\":\"2d410a02-e5d0-95f6-f7f7-690061283dd1\",\"name\":\"Employment\"},{\"_id\":\"d9cf3c35-fcf6-294c-e755-c8cad2653125\",\"name\":\"Online Portals\"}]                                                                                                                                                                                                                                                                          1\n",
      "Name: industries, Length: 59290, dtype: int64\n",
      "\n",
      "and this is the same column industries but counting how many nan's\n",
      "False    134787\n",
      "Name: industries, dtype: int64\n",
      "\n",
      "this column is investors\n",
      "[{\"_id\":\"01a2a666-577c-1673-eba6-74c02aaf2e80\",\"name\":\"Crowdcube\",\"category\":\"organization\"}]                                                                                                                                                                                                                                                                                                                                                                                                                                                                                                                                                                                                                                                                                                                                                                                                                                                                                   56\n",
      "[{\"_id\":\"7fe5c779-d231-b528-914a-69b8cfae8538\",\"name\":\"Business Growth Fund\",\"category\":\"organization\"}]                                                                                                                                                                                                                                                                                                                                                                                                                                                                                                                                                                                                                                                                                                                                                                                                                                                                        43\n",
      "[{\"_id\":\"2c30fc12-12da-22e1-0e3c-38cbd4ec7441\",\"name\":\"Innovate UK\",\"category\":\"organization\"}]                                                                                                                                                                                                                                                                                                                                                                                                                                                                                                                                                                                                                                                                                                                                                                                                                                                                                 16\n",
      "[{\"_id\":\"e7e5a267-ce84-b580-ccbf-40a17099d2aa\",\"name\":\"LDC\",\"category\":\"organization\"}]                                                                                                                                                                                                                                                                                                                                                                                                                                                                                                                                                                                                                                                                                                                                                                                                                                                                                         15\n",
      "[{\"_id\":\"becc42f7-18b4-e06e-335b-079b23dd7ca6\",\"name\":\"Foresight Group\",\"category\":\"organization\"}]                                                                                                                                                                                                                                                                                                                                                                                                                                                                                                                                                                                                                                                                                                                                                                                                                                                                             14\n",
      "                                                                                                                                                                                                                                                                                                                                                                                                                                                                                                                                                                                                                                                                                                                                                                                                                                                                                                                                                                                ..\n",
      "[{\"_id\":\"0686cdc6-d6e7-0417-8329-29b5c85afeef\",\"name\":\"Seedcamp\",\"category\":\"organization\"},{\"_id\":\"099a4c1d-a3d3-4a6f-927b-b587f56709b8\",\"name\":\"Marchmont Ventures\",\"category\":\"organization\"},{\"_id\":\"2a6c8ce5-a3f4-7e97-3c50-39f9896d6170\",\"name\":\"Christian Woolfenden\",\"category\":\"person\"},{\"_id\":\"5dbcc55b-53dc-7a7a-ab6b-71456e025b31\",\"name\":\"Ascension Ventures\",\"category\":\"organization\"},{\"_id\":\"918c3f56-9d0d-0655-6518-c77e87559ebc\",\"name\":\"Commercial Growth Fund\",\"category\":\"organization\"}]                                                                                                                                                                                                                                                                                                                                                                                                                                                                 1\n",
      "[{\"_id\":\"8c0175cf-f107-c473-e8c3-461ff8f10879\",\"name\":\"JamJar Investments\",\"category\":\"organization\"},{\"_id\":\"c901d65e-c346-e1a8-7a87-58dd6ca991f9\",\"name\":\"Octopus Ventures\",\"category\":\"organization\"},{\"_id\":\"2a01cddd-1d66-0e52-cae5-ba3113ae3054\",\"name\":\"QVentures\",\"category\":\"organization\"},{\"_id\":\"d27114f3-3e81-24f8-c5c9-ad29fb114e9c\",\"name\":\"Playfair Capital\",\"category\":\"organization\"}]                                                                                                                                                                                                                                                                                                                                                                                                                                                                                                                                                                         1\n",
      "[{\"_id\":\"ac41030f-c20d-0060-3f0a-37f0eee13779\",\"name\":\"Wayra\",\"category\":\"organization\"},{\"_id\":\"0d3d3331-f2cd-8cf2-8c43-50f80dde9dae\",\"name\":\"SmartHub\",\"category\":\"organization\"},{\"_id\":\"183692b0-b175-b125-89ce-2badd9f56b55\",\"name\":\"MassChallenge\",\"category\":\"organization\"},{\"_id\":\"46b18474-57d8-1512-1b10-f10290d11ba1\",\"name\":\"Angels Den\",\"category\":\"organization\"},{\"_id\":\"6eeeb477-b35d-b2c2-4c72-68aee5bb8491\",\"name\":\"KL10CH\",\"category\":\"organization\"},{\"_id\":\"8d433e70-c82f-68d1-4283-4e6d958bcc84\",\"name\":\"Valley Venture Mentors\",\"category\":\"organization\"},{\"_id\":\"9c5b7e0b-7e67-27d0-1f38-fd255d026d6f\",\"name\":\"SyndicateRoom\",\"category\":\"organization\"},{\"_id\":\"a30e45db-4bc6-6f61-b752-bf507882692f\",\"name\":\"Bogdan Iarovoi\",\"category\":\"person\"},{\"_id\":\"bc156f04-6623-7c0c-43f2-f6949056660f\",\"name\":\"Nikolay Katorzhnov\",\"category\":\"person\"},{\"_id\":\"ccaf0719-ae27-65ac-89ac-c9cc88baac20\",\"name\":\"Pitch@Palace\",\"category\":\"organization\"}]     1\n",
      "[{\"_id\":\"a0ba3194-51be-2b74-9b92-648b3bf9f2ae\",\"name\":\"UCLB\",\"category\":\"organization\"}]                                                                                                                                                                                                                                                                                                                                                                                                                                                                                                                                                                                                                                                                                                                                                                                                                                                                                         1\n",
      "[{\"_id\":\"92f09ced-e449-6fb5-e09c-721acfd22913\",\"name\":\"Scottish Investment Bank\",\"category\":\"organization\"},{\"_id\":\"0052417e-c052-ff17-ca0a-8ae397a1704f\",\"name\":\"Par Equity\",\"category\":\"organization\"},{\"_id\":\"c2689070-c879-5177-2662-de48bacecf25\",\"name\":\"Old College Capital\",\"category\":\"organization\"},{\"_id\":\"f8c850ac-7d49-b946-b9d8-ffee00e41e2d\",\"name\":\"Braveheart Investment Group\",\"category\":\"organization\"}]                                                                                                                                                                                                                                                                                                                                                                                                                                                                                                                                                    1\n",
      "Name: investors, Length: 3044, dtype: int64\n",
      "\n",
      "and this is the same column investors but counting how many nan's\n",
      "True     131393\n",
      "False      3394\n",
      "Name: investors, dtype: int64\n",
      "\n",
      "this column is legal_name\n",
      "OneCrowd GmbH               3\n",
      "Make it Wave Ltd            2\n",
      "Plato Media Ltd.            2\n",
      "Kite Tech Ltd               2\n",
      "Disrupts Media Ltd          2\n",
      "                           ..\n",
      "Corizance Limited           1\n",
      "The Ince Group plc          1\n",
      "BluTest Laboratories Ltd    1\n",
      "This is Stratum Limited     1\n",
      "Custom SpA                  1\n",
      "Name: legal_name, Length: 15382, dtype: int64\n",
      "\n",
      "and this is the same column legal_name but counting how many nan's\n"
     ]
    },
    {
     "name": "stdout",
     "output_type": "stream",
     "text": [
      "True     119379\n",
      "False     15408\n",
      "Name: legal_name, dtype: int64\n",
      "\n",
      "this column is min_revenues\n",
      "1.000000e+06    37604\n",
      "0.000000e+00    34186\n",
      "1.000000e+07     6047\n",
      "5.000000e+07      941\n",
      "1.000000e+08      581\n",
      "5.000000e+08      102\n",
      "1.000000e+09       81\n",
      "1.000000e+10       11\n",
      "Name: min_revenues, dtype: int64\n",
      "\n",
      "and this is the same column min_revenues but counting how many nan's\n",
      "False    79553\n",
      "True     55234\n",
      "Name: min_revenues, dtype: int64\n",
      "\n",
      "this column is name\n",
      "Shift                4\n",
      "CCS                  4\n",
      "CDP                  4\n",
      "IPS                  4\n",
      "Roth                 3\n",
      "                    ..\n",
      "Balanced Up          1\n",
      "A&q Partnership      1\n",
      "Go Car Warranty      1\n",
      "Media Performance    1\n",
      "Idea Web             1\n",
      "Name: name, Length: 133950, dtype: int64\n",
      "\n",
      "and this is the same column name but counting how many nan's\n",
      "False    134787\n",
      "Name: name, dtype: int64\n",
      "\n",
      "this column is phone\n",
      "15555555555         11\n",
      "+34 938342661        9\n",
      "+39 0422 789611      9\n",
      "+34 932 20 00 89     8\n",
      "+34 94 458 00 52     5\n",
      "                    ..\n",
      "44-20-8394-0010      1\n",
      "+44 330 333 7323     1\n",
      "44-20 8715 4745      1\n",
      "+441851700007        1\n",
      "39-3206308916        1\n",
      "Name: phone, Length: 107635, dtype: int64\n",
      "\n",
      "and this is the same column phone but counting how many nan's\n",
      "False    108119\n",
      "True      26668\n",
      "Name: phone, dtype: int64\n",
      "\n",
      "this column is scraped_light\n",
      "True    53570\n",
      "Name: scraped_light, dtype: int64\n",
      "\n",
      "and this is the same column scraped_light but counting how many nan's\n",
      "True     81217\n",
      "False    53570\n",
      "Name: scraped_light, dtype: int64\n",
      "\n",
      "this column is series\n",
      "Series([], Name: series, dtype: int64)\n",
      "\n",
      "and this is the same column series but counting how many nan's\n",
      "True    134787\n",
      "Name: series, dtype: int64\n",
      "\n",
      "this column is series.angel\n",
      "0.0           37\n",
      "1000000.0      7\n",
      "500000.0       6\n",
      "700000.0       4\n",
      "300000.0       4\n",
      "              ..\n",
      "1248204.0      1\n",
      "608142.0       1\n",
      "2402267.0      1\n",
      "2154656.0      1\n",
      "14011882.0     1\n",
      "Name: series.angel, Length: 283, dtype: int64\n",
      "\n",
      "and this is the same column series.angel but counting how many nan's\n",
      "True     134437\n",
      "False       350\n",
      "Name: series.angel, dtype: int64\n",
      "\n",
      "this column is series.convertible_note\n",
      "0.0           27\n",
      "100000.0       6\n",
      "3000000.0      2\n",
      "500000.0       2\n",
      "5854882.0      2\n",
      "              ..\n",
      "50187.0        1\n",
      "8200000.0      1\n",
      "200703.0       1\n",
      "13431825.0     1\n",
      "211590.0       1\n",
      "Name: series.convertible_note, Length: 99, dtype: int64\n",
      "\n",
      "and this is the same column series.convertible_note but counting how many nan's\n",
      "True     134654\n",
      "False       133\n",
      "Name: series.convertible_note, dtype: int64\n",
      "\n",
      "this column is series.corporate_round\n",
      "0.000000e+00    20\n",
      "1.000000e+07     3\n",
      "1.929888e+06     1\n",
      "1.458352e+06     1\n",
      "1.500000e+08     1\n",
      "6.465946e+07     1\n",
      "6.500000e+06     1\n",
      "9.236473e+06     1\n",
      "5.000000e+06     1\n",
      "1.350000e+07     1\n",
      "1.055733e+06     1\n",
      "1.280070e+07     1\n",
      "5.500000e+05     1\n",
      "7.200000e+06     1\n",
      "1.200000e+07     1\n",
      "1.053359e+07     1\n",
      "3.164697e+06     1\n",
      "2.214785e+08     1\n",
      "2.213622e+07     1\n",
      "4.071644e+06     1\n",
      "2.500000e+06     1\n",
      "1.273698e+06     1\n",
      "1.303072e+06     1\n",
      "2.050000e+07     1\n",
      "2.253963e+06     1\n",
      "1.000000e+06     1\n",
      "1.200000e+09     1\n",
      "3.270000e+08     1\n",
      "2.000000e+08     1\n",
      "4.600000e+07     1\n",
      "5.862245e+06     1\n",
      "2.000000e+06     1\n",
      "5.000000e+07     1\n",
      "9.416936e+06     1\n",
      "1.972646e+07     1\n",
      "1.966684e+07     1\n",
      "3.039185e+07     1\n",
      "2.600000e+07     1\n",
      "7.294619e+06     1\n",
      "1.650000e+07     1\n",
      "3.829764e+06     1\n",
      "1.813585e+07     1\n",
      "1.671429e+08     1\n",
      "1.389931e+06     1\n",
      "1.900000e+07     1\n",
      "Name: series.corporate_round, dtype: int64\n",
      "\n",
      "and this is the same column series.corporate_round but counting how many nan's\n",
      "True     134721\n",
      "False        66\n",
      "Name: series.corporate_round, dtype: int64\n",
      "\n",
      "this column is series.debt_financing\n",
      "0.0            34\n",
      "5000000.0       4\n",
      "2000000.0       3\n",
      "1000000.0       2\n",
      "1700000.0       2\n",
      "               ..\n",
      "309343.0        1\n",
      "12240029.0      1\n",
      "515042458.0     1\n",
      "4000000.0       1\n",
      "528219.0        1\n",
      "Name: series.debt_financing, Length: 227, dtype: int64\n",
      "\n",
      "and this is the same column series.debt_financing but counting how many nan's\n",
      "True     134518\n",
      "False       269\n",
      "Name: series.debt_financing, dtype: int64\n",
      "\n",
      "this column is series.equity_crowdfunding\n",
      "0.0          2\n",
      "8852844.0    1\n",
      "1967311.0    1\n",
      "1529665.0    1\n",
      "278948.0     1\n",
      "            ..\n",
      "1135193.0    1\n",
      "3207426.0    1\n",
      "3065320.0    1\n",
      "4390959.0    1\n",
      "606392.0     1\n",
      "Name: series.equity_crowdfunding, Length: 394, dtype: int64\n",
      "\n",
      "and this is the same column series.equity_crowdfunding but counting how many nan's\n",
      "True     134392\n",
      "False       395\n",
      "Name: series.equity_crowdfunding, dtype: int64\n",
      "\n",
      "this column is series.grant\n",
      "0.0           41\n",
      "81868.0        7\n",
      "100000.0       6\n",
      "12060107.0     4\n",
      "50000.0        4\n",
      "              ..\n",
      "2454055.0      1\n",
      "6347553.0      1\n",
      "54634.0        1\n",
      "1132388.0      1\n",
      "636550.0       1\n",
      "Name: series.grant, Length: 386, dtype: int64\n",
      "\n",
      "and this is the same column series.grant but counting how many nan's\n",
      "True     134320\n",
      "False       467\n",
      "Name: series.grant, dtype: int64\n",
      "\n",
      "this column is series.initial_coin_offering\n",
      "6000000.0      3\n",
      "20000000.0     3\n",
      "11000000.0     2\n",
      "18000000.0     2\n",
      "24000000.0     2\n",
      "65000000.0     1\n",
      "30500000.0     1\n",
      "11231807.0     1\n",
      "5087896.0      1\n",
      "3900000.0      1\n",
      "12600000.0     1\n",
      "2500000.0      1\n",
      "17800000.0     1\n",
      "10000000.0     1\n",
      "5163000.0      1\n",
      "28000000.0     1\n",
      "21000000.0     1\n",
      "0.0            1\n",
      "575000000.0    1\n",
      "16700000.0     1\n",
      "158000000.0    1\n",
      "90000000.0     1\n",
      "8700000.0      1\n",
      "40000000.0     1\n",
      "6066734.0      1\n",
      "5000000.0      1\n",
      "Name: series.initial_coin_offering, dtype: int64\n",
      "\n",
      "and this is the same column series.initial_coin_offering but counting how many nan's\n",
      "True     134754\n",
      "False        33\n",
      "Name: series.initial_coin_offering, dtype: int64\n",
      "\n",
      "this column is series.non_equity_assistance\n",
      "0.0          257\n",
      "1650000.0      1\n",
      "1000000.0      1\n",
      "1250000.0      1\n",
      "6000000.0      1\n",
      "1673231.0      1\n",
      "329259.0       1\n",
      "1123871.0      1\n",
      "17006.0        1\n",
      "15537.0        1\n",
      "500000.0       1\n",
      "16007.0        1\n",
      "160000.0       1\n",
      "481134.0       1\n",
      "Name: series.non_equity_assistance, dtype: int64\n",
      "\n",
      "and this is the same column series.non_equity_assistance but counting how many nan's\n",
      "True     134517\n",
      "False       270\n",
      "Name: series.non_equity_assistance, dtype: int64\n",
      "\n",
      "this column is series.post_ipo_debt\n",
      "63273839.0     1\n",
      "24159614.0     1\n",
      "325000000.0    1\n",
      "26000000.0     1\n",
      "26374090.0     1\n",
      "2271980.0      1\n",
      "0.0            1\n",
      "19351417.0     1\n",
      "5433613.0      1\n",
      "5000000.0      1\n",
      "55000000.0     1\n",
      "323495197.0    1\n",
      "43556446.0     1\n",
      "26954068.0     1\n",
      "263962285.0    1\n",
      "87598986.0     1\n",
      "5287613.0      1\n",
      "40000000.0     1\n",
      "345728068.0    1\n",
      "200000000.0    1\n",
      "2719168.0      1\n",
      "Name: series.post_ipo_debt, dtype: int64\n",
      "\n",
      "and this is the same column series.post_ipo_debt but counting how many nan's\n",
      "True     134766\n",
      "False        21\n",
      "Name: series.post_ipo_debt, dtype: int64\n",
      "\n",
      "this column is series.post_ipo_equity\n",
      "100000000.0    2\n",
      "0.0            2\n",
      "142290567.0    1\n",
      "125303366.0    1\n",
      "8764911.0      1\n",
      "              ..\n",
      "4105889.0      1\n",
      "11228509.0     1\n",
      "75000000.0     1\n",
      "23246956.0     1\n",
      "12572893.0     1\n",
      "Name: series.post_ipo_equity, Length: 86, dtype: int64\n",
      "\n",
      "and this is the same column series.post_ipo_equity but counting how many nan's\n",
      "True     134699\n",
      "False        88\n",
      "Name: series.post_ipo_equity, dtype: int64\n",
      "\n",
      "this column is series.pre_seed\n",
      "0.0          60\n",
      "300000.0      7\n",
      "1000000.0     5\n",
      "500000.0      4\n",
      "150000.0      4\n",
      "             ..\n",
      "197406.0      1\n",
      "198135.0      1\n",
      "185962.0      1\n",
      "1756942.0     1\n",
      "110364.0      1\n",
      "Name: series.pre_seed, Length: 299, dtype: int64\n",
      "\n",
      "and this is the same column series.pre_seed but counting how many nan's\n",
      "True     134394\n",
      "False       393\n",
      "Name: series.pre_seed, dtype: int64\n",
      "\n",
      "this column is series.private_equity\n",
      "0.0            33\n",
      "500000000.0     3\n",
      "250000000.0     3\n",
      "100000000.0     3\n",
      "50000000.0      2\n",
      "               ..\n",
      "7836652.0       1\n",
      "17121009.0      1\n",
      "62356313.0      1\n",
      "78257875.0      1\n",
      "150000000.0     1\n",
      "Name: series.private_equity, Length: 167, dtype: int64\n",
      "\n",
      "and this is the same column series.private_equity but counting how many nan's\n",
      "True     134579\n",
      "False       208\n",
      "Name: series.private_equity, dtype: int64\n",
      "\n",
      "this column is series.secondary_market\n",
      "0.000000e+00    5\n",
      "2.341393e+08    1\n",
      "7.839988e+06    1\n",
      "5.719444e+09    1\n",
      "8.600000e+06    1\n",
      "1.600000e+07    1\n",
      "Name: series.secondary_market, dtype: int64\n",
      "\n",
      "and this is the same column series.secondary_market but counting how many nan's\n",
      "True     134777\n",
      "False        10\n",
      "Name: series.secondary_market, dtype: int64\n",
      "\n",
      "this column is series.seed\n",
      "0.0          228\n",
      "1000000.0     51\n",
      "1500000.0     32\n",
      "2000000.0     31\n",
      "1200000.0     18\n",
      "            ... \n",
      "483123.0       1\n",
      "2104653.0      1\n",
      "833233.0       1\n",
      "1351008.0      1\n",
      "630000.0       1\n",
      "Name: series.seed, Length: 1473, dtype: int64\n",
      "\n",
      "and this is the same column series.seed but counting how many nan's\n"
     ]
    },
    {
     "name": "stdout",
     "output_type": "stream",
     "text": [
      "True     132690\n",
      "False      2097\n",
      "Name: series.seed, dtype: int64\n",
      "\n",
      "this column is series.series_a\n",
      "0.0           61\n",
      "5000000.0     33\n",
      "10000000.0    31\n",
      "7000000.0     21\n",
      "3000000.0     19\n",
      "              ..\n",
      "45019358.0     1\n",
      "10652273.0     1\n",
      "6505513.0      1\n",
      "7957601.0      1\n",
      "3392057.0      1\n",
      "Name: series.series_a, Length: 672, dtype: int64\n",
      "\n",
      "and this is the same column series.series_a but counting how many nan's\n",
      "True     133737\n",
      "False      1050\n",
      "Name: series.series_a, dtype: int64\n",
      "\n",
      "this column is series.series_b\n",
      "0.0           23\n",
      "20000000.0    15\n",
      "10000000.0     9\n",
      "25000000.0     9\n",
      "15000000.0     7\n",
      "              ..\n",
      "19898996.0     1\n",
      "9367236.0      1\n",
      "90000000.0     1\n",
      "33882320.0     1\n",
      "1586689.0      1\n",
      "Name: series.series_b, Length: 291, dtype: int64\n",
      "\n",
      "and this is the same column series.series_b but counting how many nan's\n",
      "True     134357\n",
      "False       430\n",
      "Name: series.series_b, dtype: int64\n",
      "\n",
      "this column is series.series_c\n",
      "40000000.0    10\n",
      "0.0            9\n",
      "25000000.0     6\n",
      "10000000.0     5\n",
      "50000000.0     4\n",
      "              ..\n",
      "46420718.0     1\n",
      "44000000.0     1\n",
      "19558499.0     1\n",
      "37984696.0     1\n",
      "11000000.0     1\n",
      "Name: series.series_c, Length: 115, dtype: int64\n",
      "\n",
      "and this is the same column series.series_c but counting how many nan's\n",
      "True     134626\n",
      "False       161\n",
      "Name: series.series_c, dtype: int64\n",
      "\n",
      "this column is series.series_d\n",
      "0.0            3\n",
      "15000000.0     3\n",
      "40000000.0     3\n",
      "98000000.0     2\n",
      "30000000.0     2\n",
      "9000000.0      2\n",
      "27000000.0     1\n",
      "28669478.0     1\n",
      "38402457.0     1\n",
      "67937889.0     1\n",
      "6402753.0      1\n",
      "8000000.0      1\n",
      "24347813.0     1\n",
      "18850661.0     1\n",
      "26000000.0     1\n",
      "3717942.0      1\n",
      "10000000.0     1\n",
      "3863295.0      1\n",
      "15063475.0     1\n",
      "91000000.0     1\n",
      "17000000.0     1\n",
      "25600000.0     1\n",
      "8500000.0      1\n",
      "95004476.0     1\n",
      "51000000.0     1\n",
      "35000000.0     1\n",
      "200000000.0    1\n",
      "350000000.0    1\n",
      "100000000.0    1\n",
      "39629182.0     1\n",
      "22500000.0     1\n",
      "175000000.0    1\n",
      "65000000.0     1\n",
      "13300000.0     1\n",
      "55776025.0     1\n",
      "50000000.0     1\n",
      "14743826.0     1\n",
      "26200000.0     1\n",
      "5000000.0      1\n",
      "49696751.0     1\n",
      "26024994.0     1\n",
      "25847006.0     1\n",
      "2500000.0      1\n",
      "Name: series.series_d, dtype: int64\n",
      "\n",
      "and this is the same column series.series_d but counting how many nan's\n",
      "True     134735\n",
      "False        52\n",
      "Name: series.series_d, dtype: int64\n",
      "\n",
      "this column is series.series_e\n",
      "150000000.0    2\n",
      "15000000.0     2\n",
      "6369329.0      1\n",
      "16500000.0     1\n",
      "7500000.0      1\n",
      "22500000.0     1\n",
      "5573681.0      1\n",
      "6028762.0      1\n",
      "0.0            1\n",
      "80000000.0     1\n",
      "19000000.0     1\n",
      "37000000.0     1\n",
      "24839783.0     1\n",
      "27577766.0     1\n",
      "58302012.0     1\n",
      "50000000.0     1\n",
      "10000000.0     1\n",
      "20000000.0     1\n",
      "75000000.0     1\n",
      "22918141.0     1\n",
      "8000000.0      1\n",
      "Name: series.series_e, dtype: int64\n",
      "\n",
      "and this is the same column series.series_e but counting how many nan's\n",
      "True     134764\n",
      "False        23\n",
      "Name: series.series_e, dtype: int64\n",
      "\n",
      "this column is series.series_f\n",
      "30000000.0     2\n",
      "41236847.0     1\n",
      "37715923.0     1\n",
      "100000000.0    1\n",
      "17000000.0     1\n",
      "Name: series.series_f, dtype: int64\n",
      "\n",
      "and this is the same column series.series_f but counting how many nan's\n",
      "True     134781\n",
      "False         6\n",
      "Name: series.series_f, dtype: int64\n",
      "\n",
      "this column is series.series_g\n",
      "78227342.0    1\n",
      "41311864.0    1\n",
      "39200000.0    1\n",
      "Name: series.series_g, dtype: int64\n",
      "\n",
      "and this is the same column series.series_g but counting how many nan's\n",
      "True     134784\n",
      "False         3\n",
      "Name: series.series_g, dtype: int64\n",
      "\n",
      "this column is series.series_h\n",
      "167860845.0    1\n",
      "5000000.0      1\n",
      "1330000.0      1\n",
      "Name: series.series_h, dtype: int64\n",
      "\n",
      "and this is the same column series.series_h but counting how many nan's\n",
      "True     134784\n",
      "False         3\n",
      "Name: series.series_h, dtype: int64\n",
      "\n",
      "this column is series.series_unknown\n",
      "0.0           204\n",
      "5000000.0      15\n",
      "1000000.0      12\n",
      "10000000.0     12\n",
      "2000000.0       7\n",
      "             ... \n",
      "2310120.0       1\n",
      "23300000.0      1\n",
      "1568313.0       1\n",
      "4033456.0       1\n",
      "921087.0        1\n",
      "Name: series.series_unknown, Length: 914, dtype: int64\n",
      "\n",
      "and this is the same column series.series_unknown but counting how many nan's\n",
      "True     133565\n",
      "False      1222\n",
      "Name: series.series_unknown, dtype: int64\n",
      "\n",
      "this column is series.total\n",
      "1000000.0      38\n",
      "5000000.0      23\n",
      "2000000.0      22\n",
      "10000000.0     19\n",
      "1500000.0      17\n",
      "               ..\n",
      "250000000.0     1\n",
      "652093.0        1\n",
      "16713737.0      1\n",
      "170000000.0     1\n",
      "606392.0        1\n",
      "Name: series.total, Length: 3342, dtype: int64\n",
      "\n",
      "and this is the same column series.total but counting how many nan's\n",
      "True     130961\n",
      "False      3826\n",
      "Name: series.total, dtype: int64\n",
      "\n",
      "this column is series.undisclosed\n",
      "0.0           37\n",
      "52500000.0     1\n",
      "520725.0       1\n",
      "467432.0       1\n",
      "2500000.0      1\n",
      "              ..\n",
      "804066.0       1\n",
      "3876771.0      1\n",
      "5210000.0      1\n",
      "2581181.0      1\n",
      "717363.0       1\n",
      "Name: series.undisclosed, Length: 115, dtype: int64\n",
      "\n",
      "and this is the same column series.undisclosed but counting how many nan's\n",
      "True     134636\n",
      "False       151\n",
      "Name: series.undisclosed, dtype: int64\n",
      "\n",
      "this column is socials.facebook\n",
      "https://www.facebook.com/BarcelonaTechCity             12\n",
      "https://www.facebook.com/                              10\n",
      "https://www.facebook.com/jtspasni                       3\n",
      "https://www.facebook.com/biomedcentral                  3\n",
      "https://www.facebook.com/Webrevolve/                    3\n",
      "                                                       ..\n",
      "https://www.facebook.com/pg/UMISConsultancy             1\n",
      "https://www.facebook.com/mobilyse                       1\n",
      "https://www.facebook.com/DoubleUnderscore               1\n",
      "https://www.facebook.com/238783909575650                1\n",
      "https://www.facebook.com/PuntowebSitiInternetArezzo     1\n",
      "Name: socials.facebook, Length: 77194, dtype: int64\n",
      "\n",
      "and this is the same column socials.facebook but counting how many nan's\n",
      "False    77498\n",
      "True     57289\n",
      "Name: socials.facebook, dtype: int64\n",
      "\n",
      "this column is socials.linkedin\n",
      "https://www.linkedin.com/company/barcelona-tech-city/                  10\n",
      "https://www.linkedin.com/feed/                                          9\n",
      "https://www.linkedin.com/company/unavailable/                           8\n",
      "https://www.linkedin.com/in/unavailable/                                3\n",
      "https://www.linkedin.com/company/leanconsult.ru/about/                  3\n",
      "                                                                       ..\n",
      "https://www.linkedin.com/company/silent-sounds-communications-ltd       1\n",
      "https://www.linkedin.com/company-beta/5535799/?pathWildcard=5535799     1\n",
      "https://www.linkedin.com/company/camfed                                 1\n",
      "https://www.linkedin.com/company/mearns-&a;-company/                    1\n",
      "https://www.linkedin.com/in/puntoweb-arezzo-8039a74b/                   1\n",
      "Name: socials.linkedin, Length: 82178, dtype: int64\n",
      "\n",
      "and this is the same column socials.linkedin but counting how many nan's\n",
      "False    82296\n",
      "True     52491\n",
      "Name: socials.linkedin, dtype: int64\n",
      "\n",
      "this column is socials.twitter\n",
      "https://twitter.com/home                   12\n",
      "https://twitter.com/jtspas                  3\n",
      "https://www.twitter.com/moixatechnology     3\n",
      "https://www.twitter.com/icreate_ltd         2\n",
      "https://twitter.com/huddledmedia            2\n",
      "                                           ..\n",
      "https://twitter.com/Platinum_3D             1\n",
      "http://twitter.com/golfshake                1\n",
      "http://twitter.com/universLabs              1\n",
      "https://twitter.com/RumpusPR                1\n",
      "https://twitter.com/puntowebarezzo          1\n",
      "Name: socials.twitter, Length: 74655, dtype: int64\n",
      "\n",
      "and this is the same column socials.twitter but counting how many nan's\n",
      "False    74814\n",
      "True     59973\n",
      "Name: socials.twitter, dtype: int64\n",
      "\n",
      "this column is traffic.global_rank\n",
      "686.0        4\n",
      "72567.0      4\n",
      "36848.0      4\n",
      "64804.0      4\n",
      "350213.0     4\n",
      "            ..\n",
      "4760417.0    1\n",
      "3009471.0    1\n",
      "5963717.0    1\n",
      "3377058.0    1\n",
      "5107663.0    1\n",
      "Name: traffic.global_rank, Length: 50622, dtype: int64\n",
      "\n",
      "and this is the same column traffic.global_rank but counting how many nan's\n",
      "True     84090\n",
      "False    50697\n",
      "Name: traffic.global_rank, dtype: int64\n",
      "\n",
      "this column is traffic.monthly\n",
      "592.0      276\n",
      "632.0      124\n",
      "446.0       76\n",
      "1169.0      73\n",
      "558.0       72\n",
      "          ... \n",
      "64340.0      1\n",
      "18416.0      1\n",
      "92408.0      1\n",
      "41471.0      1\n",
      "17066.0      1\n",
      "Name: traffic.monthly, Length: 21630, dtype: int64\n",
      "\n",
      "and this is the same column traffic.monthly but counting how many nan's\n",
      "True     84090\n",
      "False    50697\n",
      "Name: traffic.monthly, dtype: int64\n",
      "\n",
      "this column is website\n"
     ]
    },
    {
     "name": "stdout",
     "output_type": "stream",
     "text": [
      "https://mybaker.co/             3\n",
      "https://www.chorus.co           2\n",
      "https://www.sword-apak.com/     2\n",
      "http://www.bookatable.com       2\n",
      "https://www.notpla.com/         2\n",
      "                               ..\n",
      "http://www.ziggiziggi.com       1\n",
      "https://assured24.com/          1\n",
      "http://www.jeffersons.com/      1\n",
      "https://www.redstones.co.uk/    1\n",
      "http://www.idea-web.org         1\n",
      "Name: website, Length: 133743, dtype: int64\n",
      "\n",
      "and this is the same column website but counting how many nan's\n",
      "False    133778\n",
      "True       1009\n",
      "Name: website, dtype: int64\n"
     ]
    }
   ],
   "source": [
    "for index, colname in enumerate(crunch):\n",
    "    print()\n",
    "    print(f'this column is {colname}')\n",
    "    print(crunch[crunch['industries'].notna()][colname].value_counts())\n",
    "    print()\n",
    "    print(f\"and this is the same column {colname} but counting how many nan's\")\n",
    "    print(crunch[crunch['industries'].notna()][colname].isna().value_counts())"
   ]
  },
  {
   "cell_type": "code",
   "execution_count": 47,
   "id": "81e4a9cd",
   "metadata": {},
   "outputs": [
    {
     "data": {
      "text/plain": [
       "[1,10]          66152\n",
       "[11,50]         47338\n",
       "[51,100]         7950\n",
       "[101,250]        7184\n",
       "[251,500]        3615\n",
       "[501,1000]       2536\n",
       "[1001,5000]         2\n",
       "[5001,10000]        1\n",
       "Name: employee_range, dtype: int64"
      ]
     },
     "execution_count": 47,
     "metadata": {},
     "output_type": "execute_result"
    }
   ],
   "source": [
    "crunch[crunch['industries'].notna()]['employee_range'].value_counts()"
   ]
  },
  {
   "cell_type": "markdown",
   "id": "f0bab0ed",
   "metadata": {},
   "source": [
    "<B>I WILL SEE IF I CAN FILTER AND REMOVE ALL NANS, INSTEAD OF REPLACING LIKE IN THE FOLLOWING CELL"
   ]
  },
  {
   "cell_type": "code",
   "execution_count": 6,
   "id": "e7725d71",
   "metadata": {},
   "outputs": [],
   "source": [
    "#crunch['industries'].replace(np.nan, '[]', inplace=True)"
   ]
  },
  {
   "cell_type": "code",
   "execution_count": 54,
   "id": "f6cdd81e",
   "metadata": {},
   "outputs": [],
   "source": [
    "crunch_where_ind_notna = crunch[crunch['industries'].notna()]"
   ]
  },
  {
   "cell_type": "markdown",
   "id": "afb26b1a",
   "metadata": {},
   "source": [
    "### THE FOLLOWING TWO CELLS SHOULDN'T BE RAN FOR THE MOMENT, since it will transform each cell in a list, and later on we will do the same process but transforming each in a set"
   ]
  },
  {
   "cell_type": "markdown",
   "id": "3ac04fee",
   "metadata": {},
   "source": [
    "<b> THIS BLOCK IS NOT RAN!\"!!!!1"
   ]
  },
  {
   "cell_type": "code",
   "execution_count": null,
   "id": "776cc48f",
   "metadata": {},
   "outputs": [],
   "source": [
    "# extract_dict_industries = lambda row: [lines['name'] for lines in json.loads(row)]"
   ]
  },
  {
   "cell_type": "code",
   "execution_count": null,
   "id": "7319be4b",
   "metadata": {},
   "outputs": [],
   "source": [
    "# crunch['industries_list']= crunch['industries'].apply(extract_dict_industries)"
   ]
  },
  {
   "cell_type": "code",
   "execution_count": null,
   "id": "90846347",
   "metadata": {},
   "outputs": [],
   "source": [
    "crunch.head()"
   ]
  },
  {
   "cell_type": "code",
   "execution_count": null,
   "id": "b556ebff",
   "metadata": {},
   "outputs": [],
   "source": [
    "crunch = crunch.drop(columns='industries')\n",
    "crunch.head()\n"
   ]
  },
  {
   "cell_type": "code",
   "execution_count": null,
   "id": "41880c4a",
   "metadata": {},
   "outputs": [],
   "source": [
    "crunch.columns"
   ]
  },
  {
   "cell_type": "code",
   "execution_count": null,
   "id": "28802222",
   "metadata": {},
   "outputs": [],
   "source": [
    "(crunch.scraped_light==True).value_counts()"
   ]
  },
  {
   "cell_type": "code",
   "execution_count": null,
   "id": "3494f1cc",
   "metadata": {},
   "outputs": [],
   "source": [
    "crunch.scraped_light.isna().value_counts()"
   ]
  },
  {
   "cell_type": "markdown",
   "id": "3aace52f",
   "metadata": {},
   "source": [
    "<b> THIS BLOCK IS NOT RAN!\"!!!!1"
   ]
  },
  {
   "cell_type": "markdown",
   "id": "27c1bdc3",
   "metadata": {},
   "source": [
    "## there are no investors when scraped_light is nan "
   ]
  },
  {
   "cell_type": "code",
   "execution_count": null,
   "id": "55742dbb",
   "metadata": {},
   "outputs": [],
   "source": [
    "crunch[crunch.scraped_light.isna()]['investors'].isna().value_counts()"
   ]
  },
  {
   "cell_type": "markdown",
   "id": "e92ccbe4",
   "metadata": {},
   "source": [
    "### only 3417 values on investors in total\n"
   ]
  },
  {
   "cell_type": "code",
   "execution_count": null,
   "id": "38666e02",
   "metadata": {},
   "outputs": [],
   "source": [
    "crunch.investors.isna().value_counts()"
   ]
  },
  {
   "cell_type": "code",
   "execution_count": null,
   "id": "a1307599",
   "metadata": {},
   "outputs": [],
   "source": [
    "crunch.min_revenues.isna().value_counts()"
   ]
  },
  {
   "cell_type": "code",
   "execution_count": null,
   "id": "80eada1e",
   "metadata": {},
   "outputs": [],
   "source": [
    "crunch[crunch.scraped_light.isna()]['min_revenues'].isna().value_counts()"
   ]
  },
  {
   "cell_type": "code",
   "execution_count": null,
   "id": "77924b95",
   "metadata": {},
   "outputs": [],
   "source": [
    "crunch.category.unique()"
   ]
  },
  {
   "cell_type": "code",
   "execution_count": null,
   "id": "48139385",
   "metadata": {},
   "outputs": [],
   "source": [
    "for column in crunch.columns:\n",
    "    print()\n",
    "    print(f'The column name is {column} and the unique values are:' )\n",
    "    print(crunch[column].unique())\n",
    "    print()"
   ]
  },
  {
   "cell_type": "code",
   "execution_count": null,
   "id": "aaae96a9",
   "metadata": {},
   "outputs": [],
   "source": [
    "crunch.series.isna().value_counts()"
   ]
  },
  {
   "cell_type": "markdown",
   "id": "f12e2e90",
   "metadata": {},
   "source": [
    "## other columns to erase"
   ]
  },
  {
   "cell_type": "code",
   "execution_count": null,
   "id": "202e71ad",
   "metadata": {},
   "outputs": [],
   "source": [
    "#i got to erase series column, \n",
    "#scraped_light, and what for is the column category, there is only\n",
    "#company, investor, school and nan"
   ]
  },
  {
   "cell_type": "code",
   "execution_count": null,
   "id": "2da941a5",
   "metadata": {},
   "outputs": [],
   "source": [
    "crunch['investors'].isna().value_counts()"
   ]
  },
  {
   "cell_type": "code",
   "execution_count": null,
   "id": "62269be1",
   "metadata": {},
   "outputs": [],
   "source": [
    "#investors probably not important as column, very few values"
   ]
  },
  {
   "cell_type": "code",
   "execution_count": null,
   "id": "0e204465",
   "metadata": {},
   "outputs": [],
   "source": [
    "crunch['investors'].replace(np.nan, '[]', inplace=True)"
   ]
  },
  {
   "cell_type": "code",
   "execution_count": null,
   "id": "6fb1391b",
   "metadata": {},
   "outputs": [],
   "source": [
    "extract_dict_investors = lambda row: [lines['name'] for lines in json.loads(row)]"
   ]
  },
  {
   "cell_type": "code",
   "execution_count": null,
   "id": "266ff29b",
   "metadata": {},
   "outputs": [],
   "source": [
    "crunch['investors_list']= crunch['investors'].apply(extract_dict_investors)"
   ]
  },
  {
   "cell_type": "code",
   "execution_count": null,
   "id": "0cec2311",
   "metadata": {},
   "outputs": [],
   "source": [
    "crunch.head()"
   ]
  },
  {
   "cell_type": "markdown",
   "id": "25706f67",
   "metadata": {},
   "source": [
    "### more columns to erase"
   ]
  },
  {
   "cell_type": "code",
   "execution_count": null,
   "id": "585a1502",
   "metadata": {},
   "outputs": [],
   "source": [
    "crunch = crunch.drop(columns=['investors', 'series'])"
   ]
  },
  {
   "cell_type": "code",
   "execution_count": null,
   "id": "8dbf24f3",
   "metadata": {},
   "outputs": [],
   "source": [
    "crunch\n"
   ]
  },
  {
   "cell_type": "code",
   "execution_count": null,
   "id": "00a56e3b",
   "metadata": {},
   "outputs": [],
   "source": [
    "crunch[crunch.category == 'school']['series.grant']"
   ]
  },
  {
   "cell_type": "code",
   "execution_count": null,
   "id": "6c7be5b3",
   "metadata": {
    "scrolled": true
   },
   "outputs": [],
   "source": [
    "crunch['series.grant'].unique()"
   ]
  },
  {
   "cell_type": "code",
   "execution_count": null,
   "id": "83c9e46a",
   "metadata": {},
   "outputs": [],
   "source": [
    "crunch.min_revenues.isna().value_counts()"
   ]
  },
  {
   "cell_type": "code",
   "execution_count": null,
   "id": "a8c80984",
   "metadata": {},
   "outputs": [],
   "source": [
    "crunch[crunch.min_revenues.isna()].loc[:,'series.angel':]"
   ]
  },
  {
   "cell_type": "code",
   "execution_count": null,
   "id": "75f6ace4",
   "metadata": {},
   "outputs": [],
   "source": [
    "crunch[crunch.min_revenues.isna()]['series.total'].isna().value_counts()"
   ]
  },
  {
   "cell_type": "code",
   "execution_count": null,
   "id": "d570dad8",
   "metadata": {},
   "outputs": [],
   "source": [
    "crunch[~crunch.min_revenues.isna()]['series.total'].isna().value_counts()"
   ]
  },
  {
   "cell_type": "code",
   "execution_count": null,
   "id": "a78b6977",
   "metadata": {},
   "outputs": [],
   "source": [
    "crunch.columns"
   ]
  },
  {
   "cell_type": "code",
   "execution_count": null,
   "id": "93f51621",
   "metadata": {},
   "outputs": [],
   "source": [
    "crunch.corr"
   ]
  },
  {
   "cell_type": "code",
   "execution_count": null,
   "id": "8b719c7b",
   "metadata": {},
   "outputs": [],
   "source": [
    "test = crunch.dropna()"
   ]
  },
  {
   "cell_type": "code",
   "execution_count": null,
   "id": "3ad7d399",
   "metadata": {},
   "outputs": [],
   "source": [
    "test #why th8s?"
   ]
  },
  {
   "cell_type": "code",
   "execution_count": null,
   "id": "e8213eea",
   "metadata": {
    "scrolled": true
   },
   "outputs": [],
   "source": [
    "#df = crunch.drop_duplicates()"
   ]
  },
  {
   "cell_type": "markdown",
   "id": "9b41fe42",
   "metadata": {},
   "source": [
    "### more columns to drop"
   ]
  },
  {
   "cell_type": "code",
   "execution_count": null,
   "id": "12c197be",
   "metadata": {},
   "outputs": [],
   "source": [
    "df = crunch.drop(columns= ['_id', 'category', 'country_code', 'employee_range', 'legal_name',\n",
    "       'min_revenues', 'name',  'series.angel',\n",
    "       'series.convertible_note', 'series.corporate_round',\n",
    "       'series.debt_financing', 'series.equity_crowdfunding', 'series.grant',\n",
    "       'series.initial_coin_offering', 'series.non_equity_assistance',\n",
    "       'series.post_ipo_debt', 'series.post_ipo_equity', 'series.pre_seed',\n",
    "       'series.private_equity', 'series.secondary_market', 'series.seed',\n",
    "       'series.series_a', 'series.series_b', 'series.series_c',\n",
    "       'series.series_d', 'series.series_e', 'series.series_f',\n",
    "       'series.series_g', 'series.series_h', 'series.series_unknown',\n",
    "       'series.total', 'series.undisclosed', 'traffic.global_rank',\n",
    "       'traffic.monthly',  'industries_list', 'investors_list'])"
   ]
  },
  {
   "cell_type": "code",
   "execution_count": null,
   "id": "b7949b04",
   "metadata": {},
   "outputs": [],
   "source": [
    "df = crunch.drop(columns= [ 'descriptions.long','descriptions.short', 'email','phone', 'scraped_light', 'socials.facebook',\n",
    "       'socials.linkedin', 'socials.twitter','website',])"
   ]
  },
  {
   "cell_type": "code",
   "execution_count": null,
   "id": "b838d902",
   "metadata": {},
   "outputs": [],
   "source": [
    "df = df.drop(columns='legal_name')"
   ]
  },
  {
   "cell_type": "code",
   "execution_count": null,
   "id": "a01f80c9",
   "metadata": {},
   "outputs": [],
   "source": [
    "df.head()"
   ]
  },
  {
   "cell_type": "code",
   "execution_count": null,
   "id": "b2c7eb1c",
   "metadata": {},
   "outputs": [],
   "source": [
    "for column in df.columns[0:10]:\n",
    "    print()\n",
    "    print(f'The column name is {column} and the value is:' )\n",
    "    print()\n",
    "    print(f'the first element is of type {type(df[column][0])}')\n",
    "    print(df[column])\n",
    "    print()\n",
    "    "
   ]
  },
  {
   "cell_type": "code",
   "execution_count": null,
   "id": "f5795c8d",
   "metadata": {},
   "outputs": [],
   "source": [
    "df.info()"
   ]
  },
  {
   "cell_type": "code",
   "execution_count": null,
   "id": "69dc92d8",
   "metadata": {},
   "outputs": [],
   "source": [
    "df['series.angel'].isna().value_counts()"
   ]
  },
  {
   "cell_type": "code",
   "execution_count": null,
   "id": "3315dad9",
   "metadata": {},
   "outputs": [],
   "source": []
  },
  {
   "cell_type": "code",
   "execution_count": null,
   "id": "b8fe3c79",
   "metadata": {},
   "outputs": [],
   "source": [
    "df['series.angel'].value_counts()"
   ]
  },
  {
   "cell_type": "markdown",
   "id": "164154fd",
   "metadata": {},
   "source": [
    "## SUM ALL SERIES"
   ]
  },
  {
   "cell_type": "code",
   "execution_count": null,
   "id": "45e98b97",
   "metadata": {},
   "outputs": [],
   "source": [
    "df.loc[:10, 'series.angel':'series.undisclosed']"
   ]
  },
  {
   "cell_type": "code",
   "execution_count": null,
   "id": "05f516ee",
   "metadata": {},
   "outputs": [],
   "source": [
    "list(enumerate(df))"
   ]
  },
  {
   "cell_type": "code",
   "execution_count": null,
   "id": "1026ed6d",
   "metadata": {},
   "outputs": [],
   "source": [
    "total = 0\n",
    "for (index, colname) in enumerate(df):\n",
    "    print(index, colname, df[colname][3])\n",
    "    if index >5 and index <29:\n",
    "        total = total + df[colname][3]\n",
    "print(f'total is {total}')"
   ]
  },
  {
   "cell_type": "code",
   "execution_count": null,
   "id": "fa564939",
   "metadata": {},
   "outputs": [],
   "source": [
    "for (index, colname) in enumerate(df):\n",
    "    if 'series' in colname:\n",
    "        df[colname].replace(np.nan, 0.0, inplace=True)"
   ]
  },
  {
   "cell_type": "code",
   "execution_count": null,
   "id": "fa0a36b4",
   "metadata": {},
   "outputs": [],
   "source": [
    "df.loc[:10, 'series.angel':'series.undisclosed']"
   ]
  },
  {
   "cell_type": "code",
   "execution_count": null,
   "id": "1def5507",
   "metadata": {},
   "outputs": [],
   "source": [
    "#df['series.angel':'series.undisclosed'].replace(np.nan, 0.0, inplace=True)"
   ]
  },
  {
   "cell_type": "code",
   "execution_count": null,
   "id": "5132ff17",
   "metadata": {},
   "outputs": [],
   "source": [
    "#df['series.angel':'series.undisclosed']."
   ]
  },
  {
   "cell_type": "code",
   "execution_count": null,
   "id": "b899926e",
   "metadata": {},
   "outputs": [],
   "source": [
    "df['total funds']= df.iloc[:, 6:31].sum(axis =1)"
   ]
  },
  {
   "cell_type": "code",
   "execution_count": null,
   "id": "111b4b60",
   "metadata": {},
   "outputs": [],
   "source": [
    "(df['total funds']>0).value_counts()"
   ]
  },
  {
   "cell_type": "code",
   "execution_count": null,
   "id": "3e4165a8",
   "metadata": {},
   "outputs": [],
   "source": [
    "df.info()"
   ]
  },
  {
   "cell_type": "markdown",
   "id": "5357f016",
   "metadata": {},
   "source": [
    "## element & element boolean"
   ]
  },
  {
   "cell_type": "code",
   "execution_count": null,
   "id": "f0cc100d",
   "metadata": {},
   "outputs": [],
   "source": [
    "df['series.undisclosed'].value_counts()"
   ]
  },
  {
   "cell_type": "code",
   "execution_count": null,
   "id": "3ea59a91",
   "metadata": {},
   "outputs": [],
   "source": [
    "#df[df['series.undisclosed']>0 and df['series.total']>0].value_counts()"
   ]
  },
  {
   "cell_type": "code",
   "execution_count": null,
   "id": "a3d6f171",
   "metadata": {},
   "outputs": [],
   "source": [
    "df[df['series.undisclosed']>0].value_counts()"
   ]
  },
  {
   "cell_type": "code",
   "execution_count": null,
   "id": "1d046173",
   "metadata": {},
   "outputs": [],
   "source": [
    "df['series.undisclosed'].unique()"
   ]
  },
  {
   "cell_type": "code",
   "execution_count": null,
   "id": "b820156b",
   "metadata": {},
   "outputs": [],
   "source": [
    "rslt_df = df[(df['series.total'] > 0) & \n",
    "          (df['series.undisclosed'] > 0)]"
   ]
  },
  {
   "cell_type": "code",
   "execution_count": null,
   "id": "df67b30e",
   "metadata": {},
   "outputs": [],
   "source": [
    "rslt_df.info()"
   ]
  },
  {
   "cell_type": "code",
   "execution_count": null,
   "id": "49a39e21",
   "metadata": {},
   "outputs": [],
   "source": [
    "df['series.undisclosed'].info()"
   ]
  },
  {
   "cell_type": "code",
   "execution_count": null,
   "id": "4518b829",
   "metadata": {},
   "outputs": [],
   "source": [
    "df"
   ]
  },
  {
   "cell_type": "code",
   "execution_count": null,
   "id": "c8c76ea5",
   "metadata": {},
   "outputs": [],
   "source": [
    "df.info()"
   ]
  },
  {
   "cell_type": "code",
   "execution_count": null,
   "id": "c35946d4",
   "metadata": {},
   "outputs": [],
   "source": [
    "df.employee_range.unique()"
   ]
  },
  {
   "cell_type": "code",
   "execution_count": null,
   "id": "1e906ec5",
   "metadata": {},
   "outputs": [],
   "source": [
    "df.min_revenues.unique()"
   ]
  },
  {
   "cell_type": "code",
   "execution_count": null,
   "id": "3ac5f898",
   "metadata": {},
   "outputs": [],
   "source": [
    "df.head()"
   ]
  },
  {
   "cell_type": "code",
   "execution_count": null,
   "id": "37f0b716",
   "metadata": {},
   "outputs": [],
   "source": [
    "df.info()"
   ]
  },
  {
   "cell_type": "code",
   "execution_count": null,
   "id": "1fbcc0e5",
   "metadata": {},
   "outputs": [],
   "source": [
    "df['industries_list'] #clustering"
   ]
  },
  {
   "cell_type": "code",
   "execution_count": null,
   "id": "ed09d188",
   "metadata": {},
   "outputs": [],
   "source": [
    "df.category.unique()"
   ]
  },
  {
   "cell_type": "code",
   "execution_count": null,
   "id": "db0479f2",
   "metadata": {},
   "outputs": [],
   "source": [
    "df.head()"
   ]
  },
  {
   "cell_type": "markdown",
   "id": "1ef5aa82",
   "metadata": {},
   "source": [
    "# DROPPED MORE COLUMNS - should     have only one function for this"
   ]
  },
  {
   "cell_type": "code",
   "execution_count": null,
   "id": "21d50f81",
   "metadata": {},
   "outputs": [],
   "source": [
    "df.columns"
   ]
  },
  {
   "cell_type": "code",
   "execution_count": null,
   "id": "3b943d3f",
   "metadata": {},
   "outputs": [],
   "source": [
    "df = df.drop(columns=['category', 'series.angel', 'series.convertible_note',\n",
    "       'series.corporate_round', 'series.debt_financing',\n",
    "       'series.equity_crowdfunding', 'series.grant',\n",
    "       'series.initial_coin_offering', 'series.non_equity_assistance',\n",
    "       'series.post_ipo_debt', 'series.post_ipo_equity', 'series.pre_seed',\n",
    "       'series.private_equity', 'series.secondary_market', 'series.seed',\n",
    "       'series.series_a', 'series.series_b', 'series.series_c',\n",
    "       'series.series_d', 'series.series_e', 'series.series_f',\n",
    "       'series.series_g', 'series.series_h', 'series.series_unknown',\n",
    "       'series.total', 'series.undisclosed'])"
   ]
  },
  {
   "cell_type": "code",
   "execution_count": null,
   "id": "d3487902",
   "metadata": {},
   "outputs": [],
   "source": [
    "df.info()"
   ]
  },
  {
   "cell_type": "code",
   "execution_count": null,
   "id": "a9a43a34",
   "metadata": {},
   "outputs": [],
   "source": [
    "df.employee_range.unique()"
   ]
  },
  {
   "cell_type": "code",
   "execution_count": null,
   "id": "190083d8",
   "metadata": {},
   "outputs": [],
   "source": [
    "df.employee_range.isna().value_counts() "
   ]
  },
  {
   "cell_type": "code",
   "execution_count": null,
   "id": "85de9e37",
   "metadata": {},
   "outputs": [],
   "source": [
    "df.min_revenues.unique()"
   ]
  },
  {
   "cell_type": "code",
   "execution_count": null,
   "id": "cb3646ad",
   "metadata": {},
   "outputs": [],
   "source": [
    "df.head()"
   ]
  },
  {
   "cell_type": "markdown",
   "id": "9056010b",
   "metadata": {},
   "source": [
    "# TREATING EMPLOYEE_RANGE"
   ]
  },
  {
   "cell_type": "code",
   "execution_count": null,
   "id": "bdaf9a6b",
   "metadata": {},
   "outputs": [],
   "source": [
    "#employee_clean = lambda x: x[1:-1].split(',')"
   ]
  },
  {
   "cell_type": "code",
   "execution_count": null,
   "id": "c017086d",
   "metadata": {},
   "outputs": [],
   "source": [
    "df['employee_range'].unique()"
   ]
  },
  {
   "cell_type": "code",
   "execution_count": null,
   "id": "f735f5a8",
   "metadata": {},
   "outputs": [],
   "source": [
    "test = df['employee_range'][0]\n",
    "test"
   ]
  },
  {
   "cell_type": "code",
   "execution_count": null,
   "id": "94ec1b28",
   "metadata": {},
   "outputs": [],
   "source": [
    "employee_clean = lambda x: int(np.mean([ int(a) for a in x[1:-1].split(',')]))"
   ]
  },
  {
   "cell_type": "code",
   "execution_count": null,
   "id": "fea0c084",
   "metadata": {},
   "outputs": [],
   "source": [
    "result = employee_clean(test)"
   ]
  },
  {
   "cell_type": "code",
   "execution_count": null,
   "id": "3489e65c",
   "metadata": {},
   "outputs": [],
   "source": [
    "result"
   ]
  },
  {
   "cell_type": "code",
   "execution_count": null,
   "id": "7a7a392b",
   "metadata": {},
   "outputs": [],
   "source": [
    "df['employee_range'].isna().value_counts()"
   ]
  },
  {
   "cell_type": "code",
   "execution_count": null,
   "id": "1f818acb",
   "metadata": {},
   "outputs": [],
   "source": [
    "df.info()"
   ]
  },
  {
   "cell_type": "code",
   "execution_count": null,
   "id": "ea615421",
   "metadata": {},
   "outputs": [],
   "source": [
    "df = df[~df['employee_range'].isna()]"
   ]
  },
  {
   "cell_type": "code",
   "execution_count": null,
   "id": "5decdf73",
   "metadata": {},
   "outputs": [],
   "source": [
    "df.shape"
   ]
  },
  {
   "cell_type": "code",
   "execution_count": null,
   "id": "4b01f95f",
   "metadata": {},
   "outputs": [],
   "source": [
    "#type(result[0])"
   ]
  },
  {
   "cell_type": "code",
   "execution_count": null,
   "id": "97225578",
   "metadata": {},
   "outputs": [],
   "source": [
    "df['employee_range']= df['employee_range'].apply(employee_clean)"
   ]
  },
  {
   "cell_type": "code",
   "execution_count": null,
   "id": "8279caf6",
   "metadata": {},
   "outputs": [],
   "source": [
    "df.head()"
   ]
  },
  {
   "cell_type": "markdown",
   "id": "8d19fee8",
   "metadata": {},
   "source": [
    "# TREATING MIN REVENUES"
   ]
  },
  {
   "cell_type": "code",
   "execution_count": null,
   "id": "dac6b9f3",
   "metadata": {},
   "outputs": [],
   "source": [
    "df.min_revenues.isna().value_counts()"
   ]
  },
  {
   "cell_type": "code",
   "execution_count": null,
   "id": "8630c97d",
   "metadata": {},
   "outputs": [],
   "source": [
    "#moyenne, ou minium categorie car peut etre revenue est faible, on prends choix au momentd e la modelisation"
   ]
  },
  {
   "cell_type": "markdown",
   "id": "1a24fd21",
   "metadata": {},
   "source": [
    "moyenne par industrie"
   ]
  },
  {
   "cell_type": "code",
   "execution_count": null,
   "id": "e6c6c3d6",
   "metadata": {},
   "outputs": [],
   "source": [
    "df['min_revenues'].hist(bins=3)"
   ]
  },
  {
   "cell_type": "code",
   "execution_count": null,
   "id": "f47b5a7b",
   "metadata": {},
   "outputs": [],
   "source": [
    "df['min_revenues'].unique()"
   ]
  },
  {
   "cell_type": "code",
   "execution_count": null,
   "id": "7006b629",
   "metadata": {},
   "outputs": [],
   "source": [
    "df['min_revenues'].value_counts()"
   ]
  },
  {
   "cell_type": "code",
   "execution_count": null,
   "id": "2f6afbec",
   "metadata": {},
   "outputs": [],
   "source": [
    "something = df[~df['min_revenues'].isna()]['min_revenues']"
   ]
  },
  {
   "cell_type": "code",
   "execution_count": null,
   "id": "efd68046",
   "metadata": {},
   "outputs": [],
   "source": [
    "something"
   ]
  },
  {
   "cell_type": "code",
   "execution_count": null,
   "id": "bbbac01e",
   "metadata": {},
   "outputs": [],
   "source": [
    "type(df['min_revenues'][573])"
   ]
  },
  {
   "cell_type": "code",
   "execution_count": null,
   "id": "40e9d469",
   "metadata": {},
   "outputs": [],
   "source": [
    "#something[0] #WHY?????"
   ]
  },
  {
   "cell_type": "markdown",
   "id": "e29d2f30",
   "metadata": {},
   "source": [
    "# TREATING GLOBAL RANK"
   ]
  },
  {
   "cell_type": "code",
   "execution_count": null,
   "id": "5a708372",
   "metadata": {},
   "outputs": [],
   "source": [
    "df['traffic.global_rank'].hist()"
   ]
  },
  {
   "cell_type": "markdown",
   "id": "a2853567",
   "metadata": {},
   "source": [
    "# FINDING CORRELATION"
   ]
  },
  {
   "cell_type": "code",
   "execution_count": null,
   "id": "943d3e8c",
   "metadata": {},
   "outputs": [],
   "source": [
    "df.corr()"
   ]
  },
  {
   "cell_type": "code",
   "execution_count": null,
   "id": "51038156",
   "metadata": {},
   "outputs": [],
   "source": [
    "df.head()"
   ]
  },
  {
   "cell_type": "markdown",
   "id": "a4baaf0d",
   "metadata": {},
   "source": [
    "# TREATING INDUSTRIES LIST"
   ]
  },
  {
   "cell_type": "code",
   "execution_count": null,
   "id": "488375e5",
   "metadata": {},
   "outputs": [],
   "source": [
    "type(df['industries_list'][0])"
   ]
  },
  {
   "cell_type": "code",
   "execution_count": null,
   "id": "525455e2",
   "metadata": {},
   "outputs": [],
   "source": [
    "all_industries = []\n",
    "for row in df['industries_list']:\n",
    "    for ele in row:\n",
    "        if ele not in all_industries:\n",
    "            all_industries.append(ele)\n",
    "all_industries"
   ]
  },
  {
   "cell_type": "code",
   "execution_count": null,
   "id": "c85aab9b",
   "metadata": {},
   "outputs": [],
   "source": [
    "len(all_industries)"
   ]
  },
  {
   "cell_type": "code",
   "execution_count": null,
   "id": "7fda439b",
   "metadata": {},
   "outputs": [],
   "source": [
    "df.info()"
   ]
  },
  {
   "cell_type": "code",
   "execution_count": null,
   "id": "e93108af",
   "metadata": {},
   "outputs": [],
   "source": [
    "industries_dict = {\n",
    "    \"Finance & Accounting\": [\n",
    "        \"Finance\",\n",
    "        \"Financial Services\",\n",
    "        \"FinTech\",\n",
    "        \"Trading Platform\",\n",
    "        \"Asset Management\",\n",
    "        \"Banking\",\n",
    "        \"Lending\",\n",
    "        \"Bitcoin\",\n",
    "        \"Cryptocurrency\",\n",
    "        \"Financial Exchanges\",\n",
    "        \"Angel Investment\",\n",
    "        \"Impact Investing\",\n",
    "        \"Venture Capital\",\n",
    "        \"Accounting\",\n",
    "        \"Payments\",\n",
    "        \"Consumer Lending\",\n",
    "        \"Credit\",\n",
    "        \"Personal Finance\",\n",
    "        \"Commercial Insurance\",\n",
    "        \"Insurance\",\n",
    "        \"InsurTech\",\n",
    "        \"Auto Insurance\",\n",
    "        \"Wealth Management\"\n",
    "    ],\n",
    "    \"Technology & Software\": [\n",
    "        \"Artificial Intelligence\",\n",
    "        \"Analytics\",\n",
    "        \"Marketplace\",\n",
    "        \"Information Services\",\n",
    "        \"Mobile\",\n",
    "        \"SaaS\",\n",
    "        \"Smart Cities\",\n",
    "        \"E-Commerce\",\n",
    "        \"Machine Learning\",\n",
    "        \"Predictive Analytics\",\n",
    "        \"Natural Language Processing\",\n",
    "        \"Market Research\",\n",
    "        \"Blockchain\",\n",
    "        \"Cyber Security\",\n",
    "        \"Industrial Automation\",\n",
    "        \"Quantum Computing\",\n",
    "        \"Big Data\",\n",
    "        \"Privacy\",\n",
    "        \"Developer APIs\",\n",
    "        \"Apps\",\n",
    "        \"B2B\",\n",
    "        \"B2C\",\n",
    "        \"Computer\",\n",
    "        \"Enterprise Software\",\n",
    "        \"Database\",\n",
    "        \"Computer Vision\",\n",
    "        \"Robotics\",\n",
    "        \"Transaction Processing\",\n",
    "        \"Peer to Peer\",\n",
    "        \"Intellectual Property\",\n",
    "        \"Android\",\n",
    "        \"Cloud Computing\",\n",
    "        \"Education\",\n",
    "        \"iOS\",\n",
    "        \"Hardware\",\n",
    "        \"Semiconductor\",\n",
    "        \"Collaboration\",\n",
    "        \"Communications Infrastructure\",\n",
    "        \"IaaS\",\n",
    "        \"Productivity Tools\",\n",
    "        \"Unified Communications\",\n",
    "        \"Virtual Workforce\",\n",
    "        \"Identity Management\",\n",
    "        \"Security\",\n",
    "        \"Internet of Things\",\n",
    "        \"E-Learning\",\n",
    "        \"Open Source\",\n",
    "        \"Operating Systems\",\n",
    "        \"Embedded Software\",\n",
    "        \"Embedded Systems\",\n",
    "        \"Developer Tools\"\n",
    "    ],\n",
    "    \"Health & Wellness\": [\n",
    "        \"Biopharma\",\n",
    "        \"Biotechnology\",\n",
    "        \"Genetics\",\n",
    "        \"Health Diagnostics\",\n",
    "        \"Nanotechnology\",\n",
    "        \"Assistive Technology\",\n",
    "        \"Health Care\",\n",
    "        \"Information Technology\",\n",
    "        \"mHealth\",\n",
    "        \"Personal Health\"\n",
    "    ],\n",
    "    \"Marketing & Advertising\": [\n",
    "        \"Advertising\",\n",
    "        \"Content\",\n",
    "        \"Digital Marketing\",\n",
    "        \"Digital Media\",\n",
    "        \"Social Media Marketing\",\n",
    "        \"Content Marketing\",\n",
    "        \"Affiliate Marketing\",\n",
    "        \"Retail Technology\"\n",
    "    ],\n",
    "    \"Transportation & Logistics\": [\n",
    "        \"Logistics\",\n",
    "        \"Marine Technology\",\n",
    "        \"Automotive\",\n",
    "        \"Autonomous Vehicles\",\n",
    "        \"Fleet Management\",\n",
    "        \"Internet\",\n",
    "        \"Rental\",\n",
    "        \"Transportation\",\n",
    "        \"Marine Transportation\",\n",
    "        \"Shipping\",\n",
    "        \"Delivery Service\",\n",
    "        \"Travel\"\n",
    "    ],\n",
    "    \"Energy & Environment\": [\n",
    "        \"Clean Energy\",\n",
    "        \"Energy\",\n",
    "        \"Industrial Engineering\"\n",
    "    ]\n",
    "}"
   ]
  },
  {
   "cell_type": "code",
   "execution_count": null,
   "id": "45829a28",
   "metadata": {},
   "outputs": [],
   "source": [
    "my_test = df['industries_list'][0]\n",
    "my_test"
   ]
  },
  {
   "cell_type": "code",
   "execution_count": null,
   "id": "04bce1eb",
   "metadata": {},
   "outputs": [],
   "source": [
    "df['industries_list'][0]"
   ]
  },
  {
   "cell_type": "code",
   "execution_count": null,
   "id": "767ecb65",
   "metadata": {},
   "outputs": [],
   "source": [
    "for index, row in enumerate(df['industries_list']):\n",
    "    print(index, row)"
   ]
  },
  {
   "cell_type": "markdown",
   "id": "4ba64260",
   "metadata": {},
   "source": [
    "## Created a for loop to change industries_list into values from dict. Too long"
   ]
  },
  {
   "cell_type": "code",
   "execution_count": null,
   "id": "9dfa5108",
   "metadata": {},
   "outputs": [],
   "source": [
    "industries_dict.keys()"
   ]
  },
  {
   "cell_type": "code",
   "execution_count": null,
   "id": "6fe1a5c3",
   "metadata": {},
   "outputs": [],
   "source": [
    "'Travel' in industries_dict.values()"
   ]
  },
  {
   "cell_type": "code",
   "execution_count": null,
   "id": "9c9540a9",
   "metadata": {},
   "outputs": [],
   "source": [
    "industries_dict.values()"
   ]
  },
  {
   "cell_type": "code",
   "execution_count": null,
   "id": "f415cf23",
   "metadata": {},
   "outputs": [],
   "source": [
    "my_test = ['Finance', 'Financial Services', 'FinTech', 'Marketplace', 'Trading Platform']\n"
   ]
  },
  {
   "cell_type": "code",
   "execution_count": null,
   "id": "55da754b",
   "metadata": {},
   "outputs": [],
   "source": [
    "set(my_test)"
   ]
  },
  {
   "cell_type": "code",
   "execution_count": null,
   "id": "5f3da89f",
   "metadata": {},
   "outputs": [],
   "source": [
    "clean_industries_list = lambda row: set([k for k, v in industries_dict.items() if set(row).intersection(set(v))])"
   ]
  },
  {
   "cell_type": "code",
   "execution_count": null,
   "id": "d88f1daa",
   "metadata": {},
   "outputs": [],
   "source": [
    "clean_industries_list(df['industries_list'][0])"
   ]
  },
  {
   "cell_type": "code",
   "execution_count": null,
   "id": "8d81a79d",
   "metadata": {},
   "outputs": [],
   "source": [
    "df['industries_list'][50000]"
   ]
  },
  {
   "cell_type": "code",
   "execution_count": null,
   "id": "d2d2e868",
   "metadata": {},
   "outputs": [],
   "source": [
    "df['industries_cleaned'] = df['industries_list'].apply(clean_industries_list)"
   ]
  },
  {
   "cell_type": "code",
   "execution_count": null,
   "id": "f904b003",
   "metadata": {},
   "outputs": [],
   "source": [
    "df.head()"
   ]
  },
  {
   "cell_type": "code",
   "execution_count": null,
   "id": "7719e182",
   "metadata": {},
   "outputs": [],
   "source": [
    "#do not run this cell\n",
    "\"\"\"\n",
    "for index, row in enumerate(df['industries_list']):\n",
    "    my_new_list = []\n",
    "    for industries_in_cell in row:\n",
    "        for sector, industries_in_dict in industries_dict.items():\n",
    "            if industries_in_cell in industries_in_dict:\n",
    "                if sector not in my_new_list:\n",
    "                    my_new_list.append(sector)\n",
    "    df['industries_list'][index]= my_new_list\n",
    "        \n",
    "\"\"\"\n",
    "\n"
   ]
  },
  {
   "cell_type": "code",
   "execution_count": null,
   "id": "8b1ac6ff",
   "metadata": {},
   "outputs": [],
   "source": [
    "df['industries_list'][0]"
   ]
  },
  {
   "cell_type": "code",
   "execution_count": null,
   "id": "b8e73cb1",
   "metadata": {},
   "outputs": [],
   "source": [
    "df"
   ]
  },
  {
   "cell_type": "code",
   "execution_count": null,
   "id": "764d697d",
   "metadata": {},
   "outputs": [],
   "source": [
    "my_new_list"
   ]
  },
  {
   "cell_type": "code",
   "execution_count": null,
   "id": "0dc6c05a",
   "metadata": {},
   "outputs": [],
   "source": [
    "industries_dict.values()"
   ]
  },
  {
   "cell_type": "code",
   "execution_count": null,
   "id": "1329c89a",
   "metadata": {},
   "outputs": [],
   "source": [
    "industries_dict.keys()"
   ]
  },
  {
   "cell_type": "code",
   "execution_count": null,
   "id": "de36a4e6",
   "metadata": {},
   "outputs": [],
   "source": [
    "for k, v in industries_dict.items():\n",
    "    print(v)"
   ]
  },
  {
   "cell_type": "code",
   "execution_count": null,
   "id": "7998b2e6",
   "metadata": {},
   "outputs": [],
   "source": [
    "df = df.drop(columns='industries_list')"
   ]
  },
  {
   "cell_type": "code",
   "execution_count": null,
   "id": "ceb7e748",
   "metadata": {},
   "outputs": [],
   "source": [
    "df"
   ]
  },
  {
   "cell_type": "markdown",
   "id": "e9beb9bd",
   "metadata": {},
   "source": [
    "# CHANGED Total funds into 1 or 0 if funds True"
   ]
  },
  {
   "cell_type": "code",
   "execution_count": null,
   "id": "ada638e4",
   "metadata": {},
   "outputs": [],
   "source": [
    "df['total funds']= df['total funds']>0"
   ]
  },
  {
   "cell_type": "code",
   "execution_count": null,
   "id": "a3be2b34",
   "metadata": {},
   "outputs": [],
   "source": [
    "df['total funds']= df['total funds'].apply(lambda x: 1 if x == True else 0)"
   ]
  },
  {
   "cell_type": "code",
   "execution_count": null,
   "id": "1d31d030",
   "metadata": {},
   "outputs": [],
   "source": [
    "df"
   ]
  },
  {
   "cell_type": "code",
   "execution_count": null,
   "id": "2f252263",
   "metadata": {},
   "outputs": [],
   "source": [
    "df.head()"
   ]
  },
  {
   "cell_type": "code",
   "execution_count": null,
   "id": "95dcbd9e",
   "metadata": {},
   "outputs": [],
   "source": [
    "df = df.drop(columns=['name'])"
   ]
  },
  {
   "cell_type": "code",
   "execution_count": null,
   "id": "889a41cf",
   "metadata": {},
   "outputs": [],
   "source": [
    "no_revenues_df = crunch[crunch['min_revenues'].isna()].loc[]"
   ]
  },
  {
   "cell_type": "code",
   "execution_count": null,
   "id": "ae8397a9",
   "metadata": {},
   "outputs": [],
   "source": [
    "df[df['total funds']==1]['min_revenues'].value_counts()"
   ]
  },
  {
   "cell_type": "code",
   "execution_count": null,
   "id": "ee6fcae8",
   "metadata": {},
   "outputs": [],
   "source": [
    "df[df['total funds']==1]['min_revenues'].isna().value_counts()"
   ]
  },
  {
   "cell_type": "markdown",
   "id": "837293e8",
   "metadata": {},
   "source": [
    "### 56300 show no info on revenues"
   ]
  },
  {
   "cell_type": "code",
   "execution_count": null,
   "id": "d29dd06e",
   "metadata": {},
   "outputs": [],
   "source": [
    "df['min_revenues'].isna().value_counts() "
   ]
  },
  {
   "cell_type": "markdown",
   "id": "ead34732",
   "metadata": {},
   "source": [
    "### from these 56300 companies from which we don't have any info on revenues, 3835 fund raised"
   ]
  },
  {
   "cell_type": "code",
   "execution_count": null,
   "id": "d5ecde4e",
   "metadata": {},
   "outputs": [],
   "source": [
    "df[df['min_revenues'].isna()]['total funds'].value_counts()"
   ]
  },
  {
   "cell_type": "markdown",
   "id": "08de2042",
   "metadata": {},
   "source": [
    "### 79956 companies show info on revenues"
   ]
  },
  {
   "cell_type": "code",
   "execution_count": null,
   "id": "edfd58e7",
   "metadata": {},
   "outputs": [],
   "source": [
    "df['min_revenues'].notna().value_counts() "
   ]
  },
  {
   "cell_type": "markdown",
   "id": "6428b762",
   "metadata": {},
   "source": [
    "### from these 79956 companies from which we have revenues, 1 fund raised"
   ]
  },
  {
   "cell_type": "code",
   "execution_count": null,
   "id": "ec1a004e",
   "metadata": {},
   "outputs": [],
   "source": [
    "df[df['min_revenues'].notna()]['total funds'].value_counts()"
   ]
  },
  {
   "cell_type": "markdown",
   "id": "c8a3bfb6",
   "metadata": {},
   "source": [
    "### From 132420 companies, only 3836 raised"
   ]
  },
  {
   "cell_type": "code",
   "execution_count": null,
   "id": "50ff11a5",
   "metadata": {},
   "outputs": [],
   "source": [
    "df['total funds'].value_counts()"
   ]
  },
  {
   "cell_type": "markdown",
   "id": "b966fdc8",
   "metadata": {},
   "source": [
    "### And from these 3836 companies that raised, 3835 have no info on revenues!"
   ]
  },
  {
   "cell_type": "code",
   "execution_count": null,
   "id": "cbbce0c0",
   "metadata": {},
   "outputs": [],
   "source": [
    "crunch.columns"
   ]
  },
  {
   "cell_type": "code",
   "execution_count": null,
   "id": "4641144d",
   "metadata": {},
   "outputs": [],
   "source": [
    "'series.angel'"
   ]
  },
  {
   "cell_type": "code",
   "execution_count": null,
   "id": "07d23dd1",
   "metadata": {},
   "outputs": [],
   "source": [
    "df.head()"
   ]
  },
  {
   "cell_type": "markdown",
   "id": "2ff6f2a2",
   "metadata": {},
   "source": [
    "1. quel modèles scikitlearn classifier\n",
    "2. \n",
    "- country_code = onehotencoder\n",
    "- investors list onehotencoder\n",
    "- industries_cleaned = onehotencoder\n",
    "- employee_range onehotencoder\n"
   ]
  },
  {
   "cell_type": "markdown",
   "id": "ec1a39f2",
   "metadata": {},
   "source": [
    "### confirming hypothesis on immature startups(Angel, pre-seed, seed, series a) that have no revenues"
   ]
  },
  {
   "cell_type": "markdown",
   "id": "e9e6fda1",
   "metadata": {},
   "source": [
    "#### however we know previously that 99% of no revenue companies/startups, were the ones who raised. And only 1% with revenue raised"
   ]
  },
  {
   "cell_type": "code",
   "execution_count": null,
   "id": "fdebd165",
   "metadata": {},
   "outputs": [],
   "source": [
    "crunch"
   ]
  },
  {
   "cell_type": "code",
   "execution_count": null,
   "id": "d6a20a88",
   "metadata": {},
   "outputs": [],
   "source": []
  },
  {
   "cell_type": "code",
   "execution_count": null,
   "id": "ae6a5dff",
   "metadata": {},
   "outputs": [],
   "source": [
    "list(enumerate(crunch))"
   ]
  },
  {
   "cell_type": "code",
   "execution_count": null,
   "id": "a8c3b029",
   "metadata": {},
   "outputs": [],
   "source": [
    "immature = crunch[['min_revenues','series.angel','series.pre_seed','series.seed','series.series_a']]"
   ]
  },
  {
   "cell_type": "code",
   "execution_count": null,
   "id": "6c902376",
   "metadata": {},
   "outputs": [],
   "source": [
    "immature"
   ]
  },
  {
   "cell_type": "code",
   "execution_count": null,
   "id": "39da7258",
   "metadata": {},
   "outputs": [],
   "source": [
    "list(enumerate(immature))"
   ]
  },
  {
   "cell_type": "code",
   "execution_count": null,
   "id": "52c58fd7",
   "metadata": {},
   "outputs": [],
   "source": [
    "for index, colname in enumerate(immature):\n",
    "    if 'series' in colname:\n",
    "        immature[colname].replace(np.nan, 0.0, inplace=True)"
   ]
  },
  {
   "cell_type": "code",
   "execution_count": null,
   "id": "dd99032a",
   "metadata": {},
   "outputs": [],
   "source": [
    "immature"
   ]
  },
  {
   "cell_type": "code",
   "execution_count": null,
   "id": "b0042822",
   "metadata": {},
   "outputs": [],
   "source": [
    "immature['total'] = immature.loc[:, 'series.angel':'series.series_a'].sum(axis=1)"
   ]
  },
  {
   "cell_type": "code",
   "execution_count": null,
   "id": "74ef7d44",
   "metadata": {},
   "outputs": [],
   "source": [
    "immature"
   ]
  },
  {
   "cell_type": "code",
   "execution_count": null,
   "id": "65dd8ce4",
   "metadata": {},
   "outputs": [],
   "source": [
    "#df['total funds']= df.iloc[:, 6:31].sum(axis =1)"
   ]
  },
  {
   "cell_type": "code",
   "execution_count": null,
   "id": "31cdfb56",
   "metadata": {},
   "outputs": [],
   "source": [
    "immature = immature.drop(columns=['series.angel', 'series.pre_seed', 'series.seed', 'series.series_a'])"
   ]
  },
  {
   "cell_type": "code",
   "execution_count": null,
   "id": "450920ca",
   "metadata": {},
   "outputs": [],
   "source": [
    "immature['total'] =immature['total']>0"
   ]
  },
  {
   "cell_type": "code",
   "execution_count": null,
   "id": "fa878c5f",
   "metadata": {},
   "outputs": [],
   "source": [
    "immature['total'] = immature['total'].apply(lambda x: 1 if x==True else 0)"
   ]
  },
  {
   "cell_type": "code",
   "execution_count": null,
   "id": "28a111d6",
   "metadata": {},
   "outputs": [],
   "source": [
    "immature"
   ]
  },
  {
   "cell_type": "code",
   "execution_count": null,
   "id": "92debb4a",
   "metadata": {},
   "outputs": [],
   "source": [
    "immature[immature['min_revenues'].isna()]['total'].value_counts()"
   ]
  },
  {
   "cell_type": "markdown",
   "id": "4106da46",
   "metadata": {},
   "source": [
    "### now let's compare with mature, companies after series a and see revenues behaviour"
   ]
  },
  {
   "cell_type": "code",
   "execution_count": null,
   "id": "f6874fac",
   "metadata": {},
   "outputs": [],
   "source": [
    "mature = crunch[[]]"
   ]
  },
  {
   "cell_type": "code",
   "execution_count": null,
   "id": "b451bc6f",
   "metadata": {},
   "outputs": [],
   "source": [
    "test"
   ]
  },
  {
   "cell_type": "code",
   "execution_count": null,
   "id": "b46cd9d5",
   "metadata": {},
   "outputs": [],
   "source": [
    "list(range(7))"
   ]
  },
  {
   "cell_type": "code",
   "execution_count": null,
   "id": "f77d97e2",
   "metadata": {},
   "outputs": [],
   "source": [
    "list(range(13, 22))"
   ]
  },
  {
   "cell_type": "code",
   "execution_count": null,
   "id": "18b83cb5",
   "metadata": {},
   "outputs": [],
   "source": [
    "[8, list(range(13, 22)), 23, 24, list(range(27,35))]"
   ]
  },
  {
   "cell_type": "code",
   "execution_count": null,
   "id": "67c0719f",
   "metadata": {},
   "outputs": [],
   "source": [
    "mature = crunch[['min_revenues']]\n",
    "for index, colname in enumerate(crunch):\n",
    "    if index in [23, 24] or index in list(range(13, 22)) or index in list(range(27,35)):\n",
    "        mature[colname] = crunch[colname]"
   ]
  },
  {
   "cell_type": "code",
   "execution_count": null,
   "id": "87a3a777",
   "metadata": {},
   "outputs": [],
   "source": [
    "mature"
   ]
  },
  {
   "cell_type": "code",
   "execution_count": null,
   "id": "dde1f808",
   "metadata": {},
   "outputs": [],
   "source": [
    "list(enumerate(crunch))"
   ]
  },
  {
   "cell_type": "markdown",
   "id": "e90b1b45",
   "metadata": {},
   "source": [
    "#### why the following doesn't work?"
   ]
  },
  {
   "cell_type": "code",
   "execution_count": null,
   "id": "782bbb58",
   "metadata": {},
   "outputs": [],
   "source": [
    "#mature.loc[:, 'series.convertible_note':'series.series_unknown'].apply(lambda x: x.replace(np.nan, 0.0, inplace=True))"
   ]
  },
  {
   "cell_type": "code",
   "execution_count": null,
   "id": "de960774",
   "metadata": {},
   "outputs": [],
   "source": [
    "mature.loc[:,'series.convertible_note':]"
   ]
  },
  {
   "cell_type": "code",
   "execution_count": null,
   "id": "3d8c8e99",
   "metadata": {},
   "outputs": [],
   "source": [
    "list(enumerate(mature.loc[:,'series.convertible_note':]))"
   ]
  },
  {
   "cell_type": "code",
   "execution_count": null,
   "id": "ead20f21",
   "metadata": {},
   "outputs": [],
   "source": [
    "for index, colname in enumerate(mature.loc[:,'series.convertible_note':]):\n",
    "    mature[colname].replace(np.nan, 0.0, inplace=True)\n",
    "    "
   ]
  },
  {
   "cell_type": "code",
   "execution_count": null,
   "id": "646d204a",
   "metadata": {},
   "outputs": [],
   "source": [
    "mature"
   ]
  },
  {
   "cell_type": "code",
   "execution_count": null,
   "id": "a4a82594",
   "metadata": {},
   "outputs": [],
   "source": [
    "mature['total'] = mature.loc[:,'series.convertible_note':].sum(axis=1)"
   ]
  },
  {
   "cell_type": "code",
   "execution_count": null,
   "id": "f95752e5",
   "metadata": {},
   "outputs": [],
   "source": [
    "mature_final = mature[['min_revenues', 'total']]"
   ]
  },
  {
   "cell_type": "code",
   "execution_count": null,
   "id": "1ece0993",
   "metadata": {},
   "outputs": [],
   "source": [
    "mature_final['total'] =mature_final['total']>0"
   ]
  },
  {
   "cell_type": "code",
   "execution_count": null,
   "id": "d4c4855d",
   "metadata": {},
   "outputs": [],
   "source": [
    "mature_final['total'] = mature_final['total'].apply(lambda x: 1 if x ==True else 0)"
   ]
  },
  {
   "cell_type": "code",
   "execution_count": null,
   "id": "6b99efc1",
   "metadata": {},
   "outputs": [],
   "source": [
    "mature_final"
   ]
  },
  {
   "cell_type": "markdown",
   "id": "8c270e37",
   "metadata": {},
   "source": [
    "### Les boites matures (series-b,c,d,e,f,gh, etc) qui n'ont pas de revenues, 2264 ont lévé"
   ]
  },
  {
   "cell_type": "code",
   "execution_count": null,
   "id": "16714f3d",
   "metadata": {},
   "outputs": [],
   "source": [
    "mature_final[mature_final['min_revenues'].isna()]['total'].value_counts()"
   ]
  },
  {
   "cell_type": "markdown",
   "id": "208a5d01",
   "metadata": {},
   "source": [
    "### les boites Matures (series-b,c,d,e,f,g,h, etc) qui ont de revenues, juste 1 a levé"
   ]
  },
  {
   "cell_type": "code",
   "execution_count": null,
   "id": "120c4950",
   "metadata": {},
   "outputs": [],
   "source": [
    "mature_final[mature_final['min_revenues'].notna()]['total'].value_counts()"
   ]
  },
  {
   "cell_type": "markdown",
   "id": "73ab0f95",
   "metadata": {},
   "source": [
    "### les boites immatures (angel, pre-seed, seed, series-a) qui n'ont pas de revenues, 2635 ont levé de fonds"
   ]
  },
  {
   "cell_type": "code",
   "execution_count": null,
   "id": "eb99da8f",
   "metadata": {},
   "outputs": [],
   "source": [
    "immature[immature['min_revenues'].isna()]['total'].value_counts()"
   ]
  },
  {
   "cell_type": "markdown",
   "id": "fd3a764f",
   "metadata": {},
   "source": [
    "### Les boites immatures (angel, pre-seed, seed, series-a) qui ont de revenues, aucune n'a levé"
   ]
  },
  {
   "cell_type": "code",
   "execution_count": null,
   "id": "4660965b",
   "metadata": {},
   "outputs": [],
   "source": [
    "immature[immature['min_revenues'].notna()]['total'].value_counts()"
   ]
  },
  {
   "cell_type": "markdown",
   "id": "12978e80",
   "metadata": {},
   "source": [
    "### On voit que les matures et immatures qui n'ont pas de revenues, correspondent à 99% qui ont levés"
   ]
  },
  {
   "cell_type": "code",
   "execution_count": null,
   "id": "cbf44256",
   "metadata": {},
   "outputs": [],
   "source": [
    "immature.shape"
   ]
  },
  {
   "cell_type": "code",
   "execution_count": null,
   "id": "1520c0f6",
   "metadata": {},
   "outputs": [],
   "source": [
    "mature_final.shape"
   ]
  },
  {
   "cell_type": "code",
   "execution_count": null,
   "id": "e451405a",
   "metadata": {},
   "outputs": [],
   "source": [
    "immature.info()"
   ]
  },
  {
   "cell_type": "code",
   "execution_count": null,
   "id": "a242e966",
   "metadata": {},
   "outputs": [],
   "source": [
    "immature[['min_revenues', 'total_immature']] = immature"
   ]
  },
  {
   "cell_type": "code",
   "execution_count": null,
   "id": "223433ab",
   "metadata": {},
   "outputs": [],
   "source": [
    "immature = immature.drop(columns=['total'])"
   ]
  },
  {
   "cell_type": "code",
   "execution_count": null,
   "id": "008e0144",
   "metadata": {},
   "outputs": [],
   "source": [
    "immature"
   ]
  },
  {
   "cell_type": "code",
   "execution_count": null,
   "id": "11843488",
   "metadata": {},
   "outputs": [],
   "source": [
    "mature_final"
   ]
  },
  {
   "cell_type": "code",
   "execution_count": null,
   "id": "155c4539",
   "metadata": {},
   "outputs": [],
   "source": [
    "mature_final['total_mature'] = mature_final['total']"
   ]
  },
  {
   "cell_type": "code",
   "execution_count": null,
   "id": "fd82801f",
   "metadata": {},
   "outputs": [],
   "source": [
    "mature_final = mature_final.drop(columns=['total'])"
   ]
  },
  {
   "cell_type": "code",
   "execution_count": null,
   "id": "31bfb356",
   "metadata": {},
   "outputs": [],
   "source": [
    "mature_final"
   ]
  },
  {
   "cell_type": "code",
   "execution_count": null,
   "id": "ff75dd60",
   "metadata": {},
   "outputs": [],
   "source": [
    "# trying = pd.merge(immature, mature_final) THIS COMMAND TOOK FOREVER, WHY?"
   ]
  },
  {
   "cell_type": "code",
   "execution_count": null,
   "id": "d4b026f0",
   "metadata": {},
   "outputs": [],
   "source": [
    "immature"
   ]
  },
  {
   "cell_type": "code",
   "execution_count": null,
   "id": "1713de78",
   "metadata": {},
   "outputs": [],
   "source": [
    "mature_final"
   ]
  },
  {
   "cell_type": "code",
   "execution_count": null,
   "id": "943d2827",
   "metadata": {},
   "outputs": [],
   "source": [
    "my_total = immature"
   ]
  },
  {
   "cell_type": "code",
   "execution_count": null,
   "id": "308e5a58",
   "metadata": {},
   "outputs": [],
   "source": [
    "my_total['total_mature'] = mature_final['total_mature']\n"
   ]
  },
  {
   "cell_type": "code",
   "execution_count": null,
   "id": "94c881c6",
   "metadata": {},
   "outputs": [],
   "source": [
    "my_total"
   ]
  },
  {
   "cell_type": "code",
   "execution_count": null,
   "id": "8c04c695",
   "metadata": {},
   "outputs": [],
   "source": [
    "my_total['immature and mature'] = my_total[['total_immature','total_mature']].sum(axis=1)"
   ]
  },
  {
   "cell_type": "code",
   "execution_count": null,
   "id": "2e74fd58",
   "metadata": {},
   "outputs": [],
   "source": [
    "my_total"
   ]
  },
  {
   "cell_type": "code",
   "execution_count": null,
   "id": "f45c00e2",
   "metadata": {},
   "outputs": [],
   "source": [
    "my_total['immature and mature'].value_counts()"
   ]
  },
  {
   "cell_type": "markdown",
   "id": "e5e91008",
   "metadata": {},
   "source": [
    "### Les immatures qui ont levés uniquement angel, pre-seed, seed, series-a sont 1542"
   ]
  },
  {
   "cell_type": "code",
   "execution_count": null,
   "id": "47c5a554",
   "metadata": {},
   "outputs": [],
   "source": [
    "my_total[my_total['immature and mature']==1]['total_immature'].value_counts()"
   ]
  },
  {
   "cell_type": "code",
   "execution_count": null,
   "id": "0b7804e3",
   "metadata": {},
   "outputs": [],
   "source": [
    "my_total[(my_total['immature and mature']==1) & (my_total['min_revenues'].notna())]"
   ]
  },
  {
   "cell_type": "code",
   "execution_count": null,
   "id": "4a821aa6",
   "metadata": {},
   "outputs": [],
   "source": [
    "my_total[(my_total['immature and mature']==1) & (my_total['min_revenues'].isna())]"
   ]
  },
  {
   "cell_type": "markdown",
   "id": "76e91d27",
   "metadata": {},
   "source": [
    "### Les immatures qui ont levés uniquement angel, pre-seed, seed, series-a, qui n'avaient pas d'info sur revenues, sont 1542"
   ]
  },
  {
   "cell_type": "code",
   "execution_count": null,
   "id": "407ab82d",
   "metadata": {},
   "outputs": [],
   "source": [
    "my_total[(my_total['immature and mature']==1) & (my_total['min_revenues'].isna())]['total_immature'].value_counts()"
   ]
  },
  {
   "cell_type": "markdown",
   "id": "01ca4c97",
   "metadata": {},
   "source": [
    "### Les matures qui ont lévé, mais pas angel, ni pre-seed, ni seed, ni series-a mais le reste, sont 1172"
   ]
  },
  {
   "cell_type": "code",
   "execution_count": null,
   "id": "94ad0c38",
   "metadata": {},
   "outputs": [],
   "source": [
    "my_total[my_total['immature and mature']==1]['total_mature'].value_counts()"
   ]
  },
  {
   "cell_type": "code",
   "execution_count": null,
   "id": "bb5fcb73",
   "metadata": {},
   "outputs": [],
   "source": [
    "my_total[(my_total['immature and mature']==1) & (my_total['min_revenues'].notna())]['total_mature'].value_counts()"
   ]
  },
  {
   "cell_type": "markdown",
   "id": "2139ea1b",
   "metadata": {},
   "source": [
    "### Les matures qui ont levés, mais pas angel ni (pre-seed, seed, series a) mais le reste, qui n'avaient pas d'infos sur de revenues, sont 1171"
   ]
  },
  {
   "cell_type": "code",
   "execution_count": null,
   "id": "4018c7fd",
   "metadata": {},
   "outputs": [],
   "source": [
    "my_total[(my_total['immature and mature']==1) & (my_total['min_revenues'].isna())]['total_mature'].value_counts()"
   ]
  },
  {
   "cell_type": "code",
   "execution_count": null,
   "id": "a3cdaa80",
   "metadata": {},
   "outputs": [],
   "source": [
    "my_total[(my_total['immature and mature']==2) & (my_total['min_revenues'].isna())]"
   ]
  },
  {
   "cell_type": "code",
   "execution_count": null,
   "id": "d384a4de",
   "metadata": {},
   "outputs": [],
   "source": [
    "my_total[(my_total['immature and mature']==2) & (my_total['min_revenues'].isna())]['total_mature'].value_counts()"
   ]
  },
  {
   "cell_type": "code",
   "execution_count": null,
   "id": "57e44721",
   "metadata": {},
   "outputs": [],
   "source": [
    "my_total[(my_total['immature and mature']==2) & (my_total['min_revenues'].isna())]['total_immature'].value_counts()"
   ]
  },
  {
   "cell_type": "code",
   "execution_count": null,
   "id": "83721d70",
   "metadata": {},
   "outputs": [],
   "source": [
    "industries_dict_complete = {\n",
    "\"Education\": [ \"Charter Schools\", \"Children\", \"Continuing Education\", \"Corporate Training\", \"E-Learning\", \"EdTech\", \"Education\", \"Higher Education\", \"Tutoring\", \"Universities\", \"Vocational Education\" ],\n",
    "\"Business_Products_And_Services\": [ \"Accounting\", \"Advice\", \"Alumni\", \"Association\", \"B2B\", \"B2C\", \"Billing\", \"Brand Marketing\", \"Business Development\", \"Call Center\", \"Career Planning\", \"Charity\", \"Consulting\", \"Contact Management\", \"Coworking\", \"Creative Agency\", \"CRM\", \"Customer Service\", \"Digital Marketing\", \"Direct Sales\", \"Email Marketing\", \"Enterprise\", \"Freelance\", \"Information Services\", \"Innovation Management\", \"Intellectual Property\", \"Interior Design\", \"Knowledge Management\", \"Laundry and Dry-cleaning\", \"Lead Generation\", \"Legal\", \"Local\", \"Local Advertising\", \"Local Business\", \"Loyalty Programs\", \"Management Consulting\", \"Market Research\", \"Marketing\", \"Non Profit\", \"Outsourcing\", \"Price Comparison\", \"Procurement\", \"Product Management\", \"Product Research\", \"Professional Services\", \"Public Relations\", \"Quality Assurance\", \"Reservations\", \"Sales\", \"Self-Storage\", \"Service Industry\", \"Small and Medium Businesses\", \"Social Entrepreneurship\", \"Social Impact\", \"Social Media Management\", \"Social Media Marketing\", \"Subscription Service\", \"Supply Chain Management\", \"Ticketing\", \"Trade Shows\", \"Transaction Processing\", \"Translation Service\", \"Virtual Workforce\", \"Warehousing\", \"Wholesale\" ],\n",
    "\"software\": [\"A/B Testing\", \"Analytics\", \"Application Performance Management\", \"Archiving Service\", \"Big Data\", \"Business Information Systems\", \"Business Intelligence\", \"CivicTech\", \"Cloud Computing\", \"Cloud Data Services\", \"Cloud Infrastructure\", \"Cloud Management\", \"Cloud Security\", \"Cloud Storage\", \"Collaboration\", \"Consumer Software\", \"Data Center\", \"Data Center Automation\", \"Data Integration\", \"Data Mining\", \"Data Storage\", \"Data Visualization\", \"Database\", \"Desktop Apps\", \"Developer APIs\", \"Developer Platform\", \"Developer Tools\", \"Document Management\", \"Domain Registrar\", \"E-Commerce Platforms\", \"E-Signature\", \"Electronic Design Automation (EDA)\", \"Email\", \"Embedded Software\", \"Embedded Systems\", \"Enterprise Applications\", \"Enterprise Resource Planning (ERP)\", \"Enterprise Software\", \"File Sharing\", \"Graphic Design\", \"IaaS\", \"Information Technology\", \"IT Management\", \"Legal Tech\", \"Linux\", \"Management Information Systems\", \"Marketing Automation\", \"Meeting Software\", \"MMO Games\", \"Online Games\", \"Open Source\", \"Operating Systems\", \"PaaS\", \"PC Games\", \"Photo Editing\", \"Presentation Software\", \"Productivity Tools\", \"Project Management\", \"Reading Apps\", \"SaaS\", \"Sales Automation\", \"Scheduling\", \"Serious Games\", \"Software\", \"Software Engineering\", \"Usability Testing\", \"UX Design\", \"Video Editing\", \"Virtualization\", \"Web Design\", \"Web Development\", \"Web Hosting\"],\n",
    "\"media_traditional\": [\"Ad Exchange\", \"Ad Network\", \"Ad Retargeting\", \"Ad Server\", \"Ad Targeting\", \"Advertising\", \"Advertising Platforms\", \"Animation\", \"Art\", \"Blogging Platforms\", \"Broadcasting\", \"Digital Entertainment\", \"Digital Media\", \"EBooks\", \"Film\", \"Film Production\", \"Independent Music\", \"Internet Radio\", \"Journalism\", \"Media and Entertainment\", \"Music\", \"Music Label\", \"Music Streaming\", \"News\", \"Outdoor Advertising\", \"Podcast\", \"Politics\", \"Publishing\", \"TV\", \"TV Production\"],\n",
    "\"agriculture\": [\"Agriculture\", \"AgTech\", \"Animal Feed\", \"Aquaculture\", \"Cannabis\", \"Farmers Market\", \"Farming\", \"Forestry\", \"Fruit\", \"Hydroponics\", \"Organic\"],\n",
    "\"transportation\": [\"Air Transportation\", \"Automotive\", \"Autonomous Vehicles\", \"Car Sharing\", \"Delivery\", \"Delivery Service\", \"Electric Vehicle\", \"Fleet Management\", \"Freight Service\", \"Last Mile Transportation\", \"Logistics\", \"Marine Transportation\", \"Parking\", \"Public Transportation\", \"Railroad\", \"Recreational Vehicles\", \"Ride Sharing\", \"Same Day Delivery\", \"Shipping\", \"Space Travel\", \"Taxi Service\", \"Transportation\", \"Water Transportation\"],\n",
    "\"Healthcare\": ['Alternative Medicine', 'Bioinformatics', 'Biopharma', 'Biotechnology', 'Child Care', 'Clinical Trials', 'Cosmetic Surgery', 'Dental', 'Elder Care', 'Elderly', 'Electronic Health Record (EHR)', 'Emergency Medicine', 'Funerals', 'Genetics', 'Health', 'Health Care', 'Health Diagnostics', 'Home Health Care', 'Hospital', 'Life Science', 'Medical', 'Medical Device', 'Neuroscience', 'Nursing and Residential Care', 'Personal Health', 'Pharmaceutical', 'Quantified Self', 'Rehabilitation', 'Therapeutics', 'Veterinary', 'Wellness'],\n",
    "\"Mobile_And_Telecommunications\": ['Android', 'App Marketing', 'Apps', 'Augmented Reality', 'Communications Infrastructure', 'GPS', 'iOS', 'Location Based Services', 'Messaging', 'Mobile', 'Mobile Advertising', 'Mobile Apps', 'Mobile Devices', 'NFC', 'QR Codes', 'Satellite Communication', 'SMS', 'Telecommunications', 'Unified Communications', 'Video Conferencing', 'VoIP', 'Wireless'],\n",
    "\"Financial\": [\"Angel Investment\", \"Asset Management\", \"Auto Insurance\", \"Banking\", \"Bitcoin\", \"Blockchain\", \"Consumer Lending\", \"Credit\", \"Credit Cards\", \"Crowdfunding\", \"Cryptocurrency\", \"Debit Cards\", \"Debt Collections\", \"Emerging Markets\", \"Ethereum\", \"Finance\", \"Financial Exchanges\", \"Financial Services\", \"FinTech\", \"Funding Platform\", \"Health Insurance\", \"Hedge Funds\", \"Impact Investing\", \"Insurance\", \"InsurTech\", \"Leasing\", \"Lending\", \"Life Insurance\", \"Mobile Payments\", \"Payments\", \"Personal Finance\", \"Prediction Markets\", \"Property Insurance\", \"Real Estate Investment\", \"Retirement\", \"Risk Management\", \"Trading Platform\", \"Venture Capital\", \"Wealth Management\"],\n",
    "\"artificial_intelligence\": [\"Artificial Intelligence\", \"Computer Vision\", \"Facial Recognition\", \"Gamification\", \"Human Computer Interaction\", \"Image Recognition\", \"Intelligent Systems\", \"Language Learning\", \"Machine Learning\", \"MOOC\", \"Motion Capture\", \"Natural Language Processing\", \"Personalization\", \"Predictive Analytics\", \"Quantum Computing\", \"Real Time\", \"Robotics\", \"Semantic Search\", \"Semantic Web\", \"Simulation\", \"Smart Building\", \"Smart Cities\", \"Smart Home\", \"Speech Recognition\", \"Text Analytics\", \"Virtual Assistant\", \"Virtual Reality\", \"Visual Search\"],\n",
    "\"Retail_NonInternetMobile\": ['Auctions', 'Beauty', 'Classifieds', 'Collaborative Consumption', 'Consumer', 'Consumer Goods', 'Cosmetics', 'Coupons', 'DIY', 'E-Commerce', 'Eyewear', 'Fashion', \"Fast-Moving Consumer Goods\", 'Flowers', 'Gift', 'Gift Card', 'Jewelry', 'Lingerie', 'Local Shopping', \"Men's\", 'Musical Instruments', 'Rental', 'Retail', 'Shoes', 'Shopping', 'Social Shopping', 'Sporting Goods', 'Toys', \"Women's\"],\n",
    "\"Electronics\": ['Audio', 'Consumer Electronics', 'Digital Signage', 'Electronics', 'Laser', 'Lighting', 'Optical Communication', 'RFID', 'Semiconductor', 'Sensor', 'Wearables'],\n",
    "\"Food_And_Beverages\": ['Baby', 'Bakery', 'Catering', 'Coffee', 'Confectionery', 'Cooking', 'Craft Beer', 'Dietary Supplements', 'Food and Beverage', 'Food Delivery', 'Food Processing', 'Grocery', 'Nutraceutical', 'Nutrition', 'Organic Food', 'Pet', 'Recipes', 'Restaurants', 'Seafood', 'Snack Food', 'Tea', 'Wine And Spirits', 'Winery'],\n",
    "\"energy_and_utilities\": [\"Battery\", \"Biomass Energy\", \"Clean Energy\", \"CleanTech\", \"Electrical Distribution\", \"Energy\", \"Energy Efficiency\", \"Energy Management\", \"Energy Storage\", \"Fossil Fuels\", \"Fuel\", \"Fuel Cell\", \"Infrastructure\", \"Natural Resources\", \"Nuclear\", \"Oil and Gas\", \"Power Grid\", \"Renewable Energy\", \"Solar\", \"Water\", \"Wind Energy\"],\n",
    "\"risk_and_security\": ['Biometrics', 'Compliance', 'Cyber Security', 'Fraud Detection', 'Homeland Security', 'Identity Management', 'Intrusion Detection', 'Law Enforcement', 'Military', 'Network Security', 'Physical Security', 'Privacy', 'Public Safety', 'Reputation', 'Security'],\n",
    "\"Computer_Hardware_And_Services\": ['CAD', 'Computer', 'Hardware', 'IT Infrastructure', 'Network Hardware', 'Point of Sale', 'Private Cloud', 'Retail Technology', 'Technical Support'],\n",
    "\"real_estate\": [\"Commercial Real Estate\", \"Property Development\", \"Property Management\", \"Real Estate\", \"Rental Property\", \"Residential\", \"Timeshare\", \"Travel Accommodations\", \"Vacation Rental\"],\n",
    "\"internet\": [\"Communities\", \"Consumer Applications\", \"Consumer Reviews\", \"Content\", \"Content Creators\", \"Content Delivery Network\", \"Content Discovery\", \"Content Marketing\", \"Crowdsourcing\", \"ICT\", \"Internet\", \"Internet of Things\", \"ISP\", \"Mapping Services\", \"Marketplace\", \"Navigation\", \"Online Auctions\", \"Online Portals\", \"Peer to Peer\", \"Photo Sharing\", \"Private Social Networking\", \"Product Search\", \"Q&A\", \"Search Engine\", \"SEM\", \"SEO\", \"Sharing Economy\", \"Social\", \"Social Bookmarking\", \"Social Media\", \"Social Media Advertising\", \"Social Network\", \"Social News\", \"Video\", \"Video Advertising\", \"Video Chat\", \"Video on Demand\", \"Video Streaming\", \"Virtual World\", \"Web Apps\", \"Web Browsers\"],\n",
    "\"hr_people_needs\": ['Employee Benefits', 'Employment', 'Family', 'Human Resources', 'Parenting', 'Personal Branding', 'Personal Development', 'Professional Networking', 'Recruiting', 'Skill Assessment', 'Social Recruiting', 'Staffing Agency', 'Training'],\n",
    "\"environmental_services_and_equipment\": ['Environmental Consulting', 'Environmental Engineering', 'Green Building', 'Green Consumer Goods', 'GreenTech', 'Janitorial Service', 'Landscaping', 'Marine Technology', 'Packaging Services', 'Parks', 'Pollution Control', 'Printing', 'Recycling', 'Sustainability', 'Waste Management', 'Water Purification']\n",
    "}\n"
   ]
  },
  {
   "cell_type": "code",
   "execution_count": null,
   "id": "30efeed4",
   "metadata": {},
   "outputs": [],
   "source": [
    "industries_dict_complete.keys()"
   ]
  },
  {
   "cell_type": "code",
   "execution_count": null,
   "id": "2a6b2fde",
   "metadata": {},
   "outputs": [],
   "source": [
    "industries_dict_complete.values()"
   ]
  },
  {
   "cell_type": "code",
   "execution_count": null,
   "id": "09521429",
   "metadata": {},
   "outputs": [],
   "source": [
    "crunch['industries_list']"
   ]
  },
  {
   "cell_type": "code",
   "execution_count": null,
   "id": "0b14ee27",
   "metadata": {},
   "outputs": [],
   "source": [
    "for industry in crunch['industries_list'][0]:\n",
    "    print(industry)\n",
    "    if industry in industries_dict_complete.values():\n",
    "        print(industry)"
   ]
  },
  {
   "cell_type": "code",
   "execution_count": null,
   "id": "3bce54c5",
   "metadata": {},
   "outputs": [],
   "source": [
    "index, *value = crunch[['industries_list']][:10].iterrows()"
   ]
  },
  {
   "cell_type": "code",
   "execution_count": null,
   "id": "3463ff51",
   "metadata": {},
   "outputs": [],
   "source": [
    "industria = crunch[['industries_list']][:2].iterrows()"
   ]
  },
  {
   "cell_type": "code",
   "execution_count": null,
   "id": "0376e3eb",
   "metadata": {},
   "outputs": [],
   "source": [
    "list(industria)"
   ]
  },
  {
   "cell_type": "code",
   "execution_count": null,
   "id": "6891be2a",
   "metadata": {},
   "outputs": [],
   "source": [
    "#industria.shape"
   ]
  },
  {
   "cell_type": "code",
   "execution_count": null,
   "id": "4d9fef07",
   "metadata": {},
   "outputs": [],
   "source": [
    "index"
   ]
  },
  {
   "cell_type": "code",
   "execution_count": null,
   "id": "2703577e",
   "metadata": {},
   "outputs": [],
   "source": [
    "value"
   ]
  },
  {
   "cell_type": "code",
   "execution_count": null,
   "id": "23216250",
   "metadata": {},
   "outputs": [],
   "source": [
    "list(crunch[['industries_list']][:10].iterrows())"
   ]
  },
  {
   "cell_type": "code",
   "execution_count": null,
   "id": "8114a513",
   "metadata": {},
   "outputs": [],
   "source": [
    "crunch[['industries_list']][:10].iterrows()"
   ]
  },
  {
   "cell_type": "code",
   "execution_count": null,
   "id": "99910d48",
   "metadata": {},
   "outputs": [],
   "source": [
    "for bulk in industries_dict_complete.values():\n",
    "    for index, industry in crunch[['industries_list']][:10].iterrows():\n",
    "        if bulk in industry['industries_list']:\n",
    "            print(industry)"
   ]
  },
  {
   "cell_type": "code",
   "execution_count": null,
   "id": "f7e05da3",
   "metadata": {},
   "outputs": [],
   "source": [
    "test_df = crunch[['industries_list']][:10]"
   ]
  },
  {
   "cell_type": "code",
   "execution_count": null,
   "id": "55408423",
   "metadata": {},
   "outputs": [],
   "source": [
    "test_df"
   ]
  },
  {
   "cell_type": "code",
   "execution_count": null,
   "id": "a9faed6e",
   "metadata": {},
   "outputs": [],
   "source": [
    "my_industries = ['Finance', 'Financial Services', 'FinTech']"
   ]
  },
  {
   "cell_type": "code",
   "execution_count": null,
   "id": "2e825e66",
   "metadata": {},
   "outputs": [],
   "source": [
    "cleaning_ind_complete = lambda row: set( [k for k, v in industries_dict_complete.items() if set(row).intersection(set(v)) ])"
   ]
  },
  {
   "cell_type": "code",
   "execution_count": null,
   "id": "fdf406aa",
   "metadata": {},
   "outputs": [],
   "source": [
    "#another_test = cleaning_ind_complete(test_df['industries_list'])"
   ]
  },
  {
   "cell_type": "markdown",
   "id": "a2a40ec8",
   "metadata": {},
   "source": [
    "### CLEANING THE NEW INDUSTRY DICT COMPLETE THE RESULT, THE WHOLE PROCESS IS BEFORE"
   ]
  },
  {
   "cell_type": "code",
   "execution_count": null,
   "id": "c6ca52f7",
   "metadata": {},
   "outputs": [],
   "source": [
    "another_test = test_df['industries_list'].apply(cleaning_ind_complete)"
   ]
  },
  {
   "cell_type": "code",
   "execution_count": null,
   "id": "6d4d6769",
   "metadata": {},
   "outputs": [],
   "source": [
    "another_test"
   ]
  },
  {
   "cell_type": "code",
   "execution_count": null,
   "id": "4874c6b8",
   "metadata": {},
   "outputs": [],
   "source": [
    "test_df['industries_list']"
   ]
  },
  {
   "cell_type": "code",
   "execution_count": null,
   "id": "c610e169",
   "metadata": {},
   "outputs": [],
   "source": [
    "#clean_industries_list = lambda row: set([k for k, v in industries_dict.items() if set(row).intersection(set(v))])"
   ]
  },
  {
   "cell_type": "code",
   "execution_count": null,
   "id": "37a962ca",
   "metadata": {},
   "outputs": [],
   "source": [
    "crunch[['industries_list']].apply()"
   ]
  },
  {
   "cell_type": "code",
   "execution_count": null,
   "id": "ac7ddea9",
   "metadata": {},
   "outputs": [],
   "source": [
    "for index, row in crunch[['industries_list']][:10].iterrows():\n",
    "    for industry in my_industries:\n",
    "        if industry in row['industries_list']:\n",
    "            print(f'the index is {index}')\n",
    "            print(industry)"
   ]
  },
  {
   "cell_type": "code",
   "execution_count": null,
   "id": "5b1e1fce",
   "metadata": {},
   "outputs": [],
   "source": [
    "crunch"
   ]
  },
  {
   "cell_type": "code",
   "execution_count": null,
   "id": "7886a318",
   "metadata": {},
   "outputs": [],
   "source": [
    "df"
   ]
  },
  {
   "cell_type": "markdown",
   "id": "b0aadcd1",
   "metadata": {},
   "source": [
    "1. quel modèles scikitlearn classifier\n",
    "2. - country_code = onehotencoder\n",
    "- investors list onehotencoder\n",
    "- industries_cleaned = onehotencoder\n",
    "- employee_range onehotencoder\n"
   ]
  },
  {
   "cell_type": "code",
   "execution_count": null,
   "id": "e5dca6cd",
   "metadata": {},
   "outputs": [],
   "source": [
    "df"
   ]
  },
  {
   "cell_type": "code",
   "execution_count": null,
   "id": "97e30d9b",
   "metadata": {},
   "outputs": [],
   "source": [
    "import matplotlib.pyplot as plt"
   ]
  },
  {
   "cell_type": "code",
   "execution_count": null,
   "id": "138d0478",
   "metadata": {},
   "outputs": [],
   "source": [
    "plt.scatter(df['country_code'], df['employee_range'])"
   ]
  },
  {
   "cell_type": "code",
   "execution_count": null,
   "id": "16165785",
   "metadata": {},
   "outputs": [],
   "source": [
    "for country in df['country_code'].unique():\n",
    "    print(country)\n",
    "    plt.scatter(df['country_code'].str.contains(country), df['employee_range'])\n",
    "    plt.xlabel(f'the country is {country}')\n",
    "    plt.ylabel('Number of employees')\n",
    "    plt.show()"
   ]
  },
  {
   "cell_type": "code",
   "execution_count": null,
   "id": "7f7ac4d1",
   "metadata": {},
   "outputs": [],
   "source": [
    "plt.scatter(df['min_revenues'], df['employee_range'])"
   ]
  },
  {
   "cell_type": "code",
   "execution_count": null,
   "id": "8d2d0103",
   "metadata": {},
   "outputs": [],
   "source": [
    "plt.scatter(df['min_revenues'], df['traffic.monthly'])"
   ]
  },
  {
   "cell_type": "code",
   "execution_count": null,
   "id": "4f04d913",
   "metadata": {},
   "outputs": [],
   "source": [
    "#df.duplicated()\n",
    "df.loc[df.astype(str).duplicated().index]"
   ]
  },
  {
   "cell_type": "code",
   "execution_count": null,
   "id": "db6630cc",
   "metadata": {},
   "outputs": [],
   "source": [
    "df.astype(str).duplicated()"
   ]
  },
  {
   "cell_type": "code",
   "execution_count": null,
   "id": "dec1aee3",
   "metadata": {},
   "outputs": [],
   "source": [
    "df.astype(str).duplicated().sum()"
   ]
  },
  {
   "cell_type": "code",
   "execution_count": null,
   "id": "c446a864",
   "metadata": {},
   "outputs": [],
   "source": [
    "#df = df.drop_duplicates()\n",
    "df = df.astype(str).drop_duplicates()"
   ]
  },
  {
   "cell_type": "code",
   "execution_count": null,
   "id": "e905b008",
   "metadata": {},
   "outputs": [],
   "source": [
    "df.shape"
   ]
  },
  {
   "cell_type": "code",
   "execution_count": null,
   "id": "760f129d",
   "metadata": {},
   "outputs": [],
   "source": [
    "df"
   ]
  },
  {
   "cell_type": "code",
   "execution_count": null,
   "id": "bdb671fc",
   "metadata": {},
   "outputs": [],
   "source": [
    "df.isnull().sum().sort_values(ascending=False) "
   ]
  },
  {
   "cell_type": "code",
   "execution_count": null,
   "id": "9422a8b3",
   "metadata": {},
   "outputs": [],
   "source": [
    "df.isna().sum().sort_values(ascending=False) "
   ]
  },
  {
   "cell_type": "code",
   "execution_count": null,
   "id": "67954b7c",
   "metadata": {},
   "outputs": [],
   "source": [
    "df"
   ]
  },
  {
   "cell_type": "code",
   "execution_count": null,
   "id": "46a9585d",
   "metadata": {},
   "outputs": [],
   "source": [
    "df.isnull().sort_values(by='traffic.global_rank',ascending=False) "
   ]
  },
  {
   "cell_type": "code",
   "execution_count": null,
   "id": "b70ff5fc",
   "metadata": {},
   "outputs": [],
   "source": [
    "df.notna().sort_values(by='traffic.global_rank',ascending=False) "
   ]
  },
  {
   "cell_type": "code",
   "execution_count": null,
   "id": "f3664510",
   "metadata": {},
   "outputs": [],
   "source": [
    "df.sort_values(by='traffic.global_rank',ascending=False) "
   ]
  },
  {
   "cell_type": "code",
   "execution_count": null,
   "id": "67d3b482",
   "metadata": {},
   "outputs": [],
   "source": [
    "type(df['traffic.monthly'][243266])"
   ]
  },
  {
   "cell_type": "code",
   "execution_count": null,
   "id": "be33ded5",
   "metadata": {},
   "outputs": [],
   "source": [
    "for index, colname in enumerate(df):\n",
    "    df[colname].replace('nan', np.nan, inplace=True)"
   ]
  },
  {
   "cell_type": "code",
   "execution_count": null,
   "id": "38fc2313",
   "metadata": {},
   "outputs": [],
   "source": [
    "df['traffic.monthly'].astype(str)"
   ]
  },
  {
   "cell_type": "code",
   "execution_count": null,
   "id": "f8cadc7c",
   "metadata": {},
   "outputs": [],
   "source": [
    "df['traffic.monthly'].astype(str)=='nan'"
   ]
  },
  {
   "cell_type": "code",
   "execution_count": null,
   "id": "26864008",
   "metadata": {},
   "outputs": [],
   "source": [
    "type(df['traffic.monthly'][311409])"
   ]
  },
  {
   "cell_type": "code",
   "execution_count": null,
   "id": "1f298f4b",
   "metadata": {},
   "outputs": [],
   "source": [
    "#df['traffic.monthly'].isna().sum().sort_values()"
   ]
  },
  {
   "cell_type": "markdown",
   "id": "50e25cbf",
   "metadata": {},
   "source": [
    "### trafic monthly has 85011 nan values"
   ]
  },
  {
   "cell_type": "code",
   "execution_count": null,
   "id": "b1a7e9ee",
   "metadata": {},
   "outputs": [],
   "source": [
    "df['traffic.monthly'].isna().value_counts()"
   ]
  },
  {
   "cell_type": "code",
   "execution_count": null,
   "id": "6ff9be74",
   "metadata": {},
   "outputs": [],
   "source": [
    "df['traffic.monthly'].isna()"
   ]
  },
  {
   "cell_type": "code",
   "execution_count": null,
   "id": "7e29e612",
   "metadata": {},
   "outputs": [],
   "source": [
    "df['traffic.global_rank'].isna().value_counts()"
   ]
  },
  {
   "cell_type": "code",
   "execution_count": null,
   "id": "a1a09782",
   "metadata": {},
   "outputs": [],
   "source": [
    "for index, colname in enumerate(df):\n",
    "    print(f'this is the column {colname} and these are the values: \\n{df[colname].isna().value_counts()}')\n",
    "    print()"
   ]
  },
  {
   "cell_type": "code",
   "execution_count": null,
   "id": "0b02cab4",
   "metadata": {},
   "outputs": [],
   "source": [
    "136256-132839"
   ]
  },
  {
   "cell_type": "code",
   "execution_count": null,
   "id": "f0cb99c4",
   "metadata": {},
   "outputs": [],
   "source": [
    "df[df['investors_list'].astype(str)=='[]']['investors_list'].value_counts()"
   ]
  },
  {
   "cell_type": "code",
   "execution_count": null,
   "id": "819e41f4",
   "metadata": {},
   "outputs": [],
   "source": [
    "#df[df['total funds']>0]['total funds'].value_counts()"
   ]
  },
  {
   "cell_type": "code",
   "execution_count": null,
   "id": "70939e2c",
   "metadata": {},
   "outputs": [],
   "source": [
    "df['total funds'].astype(str)"
   ]
  },
  {
   "cell_type": "code",
   "execution_count": null,
   "id": "42b32ecd",
   "metadata": {},
   "outputs": [],
   "source": [
    "df['total funds'].astype(str)[0]"
   ]
  },
  {
   "cell_type": "code",
   "execution_count": null,
   "id": "f1884f21",
   "metadata": {},
   "outputs": [],
   "source": [
    "type(df['total funds'].astype(str)[0])"
   ]
  },
  {
   "cell_type": "code",
   "execution_count": null,
   "id": "1e695c50",
   "metadata": {},
   "outputs": [],
   "source": [
    "df.info()"
   ]
  },
  {
   "cell_type": "code",
   "execution_count": null,
   "id": "f52877fc",
   "metadata": {},
   "outputs": [],
   "source": [
    "#df[['min_revenues']].boxplot()"
   ]
  },
  {
   "cell_type": "code",
   "execution_count": null,
   "id": "f2ed83b7",
   "metadata": {},
   "outputs": [],
   "source": [
    "df['min_revenues'].astype(str)"
   ]
  },
  {
   "cell_type": "code",
   "execution_count": null,
   "id": "dd6f7650",
   "metadata": {},
   "outputs": [],
   "source": [
    "df['min_revenues'].astype(str).value_counts()"
   ]
  },
  {
   "cell_type": "code",
   "execution_count": null,
   "id": "182285af",
   "metadata": {},
   "outputs": [],
   "source": [
    "df['min_revenues'].isna().value_counts()"
   ]
  },
  {
   "cell_type": "code",
   "execution_count": null,
   "id": "b0c213b1",
   "metadata": {},
   "outputs": [],
   "source": [
    "type(df['min_revenues'][311411])"
   ]
  },
  {
   "cell_type": "code",
   "execution_count": null,
   "id": "cbf1e793",
   "metadata": {},
   "outputs": [],
   "source": [
    "df['min_revenues'][311412] == np.nan"
   ]
  },
  {
   "cell_type": "code",
   "execution_count": null,
   "id": "4ea74101",
   "metadata": {},
   "outputs": [],
   "source": [
    "df['min_revenues'][311412] == 'nan'"
   ]
  },
  {
   "cell_type": "code",
   "execution_count": null,
   "id": "b7781f26",
   "metadata": {},
   "outputs": [],
   "source": [
    "df['min_revenues'].replace('nan')"
   ]
  },
  {
   "cell_type": "code",
   "execution_count": null,
   "id": "3665cd79",
   "metadata": {},
   "outputs": [],
   "source": [
    "df"
   ]
  },
  {
   "cell_type": "code",
   "execution_count": null,
   "id": "d218c028",
   "metadata": {},
   "outputs": [],
   "source": [
    "df.columns"
   ]
  },
  {
   "cell_type": "code",
   "execution_count": null,
   "id": "a90e8f83",
   "metadata": {},
   "outputs": [],
   "source": [
    "df"
   ]
  },
  {
   "cell_type": "code",
   "execution_count": null,
   "id": "ab2a5c72",
   "metadata": {},
   "outputs": [],
   "source": [
    "crunch.columns"
   ]
  },
  {
   "cell_type": "code",
   "execution_count": null,
   "id": "a53973e0",
   "metadata": {},
   "outputs": [],
   "source": [
    "df['total funds'].replace('1', int(1), inplace=True)"
   ]
  },
  {
   "cell_type": "code",
   "execution_count": null,
   "id": "307c7383",
   "metadata": {},
   "outputs": [],
   "source": [
    "df['total funds'].replace('0', int(0), inplace=True)"
   ]
  },
  {
   "cell_type": "code",
   "execution_count": null,
   "id": "bcfca42b",
   "metadata": {},
   "outputs": [],
   "source": [
    "df['total funds'].astype(str).value_counts()"
   ]
  },
  {
   "cell_type": "code",
   "execution_count": null,
   "id": "b10395e9",
   "metadata": {},
   "outputs": [],
   "source": [
    "type(df['total funds'][4])"
   ]
  },
  {
   "cell_type": "code",
   "execution_count": null,
   "id": "8632efa1",
   "metadata": {},
   "outputs": [],
   "source": [
    "df['min_revenues']"
   ]
  },
  {
   "cell_type": "code",
   "execution_count": null,
   "id": "70645ffd",
   "metadata": {},
   "outputs": [],
   "source": [
    "df"
   ]
  },
  {
   "cell_type": "code",
   "execution_count": null,
   "id": "8a9ddf00",
   "metadata": {},
   "outputs": [],
   "source": [
    "df['traffic.monthly'].notna().value_counts()"
   ]
  },
  {
   "cell_type": "code",
   "execution_count": null,
   "id": "684d4a63",
   "metadata": {},
   "outputs": [],
   "source": [
    "df[df['traffic.monthly'].notna()]['total funds'].value_counts()"
   ]
  },
  {
   "cell_type": "code",
   "execution_count": null,
   "id": "c1480fe8",
   "metadata": {},
   "outputs": [],
   "source": [
    "df[df['traffic.monthly'].isna()]['total funds'].value_counts()"
   ]
  },
  {
   "cell_type": "code",
   "execution_count": null,
   "id": "0880c56a",
   "metadata": {},
   "outputs": [],
   "source": [
    "df[df['investors_list']=='[]']['total funds'].value_counts()"
   ]
  },
  {
   "cell_type": "markdown",
   "id": "ae0cbac8",
   "metadata": {},
   "source": [
    "### Nous avouns industrie, head count, country"
   ]
  },
  {
   "cell_type": "markdown",
   "id": "7c2fbab0",
   "metadata": {},
   "source": [
    "### est-ce que pas d'investisseurs ou c'est parce qu'on n'a pas les données"
   ]
  },
  {
   "cell_type": "code",
   "execution_count": null,
   "id": "53c19597",
   "metadata": {},
   "outputs": [],
   "source": [
    "df[df['total funds']==1]['investors_list'].isna().value_counts()"
   ]
  },
  {
   "cell_type": "code",
   "execution_count": null,
   "id": "bc7d1854",
   "metadata": {},
   "outputs": [],
   "source": [
    "#df[['traffic.global_rank']].boxplot();"
   ]
  },
  {
   "cell_type": "code",
   "execution_count": null,
   "id": "e8191935",
   "metadata": {},
   "outputs": [],
   "source": [
    "df['traffic.global_rank'].apply(type).eq(str).value_counts()"
   ]
  },
  {
   "cell_type": "code",
   "execution_count": null,
   "id": "ffed9b54",
   "metadata": {},
   "outputs": [],
   "source": [
    "#df['traffic.global_rank'] = df[df['traffic.global_rank'].apply(type).eq(str)]['traffic.global_rank'].apply(lambda x: float(x))\n",
    "# NOT DO THIS! it equaled the good values, but added nan's everywhere because it was a boolean mask"
   ]
  },
  {
   "cell_type": "code",
   "execution_count": null,
   "id": "fcdad1d9",
   "metadata": {},
   "outputs": [],
   "source": [
    "df[df['traffic.global_rank'].apply(type).eq(str)]['traffic.global_rank']"
   ]
  },
  {
   "cell_type": "code",
   "execution_count": null,
   "id": "171befb7",
   "metadata": {},
   "outputs": [],
   "source": [
    "df['traffic.global_rank']"
   ]
  },
  {
   "cell_type": "code",
   "execution_count": null,
   "id": "827fe239",
   "metadata": {},
   "outputs": [],
   "source": []
  }
 ],
 "metadata": {
  "kernelspec": {
   "display_name": "Python 3 (ipykernel)",
   "language": "python",
   "name": "python3"
  },
  "language_info": {
   "codemirror_mode": {
    "name": "ipython",
    "version": 3
   },
   "file_extension": ".py",
   "mimetype": "text/x-python",
   "name": "python",
   "nbconvert_exporter": "python",
   "pygments_lexer": "ipython3",
   "version": "3.10.6"
  },
  "toc": {
   "base_numbering": 1,
   "nav_menu": {},
   "number_sections": true,
   "sideBar": true,
   "skip_h1_title": false,
   "title_cell": "Table of Contents",
   "title_sidebar": "Contents",
   "toc_cell": false,
   "toc_position": {},
   "toc_section_display": true,
   "toc_window_display": false
  }
 },
 "nbformat": 4,
 "nbformat_minor": 5
}
